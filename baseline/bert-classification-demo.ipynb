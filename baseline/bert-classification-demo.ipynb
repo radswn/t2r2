{
 "cells": [
  {
   "cell_type": "code",
   "execution_count": 1,
   "metadata": {
    "id": "bHhIkms-Z0QY",
    "ExecuteTime": {
     "start_time": "2023-04-19T18:45:37.552500Z",
     "end_time": "2023-04-19T18:45:40.790607Z"
    }
   },
   "outputs": [
    {
     "data": {
      "text/plain": "device(type='cuda')"
     },
     "execution_count": 1,
     "metadata": {},
     "output_type": "execute_result"
    }
   ],
   "source": [
    "from transformers import BertTokenizer, BertModel, TrainingArguments, Trainer, IntervalStrategy\n",
    "\n",
    "from sklearn.metrics import accuracy_score, f1_score, precision_score, recall_score\n",
    "\n",
    "from torch.utils.data import Dataset\n",
    "import torch.nn as nn\n",
    "import torch\n",
    "\n",
    "import pandas as pd\n",
    "\n",
    "device = torch.device('cuda' if torch.cuda.is_available() else 'cpu')\n",
    "device"
   ]
  },
  {
   "cell_type": "code",
   "execution_count": 2,
   "metadata": {
    "id": "Jj10_bSEZ0Qe",
    "ExecuteTime": {
     "start_time": "2023-04-19T18:45:40.793667Z",
     "end_time": "2023-04-19T18:45:42.550420Z"
    }
   },
   "outputs": [
    {
     "name": "stderr",
     "output_type": "stream",
     "text": [
      "Some weights of the model checkpoint at bert-base-uncased were not used when initializing BertModel: ['cls.predictions.transform.dense.bias', 'cls.predictions.transform.dense.weight', 'cls.predictions.transform.LayerNorm.bias', 'cls.predictions.transform.LayerNorm.weight', 'cls.seq_relationship.weight', 'cls.seq_relationship.bias', 'cls.predictions.bias', 'cls.predictions.decoder.weight']\n",
      "- This IS expected if you are initializing BertModel from the checkpoint of a model trained on another task or with another architecture (e.g. initializing a BertForSequenceClassification model from a BertForPreTraining model).\n",
      "- This IS NOT expected if you are initializing BertModel from the checkpoint of a model that you expect to be exactly identical (initializing a BertForSequenceClassification model from a BertForSequenceClassification model).\n"
     ]
    }
   ],
   "source": [
    "tokenizer = BertTokenizer.from_pretrained('bert-base-uncased')\n",
    "bert_model = BertModel.from_pretrained(\n",
    "    'bert-base-uncased',\n",
    "    output_attentions=False,\n",
    "    output_hidden_states=False\n",
    ").to(device)"
   ]
  },
  {
   "cell_type": "code",
   "execution_count": 3,
   "metadata": {
    "id": "RvzjDthdZ0Qg",
    "ExecuteTime": {
     "start_time": "2023-04-19T18:45:42.553947Z",
     "end_time": "2023-04-19T18:45:42.658225Z"
    }
   },
   "outputs": [],
   "source": [
    "dataset_types = ['train', 'validation', 'test', 'control']\n",
    "data = {dt: pd.read_csv(f'./data/thedeep.subset.{dt}.txt', header=None, usecols=[1, 2], names=['text', 'label']) for dt in dataset_types}"
   ]
  },
  {
   "cell_type": "code",
   "execution_count": 4,
   "outputs": [],
   "source": [
    "label_names = pd.read_csv('./data/thedeep.labels.txt', header=None, names=['id', 'name'])"
   ],
   "metadata": {
    "collapsed": false,
    "ExecuteTime": {
     "start_time": "2023-04-19T18:45:42.661212Z",
     "end_time": "2023-04-19T18:45:42.673043Z"
    }
   }
  },
  {
   "cell_type": "code",
   "execution_count": 5,
   "metadata": {
    "id": "iD5AxkR6Z0Qk",
    "ExecuteTime": {
     "start_time": "2023-04-19T18:45:42.675059Z",
     "end_time": "2023-04-19T18:46:08.200413Z"
    }
   },
   "outputs": [],
   "source": [
    "max_document_length = 512\n",
    "\n",
    "tokens = {dt: tokenizer(data[dt]['text'].tolist(), padding='max_length', max_length=max_document_length, truncation=True, return_tensors='pt') for dt in dataset_types}\n",
    "labels = {dt: torch.tensor(data[dt]['label'].tolist()) for dt in dataset_types}"
   ]
  },
  {
   "cell_type": "code",
   "execution_count": 6,
   "metadata": {
    "id": "CK-5-XYEZ0Qn",
    "ExecuteTime": {
     "start_time": "2023-04-19T18:46:08.204946Z",
     "end_time": "2023-04-19T18:46:08.214691Z"
    }
   },
   "outputs": [],
   "source": [
    "class TextDataset(Dataset):\n",
    "    def __init__(self, tokens_dict, labels: torch.Tensor):\n",
    "        self.input_ids = tokens_dict.input_ids\n",
    "        self.attention_mask = tokens_dict.attention_mask\n",
    "        self.token_type_ids = tokens_dict.token_type_ids\n",
    "        self.y = labels\n",
    "\n",
    "    def __len__(self):\n",
    "        return len(self.y)\n",
    "\n",
    "    def __getitem__(self, i):\n",
    "        return {\n",
    "            'input_ids': self.input_ids[i],\n",
    "            'attention_mask': self.attention_mask[i],\n",
    "            'token_type_ids': self.token_type_ids[i],\n",
    "            'labels': self.y[i]\n",
    "        }"
   ]
  },
  {
   "cell_type": "code",
   "execution_count": 7,
   "metadata": {
    "id": "KHoxwyr_Z0Qp",
    "ExecuteTime": {
     "start_time": "2023-04-19T18:46:08.217860Z",
     "end_time": "2023-04-19T18:46:08.262069Z"
    }
   },
   "outputs": [],
   "source": [
    "datasets = {dt: TextDataset(tokens[dt], labels[dt]) for dt in dataset_types}"
   ]
  },
  {
   "cell_type": "code",
   "execution_count": 8,
   "metadata": {
    "id": "XBdeHDmRZ0Qr",
    "ExecuteTime": {
     "start_time": "2023-04-19T18:46:08.266642Z",
     "end_time": "2023-04-19T18:46:08.275387Z"
    }
   },
   "outputs": [],
   "source": [
    "class ClassificationBERTModel(nn.Module):\n",
    "    def __init__(self, bert_model: BertModel):\n",
    "        super(ClassificationBERTModel, self).__init__()\n",
    "        self.bert = bert_model\n",
    "        self.linear = nn.Linear(768, 12)\n",
    "        self.loss = nn.CrossEntropyLoss()\n",
    "\n",
    "        for param in self.bert.parameters():\n",
    "            param.requires_grad = False\n",
    "\n",
    "    def forward(self, input_ids, attention_mask, token_type_ids, labels):\n",
    "        x = self.bert(input_ids=input_ids, attention_mask=attention_mask, token_type_ids=token_type_ids).last_hidden_state\n",
    "        attention = attention_mask.unsqueeze(2).expand(-1, -1, 768)\n",
    "        x = x * attention\n",
    "        x = x.sum(1)/(x != 0).sum(1)\n",
    "        x = self.linear(x)\n",
    "\n",
    "        return self.loss(x, labels), x"
   ]
  },
  {
   "cell_type": "code",
   "execution_count": 9,
   "outputs": [],
   "source": [
    "batch_size = 16\n",
    "epochs = 3\n",
    "lr = 1e-3"
   ],
   "metadata": {
    "collapsed": false,
    "ExecuteTime": {
     "start_time": "2023-04-19T18:46:08.279380Z",
     "end_time": "2023-04-19T18:46:08.306341Z"
    }
   }
  },
  {
   "cell_type": "code",
   "execution_count": 10,
   "metadata": {
    "id": "yBvqyfNSZ0Qu",
    "ExecuteTime": {
     "start_time": "2023-04-19T18:46:08.295318Z",
     "end_time": "2023-04-19T18:46:08.310346Z"
    }
   },
   "outputs": [],
   "source": [
    "training_args = TrainingArguments(\n",
    "    output_dir='ClassificationBERT',\n",
    "    learning_rate=lr,\n",
    "    evaluation_strategy=IntervalStrategy.EPOCH,\n",
    "    save_strategy=IntervalStrategy.EPOCH,\n",
    "    logging_strategy=IntervalStrategy.EPOCH,\n",
    "    per_device_train_batch_size=batch_size,\n",
    "    per_device_eval_batch_size=batch_size,\n",
    "    load_best_model_at_end=True,\n",
    "    metric_for_best_model='accuracy',\n",
    "    num_train_epochs=epochs\n",
    ")"
   ]
  },
  {
   "cell_type": "code",
   "execution_count": 11,
   "metadata": {
    "id": "J-xAHUVdZ0Qv",
    "ExecuteTime": {
     "start_time": "2023-04-19T18:46:08.312349Z",
     "end_time": "2023-04-19T18:46:08.323958Z"
    }
   },
   "outputs": [],
   "source": [
    "def compute_metrics(p):\n",
    "    pred, true_labels = p\n",
    "    pred = pred.argmax(1)\n",
    "    accuracy = accuracy_score(y_true=true_labels, y_pred=pred)\n",
    "    recall = recall_score(y_true=true_labels, y_pred=pred, average='weighted', zero_division=0)\n",
    "    precision = precision_score(y_true=true_labels, y_pred=pred, average='weighted', zero_division=0)\n",
    "    f1 = f1_score(y_true=true_labels, y_pred=pred, average='weighted', zero_division=0)\n",
    "    return {\"accuracy\": accuracy, \"precision\": precision, \"recall\": recall, \"f1\": f1}"
   ]
  },
  {
   "cell_type": "code",
   "execution_count": 12,
   "metadata": {
    "id": "-fzFgT35Z0Qx",
    "ExecuteTime": {
     "start_time": "2023-04-19T18:46:08.325499Z",
     "end_time": "2023-04-19T18:46:10.657969Z"
    }
   },
   "outputs": [],
   "source": [
    "trainer = Trainer(\n",
    "    model=ClassificationBERTModel(bert_model).to(device),\n",
    "    train_dataset=datasets['train'],\n",
    "    eval_dataset=datasets['validation'],\n",
    "    compute_metrics=compute_metrics,\n",
    "    args=training_args\n",
    ")"
   ]
  },
  {
   "cell_type": "code",
   "execution_count": 13,
   "metadata": {
    "id": "o2JMxHkaZ0Qy",
    "ExecuteTime": {
     "start_time": "2023-04-19T18:46:10.167636Z",
     "end_time": "2023-04-19T19:10:40.772022Z"
    }
   },
   "outputs": [
    {
     "name": "stderr",
     "output_type": "stream",
     "text": [
      "c:\\polibuda\\thesis\\venv\\lib\\site-packages\\transformers\\optimization.py:391: FutureWarning: This implementation of AdamW is deprecated and will be removed in a future version. Use the PyTorch implementation torch.optim.AdamW instead, or set `no_deprecation_warning=True` to disable this warning\n",
      "  warnings.warn(\n"
     ]
    },
    {
     "data": {
      "text/plain": "<IPython.core.display.HTML object>",
      "text/html": "\n    <div>\n      \n      <progress value='2' max='2271' style='width:300px; height:20px; vertical-align: middle;'></progress>\n      [   2/2271 : < :, Epoch 0.00/3]\n    </div>\n    <table border=\"1\" class=\"dataframe\">\n  <thead>\n <tr style=\"text-align: left;\">\n      <th>Epoch</th>\n      <th>Training Loss</th>\n      <th>Validation Loss</th>\n    </tr>\n  </thead>\n  <tbody>\n  </tbody>\n</table><p>"
     },
     "metadata": {},
     "output_type": "display_data"
    },
    {
     "data": {
      "text/plain": "TrainOutput(global_step=2271, training_loss=0.9619511243584187, metrics={'train_runtime': 1470.5816, 'train_samples_per_second': 24.705, 'train_steps_per_second': 1.544, 'total_flos': 0.0, 'train_loss': 0.9619511243584187, 'epoch': 3.0})"
     },
     "execution_count": 13,
     "metadata": {},
     "output_type": "execute_result"
    }
   ],
   "source": [
    "trainer.train()"
   ]
  },
  {
   "cell_type": "code",
   "execution_count": 14,
   "metadata": {
    "id": "VAfsOOmdZ0Q0",
    "ExecuteTime": {
     "start_time": "2023-04-19T19:10:40.774408Z",
     "end_time": "2023-04-19T19:12:03.087219Z"
    }
   },
   "outputs": [
    {
     "data": {
      "text/plain": "<IPython.core.display.HTML object>",
      "text/html": "\n    <div>\n      \n      <progress value='1' max='162' style='width:300px; height:20px; vertical-align: middle;'></progress>\n      [  1/162 : < :]\n    </div>\n    "
     },
     "metadata": {},
     "output_type": "display_data"
    },
    {
     "data": {
      "text/plain": "{'test_loss': 0.8133374452590942,\n 'test_accuracy': 0.7617021276595745,\n 'test_precision': 0.7522458952494068,\n 'test_recall': 0.7617021276595745,\n 'test_f1': 0.738799164616739,\n 'test_runtime': 82.3011,\n 'test_samples_per_second': 31.409,\n 'test_steps_per_second': 1.968}"
     },
     "execution_count": 14,
     "metadata": {},
     "output_type": "execute_result"
    }
   ],
   "source": [
    "test_result = trainer.predict(datasets['test'])\n",
    "test_result.metrics"
   ]
  },
  {
   "cell_type": "code",
   "execution_count": 15,
   "outputs": [
    {
     "data": {
      "text/plain": "<IPython.core.display.HTML object>",
      "text/html": "\n    <div>\n      \n      <progress value='1' max='1' style='width:300px; height:20px; vertical-align: middle;'></progress>\n      [1/1 : < :]\n    </div>\n    "
     },
     "metadata": {},
     "output_type": "display_data"
    },
    {
     "data": {
      "text/plain": "{'test_loss': 0.8438506126403809,\n 'test_accuracy': 0.7,\n 'test_precision': 0.825,\n 'test_recall': 0.7,\n 'test_f1': 0.7238095238095237,\n 'test_runtime': 0.3198,\n 'test_samples_per_second': 31.271,\n 'test_steps_per_second': 3.127}"
     },
     "execution_count": 15,
     "metadata": {},
     "output_type": "execute_result"
    }
   ],
   "source": [
    "control_result = trainer.predict(datasets['control'])\n",
    "control_result.metrics"
   ],
   "metadata": {
    "collapsed": false,
    "ExecuteTime": {
     "start_time": "2023-04-19T19:12:03.090216Z",
     "end_time": "2023-04-19T19:12:03.464164Z"
    }
   }
  }
 ],
 "metadata": {
  "colab": {
   "provenance": []
  },
  "kernelspec": {
   "display_name": "Python 3 (ipykernel)",
   "language": "python",
   "name": "python3"
  },
  "language_info": {
   "codemirror_mode": {
    "name": "ipython",
    "version": 3
   },
   "file_extension": ".py",
   "mimetype": "text/x-python",
   "name": "python",
   "nbconvert_exporter": "python",
   "pygments_lexer": "ipython3",
   "version": "3.9.1"
  }
 },
 "nbformat": 4,
 "nbformat_minor": 1
}

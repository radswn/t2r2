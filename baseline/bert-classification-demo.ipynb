{
 "cells": [
  {
   "cell_type": "code",
   "execution_count": 1,
   "metadata": {
    "id": "bHhIkms-Z0QY",
    "ExecuteTime": {
     "start_time": "2023-04-19T18:45:37.552500Z",
     "end_time": "2023-04-19T18:45:40.790607Z"
    }
   },
   "outputs": [
    {
     "data": {
      "text/plain": "device(type='cuda')"
     },
     "execution_count": 1,
     "metadata": {},
     "output_type": "execute_result"
    }
   ],
   "source": [
    "import os\n",
    "from abc import ABC, abstractmethod\n",
    "from dataclasses import dataclass\n",
    "from typing import List, Dict\n",
    "\n",
    "import pandas as pd\n",
    "import torch\n",
    "import torch.nn as nn\n",
    "from sklearn.metrics import accuracy_score, f1_score, precision_score, recall_score\n",
    "from torch.utils.data import Dataset\n",
    "from transformers import BertTokenizer, BertModel, TrainingArguments, Trainer, IntervalStrategy\n",
    "\n",
    "device = torch.device('cuda' if torch.cuda.is_available() else 'cpu')\n",
    "device"
   ]
  },
  {
   "cell_type": "markdown",
   "source": [
    "---\n",
    "# Train Set"
   ],
   "metadata": {
    "collapsed": false,
    "pycharm": {
     "name": "#%% md\n"
    }
   }
  },
  {
   "cell_type": "code",
   "execution_count": 2,
   "outputs": [],
   "source": [
    "class Transformation(ABC):\n",
    "\n",
    "    def __init__(self, **kwargs):\n",
    "        pass\n",
    "\n",
    "    @abstractmethod\n",
    "    def transform(self, dataset: pd.DataFrame) -> pd.DataFrame:\n",
    "        pass\n",
    "\n",
    "\n",
    "@dataclass\n",
    "class TransformationConfig:\n",
    "    name: str\n",
    "    kwargs: Dict"
   ],
   "metadata": {
    "collapsed": false,
    "pycharm": {
     "name": "#%%\n"
    }
   }
  },
  {
   "cell_type": "code",
   "execution_count": 3,
   "outputs": [],
   "source": [
    "class DummyTransformation(Transformation):\n",
    "\n",
    "    def transform(self, dataset: pd.DataFrame) -> pd.DataFrame:\n",
    "        return dataset"
   ],
   "metadata": {
    "collapsed": false,
    "pycharm": {
     "name": "#%%\n"
    }
   }
  },
  {
   "cell_type": "code",
   "execution_count": 4,
   "outputs": [],
   "source": [
    "TRANSFORMATIONS = {\n",
    "    'DUMMY': DummyTransformation,\n",
    "}"
   ],
   "metadata": {
    "collapsed": false,
    "pycharm": {
     "name": "#%%\n"
    }
   }
  },
  {
   "cell_type": "code",
   "execution_count": 5,
   "outputs": [],
   "source": [
    "@dataclass\n",
    "class TrainSetConfig:\n",
    "    path: str\n",
    "    transformations: List[TransformationConfig]"
   ],
   "metadata": {
    "collapsed": false,
    "pycharm": {
     "name": "#%%\n"
    }
   }
  },
  {
   "cell_type": "code",
   "execution_count": 6,
   "outputs": [],
   "source": [
    "def train_set_select(config: TrainSetConfig) -> pd.DataFrame:\n",
    "    df = pd.read_csv(config.path, header=None, names=['id', 'text', 'label'])\n",
    "\n",
    "    for t in config.transformations:\n",
    "        transformation = TRANSFORMATIONS[t.name](*t.kwargs)\n",
    "        df = transformation.transform(df)\n",
    "\n",
    "    return df"
   ],
   "metadata": {
    "collapsed": false,
    "pycharm": {
     "name": "#%%\n"
    }
   }
  },
  {
   "cell_type": "markdown",
   "source": [
    "---\n",
    "# Validation set"
   ],
   "metadata": {
    "collapsed": false,
    "pycharm": {
     "name": "#%% md\n"
    }
   }
  },
  {
   "cell_type": "code",
   "execution_count": 6,
   "outputs": [],
   "source": [],
   "metadata": {
    "collapsed": false,
    "pycharm": {
     "name": "#%%\n"
    }
   }
  },
  {
   "cell_type": "markdown",
   "source": [
    "---\n",
    "# Test set"
   ],
   "metadata": {
    "collapsed": false,
    "pycharm": {
     "name": "#%% md\n"
    }
   }
  },
  {
   "cell_type": "code",
   "execution_count": 6,
   "outputs": [],
   "source": [],
   "metadata": {
    "collapsed": false,
    "pycharm": {
     "name": "#%%\n"
    }
   }
  },
  {
   "cell_type": "markdown",
   "source": [
    "---\n",
    "# Model"
   ],
   "metadata": {
    "collapsed": false,
    "pycharm": {
     "name": "#%% md\n"
    }
   }
  },
  {
   "cell_type": "code",
   "execution_count": 6,
   "outputs": [],
   "source": [],
   "metadata": {
    "collapsed": false,
    "pycharm": {
     "name": "#%%\n"
    }
   }
  },
  {
   "cell_type": "markdown",
   "source": [
    "---\n",
    "# Configuration"
   ],
   "metadata": {
    "collapsed": false,
    "pycharm": {
     "name": "#%% md\n"
    }
   }
  },
  {
   "cell_type": "code",
   "execution_count": 7,
   "outputs": [],
   "source": [
    "# example configuration\n",
    "custom_configuration = {\n",
    "\n",
    "    'train_set': {\n",
    "        'path': './data/thedeep.subset.train.txt',\n",
    "        'transformations': [\n",
    "            {\n",
    "                'name': 'DUMMY',\n",
    "                'args': {}\n",
    "            }\n",
    "        ]\n",
    "    },\n",
    "\n",
    "    'validation_set': {\n",
    "        'path': './data/thedeep.subset.validation.txt',\n",
    "    },\n",
    "\n",
    "    'test_set': {\n",
    "        'path': './data/thedeep.subset.test.txt',\n",
    "    },\n",
    "\n",
    "    'control_set': {\n",
    "        'path': './data/thedeep.subset.control.txt'\n",
    "    },\n",
    "\n",
    "    'labels': {\n",
    "        'path': './data/thedeep.labels.txt'\n",
    "    },\n",
    "\n",
    "    'training': {\n",
    "        'batch_size': 16,\n",
    "        'epochs': 3,\n",
    "        'learning_rate': 1e-3,\n",
    "        'output_dir': 'ClassificationBERT',\n",
    "        'metric_for_best_model': 'accuracy',\n",
    "    },\n",
    "}"
   ],
   "metadata": {
    "collapsed": false,
    "pycharm": {
     "name": "#%%\n"
    }
   }
  },
  {
   "cell_type": "markdown",
   "source": [
    "---\n",
    "# Notebook flow"
   ],
   "metadata": {
    "collapsed": false,
    "pycharm": {
     "name": "#%% md\n"
    }
   }
  },
  {
   "cell_type": "code",
   "execution_count": 8,
   "outputs": [
    {
     "data": {
      "text/plain": "          id                                               text  label\n0       5446  In addition to the immediate life-saving inter...      9\n1       8812  There are approximately 2.6 million people cla...      3\n2      16709  While aid imports have held up recently, comme...      5\n3       3526  Heavy rainfalls as well as onrush of water fro...      0\n4       4928  Based on field reports 9 , the main production...      3\n...      ...                                                ...    ...\n12105  12744  The total gap in the number of people who requ...      8\n12106   9655  A food crisis is looming in the country with t...      0\n12107   6963  ? Acute watery diarrhoea (AWD) continues to be...      4\n12108    923  As South India grapples with drought and water...     11\n12109  15880  Mirroring trends in South Africa, the main sou...      3\n\n[12110 rows x 3 columns]",
      "text/html": "<div>\n<style scoped>\n    .dataframe tbody tr th:only-of-type {\n        vertical-align: middle;\n    }\n\n    .dataframe tbody tr th {\n        vertical-align: top;\n    }\n\n    .dataframe thead th {\n        text-align: right;\n    }\n</style>\n<table border=\"1\" class=\"dataframe\">\n  <thead>\n    <tr style=\"text-align: right;\">\n      <th></th>\n      <th>id</th>\n      <th>text</th>\n      <th>label</th>\n    </tr>\n  </thead>\n  <tbody>\n    <tr>\n      <th>0</th>\n      <td>5446</td>\n      <td>In addition to the immediate life-saving inter...</td>\n      <td>9</td>\n    </tr>\n    <tr>\n      <th>1</th>\n      <td>8812</td>\n      <td>There are approximately 2.6 million people cla...</td>\n      <td>3</td>\n    </tr>\n    <tr>\n      <th>2</th>\n      <td>16709</td>\n      <td>While aid imports have held up recently, comme...</td>\n      <td>5</td>\n    </tr>\n    <tr>\n      <th>3</th>\n      <td>3526</td>\n      <td>Heavy rainfalls as well as onrush of water fro...</td>\n      <td>0</td>\n    </tr>\n    <tr>\n      <th>4</th>\n      <td>4928</td>\n      <td>Based on field reports 9 , the main production...</td>\n      <td>3</td>\n    </tr>\n    <tr>\n      <th>...</th>\n      <td>...</td>\n      <td>...</td>\n      <td>...</td>\n    </tr>\n    <tr>\n      <th>12105</th>\n      <td>12744</td>\n      <td>The total gap in the number of people who requ...</td>\n      <td>8</td>\n    </tr>\n    <tr>\n      <th>12106</th>\n      <td>9655</td>\n      <td>A food crisis is looming in the country with t...</td>\n      <td>0</td>\n    </tr>\n    <tr>\n      <th>12107</th>\n      <td>6963</td>\n      <td>? Acute watery diarrhoea (AWD) continues to be...</td>\n      <td>4</td>\n    </tr>\n    <tr>\n      <th>12108</th>\n      <td>923</td>\n      <td>As South India grapples with drought and water...</td>\n      <td>11</td>\n    </tr>\n    <tr>\n      <th>12109</th>\n      <td>15880</td>\n      <td>Mirroring trends in South Africa, the main sou...</td>\n      <td>3</td>\n    </tr>\n  </tbody>\n</table>\n<p>12110 rows × 3 columns</p>\n</div>"
     },
     "execution_count": 8,
     "metadata": {},
     "output_type": "execute_result"
    }
   ],
   "source": [
    "train_set_config = TrainSetConfig(\n",
    "    custom_configuration['train_set']['path'],\n",
    "    [TransformationConfig(t['name'], t['args']) for t in custom_configuration['train_set']['transformations']])\n",
    "\n",
    "train_set = train_set_select(train_set_config)\n",
    "train_set"
   ],
   "metadata": {
    "collapsed": false,
    "pycharm": {
     "name": "#%%\n"
    }
   }
  },
  {
   "cell_type": "code",
   "execution_count": 9,
   "outputs": [
    {
     "data": {
      "text/plain": "         id                                               text  label\n0       633  The veterans threw up roadblocks on the main n...      9\n1      6001  Water department complains about lack of skill...     11\n2     14014  On 13 February 2018, the Ministry of Health of...      4\n3     12225  In Kakuma and Kalobeyei, both host and refugee...      7\n4     10181  'Raqqa is now empty of civilians who had been ...      9\n...     ...                                                ...    ...\n2591   5109  UNICEF-supported Child Health Days happen in D...      4\n2592   5696  The residents of Karachi once again faced prol...      7\n2593   4622  Poverty ripping off Malawi farmers Poverty has...      3\n2594   9053  The Sheikh Jarrah residential neighbourhood is...     10\n2595   6095  . Male IDPs between the ages of 18-40 years ar...      9\n\n[2596 rows x 3 columns]",
      "text/html": "<div>\n<style scoped>\n    .dataframe tbody tr th:only-of-type {\n        vertical-align: middle;\n    }\n\n    .dataframe tbody tr th {\n        vertical-align: top;\n    }\n\n    .dataframe thead th {\n        text-align: right;\n    }\n</style>\n<table border=\"1\" class=\"dataframe\">\n  <thead>\n    <tr style=\"text-align: right;\">\n      <th></th>\n      <th>id</th>\n      <th>text</th>\n      <th>label</th>\n    </tr>\n  </thead>\n  <tbody>\n    <tr>\n      <th>0</th>\n      <td>633</td>\n      <td>The veterans threw up roadblocks on the main n...</td>\n      <td>9</td>\n    </tr>\n    <tr>\n      <th>1</th>\n      <td>6001</td>\n      <td>Water department complains about lack of skill...</td>\n      <td>11</td>\n    </tr>\n    <tr>\n      <th>2</th>\n      <td>14014</td>\n      <td>On 13 February 2018, the Ministry of Health of...</td>\n      <td>4</td>\n    </tr>\n    <tr>\n      <th>3</th>\n      <td>12225</td>\n      <td>In Kakuma and Kalobeyei, both host and refugee...</td>\n      <td>7</td>\n    </tr>\n    <tr>\n      <th>4</th>\n      <td>10181</td>\n      <td>'Raqqa is now empty of civilians who had been ...</td>\n      <td>9</td>\n    </tr>\n    <tr>\n      <th>...</th>\n      <td>...</td>\n      <td>...</td>\n      <td>...</td>\n    </tr>\n    <tr>\n      <th>2591</th>\n      <td>5109</td>\n      <td>UNICEF-supported Child Health Days happen in D...</td>\n      <td>4</td>\n    </tr>\n    <tr>\n      <th>2592</th>\n      <td>5696</td>\n      <td>The residents of Karachi once again faced prol...</td>\n      <td>7</td>\n    </tr>\n    <tr>\n      <th>2593</th>\n      <td>4622</td>\n      <td>Poverty ripping off Malawi farmers Poverty has...</td>\n      <td>3</td>\n    </tr>\n    <tr>\n      <th>2594</th>\n      <td>9053</td>\n      <td>The Sheikh Jarrah residential neighbourhood is...</td>\n      <td>10</td>\n    </tr>\n    <tr>\n      <th>2595</th>\n      <td>6095</td>\n      <td>. Male IDPs between the ages of 18-40 years ar...</td>\n      <td>9</td>\n    </tr>\n  </tbody>\n</table>\n<p>2596 rows × 3 columns</p>\n</div>"
     },
     "execution_count": 9,
     "metadata": {},
     "output_type": "execute_result"
    }
   ],
   "source": [
    "# TODO\n",
    "validation_set = pd.read_csv(custom_configuration['validation_set']['path'], header=None, names=['id', 'text', 'label'])\n",
    "validation_set"
   ],
   "metadata": {
    "collapsed": false,
    "pycharm": {
     "name": "#%%\n"
    }
   }
  },
  {
   "cell_type": "code",
   "execution_count": 10,
   "outputs": [
    {
     "data": {
      "text/plain": "         id                                               text  label\n0      7162  After the civil war, Lebanon’s healthcare syst...      4\n1     10157  For many communities in Central River Region (...      3\n2      4664  Violence in the southeastern part of the Centr...      4\n3     11715  Of the 35 interviewees, 30 reported experienci...      9\n4     15090  Several schools in Apuk South County of Gogria...      2\n...     ...                                                ...    ...\n2580   1979  Tropical Storm Dineo caused widespread damage ...     10\n2581   7549  Monsoon rains and increased water levels in ma...     10\n2582   6064  I am extremely concerned about possible outbre...     11\n2583   3582  Newly displaced persons from Al Mukha and Dhub...     11\n2584   1049  State of emergency declared for areas affected...     10\n\n[2585 rows x 3 columns]",
      "text/html": "<div>\n<style scoped>\n    .dataframe tbody tr th:only-of-type {\n        vertical-align: middle;\n    }\n\n    .dataframe tbody tr th {\n        vertical-align: top;\n    }\n\n    .dataframe thead th {\n        text-align: right;\n    }\n</style>\n<table border=\"1\" class=\"dataframe\">\n  <thead>\n    <tr style=\"text-align: right;\">\n      <th></th>\n      <th>id</th>\n      <th>text</th>\n      <th>label</th>\n    </tr>\n  </thead>\n  <tbody>\n    <tr>\n      <th>0</th>\n      <td>7162</td>\n      <td>After the civil war, Lebanon’s healthcare syst...</td>\n      <td>4</td>\n    </tr>\n    <tr>\n      <th>1</th>\n      <td>10157</td>\n      <td>For many communities in Central River Region (...</td>\n      <td>3</td>\n    </tr>\n    <tr>\n      <th>2</th>\n      <td>4664</td>\n      <td>Violence in the southeastern part of the Centr...</td>\n      <td>4</td>\n    </tr>\n    <tr>\n      <th>3</th>\n      <td>11715</td>\n      <td>Of the 35 interviewees, 30 reported experienci...</td>\n      <td>9</td>\n    </tr>\n    <tr>\n      <th>4</th>\n      <td>15090</td>\n      <td>Several schools in Apuk South County of Gogria...</td>\n      <td>2</td>\n    </tr>\n    <tr>\n      <th>...</th>\n      <td>...</td>\n      <td>...</td>\n      <td>...</td>\n    </tr>\n    <tr>\n      <th>2580</th>\n      <td>1979</td>\n      <td>Tropical Storm Dineo caused widespread damage ...</td>\n      <td>10</td>\n    </tr>\n    <tr>\n      <th>2581</th>\n      <td>7549</td>\n      <td>Monsoon rains and increased water levels in ma...</td>\n      <td>10</td>\n    </tr>\n    <tr>\n      <th>2582</th>\n      <td>6064</td>\n      <td>I am extremely concerned about possible outbre...</td>\n      <td>11</td>\n    </tr>\n    <tr>\n      <th>2583</th>\n      <td>3582</td>\n      <td>Newly displaced persons from Al Mukha and Dhub...</td>\n      <td>11</td>\n    </tr>\n    <tr>\n      <th>2584</th>\n      <td>1049</td>\n      <td>State of emergency declared for areas affected...</td>\n      <td>10</td>\n    </tr>\n  </tbody>\n</table>\n<p>2585 rows × 3 columns</p>\n</div>"
     },
     "execution_count": 10,
     "metadata": {},
     "output_type": "execute_result"
    }
   ],
   "source": [
    "# TODO\n",
    "test_set = pd.read_csv(custom_configuration['test_set']['path'], header=None, names=['id', 'text', 'label'])\n",
    "test_set"
   ],
   "metadata": {
    "collapsed": false,
    "pycharm": {
     "name": "#%%\n"
    }
   }
  },
  {
   "cell_type": "code",
   "execution_count": 11,
   "outputs": [
    {
     "data": {
      "text/plain": "      id                                               text  label\n0   5805  Overall 30% decrease in MAM Children admission...      8\n1  17120  In 2014, fear of Ebola also led to attacks on ...      9\n2  11901  Wheat is the staple food for most Afghans, com...      3\n3   2589  We have received serious allegations that two ...      9\n4   4188  Somali: 67 of 93 woredas hotspot . 410k MAM, 4...      8\n5   8392  In order to prevent epidemics, the displaced p...     11\n6  12693  Local cereal prices declined in most of the So...      3\n7   2937  Results from the Swaziland Vulnerability Analy...      3\n8   2318  Desert locust population declined due to inten...      0\n9  12386   As a result of the influx, the open defecatio...     11",
      "text/html": "<div>\n<style scoped>\n    .dataframe tbody tr th:only-of-type {\n        vertical-align: middle;\n    }\n\n    .dataframe tbody tr th {\n        vertical-align: top;\n    }\n\n    .dataframe thead th {\n        text-align: right;\n    }\n</style>\n<table border=\"1\" class=\"dataframe\">\n  <thead>\n    <tr style=\"text-align: right;\">\n      <th></th>\n      <th>id</th>\n      <th>text</th>\n      <th>label</th>\n    </tr>\n  </thead>\n  <tbody>\n    <tr>\n      <th>0</th>\n      <td>5805</td>\n      <td>Overall 30% decrease in MAM Children admission...</td>\n      <td>8</td>\n    </tr>\n    <tr>\n      <th>1</th>\n      <td>17120</td>\n      <td>In 2014, fear of Ebola also led to attacks on ...</td>\n      <td>9</td>\n    </tr>\n    <tr>\n      <th>2</th>\n      <td>11901</td>\n      <td>Wheat is the staple food for most Afghans, com...</td>\n      <td>3</td>\n    </tr>\n    <tr>\n      <th>3</th>\n      <td>2589</td>\n      <td>We have received serious allegations that two ...</td>\n      <td>9</td>\n    </tr>\n    <tr>\n      <th>4</th>\n      <td>4188</td>\n      <td>Somali: 67 of 93 woredas hotspot . 410k MAM, 4...</td>\n      <td>8</td>\n    </tr>\n    <tr>\n      <th>5</th>\n      <td>8392</td>\n      <td>In order to prevent epidemics, the displaced p...</td>\n      <td>11</td>\n    </tr>\n    <tr>\n      <th>6</th>\n      <td>12693</td>\n      <td>Local cereal prices declined in most of the So...</td>\n      <td>3</td>\n    </tr>\n    <tr>\n      <th>7</th>\n      <td>2937</td>\n      <td>Results from the Swaziland Vulnerability Analy...</td>\n      <td>3</td>\n    </tr>\n    <tr>\n      <th>8</th>\n      <td>2318</td>\n      <td>Desert locust population declined due to inten...</td>\n      <td>0</td>\n    </tr>\n    <tr>\n      <th>9</th>\n      <td>12386</td>\n      <td>As a result of the influx, the open defecatio...</td>\n      <td>11</td>\n    </tr>\n  </tbody>\n</table>\n</div>"
     },
     "execution_count": 11,
     "metadata": {},
     "output_type": "execute_result"
    }
   ],
   "source": [
    "# TODO\n",
    "control_set = pd.read_csv(custom_configuration['control_set']['path'], header=None, names=['id', 'text', 'label'])\n",
    "control_set"
   ],
   "metadata": {
    "collapsed": false,
    "pycharm": {
     "name": "#%%\n"
    }
   }
  },
  {
   "cell_type": "code",
   "execution_count": 12,
   "outputs": [],
   "source": [
    "data = {\n",
    "    'train': train_set,\n",
    "    'validation': validation_set,\n",
    "    'test': test_set,\n",
    "    'control': control_set\n",
    "}"
   ],
   "metadata": {
    "collapsed": false,
    "pycharm": {
     "name": "#%%\n"
    }
   }
  },
  {
   "cell_type": "code",
   "execution_count": 13,
   "outputs": [],
   "source": [
    "# TODO\n",
    "label_names = pd.read_csv(custom_configuration['labels']['path'], header=None, names=['id', 'name'])"
   ],
   "metadata": {
    "collapsed": false,
    "pycharm": {
     "name": "#%%\n"
    }
   }
  },
  {
   "cell_type": "code",
   "execution_count": 15,
   "outputs": [
    {
     "name": "stderr",
     "output_type": "stream",
     "text": [
      "Some weights of the model checkpoint at bert-base-uncased were not used when initializing BertModel: ['cls.predictions.bias', 'cls.predictions.transform.LayerNorm.weight', 'cls.predictions.decoder.weight', 'cls.predictions.transform.dense.bias', 'cls.seq_relationship.weight', 'cls.predictions.transform.dense.weight', 'cls.seq_relationship.bias', 'cls.predictions.transform.LayerNorm.bias']\n",
      "- This IS expected if you are initializing BertModel from the checkpoint of a model trained on another task or with another architecture (e.g. initializing a BertForSequenceClassification model from a BertForPreTraining model).\n",
      "- This IS NOT expected if you are initializing BertModel from the checkpoint of a model that you expect to be exactly identical (initializing a BertForSequenceClassification model from a BertForSequenceClassification model).\n"
     ]
    }
   ],
   "source": [
    "# TODO\n",
    "tokenizer = BertTokenizer.from_pretrained('bert-base-uncased')\n",
    "bert_model = BertModel.from_pretrained(\n",
    "    'bert-base-uncased',\n",
    "    output_attentions=False,\n",
    "    output_hidden_states=False\n",
    ").to(device)"
   ],
   "metadata": {
    "collapsed": false,
    "pycharm": {
     "name": "#%%\n"
    }
   }
  },
  {
   "cell_type": "code",
   "execution_count": 16,
   "metadata": {
    "id": "iD5AxkR6Z0Qk",
    "ExecuteTime": {
     "start_time": "2023-04-19T18:45:42.675059Z",
     "end_time": "2023-04-19T18:46:08.200413Z"
    }
   },
   "outputs": [],
   "source": [
    "max_document_length = 512  # TODO - where to put this parameter?\n",
    "\n",
    "tokens = {\n",
    "    dataset_type:\n",
    "        tokenizer(dataset['text'].tolist(),\n",
    "                  padding='max_length',\n",
    "                  max_length=max_document_length,\n",
    "                  truncation=True,\n",
    "                  return_tensors='pt')\n",
    "\n",
    "    for dataset_type, dataset in data.items()\n",
    "}\n",
    "\n",
    "labels = {\n",
    "    dataset_type:\n",
    "        torch.tensor(dataset['label'].tolist())\n",
    "\n",
    "    for dataset_type, dataset in data.items()\n",
    "}"
   ]
  },
  {
   "cell_type": "code",
   "execution_count": 17,
   "metadata": {
    "id": "CK-5-XYEZ0Qn",
    "ExecuteTime": {
     "start_time": "2023-04-19T18:46:08.204946Z",
     "end_time": "2023-04-19T18:46:08.214691Z"
    }
   },
   "outputs": [],
   "source": [
    "# TODO: this can probably be left as it is\n",
    "class TextDataset(Dataset):\n",
    "    def __init__(self, tokens, labels: torch.Tensor):\n",
    "        self.input_ids = tokens.input_ids\n",
    "        self.attention_mask = tokens.attention_mask\n",
    "        self.token_type_ids = tokens.token_type_ids\n",
    "        self.y = labels\n",
    "\n",
    "    def __len__(self):\n",
    "        return len(self.y)\n",
    "\n",
    "    def __getitem__(self, i):\n",
    "        return {\n",
    "            'input_ids': self.input_ids[i],\n",
    "            'attention_mask': self.attention_mask[i],\n",
    "            'token_type_ids': self.token_type_ids[i],\n",
    "            'labels': self.y[i]\n",
    "        }"
   ]
  },
  {
   "cell_type": "code",
   "execution_count": 18,
   "metadata": {
    "id": "KHoxwyr_Z0Qp",
    "ExecuteTime": {
     "start_time": "2023-04-19T18:46:08.217860Z",
     "end_time": "2023-04-19T18:46:08.262069Z"
    }
   },
   "outputs": [],
   "source": [
    "datasets = {\n",
    "    dataset_type:\n",
    "        TextDataset(tokens[dataset_type], labels[dataset_type])\n",
    "\n",
    "    for dataset_type in data.keys()\n",
    "}"
   ]
  },
  {
   "cell_type": "code",
   "execution_count": 19,
   "metadata": {
    "id": "XBdeHDmRZ0Qr",
    "ExecuteTime": {
     "start_time": "2023-04-19T18:46:08.266642Z",
     "end_time": "2023-04-19T18:46:08.275387Z"
    }
   },
   "outputs": [],
   "source": [
    "# TODO\n",
    "class ClassificationBERTModel(nn.Module):\n",
    "    def __init__(self, bert_model: BertModel):\n",
    "        super(ClassificationBERTModel, self).__init__()\n",
    "        self.bert = bert_model\n",
    "        self.linear = nn.Linear(768, 12)\n",
    "        self.loss = nn.CrossEntropyLoss()\n",
    "\n",
    "        for param in self.bert.parameters():\n",
    "            param.requires_grad = False\n",
    "\n",
    "    def forward(self, input_ids, attention_mask, token_type_ids, labels):\n",
    "        x = self.bert(input_ids=input_ids, attention_mask=attention_mask,\n",
    "                      token_type_ids=token_type_ids).last_hidden_state\n",
    "        attention = attention_mask.unsqueeze(2).expand(-1, -1, 768)\n",
    "        x = x * attention\n",
    "        x = x.sum(1) / (x != 0).sum(1)\n",
    "        x = self.linear(x)\n",
    "\n",
    "        return self.loss(x, labels), x"
   ]
  },
  {
   "cell_type": "code",
   "execution_count": 21,
   "metadata": {
    "id": "yBvqyfNSZ0Qu",
    "ExecuteTime": {
     "start_time": "2023-04-19T18:46:08.295318Z",
     "end_time": "2023-04-19T18:46:08.310346Z"
    }
   },
   "outputs": [],
   "source": [
    "# TODO\n",
    "training_args = TrainingArguments(\n",
    "    output_dir=custom_configuration['training']['output_dir'],\n",
    "    learning_rate=custom_configuration['training']['learning_rate'],\n",
    "    evaluation_strategy=IntervalStrategy.EPOCH,\n",
    "    save_strategy=IntervalStrategy.EPOCH,\n",
    "    logging_strategy=IntervalStrategy.EPOCH,\n",
    "    per_device_train_batch_size=custom_configuration['training']['batch_size'],\n",
    "    per_device_eval_batch_size=custom_configuration['training']['batch_size'],\n",
    "    load_best_model_at_end=True,\n",
    "    metric_for_best_model=custom_configuration['training']['metric_for_best_model'],\n",
    "    num_train_epochs=custom_configuration['training']['epochs']\n",
    ")"
   ]
  },
  {
   "cell_type": "code",
   "execution_count": 22,
   "metadata": {
    "id": "J-xAHUVdZ0Qv",
    "ExecuteTime": {
     "start_time": "2023-04-19T18:46:08.312349Z",
     "end_time": "2023-04-19T18:46:08.323958Z"
    }
   },
   "outputs": [],
   "source": [
    "# TODO: ???\n",
    "def compute_metrics(p):\n",
    "    pred, true_labels = p\n",
    "    pred = pred.argmax(1)\n",
    "    accuracy = accuracy_score(y_true=true_labels, y_pred=pred)\n",
    "    recall = recall_score(y_true=true_labels, y_pred=pred, average='weighted', zero_division=0)\n",
    "    precision = precision_score(y_true=true_labels, y_pred=pred, average='weighted', zero_division=0)\n",
    "    f1 = f1_score(y_true=true_labels, y_pred=pred, average='weighted', zero_division=0)\n",
    "    return {\"accuracy\": accuracy, \"precision\": precision, \"recall\": recall, \"f1\": f1}"
   ]
  },
  {
   "cell_type": "code",
   "execution_count": 23,
   "metadata": {
    "id": "-fzFgT35Z0Qx",
    "ExecuteTime": {
     "start_time": "2023-04-19T18:46:08.325499Z",
     "end_time": "2023-04-19T18:46:10.657969Z"
    }
   },
   "outputs": [],
   "source": [
    "classification_model = ClassificationBERTModel(bert_model).to(device)\n",
    "\n",
    "trainer = Trainer(\n",
    "    model=classification_model,\n",
    "    train_dataset=datasets['train'],\n",
    "    eval_dataset=datasets['validation'],\n",
    "    compute_metrics=compute_metrics,\n",
    "    args=training_args\n",
    ")"
   ]
  },
  {
   "cell_type": "code",
   "execution_count": 24,
   "outputs": [],
   "source": [
    "# FIXME\n",
    "os.environ['WANDB_DISABLED'] = 'true'"
   ],
   "metadata": {
    "collapsed": false,
    "pycharm": {
     "name": "#%%\n"
    }
   }
  },
  {
   "cell_type": "code",
   "execution_count": 25,
   "metadata": {
    "id": "o2JMxHkaZ0Qy",
    "ExecuteTime": {
     "start_time": "2023-04-19T18:46:10.167636Z",
     "end_time": "2023-04-19T19:10:40.772022Z"
    }
   },
   "outputs": [
    {
     "name": "stderr",
     "output_type": "stream",
     "text": [
      "C:\\Users\\solarsan\\AppData\\Roaming\\Python\\Python39\\site-packages\\transformers\\optimization.py:391: FutureWarning: This implementation of AdamW is deprecated and will be removed in a future version. Use the PyTorch implementation torch.optim.AdamW instead, or set `no_deprecation_warning=True` to disable this warning\n",
      "  warnings.warn(\n"
     ]
    },
    {
     "data": {
      "text/plain": "<IPython.core.display.HTML object>",
      "text/html": "Tracking run with wandb version 0.12.21"
     },
     "metadata": {},
     "output_type": "display_data"
    },
    {
     "data": {
      "text/plain": "<IPython.core.display.HTML object>",
      "text/html": "W&B syncing is set to <code>`offline`<code> in this directory.  <br/>Run <code>`wandb online`<code> or set <code>WANDB_MODE=online<code> to enable cloud syncing."
     },
     "metadata": {},
     "output_type": "display_data"
    },
    {
     "data": {
      "text/plain": "<IPython.core.display.HTML object>",
      "text/html": "\n    <div>\n      \n      <progress value='2' max='2271' style='width:300px; height:20px; vertical-align: middle;'></progress>\n      [   2/2271 : < :, Epoch 0.00/3]\n    </div>\n    <table border=\"1\" class=\"dataframe\">\n  <thead>\n <tr style=\"text-align: left;\">\n      <th>Epoch</th>\n      <th>Training Loss</th>\n      <th>Validation Loss</th>\n    </tr>\n  </thead>\n  <tbody>\n  </tbody>\n</table><p>"
     },
     "metadata": {},
     "output_type": "display_data"
    },
    {
     "ename": "KeyboardInterrupt",
     "evalue": "",
     "output_type": "error",
     "traceback": [
      "\u001B[1;31m---------------------------------------------------------------------------\u001B[0m",
      "\u001B[1;31mKeyboardInterrupt\u001B[0m                         Traceback (most recent call last)",
      "Cell \u001B[1;32mIn[25], line 1\u001B[0m\n\u001B[1;32m----> 1\u001B[0m \u001B[43mtrainer\u001B[49m\u001B[38;5;241;43m.\u001B[39;49m\u001B[43mtrain\u001B[49m\u001B[43m(\u001B[49m\u001B[43m)\u001B[49m\n",
      "File \u001B[1;32m~\\AppData\\Roaming\\Python\\Python39\\site-packages\\transformers\\trainer.py:1662\u001B[0m, in \u001B[0;36mTrainer.train\u001B[1;34m(self, resume_from_checkpoint, trial, ignore_keys_for_eval, **kwargs)\u001B[0m\n\u001B[0;32m   1657\u001B[0m     \u001B[38;5;28mself\u001B[39m\u001B[38;5;241m.\u001B[39mmodel_wrapped \u001B[38;5;241m=\u001B[39m \u001B[38;5;28mself\u001B[39m\u001B[38;5;241m.\u001B[39mmodel\n\u001B[0;32m   1659\u001B[0m inner_training_loop \u001B[38;5;241m=\u001B[39m find_executable_batch_size(\n\u001B[0;32m   1660\u001B[0m     \u001B[38;5;28mself\u001B[39m\u001B[38;5;241m.\u001B[39m_inner_training_loop, \u001B[38;5;28mself\u001B[39m\u001B[38;5;241m.\u001B[39m_train_batch_size, args\u001B[38;5;241m.\u001B[39mauto_find_batch_size\n\u001B[0;32m   1661\u001B[0m )\n\u001B[1;32m-> 1662\u001B[0m \u001B[38;5;28;01mreturn\u001B[39;00m \u001B[43minner_training_loop\u001B[49m\u001B[43m(\u001B[49m\n\u001B[0;32m   1663\u001B[0m \u001B[43m    \u001B[49m\u001B[43margs\u001B[49m\u001B[38;5;241;43m=\u001B[39;49m\u001B[43margs\u001B[49m\u001B[43m,\u001B[49m\n\u001B[0;32m   1664\u001B[0m \u001B[43m    \u001B[49m\u001B[43mresume_from_checkpoint\u001B[49m\u001B[38;5;241;43m=\u001B[39;49m\u001B[43mresume_from_checkpoint\u001B[49m\u001B[43m,\u001B[49m\n\u001B[0;32m   1665\u001B[0m \u001B[43m    \u001B[49m\u001B[43mtrial\u001B[49m\u001B[38;5;241;43m=\u001B[39;49m\u001B[43mtrial\u001B[49m\u001B[43m,\u001B[49m\n\u001B[0;32m   1666\u001B[0m \u001B[43m    \u001B[49m\u001B[43mignore_keys_for_eval\u001B[49m\u001B[38;5;241;43m=\u001B[39;49m\u001B[43mignore_keys_for_eval\u001B[49m\u001B[43m,\u001B[49m\n\u001B[0;32m   1667\u001B[0m \u001B[43m\u001B[49m\u001B[43m)\u001B[49m\n",
      "File \u001B[1;32m~\\AppData\\Roaming\\Python\\Python39\\site-packages\\transformers\\trainer.py:1931\u001B[0m, in \u001B[0;36mTrainer._inner_training_loop\u001B[1;34m(self, batch_size, args, resume_from_checkpoint, trial, ignore_keys_for_eval)\u001B[0m\n\u001B[0;32m   1928\u001B[0m \u001B[38;5;28;01melse\u001B[39;00m:\n\u001B[0;32m   1929\u001B[0m     tr_loss_step \u001B[38;5;241m=\u001B[39m \u001B[38;5;28mself\u001B[39m\u001B[38;5;241m.\u001B[39mtraining_step(model, inputs)\n\u001B[1;32m-> 1931\u001B[0m \u001B[38;5;28;01mif\u001B[39;00m (\n\u001B[0;32m   1932\u001B[0m     args\u001B[38;5;241m.\u001B[39mlogging_nan_inf_filter\n\u001B[0;32m   1933\u001B[0m     \u001B[38;5;129;01mand\u001B[39;00m \u001B[38;5;129;01mnot\u001B[39;00m is_torch_tpu_available()\n\u001B[0;32m   1934\u001B[0m     \u001B[38;5;129;01mand\u001B[39;00m (torch\u001B[38;5;241m.\u001B[39misnan(tr_loss_step) \u001B[38;5;129;01mor\u001B[39;00m torch\u001B[38;5;241m.\u001B[39misinf(tr_loss_step))\n\u001B[0;32m   1935\u001B[0m ):\n\u001B[0;32m   1936\u001B[0m     \u001B[38;5;66;03m# if loss is nan or inf simply add the average of previous logged losses\u001B[39;00m\n\u001B[0;32m   1937\u001B[0m     tr_loss \u001B[38;5;241m+\u001B[39m\u001B[38;5;241m=\u001B[39m tr_loss \u001B[38;5;241m/\u001B[39m (\u001B[38;5;241m1\u001B[39m \u001B[38;5;241m+\u001B[39m \u001B[38;5;28mself\u001B[39m\u001B[38;5;241m.\u001B[39mstate\u001B[38;5;241m.\u001B[39mglobal_step \u001B[38;5;241m-\u001B[39m \u001B[38;5;28mself\u001B[39m\u001B[38;5;241m.\u001B[39m_globalstep_last_logged)\n\u001B[0;32m   1938\u001B[0m \u001B[38;5;28;01melse\u001B[39;00m:\n",
      "\u001B[1;31mKeyboardInterrupt\u001B[0m: "
     ]
    }
   ],
   "source": [
    "trainer.train()"
   ]
  },
  {
   "cell_type": "code",
   "execution_count": null,
   "metadata": {
    "id": "VAfsOOmdZ0Q0",
    "ExecuteTime": {
     "start_time": "2023-04-19T19:10:40.774408Z",
     "end_time": "2023-04-19T19:12:03.087219Z"
    }
   },
   "outputs": [],
   "source": [
    "test_result = trainer.predict(datasets['test'])\n",
    "test_result.metrics"
   ]
  },
  {
   "cell_type": "code",
   "execution_count": null,
   "outputs": [],
   "source": [
    "control_result = trainer.predict(datasets['control'])\n",
    "control_result.metrics"
   ],
   "metadata": {
    "collapsed": false,
    "ExecuteTime": {
     "start_time": "2023-04-19T19:12:03.090216Z",
     "end_time": "2023-04-19T19:12:03.464164Z"
    },
    "pycharm": {
     "name": "#%%\n"
    }
   }
  },
  {
   "cell_type": "code",
   "execution_count": null,
   "outputs": [],
   "source": [],
   "metadata": {
    "collapsed": false,
    "pycharm": {
     "name": "#%%\n"
    }
   }
  }
 ],
 "metadata": {
  "colab": {
   "provenance": []
  },
  "kernelspec": {
   "display_name": "Python 3 (ipykernel)",
   "language": "python",
   "name": "python3"
  },
  "language_info": {
   "codemirror_mode": {
    "name": "ipython",
    "version": 3
   },
   "file_extension": ".py",
   "mimetype": "text/x-python",
   "name": "python",
   "nbconvert_exporter": "python",
   "pygments_lexer": "ipython3",
   "version": "3.9.1"
  }
 },
 "nbformat": 4,
 "nbformat_minor": 1
}
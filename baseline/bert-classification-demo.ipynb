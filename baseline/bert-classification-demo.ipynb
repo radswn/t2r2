{
 "cells": [
  {
   "cell_type": "code",
   "execution_count": 1,
   "metadata": {
    "ExecuteTime": {
     "end_time": "2023-04-19T18:45:40.790607Z",
     "start_time": "2023-04-19T18:45:37.552500Z"
    },
    "id": "bHhIkms-Z0QY"
   },
   "outputs": [],
   "source": [
    "import os\n",
    "import pickle\n",
    "from abc import ABC, abstractmethod\n",
    "from dataclasses import dataclass\n",
    "from typing import List, Dict\n",
    "\n",
    "import pandas as pd\n",
    "import torch\n",
    "import yaml\n",
    "from sklearn.metrics import accuracy_score\n",
    "from torch.utils.data import Dataset\n",
    "from transformers import TrainingArguments, Trainer, IntervalStrategy, AutoModelForSequenceClassification, AutoTokenizer"
   ]
  },
  {
   "cell_type": "code",
   "execution_count": 2,
   "outputs": [
    {
     "data": {
      "text/plain": "device(type='cuda')"
     },
     "execution_count": 2,
     "metadata": {},
     "output_type": "execute_result"
    }
   ],
   "source": [
    "os.environ['WANDB_DISABLED'] = 'true'\n",
    "\n",
    "device = torch.device('cuda' if torch.cuda.is_available() else 'cpu')\n",
    "device"
   ],
   "metadata": {
    "collapsed": false,
    "pycharm": {
     "name": "#%%\n"
    }
   }
  },
  {
   "cell_type": "markdown",
   "source": [
    "---\n",
    "# Model"
   ],
   "metadata": {
    "collapsed": false
   }
  },
  {
   "cell_type": "code",
   "execution_count": 3,
   "metadata": {
    "pycharm": {
     "name": "#%%\n"
    }
   },
   "outputs": [],
   "source": [
    "@dataclass\n",
    "class ModelConfig:\n",
    "    model_name: str\n",
    "    num_labels: int\n",
    "    max_length: int\n",
    "    truncation: bool\n",
    "    padding: str\n",
    "    return_tensors: str\n",
    "    output_attentions: bool\n",
    "    output_hidden_states: bool\n",
    "\n",
    "    def __post_init__(self):\n",
    "        self.num_labels = int(self.num_labels)\n",
    "        self.max_length = int(self.max_length)\n",
    "        self.truncation = bool(self.truncation)\n",
    "        self.output_attentions = bool(self.output_attentions)\n",
    "        self.output_hidden_states = bool(self.output_hidden_states)\n",
    "\n",
    "    def create_tokenizer(self):\n",
    "        tokenizer = AutoTokenizer.from_pretrained(self.model_name)\n",
    "\n",
    "        return lambda input_tokens: tokenizer(\n",
    "            input_tokens,\n",
    "            padding=self.padding,\n",
    "            max_length=self.max_length,\n",
    "            truncation=self.truncation,\n",
    "            return_tensors=self.return_tensors\n",
    "        )\n",
    "\n",
    "    def create_model(self):\n",
    "        return AutoModelForSequenceClassification.from_pretrained(\n",
    "            self.model_name,\n",
    "            num_labels=self.num_labels,\n",
    "            output_attentions=self.output_attentions,\n",
    "            output_hidden_states=self.output_hidden_states,\n",
    "        )"
   ]
  },
  {
   "cell_type": "markdown",
   "source": [
    "---\n",
    "# Dataset transformations"
   ],
   "metadata": {
    "collapsed": false
   }
  },
  {
   "cell_type": "code",
   "execution_count": 4,
   "outputs": [],
   "source": [
    "class Transformation(ABC):\n",
    "\n",
    "    def __init__(self, **kwargs):\n",
    "        pass\n",
    "\n",
    "    @abstractmethod\n",
    "    def transform(self, dataset: pd.DataFrame) -> pd.DataFrame:\n",
    "        pass\n",
    "\n",
    "\n",
    "@dataclass\n",
    "class TransformationConfig(yaml.YAMLObject):\n",
    "    name: str\n",
    "    args: Dict"
   ],
   "metadata": {
    "collapsed": false,
    "pycharm": {
     "name": "#%%\n"
    }
   }
  },
  {
   "cell_type": "code",
   "execution_count": 5,
   "outputs": [],
   "source": [
    "class DummyTransformation(Transformation):\n",
    "\n",
    "    def transform(self, dataset: pd.DataFrame) -> pd.DataFrame:\n",
    "        return dataset"
   ],
   "metadata": {
    "collapsed": false,
    "pycharm": {
     "name": "#%%\n"
    }
   }
  },
  {
   "cell_type": "code",
   "execution_count": 6,
   "outputs": [],
   "source": [
    "TRANSFORMATIONS = {\n",
    "    'DUMMY': DummyTransformation,\n",
    "}"
   ],
   "metadata": {
    "collapsed": false,
    "pycharm": {
     "name": "#%%\n"
    }
   }
  },
  {
   "cell_type": "markdown",
   "source": [
    "---\n",
    "# Train Set"
   ],
   "metadata": {
    "collapsed": false
   }
  },
  {
   "cell_type": "code",
   "execution_count": 7,
   "outputs": [],
   "source": [
    "@dataclass\n",
    "class TrainSetConfig:\n",
    "    path: str\n",
    "    transformations: List[TransformationConfig]\n",
    "\n",
    "    def __post_init__(self):\n",
    "        self.transformations = [TransformationConfig(**t) for t in self.transformations]"
   ],
   "metadata": {
    "collapsed": false,
    "pycharm": {
     "name": "#%%\n"
    }
   }
  },
  {
   "cell_type": "code",
   "execution_count": 8,
   "outputs": [],
   "source": [
    "@dataclass\n",
    "class TrainingConfig:\n",
    "    dataset: TrainSetConfig\n",
    "    batch_size: int\n",
    "    epochs: int\n",
    "    learning_rate: float\n",
    "    output_dir: str\n",
    "\n",
    "    def __post_init__(self):\n",
    "        self.dataset = TrainSetConfig(**self.dataset)\n",
    "        self.batch_size = int(self.batch_size)\n",
    "        self.epochs = int(self.epochs)\n",
    "        self.learning_rate = float(self.learning_rate)\n",
    "\n",
    "    def load_dataset(self) -> pd.DataFrame:\n",
    "        df = pd.read_csv(self.dataset.path, header=None, names=['id', 'text', 'label'])\n",
    "\n",
    "        for t in self.dataset.transformations:\n",
    "            transformation = TRANSFORMATIONS[t.name](**t.args)\n",
    "            df = transformation.transform(df)\n",
    "\n",
    "        return df"
   ],
   "metadata": {
    "collapsed": false,
    "pycharm": {
     "name": "#%%\n"
    }
   }
  },
  {
   "cell_type": "markdown",
   "source": [
    "---\n",
    "# Metrics"
   ],
   "metadata": {
    "collapsed": false
   }
  },
  {
   "cell_type": "code",
   "execution_count": 39,
   "outputs": [],
   "source": [
    "# FIXME: solarski\n",
    "# about the metrics - I'm not sure if we should have separate metrics for all steps (validation, test, control)\n",
    "# I would rather go with single metrics config, that would be common for all those steps.\n",
    "# Then we don't need strange test_set_select (etc.) methods, which are either way redundant since the metric are calculated\n",
    "# during call to trainer.predict().\n",
    "# Only thing that we are interested in is saving those metrics for test and control stage."
   ],
   "metadata": {
    "collapsed": false,
    "pycharm": {
     "name": "#%%\n"
    }
   }
  },
  {
   "cell_type": "code",
   "execution_count": 9,
   "outputs": [],
   "source": [
    "METRIC_FUNCTIONS = {\n",
    "    'accuracy': accuracy_score,\n",
    "}\n",
    "\n",
    "\n",
    "@dataclass\n",
    "class MetricsConfig:\n",
    "    name: str"
   ],
   "metadata": {
    "collapsed": false,
    "pycharm": {
     "name": "#%%\n"
    }
   }
  },
  {
   "cell_type": "markdown",
   "source": [
    "---\n",
    "# Validation set"
   ],
   "metadata": {
    "collapsed": false
   }
  },
  {
   "cell_type": "code",
   "execution_count": 10,
   "outputs": [],
   "source": [
    "@dataclass\n",
    "class ValidationSetConfig:\n",
    "    path: str"
   ],
   "metadata": {
    "collapsed": false,
    "pycharm": {
     "name": "#%%\n"
    }
   }
  },
  {
   "cell_type": "code",
   "execution_count": 11,
   "outputs": [],
   "source": [
    "@dataclass\n",
    "class ValidationConfig:\n",
    "    dataset: ValidationSetConfig\n",
    "    batch_size: int\n",
    "    metrics: List[MetricsConfig]\n",
    "    metric_for_best_model: str\n",
    "\n",
    "    def __post_init__(self):\n",
    "        self.dataset = ValidationSetConfig(**self.dataset)\n",
    "        self.batch_size = int(self.batch_size)\n",
    "        self.metrics = [MetricsConfig(**m) for m in self.metrics]\n",
    "\n",
    "    def load_dataset(self) -> pd.DataFrame:\n",
    "        return pd.read_csv(self.dataset.path, header=None, names=['id', 'text', 'label'])\n",
    "\n",
    "    # TODO: rename ???\n",
    "    def validation_set_select(self, predictions) -> dict:\n",
    "        predictions, true_labels = predictions[0], predictions[1]\n",
    "        predictions = predictions[0].argmax(1)\n",
    "\n",
    "        return {\n",
    "            metric.name:\n",
    "                METRIC_FUNCTIONS[metric.name](true_labels, predictions)\n",
    "            for metric in self.metrics\n",
    "        }"
   ],
   "metadata": {
    "collapsed": false,
    "pycharm": {
     "name": "#%%\n"
    }
   }
  },
  {
   "cell_type": "markdown",
   "source": [
    "---\n",
    "# Predictions"
   ],
   "metadata": {
    "collapsed": false
   }
  },
  {
   "cell_type": "code",
   "execution_count": 12,
   "outputs": [],
   "source": [
    "def save_predictions(object, predictions_filename):\n",
    "    file = open(predictions_filename, 'wb')\n",
    "    pickle.dump(object, file)\n",
    "    file.close()"
   ],
   "metadata": {
    "collapsed": false,
    "pycharm": {
     "name": "#%%\n"
    }
   }
  },
  {
   "cell_type": "code",
   "execution_count": 13,
   "outputs": [],
   "source": [
    "def load_predictions(predictions_filename):\n",
    "    file = open(predictions_filename, 'rb')\n",
    "    results_depickled = pickle.load(file)\n",
    "    file.close()\n",
    "    return results_depickled"
   ],
   "metadata": {
    "collapsed": false,
    "pycharm": {
     "name": "#%%\n"
    }
   }
  },
  {
   "cell_type": "markdown",
   "source": [
    "---\n",
    "# Test set"
   ],
   "metadata": {
    "collapsed": false
   }
  },
  {
   "cell_type": "code",
   "execution_count": 14,
   "outputs": [],
   "source": [
    "@dataclass\n",
    "class TestSetConfig:\n",
    "    path: str"
   ],
   "metadata": {
    "collapsed": false,
    "pycharm": {
     "name": "#%%\n"
    }
   }
  },
  {
   "cell_type": "code",
   "execution_count": 15,
   "outputs": [],
   "source": [
    "@dataclass\n",
    "class TestingConfig:\n",
    "    dataset: TestSetConfig\n",
    "    metrics: List[MetricsConfig]\n",
    "    results_file: str\n",
    "\n",
    "    def __post_init__(self):\n",
    "        self.dataset = TestSetConfig(**self.dataset)\n",
    "        self.metrics = [MetricsConfig(**m) for m in self.metrics]\n",
    "\n",
    "    def load_dataset(self) -> pd.DataFrame:\n",
    "        return pd.read_csv(self.dataset.path, header=None, names=['id', 'text', 'label'])\n",
    "\n",
    "    # TODO: rename ???\n",
    "    def test_set_select(self) -> dict:\n",
    "        predictions = load_predictions(self.results_file)\n",
    "        predictions, true_labels = predictions[0], predictions[1]\n",
    "        predictions = predictions[0].argmax(1)\n",
    "\n",
    "        return {\n",
    "            metric.name:\n",
    "                METRIC_FUNCTIONS[metric.name](true_labels, predictions)\n",
    "            for metric in self.metrics\n",
    "        }"
   ],
   "metadata": {
    "collapsed": false,
    "pycharm": {
     "name": "#%%\n"
    }
   }
  },
  {
   "cell_type": "markdown",
   "source": [
    "---\n",
    "# Control set"
   ],
   "metadata": {
    "collapsed": false
   }
  },
  {
   "cell_type": "code",
   "execution_count": 16,
   "outputs": [],
   "source": [
    "@dataclass\n",
    "class ControlSetConfig:\n",
    "    path: str"
   ],
   "metadata": {
    "collapsed": false,
    "pycharm": {
     "name": "#%%\n"
    }
   }
  },
  {
   "cell_type": "code",
   "execution_count": 17,
   "outputs": [],
   "source": [
    "@dataclass\n",
    "class ControlConfig:\n",
    "    dataset: ControlSetConfig\n",
    "    metrics: List[MetricsConfig]\n",
    "    results_file: str\n",
    "\n",
    "    def __post_init__(self):\n",
    "        self.dataset = ControlSetConfig(**self.dataset)\n",
    "        self.metrics = [MetricsConfig(**m) for m in self.metrics]\n",
    "\n",
    "    def load_dataset(self) -> pd.DataFrame:\n",
    "        return pd.read_csv(self.dataset.path, header=None, names=['id', 'text', 'label'])\n",
    "\n",
    "    # TODO: rename ???\n",
    "    def control_set_select(self) -> dict:\n",
    "        predictions = load_predictions(self.results_file)\n",
    "        predictions, true_labels = predictions[0], predictions[1]\n",
    "        predictions = predictions[0].argmax(1)\n",
    "\n",
    "        return {\n",
    "            metric.name:\n",
    "                METRIC_FUNCTIONS[metric.name](true_labels, predictions)\n",
    "            for metric in self.metrics\n",
    "        }"
   ],
   "metadata": {
    "collapsed": false,
    "pycharm": {
     "name": "#%%\n"
    }
   }
  },
  {
   "cell_type": "markdown",
   "metadata": {
    "pycharm": {
     "name": "#%% md\n"
    }
   },
   "source": [
    "---\n",
    "# Configuration"
   ]
  },
  {
   "cell_type": "code",
   "execution_count": 18,
   "outputs": [],
   "source": [
    "with open('./config.yaml', 'r') as stream:\n",
    "    configuration = yaml.safe_load(stream)"
   ],
   "metadata": {
    "collapsed": false,
    "pycharm": {
     "name": "#%%\n"
    }
   }
  },
  {
   "cell_type": "code",
   "execution_count": 19,
   "metadata": {},
   "outputs": [
    {
     "data": {
      "text/plain": "ModelConfig(model_name='bert-base-cased', num_labels=12, max_length=256, truncation=True, padding='max_length', return_tensors='pt', output_attentions=True, output_hidden_states=True)"
     },
     "execution_count": 19,
     "metadata": {},
     "output_type": "execute_result"
    }
   ],
   "source": [
    "model_config = ModelConfig(**configuration['model'])\n",
    "model_config"
   ]
  },
  {
   "cell_type": "code",
   "execution_count": 20,
   "outputs": [
    {
     "data": {
      "text/plain": "TrainingConfig(dataset=TrainSetConfig(path='./data/thedeep.subset.train.txt', transformations=[TransformationConfig(name='DUMMY', args={})]), batch_size=2, epochs=1, learning_rate=0.001, output_dir='ClassificationBERT')"
     },
     "execution_count": 20,
     "metadata": {},
     "output_type": "execute_result"
    }
   ],
   "source": [
    "training_config = TrainingConfig(**configuration['training'])\n",
    "training_config"
   ],
   "metadata": {
    "collapsed": false,
    "pycharm": {
     "name": "#%%\n"
    }
   }
  },
  {
   "cell_type": "code",
   "execution_count": 21,
   "outputs": [
    {
     "data": {
      "text/plain": "ValidationConfig(dataset=ValidationSetConfig(path='./data/thedeep.subset.validation.txt'), batch_size=2, metrics=[MetricsConfig(name='accuracy')], metric_for_best_model='accuracy')"
     },
     "execution_count": 21,
     "metadata": {},
     "output_type": "execute_result"
    }
   ],
   "source": [
    "validation_config = ValidationConfig(**configuration['validation'])\n",
    "validation_config"
   ],
   "metadata": {
    "collapsed": false,
    "pycharm": {
     "name": "#%%\n"
    }
   }
  },
  {
   "cell_type": "code",
   "execution_count": 22,
   "outputs": [
    {
     "data": {
      "text/plain": "TestingConfig(dataset=TestSetConfig(path='./data/thedeep.subset.test.txt'), metrics=[MetricsConfig(name='accuracy')], results_file='./file_test_results.pickle')"
     },
     "execution_count": 22,
     "metadata": {},
     "output_type": "execute_result"
    }
   ],
   "source": [
    "test_config = TestingConfig(**configuration['testing'])\n",
    "test_config"
   ],
   "metadata": {
    "collapsed": false,
    "pycharm": {
     "name": "#%%\n"
    }
   }
  },
  {
   "cell_type": "code",
   "execution_count": 23,
   "outputs": [
    {
     "data": {
      "text/plain": "ControlConfig(dataset=ControlSetConfig(path='./data/thedeep.subset.control.txt'), metrics=[MetricsConfig(name='accuracy')], results_file='./file_control_results.pickle')"
     },
     "execution_count": 23,
     "metadata": {},
     "output_type": "execute_result"
    }
   ],
   "source": [
    "control_config = ControlConfig(**configuration['control'])\n",
    "control_config"
   ],
   "metadata": {
    "collapsed": false,
    "pycharm": {
     "name": "#%%\n"
    }
   }
  },
  {
   "cell_type": "markdown",
   "metadata": {
    "pycharm": {
     "name": "#%% md\n"
    }
   },
   "source": [
    "---\n",
    "# Notebook flow"
   ]
  },
  {
   "cell_type": "code",
   "execution_count": 24,
   "metadata": {
    "pycharm": {
     "name": "#%%\n"
    }
   },
   "outputs": [
    {
     "name": "stderr",
     "output_type": "stream",
     "text": [
      "Some weights of the model checkpoint at bert-base-cased were not used when initializing BertForSequenceClassification: ['cls.seq_relationship.bias', 'cls.predictions.transform.dense.bias', 'cls.seq_relationship.weight', 'cls.predictions.transform.LayerNorm.bias', 'cls.predictions.transform.dense.weight', 'cls.predictions.bias', 'cls.predictions.decoder.weight', 'cls.predictions.transform.LayerNorm.weight']\n",
      "- This IS expected if you are initializing BertForSequenceClassification from the checkpoint of a model trained on another task or with another architecture (e.g. initializing a BertForSequenceClassification model from a BertForPreTraining model).\n",
      "- This IS NOT expected if you are initializing BertForSequenceClassification from the checkpoint of a model that you expect to be exactly identical (initializing a BertForSequenceClassification model from a BertForSequenceClassification model).\n",
      "Some weights of BertForSequenceClassification were not initialized from the model checkpoint at bert-base-cased and are newly initialized: ['classifier.weight', 'classifier.bias']\n",
      "You should probably TRAIN this model on a down-stream task to be able to use it for predictions and inference.\n"
     ]
    }
   ],
   "source": [
    "tokenizer = model_config.create_tokenizer()\n",
    "model = model_config.create_model()"
   ]
  },
  {
   "cell_type": "code",
   "execution_count": 25,
   "metadata": {
    "pycharm": {
     "name": "#%%\n"
    }
   },
   "outputs": [],
   "source": [
    "data = {\n",
    "    'train': training_config.load_dataset()[:100],\n",
    "    'validation': validation_config.load_dataset()[:10],\n",
    "    'test': test_config.load_dataset()[:10],\n",
    "    'control': control_config.load_dataset()[:10],\n",
    "}"
   ]
  },
  {
   "cell_type": "code",
   "execution_count": 26,
   "metadata": {
    "ExecuteTime": {
     "end_time": "2023-04-19T18:46:08.200413Z",
     "start_time": "2023-04-19T18:45:42.675059Z"
    },
    "id": "iD5AxkR6Z0Qk"
   },
   "outputs": [],
   "source": [
    "tokens = {\n",
    "    dataset_type: tokenizer(dataset['text'].tolist())\n",
    "    for dataset_type, dataset in data.items()\n",
    "}\n",
    "\n",
    "labels = {\n",
    "    dataset_type: torch.tensor(dataset['label'].tolist())\n",
    "    for dataset_type, dataset in data.items()\n",
    "}"
   ]
  },
  {
   "cell_type": "code",
   "execution_count": 27,
   "metadata": {
    "ExecuteTime": {
     "end_time": "2023-04-19T18:46:08.214691Z",
     "start_time": "2023-04-19T18:46:08.204946Z"
    },
    "id": "CK-5-XYEZ0Qn"
   },
   "outputs": [],
   "source": [
    "class TextDataset(Dataset):\n",
    "    def __init__(self, tokens, labels: torch.Tensor):\n",
    "        self.input_ids = tokens.input_ids\n",
    "        self.attention_mask = tokens.attention_mask\n",
    "        self.token_type_ids = tokens.token_type_ids\n",
    "        self.y = labels\n",
    "\n",
    "    def __len__(self):\n",
    "        return len(self.y)\n",
    "\n",
    "    def __getitem__(self, i):\n",
    "        return {\n",
    "            'input_ids': self.input_ids[i],\n",
    "            'attention_mask': self.attention_mask[i],\n",
    "            'token_type_ids': self.token_type_ids[i],\n",
    "            'labels': self.y[i]\n",
    "        }"
   ]
  },
  {
   "cell_type": "code",
   "execution_count": 28,
   "metadata": {
    "ExecuteTime": {
     "end_time": "2023-04-19T18:46:08.262069Z",
     "start_time": "2023-04-19T18:46:08.217860Z"
    },
    "id": "KHoxwyr_Z0Qp"
   },
   "outputs": [],
   "source": [
    "datasets = {\n",
    "    dataset_type: TextDataset(tokens[dataset_type], labels[dataset_type])\n",
    "    for dataset_type in data.keys()\n",
    "}"
   ]
  },
  {
   "cell_type": "code",
   "execution_count": 29,
   "metadata": {
    "ExecuteTime": {
     "end_time": "2023-04-19T18:46:08.310346Z",
     "start_time": "2023-04-19T18:46:08.295318Z"
    },
    "id": "yBvqyfNSZ0Qu"
   },
   "outputs": [
    {
     "name": "stderr",
     "output_type": "stream",
     "text": [
      "Failure while loading azureml_run_type_providers. Failed to load entrypoint automl = azureml.train.automl.run:AutoMLRun._from_run_dto with exception (azure-identity 1.12.0 (c:\\users\\solarsan\\appdata\\roaming\\python\\python39\\site-packages), Requirement.parse('azure-identity==1.7.0'), {'azureml-dataprep'}).\n",
      "Using the `WANDB_DISABLED` environment variable is deprecated and will be removed in v5. Use the --report_to flag to control the integrations used for logging result (for instance --report_to none).\n"
     ]
    }
   ],
   "source": [
    "training_args = TrainingArguments(\n",
    "    output_dir=training_config.output_dir,\n",
    "    learning_rate=training_config.learning_rate,\n",
    "    evaluation_strategy=IntervalStrategy.EPOCH,\n",
    "    save_strategy=IntervalStrategy.EPOCH,\n",
    "    logging_strategy=IntervalStrategy.EPOCH,\n",
    "    per_device_train_batch_size=training_config.batch_size,\n",
    "    per_device_eval_batch_size=validation_config.batch_size,\n",
    "    load_best_model_at_end=True,\n",
    "    metric_for_best_model=validation_config.metric_for_best_model,\n",
    "    num_train_epochs=training_config.epochs,\n",
    ")"
   ]
  },
  {
   "cell_type": "code",
   "execution_count": 30,
   "metadata": {
    "ExecuteTime": {
     "end_time": "2023-04-19T18:46:10.657969Z",
     "start_time": "2023-04-19T18:46:08.325499Z"
    },
    "id": "-fzFgT35Z0Qx"
   },
   "outputs": [],
   "source": [
    "trainer = Trainer(\n",
    "    model=model,\n",
    "    train_dataset=datasets['train'],\n",
    "    eval_dataset=datasets['validation'],\n",
    "    compute_metrics=validation_config.validation_set_select,\n",
    "    args=training_args\n",
    ")"
   ]
  },
  {
   "cell_type": "code",
   "execution_count": 31,
   "metadata": {
    "pycharm": {
     "name": "#%%\n"
    }
   },
   "outputs": [
    {
     "name": "stderr",
     "output_type": "stream",
     "text": [
      "C:\\Users\\solarsan\\AppData\\Roaming\\Python\\Python39\\site-packages\\transformers\\optimization.py:391: FutureWarning: This implementation of AdamW is deprecated and will be removed in a future version. Use the PyTorch implementation torch.optim.AdamW instead, or set `no_deprecation_warning=True` to disable this warning\n",
      "  warnings.warn(\n"
     ]
    },
    {
     "data": {
      "text/plain": "<IPython.core.display.HTML object>",
      "text/html": "\n    <div>\n      \n      <progress value='2' max='50' style='width:300px; height:20px; vertical-align: middle;'></progress>\n      [ 2/50 : < :, Epoch 0.02/1]\n    </div>\n    <table border=\"1\" class=\"dataframe\">\n  <thead>\n <tr style=\"text-align: left;\">\n      <th>Epoch</th>\n      <th>Training Loss</th>\n      <th>Validation Loss</th>\n    </tr>\n  </thead>\n  <tbody>\n  </tbody>\n</table><p>"
     },
     "metadata": {},
     "output_type": "display_data"
    },
    {
     "data": {
      "text/plain": "TrainOutput(global_step=50, training_loss=2.6041082763671874, metrics={'train_runtime': 18.4137, 'train_samples_per_second': 5.431, 'train_steps_per_second': 2.715, 'total_flos': 13156733952000.0, 'train_loss': 2.6041082763671874, 'epoch': 1.0})"
     },
     "execution_count": 31,
     "metadata": {},
     "output_type": "execute_result"
    }
   ],
   "source": [
    "trainer.train()"
   ]
  },
  {
   "cell_type": "code",
   "execution_count": 41,
   "metadata": {},
   "outputs": [
    {
     "data": {
      "text/plain": "<IPython.core.display.HTML object>",
      "text/html": "\n    <div>\n      \n      <progress value='1' max='5' style='width:300px; height:20px; vertical-align: middle;'></progress>\n      [1/5 : < :]\n    </div>\n    "
     },
     "metadata": {},
     "output_type": "display_data"
    },
    {
     "data": {
      "text/plain": "{'test_loss': 1.9329229593276978,\n 'test_accuracy': 0.5,\n 'test_runtime': 0.8011,\n 'test_samples_per_second': 12.483,\n 'test_steps_per_second': 6.241}"
     },
     "execution_count": 41,
     "metadata": {},
     "output_type": "execute_result"
    }
   ],
   "source": [
    "test_result = trainer.predict(datasets['test'])\n",
    "test_result.metrics"
   ]
  },
  {
   "cell_type": "code",
   "execution_count": 42,
   "metadata": {},
   "outputs": [],
   "source": [
    "save_predictions(test_result, configuration['testing']['results_file'])"
   ]
  },
  {
   "cell_type": "code",
   "execution_count": 43,
   "metadata": {},
   "outputs": [
    {
     "data": {
      "text/plain": "{'accuracy': 0.5}"
     },
     "execution_count": 43,
     "metadata": {},
     "output_type": "execute_result"
    }
   ],
   "source": [
    "test_config.test_set_select()"
   ]
  },
  {
   "cell_type": "code",
   "execution_count": 44,
   "metadata": {
    "ExecuteTime": {
     "end_time": "2023-04-19T19:12:03.464164Z",
     "start_time": "2023-04-19T19:12:03.090216Z"
    },
    "pycharm": {
     "name": "#%%\n"
    }
   },
   "outputs": [
    {
     "data": {
      "text/plain": "<IPython.core.display.HTML object>",
      "text/html": "\n    <div>\n      \n      <progress value='1' max='5' style='width:300px; height:20px; vertical-align: middle;'></progress>\n      [1/5 : < :]\n    </div>\n    "
     },
     "metadata": {},
     "output_type": "display_data"
    },
    {
     "data": {
      "text/plain": "{'test_loss': 2.724782705307007,\n 'test_accuracy': 0.0,\n 'test_runtime': 0.5437,\n 'test_samples_per_second': 18.393,\n 'test_steps_per_second': 9.196}"
     },
     "execution_count": 44,
     "metadata": {},
     "output_type": "execute_result"
    }
   ],
   "source": [
    "control_result = trainer.predict(datasets['control'])\n",
    "control_result.metrics"
   ]
  },
  {
   "cell_type": "code",
   "execution_count": 45,
   "metadata": {},
   "outputs": [],
   "source": [
    "save_predictions(control_result, configuration['control']['results_file'])"
   ]
  },
  {
   "cell_type": "code",
   "execution_count": 46,
   "metadata": {
    "pycharm": {
     "name": "#%%\n"
    }
   },
   "outputs": [
    {
     "data": {
      "text/plain": "{'accuracy': 0.0}"
     },
     "execution_count": 46,
     "metadata": {},
     "output_type": "execute_result"
    }
   ],
   "source": [
    "control_config.control_set_select()"
   ]
  }
 ],
 "metadata": {
  "colab": {
   "provenance": []
  },
  "kernelspec": {
   "display_name": "Python 3 (ipykernel)",
   "language": "python",
   "name": "python3"
  },
  "language_info": {
   "codemirror_mode": {
    "name": "ipython",
    "version": 3
   },
   "file_extension": ".py",
   "mimetype": "text/x-python",
   "name": "python",
   "nbconvert_exporter": "python",
   "pygments_lexer": "ipython3",
   "version": "3.9.13"
  }
 },
 "nbformat": 4,
 "nbformat_minor": 1
}
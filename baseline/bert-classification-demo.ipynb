{
 "cells": [
  {
   "cell_type": "code",
   "execution_count": 95,
   "metadata": {
    "ExecuteTime": {
     "end_time": "2023-04-19T18:45:40.790607Z",
     "start_time": "2023-04-19T18:45:37.552500Z"
    },
    "id": "bHhIkms-Z0QY"
   },
   "outputs": [
    {
     "data": {
      "text/plain": [
       "device(type='cpu')"
      ]
     },
     "execution_count": 95,
     "metadata": {},
     "output_type": "execute_result"
    }
   ],
   "source": [
    "import os\n",
    "import pandas as pd\n",
    "import torch\n",
    "import torch.nn as nn\n",
    "import pickle\n",
    "\n",
    "from abc import ABC, abstractmethod\n",
    "from dataclasses import dataclass\n",
    "from typing import List, Dict, Callable\n",
    "from sklearn.metrics import accuracy_score, f1_score, precision_score, recall_score\n",
    "\n",
    "from torch.utils.data import Dataset\n",
    "from transformers import BertTokenizer, BertModel, TrainingArguments, Trainer, IntervalStrategy, AutoModelForSequenceClassification, AutoTokenizer\n",
    "\n",
    "device = torch.device('cuda' if torch.cuda.is_available() else 'cpu')\n",
    "device"
   ]
  },
  {
   "cell_type": "code",
   "execution_count": 56,
   "metadata": {},
   "outputs": [],
   "source": [
    "from sklearn.metrics import accuracy_score"
   ]
  },
  {
   "cell_type": "markdown",
   "metadata": {
    "collapsed": false,
    "pycharm": {
     "name": "#%% md\n"
    }
   },
   "source": [
    "---\n",
    "# Train Set"
   ]
  },
  {
   "cell_type": "code",
   "execution_count": 8,
   "metadata": {
    "collapsed": false,
    "pycharm": {
     "name": "#%%\n"
    }
   },
   "outputs": [],
   "source": [
    "class Transformation(ABC):\n",
    "\n",
    "    def __init__(self, **kwargs):\n",
    "        pass\n",
    "\n",
    "    @abstractmethod\n",
    "    def transform(self, dataset: pd.DataFrame) -> pd.DataFrame:\n",
    "        pass\n",
    "\n",
    "\n",
    "@dataclass\n",
    "class TransformationConfig:\n",
    "    name: str\n",
    "    kwargs: Dict"
   ]
  },
  {
   "cell_type": "code",
   "execution_count": 9,
   "metadata": {
    "collapsed": false,
    "pycharm": {
     "name": "#%%\n"
    }
   },
   "outputs": [],
   "source": [
    "class DummyTransformation(Transformation):\n",
    "\n",
    "    def transform(self, dataset: pd.DataFrame) -> pd.DataFrame:\n",
    "        return dataset"
   ]
  },
  {
   "cell_type": "code",
   "execution_count": 10,
   "metadata": {
    "collapsed": false,
    "pycharm": {
     "name": "#%%\n"
    }
   },
   "outputs": [],
   "source": [
    "TRANSFORMATIONS = {\n",
    "    'DUMMY': DummyTransformation,\n",
    "}"
   ]
  },
  {
   "cell_type": "code",
   "execution_count": 11,
   "metadata": {
    "collapsed": false,
    "pycharm": {
     "name": "#%%\n"
    }
   },
   "outputs": [],
   "source": [
    "@dataclass\n",
    "class TrainSetConfig:\n",
    "    path: str\n",
    "    transformations: List[TransformationConfig]"
   ]
  },
  {
   "cell_type": "code",
   "execution_count": 12,
   "metadata": {
    "collapsed": false,
    "pycharm": {
     "name": "#%%\n"
    }
   },
   "outputs": [],
   "source": [
    "def train_set_select(config: TrainSetConfig) -> pd.DataFrame:\n",
    "    df = pd.read_csv(config.path, header=None, names=['id', 'text', 'label'])\n",
    "\n",
    "    for t in config.transformations:\n",
    "        transformation = TRANSFORMATIONS[t.name](*t.kwargs)\n",
    "        df = transformation.transform(df)\n",
    "\n",
    "    return df"
   ]
  },
  {
   "cell_type": "markdown",
   "metadata": {
    "collapsed": false,
    "pycharm": {
     "name": "#%% md\n"
    }
   },
   "source": [
    "---\n",
    "# Validation set"
   ]
  },
  {
   "cell_type": "code",
   "execution_count": null,
   "metadata": {
    "collapsed": false,
    "pycharm": {
     "name": "#%%\n"
    }
   },
   "outputs": [],
   "source": []
  },
  {
   "cell_type": "markdown",
   "metadata": {
    "collapsed": false,
    "pycharm": {
     "name": "#%% md\n"
    }
   },
   "source": [
    "---\n",
    "# Test set"
   ]
  },
  {
   "cell_type": "code",
   "execution_count": 71,
   "metadata": {},
   "outputs": [],
   "source": [
    "def save_predictions(object, predictions_filename):\n",
    "    file = open(predictions_filename, 'wb')\n",
    "    pickle.dump(object, file)\n",
    "    file.close()"
   ]
  },
  {
   "cell_type": "code",
   "execution_count": 70,
   "metadata": {},
   "outputs": [],
   "source": [
    "def load_predictions(predictions_filename):\n",
    "    file = open(predictions_filename, 'rb')\n",
    "    results_depickled =  pickle.load(file)\n",
    "    file.close()\n",
    "    return results_depickled"
   ]
  },
  {
   "cell_type": "code",
   "execution_count": 96,
   "metadata": {
    "collapsed": false,
    "pycharm": {
     "name": "#%%\n"
    }
   },
   "outputs": [],
   "source": [
    "@dataclass\n",
    "class MetricsConfig:\n",
    "    name: str\n",
    "    function: Callable\n",
    "\n",
    "@dataclass\n",
    "class TestSetConfig:\n",
    "    path_testset: str\n",
    "    path_predictions: str\n",
    "    metrics: List[MetricsConfig]"
   ]
  },
  {
   "cell_type": "code",
   "execution_count": 109,
   "metadata": {},
   "outputs": [],
   "source": [
    "def test_set_select(config: TestSetConfig) -> pd.DataFrame:\n",
    "    labels = pd.read_csv(config.path_testset, header=None, names=['id', 'text', 'label'])['label']\n",
    "    results = load_predictions(config.path_predictions)\n",
    "    predictions = torch.argmax(torch.tensor(results.predictions),1)\n",
    "\n",
    "    dict_metrics = {\n",
    "        metric.name: \n",
    "            metric.function(labels, predictions)\n",
    "        for metric in config.metrics\n",
    "    }\n",
    "\n",
    "    return dict_metrics"
   ]
  },
  {
   "attachments": {},
   "cell_type": "markdown",
   "metadata": {},
   "source": [
    "---\n",
    "# Control set"
   ]
  },
  {
   "cell_type": "code",
   "execution_count": 130,
   "metadata": {},
   "outputs": [],
   "source": [
    "@dataclass\n",
    "class ControlSetConfig:\n",
    "    path_controlset: str\n",
    "    path_predictions: str\n",
    "    metrics: List[MetricsConfig]"
   ]
  },
  {
   "cell_type": "code",
   "execution_count": 165,
   "metadata": {},
   "outputs": [],
   "source": [
    "def control_set_select(config: ControlSetConfig) -> pd.DataFrame:\n",
    "    print(config.path_controlset, config.path_predictions)\n",
    "    labels = pd.read_csv(config.path_controlset, header=None, names=['id', 'text', 'label'])['label']\n",
    "    results = load_predictions(config.path_predictions)\n",
    "    predictions = torch.argmax(torch.tensor(results.predictions),1)\n",
    "    print(len(labels), len(predictions)) \n",
    "    dict_metrics = {\n",
    "        metric.name: \n",
    "            metric.function(labels, predictions)\n",
    "        for metric in config.metrics\n",
    "    }\n",
    "\n",
    "    return dict_metrics"
   ]
  },
  {
   "cell_type": "markdown",
   "metadata": {
    "collapsed": false,
    "pycharm": {
     "name": "#%% md\n"
    }
   },
   "source": [
    "---\n",
    "# Model"
   ]
  },
  {
   "cell_type": "code",
   "execution_count": 15,
   "metadata": {
    "collapsed": false,
    "pycharm": {
     "name": "#%%\n"
    }
   },
   "outputs": [],
   "source": [
    "class ModelConfig:\n",
    "    def __init__(\n",
    "        self, model_name_or_path: str, num_labels: int, \n",
    "        max_length: int, truncation, padding, return_tensors: str,\n",
    "        output_attentions: bool = False, output_hidden_states: bool = False \n",
    "    ):\n",
    "        self.model_name_or_path = model_name_or_path\n",
    "        self.num_labels = num_labels\n",
    "        self.max_length = max_length\n",
    "        self.truncation = truncation\n",
    "        self.padding = padding\n",
    "        self.return_tensors = return_tensors\n",
    "        self.output_attentions = output_attentions\n",
    "        self.output_hidden_states = output_hidden_states"
   ]
  },
  {
   "cell_type": "code",
   "execution_count": 16,
   "metadata": {},
   "outputs": [],
   "source": [
    "class ModelLoader:\n",
    "    def __init__(self, config: ModelConfig):\n",
    "        self.config = config\n",
    "        self.tokenizer = AutoTokenizer.from_pretrained(self.config.model_name_or_path)\n",
    "        self.model = AutoModelForSequenceClassification.from_pretrained(\n",
    "            self.config.model_name_or_path,\n",
    "            num_labels=self.config.num_labels,\n",
    "            output_attentions=self.config.output_attentions,\n",
    "            output_hidden_states=self.config.output_hidden_states,\n",
    "        )\n",
    "\n",
    "    def get_model(self, device):\n",
    "        return self.model.to(device)\n",
    "\n",
    "    def get_tokenizer(self):\n",
    "        return self.tokenizer"
   ]
  },
  {
   "cell_type": "code",
   "execution_count": 17,
   "metadata": {},
   "outputs": [],
   "source": [
    "# TODO pipeline - e.g.\n",
    "# class MyTokenClassificationPipeline(TokenClassificationPipeline):\n",
    "#     def preprocess(self, sentence, offset_mapping=None):\n",
    "#         truncation = False\n",
    "#         padding = 'longest'\n",
    "#         model_inputs = self.tokenizer(\n",
    "#             sentence,\n",
    "#             return_tensors=self.framework,\n",
    "#             truncation=truncation,\n",
    "#             padding=padding,\n",
    "#             return_special_tokens_mask=True,\n",
    "#             return_offsets_mapping=self.tokenizer.is_fast,\n",
    "#         )\n",
    "#         if offset_mapping:\n",
    "#             model_inputs[\"offset_mapping\"] = offset_mapping\n",
    "    \n",
    "#         model_inputs[\"sentence\"] = sentence\n",
    "#         return model_inputs"
   ]
  },
  {
   "cell_type": "markdown",
   "metadata": {
    "collapsed": false,
    "pycharm": {
     "name": "#%% md\n"
    }
   },
   "source": [
    "---\n",
    "# Configuration"
   ]
  },
  {
   "cell_type": "code",
   "execution_count": 126,
   "metadata": {
    "collapsed": false,
    "pycharm": {
     "name": "#%%\n"
    }
   },
   "outputs": [],
   "source": [
    "# example configuration\n",
    "custom_configuration = {\n",
    "\n",
    "    'train_set': {\n",
    "        #'path': './data/thedeep.subset.train.txt',\n",
    "        'path': 'C:/data/thedeep.subset.train.txt',\n",
    "        'transformations': [\n",
    "            {\n",
    "                'name': 'DUMMY',\n",
    "                'args': {}\n",
    "            }\n",
    "        ]\n",
    "    },\n",
    "\n",
    "    'validation_set': {\n",
    "        #'path': './data/thedeep.subset.validation.txt',\n",
    "        'path': 'C:/data/thedeep.subset.validation.txt',\n",
    "\n",
    "        \n",
    "    },\n",
    "\n",
    "    'test_set': {\n",
    "        #'path': './data/thedeep.subset.test.txt',\n",
    "        'path': 'C:/data/thedeep.subset.test.txt',\n",
    "\n",
    "    },\n",
    "\n",
    "    'control_set': {\n",
    "        #'path': './data/thedeep.subset.control.txt',\n",
    "        'path': 'C:/data/thedeep.subset.control.txt'\n",
    "\n",
    "    },\n",
    "\n",
    "    'labels': {\n",
    "        #'path': './data/thedeep.labels.txt'\n",
    "        'path': 'C:/data/thedeep.labels.txt'\n",
    "    },\n",
    "\n",
    "    'training': {\n",
    "        'batch_size': 16,\n",
    "        'epochs': 1,\n",
    "        'learning_rate': 1e-3,\n",
    "        'output_dir': 'ClassificationBERT',\n",
    "        'metric_for_best_model': 'accuracy',\n",
    "        'path_for_trained_model': 'model.pkl' # not too sure\n",
    "    },\n",
    "    \n",
    "    'model':{\n",
    "        'model_name_or_path':'bert-base-cased',\n",
    "        'num_labels':2,\n",
    "        'max_length':512,\n",
    "        'truncation':True,\n",
    "        'padding': 'max_length',\n",
    "        'return_tensors':'pt',\n",
    "        'output_attentions':True,\n",
    "        'output_hidden_states':True,        \n",
    "    },\n",
    "\n",
    "    'testing': {\n",
    "        'results_file' : 'file_test_results',\n",
    "        'metrics': [\n",
    "            {\n",
    "                'name': 'accuracy',\n",
    "                'function': accuracy_score\n",
    "            }]\n",
    "        \n",
    "    },\n",
    "\n",
    "    'control': {\n",
    "        'results_file' : 'file_control_results',\n",
    "        'metrics': [\n",
    "            {\n",
    "                'name': 'accuracy',\n",
    "                'function': accuracy_score\n",
    "            }]\n",
    "    }\n",
    "}"
   ]
  },
  {
   "cell_type": "code",
   "execution_count": 19,
   "metadata": {},
   "outputs": [
    {
     "name": "stderr",
     "output_type": "stream",
     "text": [
      "Some weights of the model checkpoint at bert-base-cased were not used when initializing BertForSequenceClassification: ['cls.seq_relationship.bias', 'cls.predictions.decoder.weight', 'cls.predictions.transform.LayerNorm.bias', 'cls.predictions.transform.dense.weight', 'cls.seq_relationship.weight', 'cls.predictions.transform.LayerNorm.weight', 'cls.predictions.transform.dense.bias', 'cls.predictions.bias']\n",
      "- This IS expected if you are initializing BertForSequenceClassification from the checkpoint of a model trained on another task or with another architecture (e.g. initializing a BertForSequenceClassification model from a BertForPreTraining model).\n",
      "- This IS NOT expected if you are initializing BertForSequenceClassification from the checkpoint of a model that you expect to be exactly identical (initializing a BertForSequenceClassification model from a BertForSequenceClassification model).\n",
      "Some weights of BertForSequenceClassification were not initialized from the model checkpoint at bert-base-cased and are newly initialized: ['classifier.weight', 'classifier.bias']\n",
      "You should probably TRAIN this model on a down-stream task to be able to use it for predictions and inference.\n"
     ]
    },
    {
     "data": {
      "text/plain": [
       "(BertForSequenceClassification(\n",
       "   (bert): BertModel(\n",
       "     (embeddings): BertEmbeddings(\n",
       "       (word_embeddings): Embedding(28996, 768, padding_idx=0)\n",
       "       (position_embeddings): Embedding(512, 768)\n",
       "       (token_type_embeddings): Embedding(2, 768)\n",
       "       (LayerNorm): LayerNorm((768,), eps=1e-12, elementwise_affine=True)\n",
       "       (dropout): Dropout(p=0.1, inplace=False)\n",
       "     )\n",
       "     (encoder): BertEncoder(\n",
       "       (layer): ModuleList(\n",
       "         (0-11): 12 x BertLayer(\n",
       "           (attention): BertAttention(\n",
       "             (self): BertSelfAttention(\n",
       "               (query): Linear(in_features=768, out_features=768, bias=True)\n",
       "               (key): Linear(in_features=768, out_features=768, bias=True)\n",
       "               (value): Linear(in_features=768, out_features=768, bias=True)\n",
       "               (dropout): Dropout(p=0.1, inplace=False)\n",
       "             )\n",
       "             (output): BertSelfOutput(\n",
       "               (dense): Linear(in_features=768, out_features=768, bias=True)\n",
       "               (LayerNorm): LayerNorm((768,), eps=1e-12, elementwise_affine=True)\n",
       "               (dropout): Dropout(p=0.1, inplace=False)\n",
       "             )\n",
       "           )\n",
       "           (intermediate): BertIntermediate(\n",
       "             (dense): Linear(in_features=768, out_features=3072, bias=True)\n",
       "             (intermediate_act_fn): GELUActivation()\n",
       "           )\n",
       "           (output): BertOutput(\n",
       "             (dense): Linear(in_features=3072, out_features=768, bias=True)\n",
       "             (LayerNorm): LayerNorm((768,), eps=1e-12, elementwise_affine=True)\n",
       "             (dropout): Dropout(p=0.1, inplace=False)\n",
       "           )\n",
       "         )\n",
       "       )\n",
       "     )\n",
       "     (pooler): BertPooler(\n",
       "       (dense): Linear(in_features=768, out_features=768, bias=True)\n",
       "       (activation): Tanh()\n",
       "     )\n",
       "   )\n",
       "   (dropout): Dropout(p=0.1, inplace=False)\n",
       "   (classifier): Linear(in_features=768, out_features=2, bias=True)\n",
       " ),\n",
       " PreTrainedTokenizerFast(name_or_path='bert-base-cased', vocab_size=28996, model_max_len=512, is_fast=True, padding_side='right', truncation_side='right', special_tokens={'unk_token': '[UNK]', 'sep_token': '[SEP]', 'pad_token': '[PAD]', 'cls_token': '[CLS]', 'mask_token': '[MASK]'}))"
      ]
     },
     "execution_count": 19,
     "metadata": {},
     "output_type": "execute_result"
    }
   ],
   "source": [
    "model_config = ModelConfig(**custom_configuration['model'])\n",
    "\n",
    "model_loader = ModelLoader(model_config)\n",
    "\n",
    "tokenizer = model_loader.get_tokenizer()\n",
    "model = model_loader.get_model(device)\n",
    "model, tokenizer"
   ]
  },
  {
   "cell_type": "code",
   "execution_count": 62,
   "metadata": {},
   "outputs": [],
   "source": [
    "train_set_config = TrainSetConfig(\n",
    "    custom_configuration['train_set']['path'],\n",
    "    [TransformationConfig(t['name'], t['args']) for t in custom_configuration['train_set']['transformations']])\n"
   ]
  },
  {
   "cell_type": "code",
   "execution_count": 103,
   "metadata": {},
   "outputs": [],
   "source": [
    "test_set_config = TestSetConfig(\n",
    "    custom_configuration['test_set']['path'],\n",
    "    custom_configuration['testing']['results_file'],\n",
    "    [MetricsConfig(metric['name'], metric['function']) for metric in custom_configuration['testing']['metrics']]\n",
    "    )\n"
   ]
  },
  {
   "cell_type": "code",
   "execution_count": 127,
   "metadata": {},
   "outputs": [],
   "source": [
    "control_set_config = ControlSetConfig(\n",
    "    custom_configuration['control_set']['path'],\n",
    "    custom_configuration['control']['results_file'],\n",
    "    [MetricsConfig(metric['name'], metric['function']) for metric in custom_configuration['control']['metrics']]\n",
    "    )\n"
   ]
  },
  {
   "cell_type": "markdown",
   "metadata": {
    "collapsed": false,
    "pycharm": {
     "name": "#%% md\n"
    }
   },
   "source": [
    "---\n",
    "# Notebook flow"
   ]
  },
  {
   "cell_type": "code",
   "execution_count": 20,
   "metadata": {
    "collapsed": false,
    "pycharm": {
     "name": "#%%\n"
    }
   },
   "outputs": [
    {
     "data": {
      "text/html": [
       "<div>\n",
       "<style scoped>\n",
       "    .dataframe tbody tr th:only-of-type {\n",
       "        vertical-align: middle;\n",
       "    }\n",
       "\n",
       "    .dataframe tbody tr th {\n",
       "        vertical-align: top;\n",
       "    }\n",
       "\n",
       "    .dataframe thead th {\n",
       "        text-align: right;\n",
       "    }\n",
       "</style>\n",
       "<table border=\"1\" class=\"dataframe\">\n",
       "  <thead>\n",
       "    <tr style=\"text-align: right;\">\n",
       "      <th></th>\n",
       "      <th>id</th>\n",
       "      <th>text</th>\n",
       "      <th>label</th>\n",
       "    </tr>\n",
       "  </thead>\n",
       "  <tbody>\n",
       "    <tr>\n",
       "      <th>0</th>\n",
       "      <td>5446</td>\n",
       "      <td>In addition to the immediate life-saving inter...</td>\n",
       "      <td>9</td>\n",
       "    </tr>\n",
       "    <tr>\n",
       "      <th>1</th>\n",
       "      <td>8812</td>\n",
       "      <td>There are approximately 2.6 million people cla...</td>\n",
       "      <td>3</td>\n",
       "    </tr>\n",
       "    <tr>\n",
       "      <th>2</th>\n",
       "      <td>16709</td>\n",
       "      <td>While aid imports have held up recently, comme...</td>\n",
       "      <td>5</td>\n",
       "    </tr>\n",
       "    <tr>\n",
       "      <th>3</th>\n",
       "      <td>3526</td>\n",
       "      <td>Heavy rainfalls as well as onrush of water fro...</td>\n",
       "      <td>0</td>\n",
       "    </tr>\n",
       "    <tr>\n",
       "      <th>4</th>\n",
       "      <td>4928</td>\n",
       "      <td>Based on field reports 9 , the main production...</td>\n",
       "      <td>3</td>\n",
       "    </tr>\n",
       "    <tr>\n",
       "      <th>...</th>\n",
       "      <td>...</td>\n",
       "      <td>...</td>\n",
       "      <td>...</td>\n",
       "    </tr>\n",
       "    <tr>\n",
       "      <th>155</th>\n",
       "      <td>12496</td>\n",
       "      <td>The local government at barangay level is face...</td>\n",
       "      <td>9</td>\n",
       "    </tr>\n",
       "    <tr>\n",
       "      <th>156</th>\n",
       "      <td>14246</td>\n",
       "      <td>Recent satellite images of one neighbourhood i...</td>\n",
       "      <td>10</td>\n",
       "    </tr>\n",
       "    <tr>\n",
       "      <th>157</th>\n",
       "      <td>10959</td>\n",
       "      <td>The United Nations refugee agency (UNHCR) warn...</td>\n",
       "      <td>9</td>\n",
       "    </tr>\n",
       "    <tr>\n",
       "      <th>158</th>\n",
       "      <td>1328</td>\n",
       "      <td>Seven people were injured in fire that broke o...</td>\n",
       "      <td>10</td>\n",
       "    </tr>\n",
       "    <tr>\n",
       "      <th>159</th>\n",
       "      <td>9285</td>\n",
       "      <td>The apparent extrajudicial executions by Phili...</td>\n",
       "      <td>9</td>\n",
       "    </tr>\n",
       "  </tbody>\n",
       "</table>\n",
       "<p>160 rows × 3 columns</p>\n",
       "</div>"
      ],
      "text/plain": [
       "        id                                               text  label\n",
       "0     5446  In addition to the immediate life-saving inter...      9\n",
       "1     8812  There are approximately 2.6 million people cla...      3\n",
       "2    16709  While aid imports have held up recently, comme...      5\n",
       "3     3526  Heavy rainfalls as well as onrush of water fro...      0\n",
       "4     4928  Based on field reports 9 , the main production...      3\n",
       "..     ...                                                ...    ...\n",
       "155  12496  The local government at barangay level is face...      9\n",
       "156  14246  Recent satellite images of one neighbourhood i...     10\n",
       "157  10959  The United Nations refugee agency (UNHCR) warn...      9\n",
       "158   1328  Seven people were injured in fire that broke o...     10\n",
       "159   9285  The apparent extrajudicial executions by Phili...      9\n",
       "\n",
       "[160 rows x 3 columns]"
      ]
     },
     "execution_count": 20,
     "metadata": {},
     "output_type": "execute_result"
    }
   ],
   "source": [
    "train_set = train_set_select(train_set_config)\n",
    "train_set"
   ]
  },
  {
   "cell_type": "code",
   "execution_count": 21,
   "metadata": {
    "collapsed": false,
    "pycharm": {
     "name": "#%%\n"
    }
   },
   "outputs": [
    {
     "data": {
      "text/html": [
       "<div>\n",
       "<style scoped>\n",
       "    .dataframe tbody tr th:only-of-type {\n",
       "        vertical-align: middle;\n",
       "    }\n",
       "\n",
       "    .dataframe tbody tr th {\n",
       "        vertical-align: top;\n",
       "    }\n",
       "\n",
       "    .dataframe thead th {\n",
       "        text-align: right;\n",
       "    }\n",
       "</style>\n",
       "<table border=\"1\" class=\"dataframe\">\n",
       "  <thead>\n",
       "    <tr style=\"text-align: right;\">\n",
       "      <th></th>\n",
       "      <th>id</th>\n",
       "      <th>text</th>\n",
       "      <th>label</th>\n",
       "    </tr>\n",
       "  </thead>\n",
       "  <tbody>\n",
       "    <tr>\n",
       "      <th>0</th>\n",
       "      <td>633</td>\n",
       "      <td>The veterans threw up roadblocks on the main n...</td>\n",
       "      <td>9</td>\n",
       "    </tr>\n",
       "    <tr>\n",
       "      <th>1</th>\n",
       "      <td>6001</td>\n",
       "      <td>Water department complains about lack of skill...</td>\n",
       "      <td>11</td>\n",
       "    </tr>\n",
       "    <tr>\n",
       "      <th>2</th>\n",
       "      <td>14014</td>\n",
       "      <td>On 13 February 2018, the Ministry of Health of...</td>\n",
       "      <td>4</td>\n",
       "    </tr>\n",
       "    <tr>\n",
       "      <th>3</th>\n",
       "      <td>12225</td>\n",
       "      <td>In Kakuma and Kalobeyei, both host and refugee...</td>\n",
       "      <td>7</td>\n",
       "    </tr>\n",
       "    <tr>\n",
       "      <th>4</th>\n",
       "      <td>10181</td>\n",
       "      <td>'Raqqa is now empty of civilians who had been ...</td>\n",
       "      <td>9</td>\n",
       "    </tr>\n",
       "    <tr>\n",
       "      <th>5</th>\n",
       "      <td>3306</td>\n",
       "      <td>1588 cases of malnutrition in first 9 weeks of...</td>\n",
       "      <td>8</td>\n",
       "    </tr>\n",
       "    <tr>\n",
       "      <th>6</th>\n",
       "      <td>6146</td>\n",
       "      <td>“Locusts killed about 60% of the agricultural ...</td>\n",
       "      <td>0</td>\n",
       "    </tr>\n",
       "    <tr>\n",
       "      <th>7</th>\n",
       "      <td>2919</td>\n",
       "      <td>In its grounds to justify the adoption of this...</td>\n",
       "      <td>9</td>\n",
       "    </tr>\n",
       "    <tr>\n",
       "      <th>8</th>\n",
       "      <td>112</td>\n",
       "      <td>“The people are now forced to fetch foul water...</td>\n",
       "      <td>11</td>\n",
       "    </tr>\n",
       "    <tr>\n",
       "      <th>9</th>\n",
       "      <td>11264</td>\n",
       "      <td>An Iranian official said more than 70,000 peop...</td>\n",
       "      <td>10</td>\n",
       "    </tr>\n",
       "    <tr>\n",
       "      <th>10</th>\n",
       "      <td>3239</td>\n",
       "      <td>The National Security and Defense Council of U...</td>\n",
       "      <td>6</td>\n",
       "    </tr>\n",
       "    <tr>\n",
       "      <th>11</th>\n",
       "      <td>2555</td>\n",
       "      <td>Groundwater levels are not fully replenished a...</td>\n",
       "      <td>5</td>\n",
       "    </tr>\n",
       "    <tr>\n",
       "      <th>12</th>\n",
       "      <td>12423</td>\n",
       "      <td>Palestinian violationsLast November, a total o...</td>\n",
       "      <td>9</td>\n",
       "    </tr>\n",
       "    <tr>\n",
       "      <th>13</th>\n",
       "      <td>1971</td>\n",
       "      <td>More than 300 people have died of hunger in Ay...</td>\n",
       "      <td>3</td>\n",
       "    </tr>\n",
       "    <tr>\n",
       "      <th>14</th>\n",
       "      <td>209</td>\n",
       "      <td>Government security forces in Ethiopia, as wel...</td>\n",
       "      <td>9</td>\n",
       "    </tr>\n",
       "    <tr>\n",
       "      <th>15</th>\n",
       "      <td>9598</td>\n",
       "      <td>In Aleppo, lack of property ownership document...</td>\n",
       "      <td>10</td>\n",
       "    </tr>\n",
       "    <tr>\n",
       "      <th>16</th>\n",
       "      <td>4447</td>\n",
       "      <td>Cholera cases (19.04.2017) - Tete province: 10...</td>\n",
       "      <td>4</td>\n",
       "    </tr>\n",
       "    <tr>\n",
       "      <th>17</th>\n",
       "      <td>2703</td>\n",
       "      <td>On 31 March, a 5.1 magnitude earthquake struck...</td>\n",
       "      <td>10</td>\n",
       "    </tr>\n",
       "    <tr>\n",
       "      <th>18</th>\n",
       "      <td>9869</td>\n",
       "      <td>Nearly 52,000 refugees from Mali struggle with...</td>\n",
       "      <td>4</td>\n",
       "    </tr>\n",
       "    <tr>\n",
       "      <th>19</th>\n",
       "      <td>9753</td>\n",
       "      <td>Since December 2016, there have been sporadic ...</td>\n",
       "      <td>9</td>\n",
       "    </tr>\n",
       "    <tr>\n",
       "      <th>20</th>\n",
       "      <td>10380</td>\n",
       "      <td>More than 1,000 people have tested positive fo...</td>\n",
       "      <td>4</td>\n",
       "    </tr>\n",
       "    <tr>\n",
       "      <th>21</th>\n",
       "      <td>13422</td>\n",
       "      <td>According to information released by the Unite...</td>\n",
       "      <td>3</td>\n",
       "    </tr>\n",
       "    <tr>\n",
       "      <th>22</th>\n",
       "      <td>9437</td>\n",
       "      <td>Refugees living in the camps in Rwanda entirel...</td>\n",
       "      <td>3</td>\n",
       "    </tr>\n",
       "    <tr>\n",
       "      <th>23</th>\n",
       "      <td>5372</td>\n",
       "      <td>Currently 15 out of 25 districts in Sri Lanka ...</td>\n",
       "      <td>10</td>\n",
       "    </tr>\n",
       "    <tr>\n",
       "      <th>24</th>\n",
       "      <td>6951</td>\n",
       "      <td>Increased susceptibility to waterborne disease...</td>\n",
       "      <td>4</td>\n",
       "    </tr>\n",
       "    <tr>\n",
       "      <th>25</th>\n",
       "      <td>11393</td>\n",
       "      <td>At least one building in Jacó had been evacuat...</td>\n",
       "      <td>4</td>\n",
       "    </tr>\n",
       "    <tr>\n",
       "      <th>26</th>\n",
       "      <td>10027</td>\n",
       "      <td>One (1) n case of cVDPV2 was reported this wee...</td>\n",
       "      <td>4</td>\n",
       "    </tr>\n",
       "    <tr>\n",
       "      <th>27</th>\n",
       "      <td>3713</td>\n",
       "      <td>Timely fulfilment of pledges by international...</td>\n",
       "      <td>1</td>\n",
       "    </tr>\n",
       "    <tr>\n",
       "      <th>28</th>\n",
       "      <td>6919</td>\n",
       "      <td>The spokesman reported that the epidemic has d...</td>\n",
       "      <td>4</td>\n",
       "    </tr>\n",
       "    <tr>\n",
       "      <th>29</th>\n",
       "      <td>5650</td>\n",
       "      <td>The first signs of the recent measles outbreak...</td>\n",
       "      <td>4</td>\n",
       "    </tr>\n",
       "    <tr>\n",
       "      <th>30</th>\n",
       "      <td>33</td>\n",
       "      <td>The scale is staggering. 2.75 million Syrians ...</td>\n",
       "      <td>9</td>\n",
       "    </tr>\n",
       "    <tr>\n",
       "      <th>31</th>\n",
       "      <td>11449</td>\n",
       "      <td>More than 356 women and girls are victims of h...</td>\n",
       "      <td>9</td>\n",
       "    </tr>\n",
       "    <tr>\n",
       "      <th>32</th>\n",
       "      <td>17086</td>\n",
       "      <td>Monkeypox: From weeks 1-16 of 2018 there have ...</td>\n",
       "      <td>4</td>\n",
       "    </tr>\n",
       "    <tr>\n",
       "      <th>33</th>\n",
       "      <td>11767</td>\n",
       "      <td>Many of the water sources built in the early p...</td>\n",
       "      <td>5</td>\n",
       "    </tr>\n",
       "    <tr>\n",
       "      <th>34</th>\n",
       "      <td>12497</td>\n",
       "      <td>At least 26 people were killed while several r...</td>\n",
       "      <td>9</td>\n",
       "    </tr>\n",
       "    <tr>\n",
       "      <th>35</th>\n",
       "      <td>1927</td>\n",
       "      <td>A low-pressure system following cyclone Dineo ...</td>\n",
       "      <td>6</td>\n",
       "    </tr>\n",
       "    <tr>\n",
       "      <th>36</th>\n",
       "      <td>8570</td>\n",
       "      <td>Access around the country remains severely lim...</td>\n",
       "      <td>6</td>\n",
       "    </tr>\n",
       "    <tr>\n",
       "      <th>37</th>\n",
       "      <td>4825</td>\n",
       "      <td>Wash needs in Bay and Bakool continue to outpa...</td>\n",
       "      <td>11</td>\n",
       "    </tr>\n",
       "    <tr>\n",
       "      <th>38</th>\n",
       "      <td>12177</td>\n",
       "      <td>Despite favorable agro-climatic conditions dur...</td>\n",
       "      <td>3</td>\n",
       "    </tr>\n",
       "    <tr>\n",
       "      <th>39</th>\n",
       "      <td>14198</td>\n",
       "      <td>“Of these, 26 died, giving a case fatality rat...</td>\n",
       "      <td>4</td>\n",
       "    </tr>\n",
       "    <tr>\n",
       "      <th>40</th>\n",
       "      <td>16377</td>\n",
       "      <td>Gaza hospitals have emptied inpatient wards to...</td>\n",
       "      <td>4</td>\n",
       "    </tr>\n",
       "    <tr>\n",
       "      <th>41</th>\n",
       "      <td>10204</td>\n",
       "      <td>Needs 1. Damage assessment for most schools in...</td>\n",
       "      <td>2</td>\n",
       "    </tr>\n",
       "    <tr>\n",
       "      <th>42</th>\n",
       "      <td>11684</td>\n",
       "      <td>Food Security Food Sources During ranking in f...</td>\n",
       "      <td>3</td>\n",
       "    </tr>\n",
       "    <tr>\n",
       "      <th>43</th>\n",
       "      <td>16394</td>\n",
       "      <td>Since 11 May, armed confrontations between mil...</td>\n",
       "      <td>1</td>\n",
       "    </tr>\n",
       "    <tr>\n",
       "      <th>44</th>\n",
       "      <td>6411</td>\n",
       "      <td>The whole population of Libya mainly get drink...</td>\n",
       "      <td>11</td>\n",
       "    </tr>\n",
       "    <tr>\n",
       "      <th>45</th>\n",
       "      <td>6979</td>\n",
       "      <td>Security Forces join dengue eradication progra...</td>\n",
       "      <td>4</td>\n",
       "    </tr>\n",
       "    <tr>\n",
       "      <th>46</th>\n",
       "      <td>4789</td>\n",
       "      <td>There are some significant skill differences b...</td>\n",
       "      <td>5</td>\n",
       "    </tr>\n",
       "    <tr>\n",
       "      <th>47</th>\n",
       "      <td>5095</td>\n",
       "      <td>West Kurdufan, South Kurdufan, East Darfur and...</td>\n",
       "      <td>11</td>\n",
       "    </tr>\n",
       "    <tr>\n",
       "      <th>48</th>\n",
       "      <td>15680</td>\n",
       "      <td>In the capital, Juba, prices of maize and sorg...</td>\n",
       "      <td>3</td>\n",
       "    </tr>\n",
       "    <tr>\n",
       "      <th>49</th>\n",
       "      <td>13573</td>\n",
       "      <td>Ongoing harvests of the 2017/18 main agricultu...</td>\n",
       "      <td>3</td>\n",
       "    </tr>\n",
       "  </tbody>\n",
       "</table>\n",
       "</div>"
      ],
      "text/plain": [
       "       id                                               text  label\n",
       "0     633  The veterans threw up roadblocks on the main n...      9\n",
       "1    6001  Water department complains about lack of skill...     11\n",
       "2   14014  On 13 February 2018, the Ministry of Health of...      4\n",
       "3   12225  In Kakuma and Kalobeyei, both host and refugee...      7\n",
       "4   10181  'Raqqa is now empty of civilians who had been ...      9\n",
       "5    3306  1588 cases of malnutrition in first 9 weeks of...      8\n",
       "6    6146  “Locusts killed about 60% of the agricultural ...      0\n",
       "7    2919  In its grounds to justify the adoption of this...      9\n",
       "8     112  “The people are now forced to fetch foul water...     11\n",
       "9   11264  An Iranian official said more than 70,000 peop...     10\n",
       "10   3239  The National Security and Defense Council of U...      6\n",
       "11   2555  Groundwater levels are not fully replenished a...      5\n",
       "12  12423  Palestinian violationsLast November, a total o...      9\n",
       "13   1971  More than 300 people have died of hunger in Ay...      3\n",
       "14    209  Government security forces in Ethiopia, as wel...      9\n",
       "15   9598  In Aleppo, lack of property ownership document...     10\n",
       "16   4447  Cholera cases (19.04.2017) - Tete province: 10...      4\n",
       "17   2703  On 31 March, a 5.1 magnitude earthquake struck...     10\n",
       "18   9869  Nearly 52,000 refugees from Mali struggle with...      4\n",
       "19   9753  Since December 2016, there have been sporadic ...      9\n",
       "20  10380  More than 1,000 people have tested positive fo...      4\n",
       "21  13422  According to information released by the Unite...      3\n",
       "22   9437  Refugees living in the camps in Rwanda entirel...      3\n",
       "23   5372  Currently 15 out of 25 districts in Sri Lanka ...     10\n",
       "24   6951  Increased susceptibility to waterborne disease...      4\n",
       "25  11393  At least one building in Jacó had been evacuat...      4\n",
       "26  10027  One (1) n case of cVDPV2 was reported this wee...      4\n",
       "27   3713   Timely fulfilment of pledges by international...      1\n",
       "28   6919  The spokesman reported that the epidemic has d...      4\n",
       "29   5650  The first signs of the recent measles outbreak...      4\n",
       "30     33  The scale is staggering. 2.75 million Syrians ...      9\n",
       "31  11449  More than 356 women and girls are victims of h...      9\n",
       "32  17086  Monkeypox: From weeks 1-16 of 2018 there have ...      4\n",
       "33  11767  Many of the water sources built in the early p...      5\n",
       "34  12497  At least 26 people were killed while several r...      9\n",
       "35   1927  A low-pressure system following cyclone Dineo ...      6\n",
       "36   8570  Access around the country remains severely lim...      6\n",
       "37   4825  Wash needs in Bay and Bakool continue to outpa...     11\n",
       "38  12177  Despite favorable agro-climatic conditions dur...      3\n",
       "39  14198  “Of these, 26 died, giving a case fatality rat...      4\n",
       "40  16377  Gaza hospitals have emptied inpatient wards to...      4\n",
       "41  10204  Needs 1. Damage assessment for most schools in...      2\n",
       "42  11684  Food Security Food Sources During ranking in f...      3\n",
       "43  16394  Since 11 May, armed confrontations between mil...      1\n",
       "44   6411  The whole population of Libya mainly get drink...     11\n",
       "45   6979  Security Forces join dengue eradication progra...      4\n",
       "46   4789  There are some significant skill differences b...      5\n",
       "47   5095  West Kurdufan, South Kurdufan, East Darfur and...     11\n",
       "48  15680  In the capital, Juba, prices of maize and sorg...      3\n",
       "49  13573  Ongoing harvests of the 2017/18 main agricultu...      3"
      ]
     },
     "execution_count": 21,
     "metadata": {},
     "output_type": "execute_result"
    }
   ],
   "source": [
    "# TODO\n",
    "validation_set = pd.read_csv(custom_configuration['validation_set']['path'], header=None, names=['id', 'text', 'label'])\n",
    "validation_set"
   ]
  },
  {
   "cell_type": "code",
   "execution_count": 170,
   "metadata": {
    "collapsed": false,
    "pycharm": {
     "name": "#%%\n"
    }
   },
   "outputs": [
    {
     "data": {
      "text/html": [
       "<div>\n",
       "<style scoped>\n",
       "    .dataframe tbody tr th:only-of-type {\n",
       "        vertical-align: middle;\n",
       "    }\n",
       "\n",
       "    .dataframe tbody tr th {\n",
       "        vertical-align: top;\n",
       "    }\n",
       "\n",
       "    .dataframe thead th {\n",
       "        text-align: right;\n",
       "    }\n",
       "</style>\n",
       "<table border=\"1\" class=\"dataframe\">\n",
       "  <thead>\n",
       "    <tr style=\"text-align: right;\">\n",
       "      <th></th>\n",
       "      <th>id</th>\n",
       "      <th>text</th>\n",
       "      <th>label</th>\n",
       "    </tr>\n",
       "  </thead>\n",
       "  <tbody>\n",
       "    <tr>\n",
       "      <th>0</th>\n",
       "      <td>7162</td>\n",
       "      <td>After the civil war, Lebanon’s healthcare syst...</td>\n",
       "      <td>4</td>\n",
       "    </tr>\n",
       "    <tr>\n",
       "      <th>1</th>\n",
       "      <td>10157</td>\n",
       "      <td>For many communities in Central River Region (...</td>\n",
       "      <td>3</td>\n",
       "    </tr>\n",
       "    <tr>\n",
       "      <th>2</th>\n",
       "      <td>4664</td>\n",
       "      <td>Violence in the southeastern part of the Centr...</td>\n",
       "      <td>4</td>\n",
       "    </tr>\n",
       "    <tr>\n",
       "      <th>3</th>\n",
       "      <td>11715</td>\n",
       "      <td>Of the 35 interviewees, 30 reported experienci...</td>\n",
       "      <td>9</td>\n",
       "    </tr>\n",
       "    <tr>\n",
       "      <th>4</th>\n",
       "      <td>15090</td>\n",
       "      <td>Several schools in Apuk South County of Gogria...</td>\n",
       "      <td>2</td>\n",
       "    </tr>\n",
       "    <tr>\n",
       "      <th>...</th>\n",
       "      <td>...</td>\n",
       "      <td>...</td>\n",
       "      <td>...</td>\n",
       "    </tr>\n",
       "    <tr>\n",
       "      <th>2580</th>\n",
       "      <td>1979</td>\n",
       "      <td>Tropical Storm Dineo caused widespread damage ...</td>\n",
       "      <td>10</td>\n",
       "    </tr>\n",
       "    <tr>\n",
       "      <th>2581</th>\n",
       "      <td>7549</td>\n",
       "      <td>Monsoon rains and increased water levels in ma...</td>\n",
       "      <td>10</td>\n",
       "    </tr>\n",
       "    <tr>\n",
       "      <th>2582</th>\n",
       "      <td>6064</td>\n",
       "      <td>I am extremely concerned about possible outbre...</td>\n",
       "      <td>11</td>\n",
       "    </tr>\n",
       "    <tr>\n",
       "      <th>2583</th>\n",
       "      <td>3582</td>\n",
       "      <td>Newly displaced persons from Al Mukha and Dhub...</td>\n",
       "      <td>11</td>\n",
       "    </tr>\n",
       "    <tr>\n",
       "      <th>2584</th>\n",
       "      <td>1049</td>\n",
       "      <td>State of emergency declared for areas affected...</td>\n",
       "      <td>10</td>\n",
       "    </tr>\n",
       "  </tbody>\n",
       "</table>\n",
       "<p>2585 rows × 3 columns</p>\n",
       "</div>"
      ],
      "text/plain": [
       "         id                                               text  label\n",
       "0      7162  After the civil war, Lebanon’s healthcare syst...      4\n",
       "1     10157  For many communities in Central River Region (...      3\n",
       "2      4664  Violence in the southeastern part of the Centr...      4\n",
       "3     11715  Of the 35 interviewees, 30 reported experienci...      9\n",
       "4     15090  Several schools in Apuk South County of Gogria...      2\n",
       "...     ...                                                ...    ...\n",
       "2580   1979  Tropical Storm Dineo caused widespread damage ...     10\n",
       "2581   7549  Monsoon rains and increased water levels in ma...     10\n",
       "2582   6064  I am extremely concerned about possible outbre...     11\n",
       "2583   3582  Newly displaced persons from Al Mukha and Dhub...     11\n",
       "2584   1049  State of emergency declared for areas affected...     10\n",
       "\n",
       "[2585 rows x 3 columns]"
      ]
     },
     "execution_count": 170,
     "metadata": {},
     "output_type": "execute_result"
    }
   ],
   "source": [
    "# TODO\n",
    "test_set = pd.read_csv(custom_configuration['test_set']['path'], header=None, names=['id', 'text', 'label'])\n",
    "test_set"
   ]
  },
  {
   "cell_type": "code",
   "execution_count": 155,
   "metadata": {
    "collapsed": false,
    "pycharm": {
     "name": "#%%\n"
    }
   },
   "outputs": [
    {
     "data": {
      "text/html": [
       "<div>\n",
       "<style scoped>\n",
       "    .dataframe tbody tr th:only-of-type {\n",
       "        vertical-align: middle;\n",
       "    }\n",
       "\n",
       "    .dataframe tbody tr th {\n",
       "        vertical-align: top;\n",
       "    }\n",
       "\n",
       "    .dataframe thead th {\n",
       "        text-align: right;\n",
       "    }\n",
       "</style>\n",
       "<table border=\"1\" class=\"dataframe\">\n",
       "  <thead>\n",
       "    <tr style=\"text-align: right;\">\n",
       "      <th></th>\n",
       "      <th>id</th>\n",
       "      <th>text</th>\n",
       "      <th>label</th>\n",
       "    </tr>\n",
       "  </thead>\n",
       "  <tbody>\n",
       "    <tr>\n",
       "      <th>0</th>\n",
       "      <td>5805</td>\n",
       "      <td>Overall 30% decrease in MAM Children admission...</td>\n",
       "      <td>8</td>\n",
       "    </tr>\n",
       "    <tr>\n",
       "      <th>1</th>\n",
       "      <td>17120</td>\n",
       "      <td>In 2014, fear of Ebola also led to attacks on ...</td>\n",
       "      <td>9</td>\n",
       "    </tr>\n",
       "    <tr>\n",
       "      <th>2</th>\n",
       "      <td>11901</td>\n",
       "      <td>Wheat is the staple food for most Afghans, com...</td>\n",
       "      <td>3</td>\n",
       "    </tr>\n",
       "    <tr>\n",
       "      <th>3</th>\n",
       "      <td>2589</td>\n",
       "      <td>We have received serious allegations that two ...</td>\n",
       "      <td>9</td>\n",
       "    </tr>\n",
       "    <tr>\n",
       "      <th>4</th>\n",
       "      <td>4188</td>\n",
       "      <td>Somali: 67 of 93 woredas hotspot . 410k MAM, 4...</td>\n",
       "      <td>8</td>\n",
       "    </tr>\n",
       "    <tr>\n",
       "      <th>5</th>\n",
       "      <td>8392</td>\n",
       "      <td>In order to prevent epidemics, the displaced p...</td>\n",
       "      <td>11</td>\n",
       "    </tr>\n",
       "    <tr>\n",
       "      <th>6</th>\n",
       "      <td>12693</td>\n",
       "      <td>Local cereal prices declined in most of the So...</td>\n",
       "      <td>3</td>\n",
       "    </tr>\n",
       "    <tr>\n",
       "      <th>7</th>\n",
       "      <td>2937</td>\n",
       "      <td>Results from the Swaziland Vulnerability Analy...</td>\n",
       "      <td>3</td>\n",
       "    </tr>\n",
       "    <tr>\n",
       "      <th>8</th>\n",
       "      <td>2318</td>\n",
       "      <td>Desert locust population declined due to inten...</td>\n",
       "      <td>0</td>\n",
       "    </tr>\n",
       "    <tr>\n",
       "      <th>9</th>\n",
       "      <td>12386</td>\n",
       "      <td>As a result of the influx, the open defecatio...</td>\n",
       "      <td>11</td>\n",
       "    </tr>\n",
       "  </tbody>\n",
       "</table>\n",
       "</div>"
      ],
      "text/plain": [
       "      id                                               text  label\n",
       "0   5805  Overall 30% decrease in MAM Children admission...      8\n",
       "1  17120  In 2014, fear of Ebola also led to attacks on ...      9\n",
       "2  11901  Wheat is the staple food for most Afghans, com...      3\n",
       "3   2589  We have received serious allegations that two ...      9\n",
       "4   4188  Somali: 67 of 93 woredas hotspot . 410k MAM, 4...      8\n",
       "5   8392  In order to prevent epidemics, the displaced p...     11\n",
       "6  12693  Local cereal prices declined in most of the So...      3\n",
       "7   2937  Results from the Swaziland Vulnerability Analy...      3\n",
       "8   2318  Desert locust population declined due to inten...      0\n",
       "9  12386   As a result of the influx, the open defecatio...     11"
      ]
     },
     "execution_count": 155,
     "metadata": {},
     "output_type": "execute_result"
    }
   ],
   "source": [
    "# TODO\n",
    "control_set = pd.read_csv(custom_configuration['control_set']['path'], header=None, names=['id', 'text', 'label'])\n",
    "control_set"
   ]
  },
  {
   "cell_type": "code",
   "execution_count": 156,
   "metadata": {
    "collapsed": false,
    "pycharm": {
     "name": "#%%\n"
    }
   },
   "outputs": [],
   "source": [
    "data = {\n",
    "    'train': train_set,\n",
    "    'validation': validation_set,\n",
    "    'test': test_set,\n",
    "    'control': control_set\n",
    "}"
   ]
  },
  {
   "cell_type": "code",
   "execution_count": 157,
   "metadata": {
    "collapsed": false,
    "pycharm": {
     "name": "#%%\n"
    }
   },
   "outputs": [],
   "source": [
    "# TODO\n",
    "label_names = pd.read_csv(custom_configuration['labels']['path'], header=None, names=['id', 'name'])"
   ]
  },
  {
   "cell_type": "code",
   "execution_count": 141,
   "metadata": {
    "collapsed": false,
    "pycharm": {
     "name": "#%%\n"
    }
   },
   "outputs": [
    {
     "name": "stderr",
     "output_type": "stream",
     "text": [
      "loading file vocab.txt from cache at C:\\Users\\Windows 10/.cache\\huggingface\\hub\\models--bert-base-uncased\\snapshots\\0a6aa9128b6194f4f3c4db429b6cb4891cdb421b\\vocab.txt\n",
      "loading file added_tokens.json from cache at None\n",
      "loading file special_tokens_map.json from cache at None\n",
      "loading file tokenizer_config.json from cache at C:\\Users\\Windows 10/.cache\\huggingface\\hub\\models--bert-base-uncased\\snapshots\\0a6aa9128b6194f4f3c4db429b6cb4891cdb421b\\tokenizer_config.json\n",
      "loading configuration file config.json from cache at C:\\Users\\Windows 10/.cache\\huggingface\\hub\\models--bert-base-uncased\\snapshots\\0a6aa9128b6194f4f3c4db429b6cb4891cdb421b\\config.json\n",
      "Model config BertConfig {\n",
      "  \"_name_or_path\": \"bert-base-uncased\",\n",
      "  \"architectures\": [\n",
      "    \"BertForMaskedLM\"\n",
      "  ],\n",
      "  \"attention_probs_dropout_prob\": 0.1,\n",
      "  \"classifier_dropout\": null,\n",
      "  \"gradient_checkpointing\": false,\n",
      "  \"hidden_act\": \"gelu\",\n",
      "  \"hidden_dropout_prob\": 0.1,\n",
      "  \"hidden_size\": 768,\n",
      "  \"initializer_range\": 0.02,\n",
      "  \"intermediate_size\": 3072,\n",
      "  \"layer_norm_eps\": 1e-12,\n",
      "  \"max_position_embeddings\": 512,\n",
      "  \"model_type\": \"bert\",\n",
      "  \"num_attention_heads\": 12,\n",
      "  \"num_hidden_layers\": 12,\n",
      "  \"pad_token_id\": 0,\n",
      "  \"position_embedding_type\": \"absolute\",\n",
      "  \"transformers_version\": \"4.22.0\",\n",
      "  \"type_vocab_size\": 2,\n",
      "  \"use_cache\": true,\n",
      "  \"vocab_size\": 30522\n",
      "}\n",
      "\n",
      "loading configuration file config.json from cache at C:\\Users\\Windows 10/.cache\\huggingface\\hub\\models--bert-base-uncased\\snapshots\\0a6aa9128b6194f4f3c4db429b6cb4891cdb421b\\config.json\n",
      "Model config BertConfig {\n",
      "  \"architectures\": [\n",
      "    \"BertForMaskedLM\"\n",
      "  ],\n",
      "  \"attention_probs_dropout_prob\": 0.1,\n",
      "  \"classifier_dropout\": null,\n",
      "  \"gradient_checkpointing\": false,\n",
      "  \"hidden_act\": \"gelu\",\n",
      "  \"hidden_dropout_prob\": 0.1,\n",
      "  \"hidden_size\": 768,\n",
      "  \"initializer_range\": 0.02,\n",
      "  \"intermediate_size\": 3072,\n",
      "  \"layer_norm_eps\": 1e-12,\n",
      "  \"max_position_embeddings\": 512,\n",
      "  \"model_type\": \"bert\",\n",
      "  \"num_attention_heads\": 12,\n",
      "  \"num_hidden_layers\": 12,\n",
      "  \"pad_token_id\": 0,\n",
      "  \"position_embedding_type\": \"absolute\",\n",
      "  \"transformers_version\": \"4.22.0\",\n",
      "  \"type_vocab_size\": 2,\n",
      "  \"use_cache\": true,\n",
      "  \"vocab_size\": 30522\n",
      "}\n",
      "\n",
      "loading weights file pytorch_model.bin from cache at C:\\Users\\Windows 10/.cache\\huggingface\\hub\\models--bert-base-uncased\\snapshots\\0a6aa9128b6194f4f3c4db429b6cb4891cdb421b\\pytorch_model.bin\n",
      "Some weights of the model checkpoint at bert-base-uncased were not used when initializing BertModel: ['cls.seq_relationship.bias', 'cls.predictions.decoder.weight', 'cls.predictions.transform.LayerNorm.bias', 'cls.predictions.transform.dense.weight', 'cls.seq_relationship.weight', 'cls.predictions.transform.LayerNorm.weight', 'cls.predictions.transform.dense.bias', 'cls.predictions.bias']\n",
      "- This IS expected if you are initializing BertModel from the checkpoint of a model trained on another task or with another architecture (e.g. initializing a BertForSequenceClassification model from a BertForPreTraining model).\n",
      "- This IS NOT expected if you are initializing BertModel from the checkpoint of a model that you expect to be exactly identical (initializing a BertForSequenceClassification model from a BertForSequenceClassification model).\n",
      "All the weights of BertModel were initialized from the model checkpoint at bert-base-uncased.\n",
      "If your task is similar to the task the model of the checkpoint was trained on, you can already use BertModel for predictions without further training.\n"
     ]
    }
   ],
   "source": [
    "# TODO\n",
    "tokenizer = BertTokenizer.from_pretrained('bert-base-uncased')\n",
    "bert_model = BertModel.from_pretrained(\n",
    "    'bert-base-uncased',\n",
    "    output_attentions=False,\n",
    "    output_hidden_states=False\n",
    ").to(device)"
   ]
  },
  {
   "cell_type": "code",
   "execution_count": 158,
   "metadata": {
    "ExecuteTime": {
     "end_time": "2023-04-19T18:46:08.200413Z",
     "start_time": "2023-04-19T18:45:42.675059Z"
    },
    "id": "iD5AxkR6Z0Qk"
   },
   "outputs": [],
   "source": [
    "max_document_length = 512  # TODO - where to put this parameter?  - overall confing i guess\n",
    "\n",
    "tokens = {\n",
    "    dataset_type:\n",
    "        tokenizer(dataset['text'].tolist(),\n",
    "                  padding='max_length',\n",
    "                  max_length=max_document_length,\n",
    "                  truncation=True,\n",
    "                  return_tensors='pt')\n",
    "\n",
    "    for dataset_type, dataset in data.items()\n",
    "}\n",
    "\n",
    "labels = {\n",
    "    dataset_type:\n",
    "        torch.tensor(dataset['label'].tolist())\n",
    "\n",
    "    for dataset_type, dataset in data.items()\n",
    "}"
   ]
  },
  {
   "cell_type": "code",
   "execution_count": 159,
   "metadata": {
    "ExecuteTime": {
     "end_time": "2023-04-19T18:46:08.214691Z",
     "start_time": "2023-04-19T18:46:08.204946Z"
    },
    "id": "CK-5-XYEZ0Qn"
   },
   "outputs": [],
   "source": [
    "# TODO: this can probably be left as it is\n",
    "class TextDataset(Dataset):\n",
    "    def __init__(self, tokens, labels: torch.Tensor):\n",
    "        self.input_ids = tokens.input_ids\n",
    "        self.attention_mask = tokens.attention_mask\n",
    "        self.token_type_ids = tokens.token_type_ids\n",
    "        self.y = labels\n",
    "\n",
    "    def __len__(self):\n",
    "        return len(self.y)\n",
    "\n",
    "    def __getitem__(self, i):\n",
    "        return {\n",
    "            'input_ids': self.input_ids[i],\n",
    "            'attention_mask': self.attention_mask[i],\n",
    "            'token_type_ids': self.token_type_ids[i],\n",
    "            'labels': self.y[i]\n",
    "        }"
   ]
  },
  {
   "cell_type": "code",
   "execution_count": 160,
   "metadata": {
    "ExecuteTime": {
     "end_time": "2023-04-19T18:46:08.262069Z",
     "start_time": "2023-04-19T18:46:08.217860Z"
    },
    "id": "KHoxwyr_Z0Qp"
   },
   "outputs": [],
   "source": [
    "datasets = {\n",
    "    dataset_type:\n",
    "        TextDataset(tokens[dataset_type], labels[dataset_type])\n",
    "\n",
    "    for dataset_type in data.keys()\n",
    "}"
   ]
  },
  {
   "cell_type": "code",
   "execution_count": 30,
   "metadata": {
    "ExecuteTime": {
     "end_time": "2023-04-19T18:46:08.275387Z",
     "start_time": "2023-04-19T18:46:08.266642Z"
    },
    "id": "XBdeHDmRZ0Qr"
   },
   "outputs": [],
   "source": [
    "# TODO\n",
    "class ClassificationBERTModel(nn.Module):\n",
    "    def __init__(self, bert_model: BertModel):\n",
    "        super(ClassificationBERTModel, self).__init__()\n",
    "        self.bert = bert_model\n",
    "        self.linear = nn.Linear(768, 12)\n",
    "        self.loss = nn.CrossEntropyLoss()\n",
    "\n",
    "        for param in self.bert.parameters():\n",
    "            param.requires_grad = False\n",
    "\n",
    "    def forward(self, input_ids, attention_mask, token_type_ids, labels):\n",
    "        x = self.bert(input_ids=input_ids, attention_mask=attention_mask,\n",
    "                      token_type_ids=token_type_ids).last_hidden_state\n",
    "        attention = attention_mask.unsqueeze(2).expand(-1, -1, 768)\n",
    "        x = x * attention\n",
    "        x = x.sum(1) / (x != 0).sum(1)\n",
    "        x = self.linear(x)\n",
    "\n",
    "        return self.loss(x, labels), x"
   ]
  },
  {
   "cell_type": "code",
   "execution_count": 31,
   "metadata": {
    "ExecuteTime": {
     "end_time": "2023-04-19T18:46:08.310346Z",
     "start_time": "2023-04-19T18:46:08.295318Z"
    },
    "id": "yBvqyfNSZ0Qu"
   },
   "outputs": [],
   "source": [
    "# TODO\n",
    "training_args = TrainingArguments(\n",
    "    output_dir=custom_configuration['training']['output_dir'],\n",
    "    learning_rate=custom_configuration['training']['learning_rate'],\n",
    "    evaluation_strategy=IntervalStrategy.EPOCH,\n",
    "    save_strategy=IntervalStrategy.EPOCH,\n",
    "    logging_strategy=IntervalStrategy.EPOCH,\n",
    "    per_device_train_batch_size=custom_configuration['training']['batch_size'],\n",
    "    per_device_eval_batch_size=custom_configuration['training']['batch_size'],\n",
    "    load_best_model_at_end=True,\n",
    "    metric_for_best_model=custom_configuration['training']['metric_for_best_model'],\n",
    "    num_train_epochs=custom_configuration['training']['epochs']\n",
    ")"
   ]
  },
  {
   "cell_type": "code",
   "execution_count": 32,
   "metadata": {
    "ExecuteTime": {
     "end_time": "2023-04-19T18:46:08.323958Z",
     "start_time": "2023-04-19T18:46:08.312349Z"
    },
    "id": "J-xAHUVdZ0Qv"
   },
   "outputs": [],
   "source": [
    "# TODO: ???\n",
    "def compute_metrics(p):\n",
    "    pred, true_labels = p\n",
    "    pred = pred.argmax(1)\n",
    "    accuracy = accuracy_score(y_true=true_labels, y_pred=pred)\n",
    "    recall = recall_score(y_true=true_labels, y_pred=pred, average='weighted', zero_division=0)\n",
    "    precision = precision_score(y_true=true_labels, y_pred=pred, average='weighted', zero_division=0)\n",
    "    f1 = f1_score(y_true=true_labels, y_pred=pred, average='weighted', zero_division=0)\n",
    "    return {\"accuracy\": accuracy, \"precision\": precision, \"recall\": recall, \"f1\": f1}"
   ]
  },
  {
   "cell_type": "code",
   "execution_count": 33,
   "metadata": {
    "ExecuteTime": {
     "end_time": "2023-04-19T18:46:10.657969Z",
     "start_time": "2023-04-19T18:46:08.325499Z"
    },
    "id": "-fzFgT35Z0Qx"
   },
   "outputs": [],
   "source": [
    "classification_model = ClassificationBERTModel(bert_model).to(device)\n",
    "\n",
    "trainer = Trainer(\n",
    "    model=classification_model,\n",
    "    train_dataset=datasets['train'],\n",
    "    eval_dataset=datasets['validation'],\n",
    "    compute_metrics=compute_metrics,\n",
    "    args=training_args\n",
    ")"
   ]
  },
  {
   "cell_type": "code",
   "execution_count": 34,
   "metadata": {
    "collapsed": false,
    "pycharm": {
     "name": "#%%\n"
    }
   },
   "outputs": [],
   "source": [
    "# FIXME\n",
    "os.environ['WANDB_DISABLED'] = 'true'"
   ]
  },
  {
   "cell_type": "code",
   "execution_count": 35,
   "metadata": {
    "ExecuteTime": {
     "end_time": "2023-04-19T19:10:40.772022Z",
     "start_time": "2023-04-19T18:46:10.167636Z"
    },
    "id": "o2JMxHkaZ0Qy"
   },
   "outputs": [
    {
     "name": "stderr",
     "output_type": "stream",
     "text": [
      "c:\\ProgramData\\Anaconda3\\envs\\copycatchat_env\\lib\\site-packages\\transformers\\optimization.py:306: FutureWarning: This implementation of AdamW is deprecated and will be removed in a future version. Use the PyTorch implementation torch.optim.AdamW instead, or set `no_deprecation_warning=True` to disable this warning\n",
      "  warnings.warn(\n",
      "***** Running training *****\n",
      "  Num examples = 160\n",
      "  Num Epochs = 1\n",
      "  Instantaneous batch size per device = 16\n",
      "  Total train batch size (w. parallel, distributed & accumulation) = 16\n",
      "  Gradient Accumulation steps = 1\n",
      "  Total optimization steps = 10\n",
      "100%|██████████| 10/10 [04:34<00:00, 26.43s/it]***** Running Evaluation *****\n",
      "  Num examples = 50\n",
      "  Batch size = 16\n"
     ]
    },
    {
     "name": "stdout",
     "output_type": "stream",
     "text": [
      "{'loss': 2.2923, 'learning_rate': 0.0, 'epoch': 1.0}\n"
     ]
    },
    {
     "name": "stderr",
     "output_type": "stream",
     "text": [
      "                                               \n",
      "100%|██████████| 10/10 [05:48<00:00, 26.43s/it]Saving model checkpoint to ClassificationBERT\\checkpoint-10\n",
      "Trainer.model is not a `PreTrainedModel`, only saving its state dict.\n"
     ]
    },
    {
     "name": "stdout",
     "output_type": "stream",
     "text": [
      "{'eval_loss': 2.2170047760009766, 'eval_accuracy': 0.26, 'eval_precision': 0.12390804597701148, 'eval_recall': 0.26, 'eval_f1': 0.16390092879256965, 'eval_runtime': 74.1476, 'eval_samples_per_second': 0.674, 'eval_steps_per_second': 0.054, 'epoch': 1.0}\n"
     ]
    },
    {
     "name": "stderr",
     "output_type": "stream",
     "text": [
      "\n",
      "\n",
      "Training completed. Do not forget to share your model on huggingface.co/models =)\n",
      "\n",
      "\n",
      "Loading best model from ClassificationBERT\\checkpoint-10 (score: 0.26).\n",
      "100%|██████████| 10/10 [05:49<00:00, 34.96s/it]"
     ]
    },
    {
     "name": "stdout",
     "output_type": "stream",
     "text": [
      "{'train_runtime': 349.6187, 'train_samples_per_second': 0.458, 'train_steps_per_second': 0.029, 'train_loss': 2.292304039001465, 'epoch': 1.0}\n"
     ]
    },
    {
     "name": "stderr",
     "output_type": "stream",
     "text": [
      "\n"
     ]
    },
    {
     "data": {
      "text/plain": [
       "TrainOutput(global_step=10, training_loss=2.292304039001465, metrics={'train_runtime': 349.6187, 'train_samples_per_second': 0.458, 'train_steps_per_second': 0.029, 'train_loss': 2.292304039001465, 'epoch': 1.0})"
      ]
     },
     "execution_count": 35,
     "metadata": {},
     "output_type": "execute_result"
    }
   ],
   "source": [
    "trainer.train()"
   ]
  },
  {
   "cell_type": "code",
   "execution_count": 36,
   "metadata": {},
   "outputs": [],
   "source": [
    "# TODO\n",
    "# tournament of models"
   ]
  },
  {
   "cell_type": "code",
   "execution_count": 49,
   "metadata": {
    "ExecuteTime": {
     "end_time": "2023-04-19T19:12:03.087219Z",
     "start_time": "2023-04-19T19:10:40.774408Z"
    },
    "id": "VAfsOOmdZ0Q0"
   },
   "outputs": [
    {
     "name": "stderr",
     "output_type": "stream",
     "text": [
      "***** Running Prediction *****\n",
      "  Num examples = 50\n",
      "  Batch size = 16\n",
      "100%|██████████| 4/4 [01:33<00:00, 23.31s/it]\n"
     ]
    }
   ],
   "source": [
    "test_result = trainer.predict(datasets['test'])"
   ]
  },
  {
   "cell_type": "code",
   "execution_count": 76,
   "metadata": {},
   "outputs": [],
   "source": [
    "save_predictions(test_result, custom_configuration['testing']['results_file'])"
   ]
  },
  {
   "cell_type": "code",
   "execution_count": 110,
   "metadata": {},
   "outputs": [
    {
     "data": {
      "text/plain": [
       "{'accuracy': 0.52}"
      ]
     },
     "execution_count": 110,
     "metadata": {},
     "output_type": "execute_result"
    }
   ],
   "source": [
    "test_set_select(test_set_config)"
   ]
  },
  {
   "cell_type": "code",
   "execution_count": 168,
   "metadata": {
    "ExecuteTime": {
     "end_time": "2023-04-19T19:12:03.464164Z",
     "start_time": "2023-04-19T19:12:03.090216Z"
    },
    "collapsed": false,
    "pycharm": {
     "name": "#%%\n"
    }
   },
   "outputs": [
    {
     "name": "stderr",
     "output_type": "stream",
     "text": [
      "***** Running Prediction *****\n",
      "  Num examples = 10\n",
      "  Batch size = 16\n",
      "100%|██████████| 1/1 [00:00<00:00, 76.93it/s]\n"
     ]
    }
   ],
   "source": [
    "control_result = trainer.predict(datasets['control'])\n",
    "save_predictions(control_result, custom_configuration['control']['results_file'])"
   ]
  },
  {
   "cell_type": "code",
   "execution_count": 169,
   "metadata": {},
   "outputs": [
    {
     "name": "stdout",
     "output_type": "stream",
     "text": [
      "C:/data/thedeep.subset.control.txt file_control_results\n",
      "10 10\n"
     ]
    },
    {
     "data": {
      "text/plain": [
       "{'accuracy': 0.2}"
      ]
     },
     "execution_count": 169,
     "metadata": {},
     "output_type": "execute_result"
    }
   ],
   "source": [
    "control_set_select(control_set_config)"
   ]
  }
 ],
 "metadata": {
  "colab": {
   "provenance": []
  },
  "kernelspec": {
   "display_name": "Python 3 (ipykernel)",
   "language": "python",
   "name": "python3"
  },
  "language_info": {
   "codemirror_mode": {
    "name": "ipython",
    "version": 3
   },
   "file_extension": ".py",
   "mimetype": "text/x-python",
   "name": "python",
   "nbconvert_exporter": "python",
   "pygments_lexer": "ipython3",
   "version": "3.9.16"
  }
 },
 "nbformat": 4,
 "nbformat_minor": 1
}

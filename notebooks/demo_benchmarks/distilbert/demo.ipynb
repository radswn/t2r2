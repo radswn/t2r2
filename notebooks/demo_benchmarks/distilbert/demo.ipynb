{
 "cells": [
  {
   "cell_type": "code",
   "execution_count": 1,
   "metadata": {
    "ExecuteTime": {
     "end_time": "2023-06-06T18:47:29.680742400Z",
     "start_time": "2023-06-06T18:47:26.746571100Z"
    },
    "collapsed": true
   },
   "outputs": [],
   "source": [
    "import enginora"
   ]
  },
  {
   "cell_type": "code",
   "execution_count": 2,
   "metadata": {
    "ExecuteTime": {
     "end_time": "2023-06-06T19:01:32.772699200Z",
     "start_time": "2023-06-06T18:47:29.696640100Z"
    },
    "collapsed": false,
    "pycharm": {
     "name": "#%%\n"
    }
   },
   "outputs": [
    {
     "name": "stderr",
     "output_type": "stream",
     "text": [
      "Some weights of the model checkpoint at distilbert-base-uncased were not used when initializing DistilBertForSequenceClassification: ['vocab_projector.weight', 'vocab_layer_norm.weight', 'vocab_transform.weight', 'vocab_transform.bias', 'vocab_layer_norm.bias', 'vocab_projector.bias']\n",
      "- This IS expected if you are initializing DistilBertForSequenceClassification from the checkpoint of a model trained on another task or with another architecture (e.g. initializing a BertForSequenceClassification model from a BertForPreTraining model).\n",
      "- This IS NOT expected if you are initializing DistilBertForSequenceClassification from the checkpoint of a model that you expect to be exactly identical (initializing a BertForSequenceClassification model from a BertForSequenceClassification model).\n",
      "Some weights of DistilBertForSequenceClassification were not initialized from the model checkpoint at distilbert-base-uncased and are newly initialized: ['classifier.weight', 'pre_classifier.bias', 'pre_classifier.weight', 'classifier.bias']\n",
      "You should probably TRAIN this model on a down-stream task to be able to use it for predictions and inference.\n",
      "/home/user/.local/lib/python3.9/site-packages/transformers/optimization.py:306: FutureWarning: This implementation of AdamW is deprecated and will be removed in a future version. Use the PyTorch implementation torch.optim.AdamW instead, or set `no_deprecation_warning=True` to disable this warning\n",
      "  warnings.warn(\n",
      "***** Running training *****\n",
      "  Num examples = 20000\n",
      "  Num Epochs = 2\n",
      "  Instantaneous batch size per device = 16\n",
      "  Total train batch size (w. parallel, distributed & accumulation) = 16\n",
      "  Gradient Accumulation steps = 1\n",
      "  Total optimization steps = 2500\n"
     ]
    },
    {
     "name": "stdout",
     "output_type": "stream",
     "text": [
      "huggingface/tokenizers: The current process just got forked, after parallelism has already been used. Disabling parallelism to avoid deadlocks...\n",
      "To disable this warning, you can either:\n",
      "\t- Avoid using `tokenizers` before the fork if possible\n",
      "\t- Explicitly set the environment variable TOKENIZERS_PARALLELISM=(true | false)\n",
      "huggingface/tokenizers: The current process just got forked, after parallelism has already been used. Disabling parallelism to avoid deadlocks...\n",
      "To disable this warning, you can either:\n",
      "\t- Avoid using `tokenizers` before the fork if possible\n",
      "\t- Explicitly set the environment variable TOKENIZERS_PARALLELISM=(true | false)\n",
      "huggingface/tokenizers: The current process just got forked, after parallelism has already been used. Disabling parallelism to avoid deadlocks...\n",
      "To disable this warning, you can either:\n",
      "\t- Avoid using `tokenizers` before the fork if possible\n",
      "\t- Explicitly set the environment variable TOKENIZERS_PARALLELISM=(true | false)\n"
     ]
    },
    {
     "name": "stderr",
     "output_type": "stream",
     "text": [
      "The following columns in the training set don't have a corresponding argument in `DistilBertForSequenceClassification.forward` and have been ignored: token_type_ids. If token_type_ids are not expected by `DistilBertForSequenceClassification.forward`,  you can safely ignore this message.\n"
     ]
    },
    {
     "data": {
      "text/html": [
       "\n",
       "    <div>\n",
       "      \n",
       "      <progress value='2500' max='2500' style='width:300px; height:20px; vertical-align: middle;'></progress>\n",
       "      [2500/2500 17:38, Epoch 2/2]\n",
       "    </div>\n",
       "    <table border=\"1\" class=\"dataframe\">\n",
       "  <thead>\n",
       " <tr style=\"text-align: left;\">\n",
       "      <th>Epoch</th>\n",
       "      <th>Training Loss</th>\n",
       "      <th>Validation Loss</th>\n",
       "      <th>F1 Score</th>\n",
       "      <th>Balanced Accuracy Score</th>\n",
       "    </tr>\n",
       "  </thead>\n",
       "  <tbody>\n",
       "    <tr>\n",
       "      <td>1</td>\n",
       "      <td>0.327500</td>\n",
       "      <td>0.256693</td>\n",
       "      <td>0.903364</td>\n",
       "      <td>0.900374</td>\n",
       "    </tr>\n",
       "    <tr>\n",
       "      <td>2</td>\n",
       "      <td>0.147200</td>\n",
       "      <td>0.323625</td>\n",
       "      <td>0.906981</td>\n",
       "      <td>0.905347</td>\n",
       "    </tr>\n",
       "  </tbody>\n",
       "</table><p>"
      ],
      "text/plain": [
       "<IPython.core.display.HTML object>"
      ]
     },
     "metadata": {},
     "output_type": "display_data"
    },
    {
     "name": "stderr",
     "output_type": "stream",
     "text": [
      "***** Running Evaluation *****\n",
      "  Num examples = 5000\n",
      "  Batch size = 16\n",
      "The following columns in the evaluation set don't have a corresponding argument in `DistilBertForSequenceClassification.forward` and have been ignored: token_type_ids. If token_type_ids are not expected by `DistilBertForSequenceClassification.forward`,  you can safely ignore this message.\n",
      "Saving model checkpoint to imdb_distilbert/checkpoint-1250\n",
      "Configuration saved in imdb_distilbert/checkpoint-1250/config.json\n",
      "Model weights saved in imdb_distilbert/checkpoint-1250/pytorch_model.bin\n",
      "***** Running Evaluation *****\n",
      "  Num examples = 5000\n",
      "  Batch size = 16\n",
      "The following columns in the evaluation set don't have a corresponding argument in `DistilBertForSequenceClassification.forward` and have been ignored: token_type_ids. If token_type_ids are not expected by `DistilBertForSequenceClassification.forward`,  you can safely ignore this message.\n",
      "Saving model checkpoint to imdb_distilbert/checkpoint-2500\n",
      "Configuration saved in imdb_distilbert/checkpoint-2500/config.json\n",
      "Model weights saved in imdb_distilbert/checkpoint-2500/pytorch_model.bin\n",
      "\n",
      "\n",
      "Training completed. Do not forget to share your model on huggingface.co/models =)\n",
      "\n",
      "\n",
      "Loading best model from imdb_distilbert/checkpoint-2500 (score: 0.9053467071427326).\n"
     ]
    },
    {
     "ename": "FileNotFoundError",
     "evalue": "[Errno 2] No such file or directory: './results/train_results.pickle'",
     "output_type": "error",
     "traceback": [
      "\u001b[0;31m---------------------------------------------------------------------------\u001b[0m",
      "\u001b[0;31mFileNotFoundError\u001b[0m                         Traceback (most recent call last)",
      "\u001b[1;32m/workspaces/enginora/notebooks/demo_benchmarks/distilbert/demo.ipynb Cell 2\u001b[0m line \u001b[0;36m1\n\u001b[0;32m----> <a href='vscode-notebook-cell://dev-container%2B7b22686f737450617468223a225c5c5c5c77736c2e6c6f63616c686f73745c5c5562756e74755c5c686f6d655c5c726164656b5c5c70726f6a656374735c5c656e67696e6f7261222c22636f6e66696746696c65223a7b22246d6964223a312c2270617468223a222f686f6d652f726164656b2f70726f6a656374732f656e67696e6f72612f2e646576636f6e7461696e65722f646576636f6e7461696e65722e6a736f6e222c22736368656d65223a227673636f64652d66696c65486f7374227d7d/workspaces/enginora/notebooks/demo_benchmarks/distilbert/demo.ipynb#W1sdnNjb2RlLXJlbW90ZQ%3D%3D?line=0'>1</a>\u001b[0m enginora\u001b[39m.\u001b[39;49mloop()\n",
      "File \u001b[0;32m/workspaces/enginora/src/enginora/flow.py:65\u001b[0m, in \u001b[0;36mloop\u001b[0;34m(config_path)\u001b[0m\n\u001b[1;32m     61\u001b[0m         train_results, test_results, control_results \u001b[39m=\u001b[39m train_and_test(\n\u001b[1;32m     62\u001b[0m             model, tokenizer, training_config, test_config, control_config, mlflow_manager\n\u001b[1;32m     63\u001b[0m         )\n\u001b[1;32m     64\u001b[0m \u001b[39melse\u001b[39;00m:\n\u001b[0;32m---> 65\u001b[0m     train_results, test_results, control_results \u001b[39m=\u001b[39m train_and_test(\n\u001b[1;32m     66\u001b[0m         model, tokenizer, training_config, test_config, control_config\n\u001b[1;32m     67\u001b[0m     )\n\u001b[1;32m     69\u001b[0m dvc_config\u001b[39m.\u001b[39madd(config_path, training_config, test_config, control_config, model_config)\n\u001b[1;32m     71\u001b[0m \u001b[39mreturn\u001b[39;00m {\n\u001b[1;32m     72\u001b[0m     \u001b[39m\"\u001b[39m\u001b[39mtrain_results\u001b[39m\u001b[39m\"\u001b[39m: train_results,\n\u001b[1;32m     73\u001b[0m     \u001b[39m\"\u001b[39m\u001b[39mtest_results\u001b[39m\u001b[39m\"\u001b[39m: test_results,\n\u001b[1;32m     74\u001b[0m     \u001b[39m\"\u001b[39m\u001b[39mcontrol_results\u001b[39m\u001b[39m\"\u001b[39m: control_results,\n\u001b[1;32m     75\u001b[0m }\n",
      "File \u001b[0;32m/workspaces/enginora/src/enginora/flow.py:90\u001b[0m, in \u001b[0;36mtrain_and_test\u001b[0;34m(model, tokenizer, training_config, test_config, control_config, mlflow_manager)\u001b[0m\n\u001b[1;32m     87\u001b[0m trainer \u001b[39m=\u001b[39m get_trainer(training_config, datasets, model)\n\u001b[1;32m     89\u001b[0m train_results \u001b[39m=\u001b[39m trainer\u001b[39m.\u001b[39mtrain()\n\u001b[0;32m---> 90\u001b[0m training_config\u001b[39m.\u001b[39;49msave_results(train_results, mlflow_manager)\n\u001b[1;32m     92\u001b[0m test_results \u001b[39m=\u001b[39m trainer\u001b[39m.\u001b[39mpredict(datasets[\u001b[39m\"\u001b[39m\u001b[39mtest\u001b[39m\u001b[39m\"\u001b[39m])\n\u001b[1;32m     93\u001b[0m test_config\u001b[39m.\u001b[39msave_results(test_results, mlflow_manager)\n",
      "File \u001b[0;32m/workspaces/enginora/src/enginora/dataset/common.py:71\u001b[0m, in \u001b[0;36mWithMetrics.save_results\u001b[0;34m(self, results, mlflow_manager)\u001b[0m\n\u001b[1;32m     69\u001b[0m \u001b[39mdef\u001b[39;00m \u001b[39msave_results\u001b[39m(\u001b[39mself\u001b[39m, results, mlflow_manager: MlflowManager):\n\u001b[1;32m     70\u001b[0m     \u001b[39m# FIXME: error if directory (e.g. results/) doesn't exist\u001b[39;00m\n\u001b[0;32m---> 71\u001b[0m     \u001b[39mwith\u001b[39;00m \u001b[39mopen\u001b[39;49m(\u001b[39mself\u001b[39;49m\u001b[39m.\u001b[39;49mresults_file, \u001b[39m\"\u001b[39;49m\u001b[39mwb\u001b[39;49m\u001b[39m\"\u001b[39;49m) \u001b[39mas\u001b[39;00m file:\n\u001b[1;32m     72\u001b[0m         pickle\u001b[39m.\u001b[39mdump(results, file)\n\u001b[1;32m     74\u001b[0m     \u001b[39mself\u001b[39m\u001b[39m.\u001b[39m_dump_metrics(results\u001b[39m.\u001b[39mmetrics)\n",
      "\u001b[0;31mFileNotFoundError\u001b[0m: [Errno 2] No such file or directory: './results/train_results.pickle'"
     ]
    }
   ],
   "source": [
    "enginora.loop()"
   ]
  },
  {
   "cell_type": "markdown",
   "metadata": {},
   "source": []
  }
 ],
 "metadata": {
  "kernelspec": {
   "display_name": "Python 3",
   "language": "python",
   "name": "python3"
  },
  "language_info": {
   "codemirror_mode": {
    "name": "ipython",
    "version": 3
   },
   "file_extension": ".py",
   "mimetype": "text/x-python",
   "name": "python",
   "nbconvert_exporter": "python",
   "pygments_lexer": "ipython3",
   "version": "3.9.17"
  }
 },
 "nbformat": 4,
 "nbformat_minor": 0
}

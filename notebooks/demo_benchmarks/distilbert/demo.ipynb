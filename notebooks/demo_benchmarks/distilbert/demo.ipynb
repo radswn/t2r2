{
 "cells": [
  {
   "cell_type": "code",
   "execution_count": 2,
   "metadata": {
    "ExecuteTime": {
     "end_time": "2023-06-06T18:47:29.680742400Z",
     "start_time": "2023-06-06T18:47:26.746571100Z"
    },
    "collapsed": true
   },
   "outputs": [
    {
     "name": "stderr",
     "output_type": "stream",
     "text": [
      "c:\\Users\\ismyn\\miniconda3\\envs\\enginora_env\\lib\\site-packages\\tqdm\\auto.py:21: TqdmWarning: IProgress not found. Please update jupyter and ipywidgets. See https://ipywidgets.readthedocs.io/en/stable/user_install.html\n",
      "  from .autonotebook import tqdm as notebook_tqdm\n"
     ]
    }
   ],
   "source": [
    "import t2r2"
   ]
  },
  {
   "cell_type": "code",
   "execution_count": 3,
   "metadata": {
    "ExecuteTime": {
     "end_time": "2023-06-06T19:01:32.772699200Z",
     "start_time": "2023-06-06T18:47:29.696640100Z"
    },
    "collapsed": false,
    "pycharm": {
     "name": "#%%\n"
    }
   },
   "outputs": [
    {
     "name": "stderr",
     "output_type": "stream",
     "text": [
      "Some weights of the model checkpoint at distilbert-base-uncased were not used when initializing DistilBertForSequenceClassification: ['vocab_transform.weight', 'vocab_projector.weight', 'vocab_layer_norm.weight', 'vocab_projector.bias', 'vocab_layer_norm.bias', 'vocab_transform.bias']\n",
      "- This IS expected if you are initializing DistilBertForSequenceClassification from the checkpoint of a model trained on another task or with another architecture (e.g. initializing a BertForSequenceClassification model from a BertForPreTraining model).\n",
      "- This IS NOT expected if you are initializing DistilBertForSequenceClassification from the checkpoint of a model that you expect to be exactly identical (initializing a BertForSequenceClassification model from a BertForSequenceClassification model).\n",
      "Some weights of DistilBertForSequenceClassification were not initialized from the model checkpoint at distilbert-base-uncased and are newly initialized: ['classifier.bias', 'pre_classifier.bias', 'classifier.weight', 'pre_classifier.weight']\n",
      "You should probably TRAIN this model on a down-stream task to be able to use it for predictions and inference.\n",
      "c:\\Users\\ismyn\\miniconda3\\envs\\enginora_env\\lib\\site-packages\\transformers\\optimization.py:306: FutureWarning: This implementation of AdamW is deprecated and will be removed in a future version. Use the PyTorch implementation torch.optim.AdamW instead, or set `no_deprecation_warning=True` to disable this warning\n",
      "  warnings.warn(\n",
      "***** Running training *****\n",
      "  Num examples = 64\n",
      "  Num Epochs = 2\n",
      "  Instantaneous batch size per device = 16\n",
      "  Total train batch size (w. parallel, distributed & accumulation) = 16\n",
      "  Gradient Accumulation steps = 1\n",
      "  Total optimization steps = 8\n",
      "  0%|          | 0/8 [00:00<?, ?it/s]The following columns in the training set don't have a corresponding argument in `DistilBertForSequenceClassification.forward` and have been ignored: token_type_ids. If token_type_ids are not expected by `DistilBertForSequenceClassification.forward`,  you can safely ignore this message.\n",
      " 50%|█████     | 4/8 [00:27<00:27,  6.94s/it]***** Running Evaluation *****\n",
      "  Num examples = 64\n",
      "  Batch size = 16\n",
      "The following columns in the evaluation set don't have a corresponding argument in `DistilBertForSequenceClassification.forward` and have been ignored: token_type_ids. If token_type_ids are not expected by `DistilBertForSequenceClassification.forward`,  you can safely ignore this message.\n"
     ]
    },
    {
     "name": "stdout",
     "output_type": "stream",
     "text": [
      "{'loss': 0.6977, 'learning_rate': 5e-05, 'epoch': 1.0}\n"
     ]
    },
    {
     "name": "stderr",
     "output_type": "stream",
     "text": [
      "                                             \n",
      " 50%|█████     | 4/8 [00:37<00:27,  6.94s/it]Saving model checkpoint to imdb_distilbert\\checkpoint-4\n",
      "Configuration saved in imdb_distilbert\\checkpoint-4\\config.json\n"
     ]
    },
    {
     "name": "stdout",
     "output_type": "stream",
     "text": [
      "{'eval_loss': 0.6789546608924866, 'eval_f1_score': 0.1142857142857143, 'eval_balanced_accuracy_score': 0.5303030303030303, 'eval_runtime': 9.5191, 'eval_samples_per_second': 6.723, 'eval_steps_per_second': 0.42, 'epoch': 1.0}\n"
     ]
    },
    {
     "name": "stderr",
     "output_type": "stream",
     "text": [
      "Model weights saved in imdb_distilbert\\checkpoint-4\\pytorch_model.bin\n",
      "100%|██████████| 8/8 [01:07<00:00,  8.29s/it]***** Running Evaluation *****\n",
      "  Num examples = 64\n",
      "  Batch size = 16\n",
      "The following columns in the evaluation set don't have a corresponding argument in `DistilBertForSequenceClassification.forward` and have been ignored: token_type_ids. If token_type_ids are not expected by `DistilBertForSequenceClassification.forward`,  you can safely ignore this message.\n"
     ]
    },
    {
     "name": "stdout",
     "output_type": "stream",
     "text": [
      "{'loss': 0.6579, 'learning_rate': 0.0, 'epoch': 2.0}\n"
     ]
    },
    {
     "name": "stderr",
     "output_type": "stream",
     "text": [
      "                                             \n",
      "100%|██████████| 8/8 [01:16<00:00,  8.29s/it]Saving model checkpoint to imdb_distilbert\\checkpoint-8\n",
      "Configuration saved in imdb_distilbert\\checkpoint-8\\config.json\n"
     ]
    },
    {
     "name": "stdout",
     "output_type": "stream",
     "text": [
      "{'eval_loss': 0.6523983478546143, 'eval_f1_score': 0.8354430379746834, 'eval_balanced_accuracy_score': 0.7903225806451613, 'eval_runtime': 9.4085, 'eval_samples_per_second': 6.802, 'eval_steps_per_second': 0.425, 'epoch': 2.0}\n"
     ]
    },
    {
     "name": "stderr",
     "output_type": "stream",
     "text": [
      "Model weights saved in imdb_distilbert\\checkpoint-8\\pytorch_model.bin\n",
      "\n",
      "\n",
      "Training completed. Do not forget to share your model on huggingface.co/models =)\n",
      "\n",
      "\n",
      "Loading best model from imdb_distilbert\\checkpoint-8 (score: 0.7903225806451613).\n",
      "100%|██████████| 8/8 [01:18<00:00,  9.76s/it]\n",
      "***** Running Prediction *****\n",
      "  Num examples = 64\n",
      "  Batch size = 16\n",
      "The following columns in the test set don't have a corresponding argument in `DistilBertForSequenceClassification.forward` and have been ignored: token_type_ids. If token_type_ids are not expected by `DistilBertForSequenceClassification.forward`,  you can safely ignore this message.\n"
     ]
    },
    {
     "name": "stdout",
     "output_type": "stream",
     "text": [
      "{'train_runtime': 78.4512, 'train_samples_per_second': 1.632, 'train_steps_per_second': 0.102, 'train_loss': 0.6777971684932709, 'epoch': 2.0}\n"
     ]
    },
    {
     "name": "stderr",
     "output_type": "stream",
     "text": [
      "100%|██████████| 4/4 [00:07<00:00,  1.96s/it]c:\\Users\\ismyn\\miniconda3\\envs\\enginora_env\\lib\\site-packages\\sklearn\\metrics\\_classification.py:2184: UserWarning: y_pred contains classes not in y_true\n",
      "  warnings.warn(\"y_pred contains classes not in y_true\")\n",
      "***** Running Prediction *****\n",
      "  Num examples = 64\n",
      "  Batch size = 16\n",
      "The following columns in the test set don't have a corresponding argument in `DistilBertForSequenceClassification.forward` and have been ignored: token_type_ids. If token_type_ids are not expected by `DistilBertForSequenceClassification.forward`,  you can safely ignore this message.\n",
      "8it [00:16,  2.23s/it]                       c:\\Users\\ismyn\\miniconda3\\envs\\enginora_env\\lib\\site-packages\\sklearn\\metrics\\_classification.py:2184: UserWarning: y_pred contains classes not in y_true\n",
      "  warnings.warn(\"y_pred contains classes not in y_true\")\n",
      "8it [00:16,  2.05s/it]\n"
     ]
    },
    {
     "data": {
      "text/plain": [
       "{'train_results': {'train_runtime': 78.4512,\n",
       "  'train_samples_per_second': 1.632,\n",
       "  'train_steps_per_second': 0.102,\n",
       "  'train_loss': 0.6777971684932709,\n",
       "  'epoch': 2.0},\n",
       " 'test_results': {'test_loss': 0.701809823513031,\n",
       "  'test_f1_score': 0.0,\n",
       "  'test_balanced_accuracy_score': 0.4375,\n",
       "  'test_runtime': 9.4312,\n",
       "  'test_samples_per_second': 6.786,\n",
       "  'test_steps_per_second': 0.424},\n",
       " 'control_results': {'test_loss': 0.6841993927955627,\n",
       "  'test_f1_score': 0.0,\n",
       "  'test_balanced_accuracy_score': 0.59375,\n",
       "  'test_runtime': 9.2533,\n",
       "  'test_samples_per_second': 6.916,\n",
       "  'test_steps_per_second': 0.432}}"
      ]
     },
     "execution_count": 3,
     "metadata": {},
     "output_type": "execute_result"
    }
   ],
   "source": [
    "t2r2.loop()"
   ]
  },
  {
   "cell_type": "markdown",
   "metadata": {},
   "source": []
  }
 ],
 "metadata": {
  "kernelspec": {
   "display_name": "Python 3",
   "language": "python",
   "name": "python3"
  },
  "language_info": {
   "codemirror_mode": {
    "name": "ipython",
    "version": 3
   },
   "file_extension": ".py",
   "mimetype": "text/x-python",
   "name": "python",
   "nbconvert_exporter": "python",
   "pygments_lexer": "ipython3",
   "version": "3.9.17"
  }
 },
 "nbformat": 4,
 "nbformat_minor": 0
}

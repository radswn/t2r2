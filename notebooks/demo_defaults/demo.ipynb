{
 "cells": [
  {
   "cell_type": "code",
   "execution_count": 1,
   "metadata": {
    "collapsed": false,
    "ExecuteTime": {
     "end_time": "2023-12-12T15:38:29.641236800Z",
     "start_time": "2023-12-12T15:38:24.671012400Z"
    }
   },
   "outputs": [],
   "source": [
    "from t2r2 import T2R2"
   ]
  },
  {
   "cell_type": "code",
   "execution_count": 2,
   "outputs": [],
   "source": [
    "ttrr = T2R2()"
   ],
   "metadata": {
    "collapsed": false,
    "ExecuteTime": {
     "end_time": "2023-12-12T15:38:29.661221400Z",
     "start_time": "2023-12-12T15:38:29.641236800Z"
    }
   }
  },
  {
   "cell_type": "code",
   "execution_count": 3,
   "metadata": {
    "collapsed": false,
    "ExecuteTime": {
     "end_time": "2023-12-12T15:38:45.090559500Z",
     "start_time": "2023-12-12T15:38:30.589436300Z"
    }
   },
   "outputs": [
    {
     "name": "stderr",
     "output_type": "stream",
     "text": [
      "***** Running training *****\n",
      "  Num examples = 8\n",
      "  Num Epochs = 1\n",
      "  Instantaneous batch size per device = 32\n",
      "  Total train batch size (w. parallel, distributed & accumulation) = 32\n",
      "  Gradient Accumulation steps = 1\n",
      "  Total optimization steps = 1\n",
      "***** Running Evaluation *****\n",
      "  Num examples = 8\n",
      "  Batch size = 32\n",
      "***** Running Evaluation *****\n",
      "  Num examples = 2\n",
      "  Batch size = 32\n"
     ]
    },
    {
     "name": "stdout",
     "output_type": "stream",
     "text": [
      "{'train_loss': 1.6781306266784668, 'train_accuracy_score': 0.625, 'train_runtime': 2.0425, 'train_samples_per_second': 3.917, 'train_steps_per_second': 0.49, 'epoch': 1.0}\n",
      "{'loss': 0.7093, 'learning_rate': 0.0, 'epoch': 1.0}\n"
     ]
    },
    {
     "name": "stderr",
     "output_type": "stream",
     "text": [
      "Saving model checkpoint to ./results/checkpoint-1\n",
      "Configuration saved in ./results/checkpoint-1\\config.json\n"
     ]
    },
    {
     "name": "stdout",
     "output_type": "stream",
     "text": [
      "{'eval_loss': 1.1883150339126587, 'eval_accuracy_score': 0.5, 'eval_runtime': 0.5294, 'eval_samples_per_second': 3.778, 'eval_steps_per_second': 1.889, 'epoch': 1.0}\n"
     ]
    },
    {
     "name": "stderr",
     "output_type": "stream",
     "text": [
      "Model weights saved in ./results/checkpoint-1\\pytorch_model.bin\n",
      "\n",
      "\n",
      "Training completed. Do not forget to share your model on huggingface.co/models =)\n",
      "\n",
      "\n",
      "Loading best model from ./results/checkpoint-1 (score: 1.1883150339126587).\n",
      "Saving model checkpoint to results\\best_model\n",
      "Configuration saved in results\\best_model\\config.json\n"
     ]
    },
    {
     "name": "stdout",
     "output_type": "stream",
     "text": [
      "{'train_runtime': 9.3649, 'train_samples_per_second': 0.854, 'train_steps_per_second': 0.107, 'train_loss': 0.7092615365982056, 'epoch': 1.0}\n"
     ]
    },
    {
     "name": "stderr",
     "output_type": "stream",
     "text": [
      "Model weights saved in results\\best_model\\pytorch_model.bin\n",
      "***** Running Prediction *****\n",
      "  Num examples = 1\n",
      "  Batch size = 32\n",
      "***** Running Prediction *****\n",
      "  Num examples = 1\n",
      "  Batch size = 32\n"
     ]
    },
    {
     "data": {
      "text/plain": "{'control_results': {'control_loss': 5.538372039794922,\n  'control_accuracy_score': 0.0,\n  'control_runtime': 0.3452,\n  'control_samples_per_second': 2.897,\n  'control_steps_per_second': 2.897},\n 'test_results': {'test_loss': 0.003772762371227145,\n  'test_accuracy_score': 1.0,\n  'test_runtime': 0.2546,\n  'test_samples_per_second': 3.927,\n  'test_steps_per_second': 3.927},\n 'train_results': {'train_runtime': 9.3649,\n  'train_samples_per_second': 0.854,\n  'train_steps_per_second': 0.107,\n  'train_loss': 0.7092615365982056,\n  'epoch': 1.0,\n  'history': [{'train_loss': 1.6781306266784668,\n    'train_accuracy_score': 0.625,\n    'train_runtime': 2.0425,\n    'train_samples_per_second': 3.917,\n    'train_steps_per_second': 0.49,\n    'epoch': 1.0,\n    'step': 1},\n   {'loss': 0.7093, 'learning_rate': 0.0, 'epoch': 1.0, 'step': 1},\n   {'eval_loss': 1.1883150339126587,\n    'eval_accuracy_score': 0.5,\n    'eval_runtime': 0.5294,\n    'eval_samples_per_second': 3.778,\n    'eval_steps_per_second': 1.889,\n    'epoch': 1.0,\n    'step': 1}]}}"
     },
     "execution_count": 3,
     "metadata": {},
     "output_type": "execute_result"
    }
   ],
   "source": [
    "ttrr.loop()"
   ]
  },
  {
   "cell_type": "code",
   "execution_count": 6,
   "metadata": {
    "collapsed": false,
    "ExecuteTime": {
     "end_time": "2023-12-12T15:40:07.170654100Z",
     "start_time": "2023-12-12T15:40:07.150949200Z"
    }
   },
   "outputs": [
    {
     "data": {
      "text/plain": "[{'control': {'control_accuracy_score': 0.0,\n   'control_loss': 5.538372039794922,\n   'control_runtime': 0.3452,\n   'control_samples_per_second': 2.897,\n   'control_steps_per_second': 2.897},\n  'test': {'test_accuracy_score': 1.0,\n   'test_loss': 0.003772762371227145,\n   'test_runtime': 0.2546,\n   'test_samples_per_second': 3.927,\n   'test_steps_per_second': 3.927},\n  'train': {'epoch': 1.0,\n   'history': [{'epoch': 1.0,\n     'step': 1,\n     'train_accuracy_score': 0.625,\n     'train_loss': 1.6781306266784668,\n     'train_runtime': 2.0425,\n     'train_samples_per_second': 3.917,\n     'train_steps_per_second': 0.49},\n    {'epoch': 1.0, 'learning_rate': 0.0, 'loss': 0.7093, 'step': 1},\n    {'epoch': 1.0,\n     'eval_accuracy_score': 0.5,\n     'eval_loss': 1.1883150339126587,\n     'eval_runtime': 0.5294,\n     'eval_samples_per_second': 3.778,\n     'eval_steps_per_second': 1.889,\n     'step': 1}],\n   'train_loss': 0.7092615365982056,\n   'train_runtime': 9.3649,\n   'train_samples_per_second': 0.854,\n   'train_steps_per_second': 0.107}}]"
     },
     "execution_count": 6,
     "metadata": {},
     "output_type": "execute_result"
    }
   ],
   "source": [
    "ttrr.get_metrics()"
   ]
  }
 ],
 "metadata": {
  "kernelspec": {
   "display_name": "Python 3",
   "language": "python",
   "name": "python3"
  },
  "language_info": {
   "codemirror_mode": {
    "name": "ipython",
    "version": 3
   },
   "file_extension": ".py",
   "mimetype": "text/x-python",
   "name": "python",
   "nbconvert_exporter": "python",
   "pygments_lexer": "ipython3",
   "version": "3.10.8"
  }
 },
 "nbformat": 4,
 "nbformat_minor": 0
}

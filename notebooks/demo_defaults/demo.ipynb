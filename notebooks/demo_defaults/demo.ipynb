{
 "cells": [
  {
   "cell_type": "code",
   "execution_count": 2,
   "metadata": {
    "ExecuteTime": {
     "end_time": "2023-08-20T18:04:32.116130500Z",
     "start_time": "2023-08-20T18:04:28.019257400Z"
    },
    "collapsed": false
   },
   "outputs": [
    {
     "name": "stderr",
     "output_type": "stream",
     "text": [
      "d:\\anaconda\\envs\\pytorch_venv\\lib\\site-packages\\tqdm\\auto.py:22: TqdmWarning: IProgress not found. Please update jupyter and ipywidgets. See https://ipywidgets.readthedocs.io/en/stable/user_install.html\n",
      "  from .autonotebook import tqdm as notebook_tqdm\n"
     ]
    }
   ],
   "source": [
    "import os\n",
    "import sys\n",
    "sys.path.append(\"../../src\")\n",
    "import t2r2\n",
    "\n",
    "os.environ['WANDB_DISABLED'] = 'true'"
   ]
  },
  {
   "cell_type": "code",
   "execution_count": 3,
   "metadata": {
    "ExecuteTime": {
     "end_time": "2023-08-20T18:04:47.403853200Z",
     "start_time": "2023-08-20T18:04:32.118131Z"
    },
    "collapsed": false
   },
   "outputs": [
    {
     "name": "stderr",
     "output_type": "stream",
     "text": [
      "Some weights of the model checkpoint at bert-base-cased were not used when initializing BertForSequenceClassification: ['cls.predictions.bias', 'cls.predictions.transform.dense.weight', 'cls.seq_relationship.weight', 'cls.predictions.decoder.weight', 'cls.seq_relationship.bias', 'cls.predictions.transform.LayerNorm.weight', 'cls.predictions.transform.dense.bias', 'cls.predictions.transform.LayerNorm.bias']\n",
      "- This IS expected if you are initializing BertForSequenceClassification from the checkpoint of a model trained on another task or with another architecture (e.g. initializing a BertForSequenceClassification model from a BertForPreTraining model).\n",
      "- This IS NOT expected if you are initializing BertForSequenceClassification from the checkpoint of a model that you expect to be exactly identical (initializing a BertForSequenceClassification model from a BertForSequenceClassification model).\n",
      "Some weights of BertForSequenceClassification were not initialized from the model checkpoint at bert-base-cased and are newly initialized: ['classifier.weight', 'classifier.bias']\n",
      "You should probably TRAIN this model on a down-stream task to be able to use it for predictions and inference.\n",
      "Using the `WANDB_DISABLED` environment variable is deprecated and will be removed in v5. Use the --report_to flag to control the integrations used for logging result (for instance --report_to none).\n",
      "d:\\anaconda\\envs\\pytorch_venv\\lib\\site-packages\\transformers\\optimization.py:391: FutureWarning: This implementation of AdamW is deprecated and will be removed in a future version. Use the PyTorch implementation torch.optim.AdamW instead, or set `no_deprecation_warning=True` to disable this warning\n",
      "  warnings.warn(\n",
      "100%|██████████| 4/4 [00:10<00:00,  2.46s/it]"
     ]
    },
    {
     "name": "stdout",
     "output_type": "stream",
     "text": [
      "{'loss': 2.4674, 'learning_rate': 0.0, 'epoch': 1.0}\n"
     ]
    },
    {
     "name": "stderr",
     "output_type": "stream",
     "text": [
      "                                             \n",
      "100%|██████████| 4/4 [00:10<00:00,  2.46s/it]"
     ]
    },
    {
     "name": "stdout",
     "output_type": "stream",
     "text": [
      "{'eval_loss': 2.1850664615631104, 'eval_accuracy_score': 0.5, 'eval_runtime': 0.6167, 'eval_samples_per_second': 3.243, 'eval_steps_per_second': 1.622, 'epoch': 1.0}\n"
     ]
    },
    {
     "name": "stderr",
     "output_type": "stream",
     "text": [
      "100%|██████████| 4/4 [00:18<00:00,  4.60s/it]\n"
     ]
    },
    {
     "name": "stdout",
     "output_type": "stream",
     "text": [
      "{'train_runtime': 18.8993, 'train_samples_per_second': 0.423, 'train_steps_per_second': 0.212, 'train_loss': 2.467377185821533, 'epoch': 1.0}\n"
     ]
    },
    {
     "name": "stderr",
     "output_type": "stream",
     "text": [
      "100%|██████████| 5/5 [00:02<00:00,  1.81it/s]\n",
      "100%|██████████| 5/5 [00:02<00:00,  1.77it/s]\n"
     ]
    },
    {
     "data": {
      "text/plain": [
       "{'train_results': {'train_runtime': 18.8993,\n",
       "  'train_samples_per_second': 0.423,\n",
       "  'train_steps_per_second': 0.212,\n",
       "  'train_loss': 2.467377185821533,\n",
       "  'epoch': 1.0},\n",
       " 'test_results': {'test_loss': 3.283430814743042,\n",
       "  'test_accuracy_score': 0.1,\n",
       "  'test_runtime': 3.4414,\n",
       "  'test_samples_per_second': 2.906,\n",
       "  'test_steps_per_second': 1.453},\n",
       " 'control_results': {'test_loss': 2.6299052238464355,\n",
       "  'test_accuracy_score': 0.2,\n",
       "  'test_runtime': 3.5416,\n",
       "  'test_samples_per_second': 2.824,\n",
       "  'test_steps_per_second': 1.412}}"
      ]
     },
     "execution_count": 3,
     "metadata": {},
     "output_type": "execute_result"
    }
   ],
   "source": [
    "t2r2.loop()"
   ]
  },
  {
   "cell_type": "code",
   "execution_count": 4,
   "metadata": {
    "ExecuteTime": {
     "end_time": "2023-08-20T18:04:47.446852600Z",
     "start_time": "2023-08-20T18:04:47.404854100Z"
    },
    "collapsed": false
   },
   "outputs": [
    {
     "data": {
      "text/plain": [
       "{'control': {'test_accuracy_score': 0.2,\n",
       "  'test_loss': 2.6299052238464355,\n",
       "  'test_runtime': 3.5416,\n",
       "  'test_samples_per_second': 2.824,\n",
       "  'test_steps_per_second': 1.412},\n",
       " 'test': {'test_accuracy_score': 0.1,\n",
       "  'test_loss': 3.283430814743042,\n",
       "  'test_runtime': 3.4414,\n",
       "  'test_samples_per_second': 2.906,\n",
       "  'test_steps_per_second': 1.453},\n",
       " 'train': {'epoch': 1.0,\n",
       "  'train_loss': 2.467377185821533,\n",
       "  'train_runtime': 18.8993,\n",
       "  'train_samples_per_second': 0.423,\n",
       "  'train_steps_per_second': 0.212}}"
      ]
     },
     "execution_count": 4,
     "metadata": {},
     "output_type": "execute_result"
    }
   ],
   "source": [
    "t2r2.get_metrics()"
   ]
  }
 ],
 "metadata": {
  "kernelspec": {
   "display_name": "Python 3",
   "language": "python",
   "name": "python3"
  },
  "language_info": {
   "codemirror_mode": {
    "name": "ipython",
    "version": 3
   },
   "file_extension": ".py",
   "mimetype": "text/x-python",
   "name": "python",
   "nbconvert_exporter": "python",
   "pygments_lexer": "ipython3",
   "version": "3.10.8"
  }
 },
 "nbformat": 4,
 "nbformat_minor": 0
}

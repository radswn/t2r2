{
 "cells": [
  {
   "cell_type": "markdown",
   "metadata": {},
   "source": [
    "# Notebook showing artifact retrieval using mlflow run and experiment tracking and model registry"
   ]
  },
  {
   "cell_type": "markdown",
   "metadata": {},
   "source": [
    "This notebook highlights the functionality of mlflow artifact versioning per run.\n",
    "\n",
    "To follow the steps first outlined in the cells, please first enter: \n",
    "``` \n",
    "mlflow server\n",
    "```\n",
    "in the terminal window opened in the subdirectory of the demo (current pwd). I.e here it would be:"
   ]
  },
  {
   "cell_type": "code",
   "execution_count": 1,
   "metadata": {},
   "outputs": [],
   "source": [
    "import os\n",
    "import logging"
   ]
  },
  {
   "cell_type": "code",
   "execution_count": 2,
   "metadata": {
    "ExecuteTime": {
     "end_time": "2023-06-06T18:47:29.680742400Z",
     "start_time": "2023-06-06T18:47:26.746571100Z"
    },
    "collapsed": true
   },
   "outputs": [
    {
     "name": "stderr",
     "output_type": "stream",
     "text": [
      "c:\\Users\\ismyn\\miniconda3\\envs\\enginora_env\\lib\\site-packages\\tqdm\\auto.py:21: TqdmWarning: IProgress not found. Please update jupyter and ipywidgets. See https://ipywidgets.readthedocs.io/en/stable/user_install.html\n",
      "  from .autonotebook import tqdm as notebook_tqdm\n"
     ]
    }
   ],
   "source": [
    "import enginora"
   ]
  },
  {
   "cell_type": "code",
   "execution_count": 3,
   "metadata": {
    "ExecuteTime": {
     "end_time": "2023-06-06T18:47:29.692642500Z",
     "start_time": "2023-06-06T18:47:29.683581900Z"
    },
    "collapsed": false,
    "pycharm": {
     "name": "#%%\n"
    }
   },
   "outputs": [],
   "source": [
    "os.environ['WANDB_DISABLED'] = 'true'\n",
    "\n",
    "logging.basicConfig(format=\"[%(filename)s:%(lineno)s - %(funcName)20s() ] %(message)s\", level=logging.INFO)"
   ]
  },
  {
   "cell_type": "code",
   "execution_count": 4,
   "metadata": {
    "ExecuteTime": {
     "end_time": "2023-06-06T19:01:32.772699200Z",
     "start_time": "2023-06-06T18:47:29.696640100Z"
    },
    "collapsed": false,
    "pycharm": {
     "name": "#%%\n"
    }
   },
   "outputs": [
    {
     "name": "stderr",
     "output_type": "stream",
     "text": [
      "[MlflowManager.py:69 -     set_tracking_uri() ] mlflow: Tracking uri set\n"
     ]
    },
    {
     "name": "stderr",
     "output_type": "stream",
     "text": [
      "Some weights of the model checkpoint at bert-base-cased were not used when initializing BertForSequenceClassification: ['cls.predictions.transform.LayerNorm.weight', 'cls.predictions.transform.LayerNorm.bias', 'cls.predictions.decoder.weight', 'cls.seq_relationship.bias', 'cls.predictions.bias', 'cls.predictions.transform.dense.bias', 'cls.seq_relationship.weight', 'cls.predictions.transform.dense.weight']\n",
      "- This IS expected if you are initializing BertForSequenceClassification from the checkpoint of a model trained on another task or with another architecture (e.g. initializing a BertForSequenceClassification model from a BertForPreTraining model).\n",
      "- This IS NOT expected if you are initializing BertForSequenceClassification from the checkpoint of a model that you expect to be exactly identical (initializing a BertForSequenceClassification model from a BertForSequenceClassification model).\n",
      "Some weights of BertForSequenceClassification were not initialized from the model checkpoint at bert-base-cased and are newly initialized: ['classifier.weight', 'classifier.bias']\n",
      "You should probably TRAIN this model on a down-stream task to be able to use it for predictions and inference.\n",
      "[MlflowManager.py:35 - mlflow_create_experiment() ] ***SETTING EXPERIMENT***\n",
      "[MlflowManager.py:36 - mlflow_create_experiment() ] Name: my_experiment_3\n",
      "[MlflowManager.py:37 - mlflow_create_experiment() ] Experiment_id: 497116012591044347\n",
      "[MlflowManager.py:38 - mlflow_create_experiment() ] Artifact Location: mlflow-artifacts:/497116012591044347\n",
      "[MlflowManager.py:39 - mlflow_create_experiment() ] Tags: {'version': 'v1'}\n",
      "[MlflowManager.py:40 - mlflow_create_experiment() ] Lifecycle_stage: active\n",
      "[MlflowManager.py:41 - mlflow_create_experiment() ] Creation timestamp: 1693126251333\n",
      "c:\\Users\\ismyn\\miniconda3\\envs\\enginora_env\\lib\\site-packages\\mlflow\\data\\pandas_dataset.py:116: UserWarning: Hint: Inferred schema contains integer column(s). Integer columns in Python cannot represent missing values. If your input data contains missing values at inference time, it will be encoded as floats and will cause a schema enforcement error. The best way to avoid this problem is to infer the model schema based on a realistic data sample (training dataset) that includes missing values. Alternatively, you can declare integer columns as doubles (float64) whenever these columns may have missing values. See `Handling Integers With Missing Values <https://www.mlflow.org/docs/latest/models.html#handling-integers-with-missing-values>`_ for more details.\n",
      "  return _infer_schema(self._df)\n",
      "c:\\Users\\ismyn\\miniconda3\\envs\\enginora_env\\lib\\site-packages\\mlflow\\data\\pandas_dataset.py:116: UserWarning: Hint: Inferred schema contains integer column(s). Integer columns in Python cannot represent missing values. If your input data contains missing values at inference time, it will be encoded as floats and will cause a schema enforcement error. The best way to avoid this problem is to infer the model schema based on a realistic data sample (training dataset) that includes missing values. Alternatively, you can declare integer columns as doubles (float64) whenever these columns may have missing values. See `Handling Integers With Missing Values <https://www.mlflow.org/docs/latest/models.html#handling-integers-with-missing-values>`_ for more details.\n",
      "  return _infer_schema(self._df)\n",
      "c:\\Users\\ismyn\\miniconda3\\envs\\enginora_env\\lib\\site-packages\\mlflow\\data\\pandas_dataset.py:116: UserWarning: Hint: Inferred schema contains integer column(s). Integer columns in Python cannot represent missing values. If your input data contains missing values at inference time, it will be encoded as floats and will cause a schema enforcement error. The best way to avoid this problem is to infer the model schema based on a realistic data sample (training dataset) that includes missing values. Alternatively, you can declare integer columns as doubles (float64) whenever these columns may have missing values. See `Handling Integers With Missing Values <https://www.mlflow.org/docs/latest/models.html#handling-integers-with-missing-values>`_ for more details.\n",
      "  return _infer_schema(self._df)\n",
      "c:\\Users\\ismyn\\miniconda3\\envs\\enginora_env\\lib\\site-packages\\mlflow\\data\\pandas_dataset.py:116: UserWarning: Hint: Inferred schema contains integer column(s). Integer columns in Python cannot represent missing values. If your input data contains missing values at inference time, it will be encoded as floats and will cause a schema enforcement error. The best way to avoid this problem is to infer the model schema based on a realistic data sample (training dataset) that includes missing values. Alternatively, you can declare integer columns as doubles (float64) whenever these columns may have missing values. See `Handling Integers With Missing Values <https://www.mlflow.org/docs/latest/models.html#handling-integers-with-missing-values>`_ for more details.\n",
      "  return _infer_schema(self._df)\n",
      "[MlflowManager.py:53 -             log_data() ] mlflow: Dataset logged\n",
      "[MlflowManager.py:77 - log_dataset_synopsis() ] mlflow: Dataset synopsis logged\n",
      "Using the `WAND_DISABLED` environment variable is deprecated and will be removed in v5. Use the --report_to flag to control the integrations used for logging result (for instance --report_to none).\n",
      "c:\\Users\\ismyn\\miniconda3\\envs\\enginora_env\\lib\\site-packages\\transformers\\optimization.py:306: FutureWarning: This implementation of AdamW is deprecated and will be removed in a future version. Use the PyTorch implementation torch.optim.AdamW instead, or set `no_deprecation_warning=True` to disable this warning\n",
      "  warnings.warn(\n",
      "***** Running training *****\n",
      "  Num examples = 10\n",
      "  Num Epochs = 2\n",
      "  Instantaneous batch size per device = 2\n",
      "  Total train batch size (w. parallel, distributed & accumulation) = 2\n",
      "  Gradient Accumulation steps = 1\n",
      "  Total optimization steps = 10\n",
      " 50%|█████     | 5/10 [00:13<00:12,  2.58s/it]***** Running Evaluation *****\n",
      "  Num examples = 10\n",
      "  Batch size = 2\n"
     ]
    },
    {
     "name": "stdout",
     "output_type": "stream",
     "text": [
      "{'loss': 2.6633, 'learning_rate': 0.0005, 'epoch': 1.0}\n"
     ]
    },
    {
     "name": "stderr",
     "output_type": "stream",
     "text": [
      "                                              \n",
      " 50%|█████     | 5/10 [00:17<00:12,  2.58s/it]Saving model checkpoint to ClassificationBERT\\checkpoint-5\n",
      "Configuration saved in ClassificationBERT\\checkpoint-5\\config.json\n"
     ]
    },
    {
     "name": "stdout",
     "output_type": "stream",
     "text": [
      "{'eval_loss': 2.6577999591827393, 'eval_f1_score': 0.04761904761904762, 'eval_runtime': 4.2622, 'eval_samples_per_second': 2.346, 'eval_steps_per_second': 1.173, 'epoch': 1.0}\n"
     ]
    },
    {
     "name": "stderr",
     "output_type": "stream",
     "text": [
      "Model weights saved in ClassificationBERT\\checkpoint-5\\pytorch_model.bin\n",
      "100%|██████████| 10/10 [00:32<00:00,  3.01s/it]***** Running Evaluation *****\n",
      "  Num examples = 10\n",
      "  Batch size = 2\n"
     ]
    },
    {
     "name": "stdout",
     "output_type": "stream",
     "text": [
      "{'loss': 1.703, 'learning_rate': 0.0, 'epoch': 2.0}\n"
     ]
    },
    {
     "name": "stderr",
     "output_type": "stream",
     "text": [
      "                                               \n",
      "100%|██████████| 10/10 [00:36<00:00,  3.01s/it]Saving model checkpoint to ClassificationBERT\\checkpoint-10\n",
      "Configuration saved in ClassificationBERT\\checkpoint-10\\config.json\n"
     ]
    },
    {
     "name": "stdout",
     "output_type": "stream",
     "text": [
      "{'eval_loss': 3.1825222969055176, 'eval_f1_score': 0.0, 'eval_runtime': 4.2376, 'eval_samples_per_second': 2.36, 'eval_steps_per_second': 1.18, 'epoch': 2.0}\n"
     ]
    },
    {
     "name": "stderr",
     "output_type": "stream",
     "text": [
      "Model weights saved in ClassificationBERT\\checkpoint-10\\pytorch_model.bin\n",
      "\n",
      "\n",
      "Training completed. Do not forget to share your model on huggingface.co/models =)\n",
      "\n",
      "\n",
      "Loading best model from ClassificationBERT\\checkpoint-5 (score: 0.04761904761904762).\n",
      "100%|██████████| 10/10 [00:39<00:00,  3.92s/it]\n"
     ]
    },
    {
     "name": "stdout",
     "output_type": "stream",
     "text": [
      "{'train_runtime': 39.3932, 'train_samples_per_second': 0.508, 'train_steps_per_second': 0.254, 'train_loss': 2.1831647872924806, 'epoch': 2.0}\n"
     ]
    },
    {
     "name": "stderr",
     "output_type": "stream",
     "text": [
      "c:\\Users\\ismyn\\miniconda3\\envs\\enginora_env\\lib\\site-packages\\_distutils_hack\\__init__.py:33: UserWarning: Setuptools is replacing distutils.\n",
      "  warnings.warn(\"Setuptools is replacing distutils.\")\n",
      "Registered model 'my_registered_model' already exists. Creating a new version of this model...\n",
      "2023/09/01 00:05:59 INFO mlflow.tracking._model_registry.client: Waiting up to 300 seconds for model version to finish creation. Model name: my_registered_model, version 6\n",
      "Created version '6' of model 'my_registered_model'.\n",
      "[MlflowManager.py:65 -            log_model() ] mlflow: logging model\n",
      "***** Running Prediction *****\n",
      "  Num examples = 10\n",
      "  Batch size = 2\n",
      "100%|██████████| 5/5 [00:03<00:00,  1.37it/s][MlflowManager.py:46 -          log_metrics() ] mlflow: logging metrics :test_loss_test test_f1_score_test test_runtime_test test_samples_per_second_test test_steps_per_second_test\n",
      "***** Running Prediction *****\n",
      "  Num examples = 10\n",
      "  Batch size = 2\n",
      "10it [00:07,  1.21it/s]                      [MlflowManager.py:46 -          log_metrics() ] mlflow: logging metrics :test_loss_cont test_f1_score_cont test_runtime_cont test_samples_per_second_cont test_steps_per_second_cont\n",
      "10it [00:07,  1.31it/s]\n"
     ]
    },
    {
     "data": {
      "text/plain": [
       "{'train_results': TrainOutput(global_step=10, training_loss=2.1831647872924806, metrics={'train_runtime': 39.3932, 'train_samples_per_second': 0.508, 'train_steps_per_second': 0.254, 'train_loss': 2.1831647872924806, 'epoch': 2.0}),\n",
       " 'test_results': {'test_loss': 2.2039055824279785,\n",
       "  'test_f1_score': 0.1111111111111111,\n",
       "  'test_runtime': 4.1144,\n",
       "  'test_samples_per_second': 2.431,\n",
       "  'test_steps_per_second': 1.215},\n",
       " 'control_results': {'test_loss': 2.461996555328369,\n",
       "  'test_f1_score': 0.0,\n",
       "  'test_runtime': 4.2001,\n",
       "  'test_samples_per_second': 2.381,\n",
       "  'test_steps_per_second': 1.19}}"
      ]
     },
     "execution_count": 4,
     "metadata": {},
     "output_type": "execute_result"
    }
   ],
   "source": [
    "enginora.loop()"
   ]
  },
  {
   "cell_type": "markdown",
   "metadata": {},
   "source": [
    "In order to see what metrics were logged during particular runs please use the following:"
   ]
  },
  {
   "cell_type": "code",
   "execution_count": 7,
   "metadata": {},
   "outputs": [
    {
     "name": "stdout",
     "output_type": "stream",
     "text": [
      "The metrics logged which you can retrieve from this experiment are: \n",
      "\n",
      " - loss\n",
      " - test_steps_per_second_test\n",
      " - learning_rate\n",
      " - train_samples_per_second\n",
      " - train_steps_per_second\n",
      " - eval_runtime\n",
      " - eval_f1_score\n",
      " - epoch\n",
      " - train_loss\n",
      " - test_f1_score_cont\n",
      " - test_runtime_cont\n",
      " - eval_loss\n",
      " - total_flos\n",
      " - test_f1_score_test\n",
      " - test_steps_per_second_cont\n",
      " - eval_steps_per_second\n",
      " - test_samples_per_second_cont\n",
      " - test_loss_test\n",
      " - train_runtime\n",
      " - test_runtime_test\n",
      " - test_samples_per_second_test\n",
      " - test_loss_cont\n",
      " - eval_samples_per_second\n"
     ]
    }
   ],
   "source": [
    "from enginora.utils.mlflow.MlflowManager import MlflowManager\n",
    "MlflowManager.display_metrics(experiment_names = [\"my_experiment_3\"]);"
   ]
  },
  {
   "cell_type": "markdown",
   "metadata": {},
   "source": [
    "To gain additional knowledge and inspect the runs in the notebook environment:"
   ]
  },
  {
   "cell_type": "code",
   "execution_count": 8,
   "metadata": {},
   "outputs": [
    {
     "data": {
      "text/html": [
       "<div>\n",
       "<style scoped>\n",
       "    .dataframe tbody tr th:only-of-type {\n",
       "        vertical-align: middle;\n",
       "    }\n",
       "\n",
       "    .dataframe tbody tr th {\n",
       "        vertical-align: top;\n",
       "    }\n",
       "\n",
       "    .dataframe thead th {\n",
       "        text-align: right;\n",
       "    }\n",
       "</style>\n",
       "<table border=\"1\" class=\"dataframe\">\n",
       "  <thead>\n",
       "    <tr style=\"text-align: right;\">\n",
       "      <th></th>\n",
       "      <th>run_id</th>\n",
       "      <th>experiment_id</th>\n",
       "      <th>status</th>\n",
       "      <th>artifact_uri</th>\n",
       "      <th>start_time</th>\n",
       "      <th>end_time</th>\n",
       "      <th>metrics.loss</th>\n",
       "      <th>metrics.test_steps_per_second_test</th>\n",
       "      <th>metrics.learning_rate</th>\n",
       "      <th>metrics.train_samples_per_second</th>\n",
       "      <th>...</th>\n",
       "      <th>params.evaluation_strategy</th>\n",
       "      <th>params.jit_mode_eval</th>\n",
       "      <th>params.num_beam_groups</th>\n",
       "      <th>params.problem_type</th>\n",
       "      <th>params.do_eval</th>\n",
       "      <th>tags.mlflow.source.name</th>\n",
       "      <th>tags.mlflow.user</th>\n",
       "      <th>tags.mlflow.source.type</th>\n",
       "      <th>tags.mlflow.runName</th>\n",
       "      <th>tags.mlflow.log-model.history</th>\n",
       "    </tr>\n",
       "  </thead>\n",
       "  <tbody>\n",
       "    <tr>\n",
       "      <th>0</th>\n",
       "      <td>1e8ed1f1095f4c91a207641bde96c86c</td>\n",
       "      <td>497116012591044347</td>\n",
       "      <td>FINISHED</td>\n",
       "      <td>mlflow-artifacts:/497116012591044347/1e8ed1f10...</td>\n",
       "      <td>2023-08-31 22:04:58.032000+00:00</td>\n",
       "      <td>2023-08-31 22:06:07.589000+00:00</td>\n",
       "      <td>1.7030</td>\n",
       "      <td>1.215</td>\n",
       "      <td>0.0</td>\n",
       "      <td>0.508</td>\n",
       "      <td>...</td>\n",
       "      <td>epoch</td>\n",
       "      <td>False</td>\n",
       "      <td>1</td>\n",
       "      <td>None</td>\n",
       "      <td>True</td>\n",
       "      <td>c:\\Users\\ismyn\\miniconda3\\envs\\enginora_env\\li...</td>\n",
       "      <td>janina</td>\n",
       "      <td>LOCAL</td>\n",
       "      <td>redolent-hare-140</td>\n",
       "      <td>[{\"run_id\": \"1e8ed1f1095f4c91a207641bde96c86c\"...</td>\n",
       "    </tr>\n",
       "    <tr>\n",
       "      <th>1</th>\n",
       "      <td>76af2a4bba124ad1832706d339650aac</td>\n",
       "      <td>497116012591044347</td>\n",
       "      <td>FINISHED</td>\n",
       "      <td>mlflow-artifacts:/497116012591044347/76af2a4bb...</td>\n",
       "      <td>2023-08-27 17:55:21.686000+00:00</td>\n",
       "      <td>2023-08-27 17:56:14.825000+00:00</td>\n",
       "      <td>2.2225</td>\n",
       "      <td>1.367</td>\n",
       "      <td>0.0</td>\n",
       "      <td>0.597</td>\n",
       "      <td>...</td>\n",
       "      <td>epoch</td>\n",
       "      <td>False</td>\n",
       "      <td>1</td>\n",
       "      <td>None</td>\n",
       "      <td>True</td>\n",
       "      <td>c:\\Users\\ismyn\\miniconda3\\envs\\enginora_env\\li...</td>\n",
       "      <td>janina</td>\n",
       "      <td>LOCAL</td>\n",
       "      <td>judicious-worm-435</td>\n",
       "      <td>[{\"run_id\": \"76af2a4bba124ad1832706d339650aac\"...</td>\n",
       "    </tr>\n",
       "    <tr>\n",
       "      <th>2</th>\n",
       "      <td>f65cd62ed53244b69e243074c7d21aa7</td>\n",
       "      <td>497116012591044347</td>\n",
       "      <td>FINISHED</td>\n",
       "      <td>mlflow-artifacts:/497116012591044347/f65cd62ed...</td>\n",
       "      <td>2023-08-31 21:58:36.889000+00:00</td>\n",
       "      <td>2023-08-31 21:59:52.216000+00:00</td>\n",
       "      <td>2.6940</td>\n",
       "      <td>1.264</td>\n",
       "      <td>0.0</td>\n",
       "      <td>0.420</td>\n",
       "      <td>...</td>\n",
       "      <td>epoch</td>\n",
       "      <td>False</td>\n",
       "      <td>1</td>\n",
       "      <td>None</td>\n",
       "      <td>True</td>\n",
       "      <td>c:\\Users\\ismyn\\miniconda3\\envs\\enginora_env\\li...</td>\n",
       "      <td>janina</td>\n",
       "      <td>LOCAL</td>\n",
       "      <td>able-flea-223</td>\n",
       "      <td>[{\"run_id\": \"f65cd62ed53244b69e243074c7d21aa7\"...</td>\n",
       "    </tr>\n",
       "    <tr>\n",
       "      <th>3</th>\n",
       "      <td>c221b3a836f2427089a1ef81b9d10d29</td>\n",
       "      <td>497116012591044347</td>\n",
       "      <td>FINISHED</td>\n",
       "      <td>mlflow-artifacts:/497116012591044347/c221b3a83...</td>\n",
       "      <td>2023-08-27 17:57:52.725000+00:00</td>\n",
       "      <td>2023-08-27 17:58:44.770000+00:00</td>\n",
       "      <td>2.2308</td>\n",
       "      <td>1.370</td>\n",
       "      <td>0.0</td>\n",
       "      <td>0.580</td>\n",
       "      <td>...</td>\n",
       "      <td>epoch</td>\n",
       "      <td>False</td>\n",
       "      <td>1</td>\n",
       "      <td>None</td>\n",
       "      <td>True</td>\n",
       "      <td>c:\\Users\\ismyn\\miniconda3\\envs\\enginora_env\\li...</td>\n",
       "      <td>janina</td>\n",
       "      <td>LOCAL</td>\n",
       "      <td>sneaky-ram-43</td>\n",
       "      <td>[{\"run_id\": \"c221b3a836f2427089a1ef81b9d10d29\"...</td>\n",
       "    </tr>\n",
       "    <tr>\n",
       "      <th>4</th>\n",
       "      <td>ee30dc7bfed446c995b491e46b8062af</td>\n",
       "      <td>497116012591044347</td>\n",
       "      <td>FINISHED</td>\n",
       "      <td>mlflow-artifacts:/497116012591044347/ee30dc7bf...</td>\n",
       "      <td>2023-08-27 09:36:34.229000+00:00</td>\n",
       "      <td>2023-08-27 09:37:33.306000+00:00</td>\n",
       "      <td>2.0603</td>\n",
       "      <td>1.207</td>\n",
       "      <td>0.0</td>\n",
       "      <td>0.512</td>\n",
       "      <td>...</td>\n",
       "      <td>epoch</td>\n",
       "      <td>False</td>\n",
       "      <td>1</td>\n",
       "      <td>None</td>\n",
       "      <td>True</td>\n",
       "      <td>c:\\Users\\ismyn\\miniconda3\\envs\\enginora_env\\li...</td>\n",
       "      <td>janina</td>\n",
       "      <td>LOCAL</td>\n",
       "      <td>resilient-slug-19</td>\n",
       "      <td>[{\"run_id\": \"ee30dc7bfed446c995b491e46b8062af\"...</td>\n",
       "    </tr>\n",
       "    <tr>\n",
       "      <th>5</th>\n",
       "      <td>1fa37633e8f847fb9b83f1cd0e5f5475</td>\n",
       "      <td>497116012591044347</td>\n",
       "      <td>FINISHED</td>\n",
       "      <td>mlflow-artifacts:/497116012591044347/1fa37633e...</td>\n",
       "      <td>2023-08-27 09:04:22.510000+00:00</td>\n",
       "      <td>2023-08-27 09:05:42.797000+00:00</td>\n",
       "      <td>2.4392</td>\n",
       "      <td>0.663</td>\n",
       "      <td>0.0</td>\n",
       "      <td>0.315</td>\n",
       "      <td>...</td>\n",
       "      <td>epoch</td>\n",
       "      <td>False</td>\n",
       "      <td>1</td>\n",
       "      <td>None</td>\n",
       "      <td>True</td>\n",
       "      <td>c:\\Users\\ismyn\\miniconda3\\envs\\enginora_env\\li...</td>\n",
       "      <td>janina</td>\n",
       "      <td>LOCAL</td>\n",
       "      <td>amazing-bat-841</td>\n",
       "      <td>None</td>\n",
       "    </tr>\n",
       "    <tr>\n",
       "      <th>6</th>\n",
       "      <td>de274d22b65940249b04d69f50a5d0b6</td>\n",
       "      <td>497116012591044347</td>\n",
       "      <td>FINISHED</td>\n",
       "      <td>mlflow-artifacts:/497116012591044347/de274d22b...</td>\n",
       "      <td>2023-08-27 12:09:08.269000+00:00</td>\n",
       "      <td>2023-08-27 12:11:40.988000+00:00</td>\n",
       "      <td>2.9470</td>\n",
       "      <td>0.540</td>\n",
       "      <td>0.0</td>\n",
       "      <td>0.225</td>\n",
       "      <td>...</td>\n",
       "      <td>epoch</td>\n",
       "      <td>False</td>\n",
       "      <td>1</td>\n",
       "      <td>None</td>\n",
       "      <td>True</td>\n",
       "      <td>c:\\Users\\ismyn\\miniconda3\\envs\\enginora_env\\li...</td>\n",
       "      <td>janina</td>\n",
       "      <td>LOCAL</td>\n",
       "      <td>redolent-hog-322</td>\n",
       "      <td>[{\"run_id\": \"de274d22b65940249b04d69f50a5d0b6\"...</td>\n",
       "    </tr>\n",
       "  </tbody>\n",
       "</table>\n",
       "<p>7 rows × 201 columns</p>\n",
       "</div>"
      ],
      "text/plain": [
       "                             run_id       experiment_id    status  \\\n",
       "0  1e8ed1f1095f4c91a207641bde96c86c  497116012591044347  FINISHED   \n",
       "1  76af2a4bba124ad1832706d339650aac  497116012591044347  FINISHED   \n",
       "2  f65cd62ed53244b69e243074c7d21aa7  497116012591044347  FINISHED   \n",
       "3  c221b3a836f2427089a1ef81b9d10d29  497116012591044347  FINISHED   \n",
       "4  ee30dc7bfed446c995b491e46b8062af  497116012591044347  FINISHED   \n",
       "5  1fa37633e8f847fb9b83f1cd0e5f5475  497116012591044347  FINISHED   \n",
       "6  de274d22b65940249b04d69f50a5d0b6  497116012591044347  FINISHED   \n",
       "\n",
       "                                        artifact_uri  \\\n",
       "0  mlflow-artifacts:/497116012591044347/1e8ed1f10...   \n",
       "1  mlflow-artifacts:/497116012591044347/76af2a4bb...   \n",
       "2  mlflow-artifacts:/497116012591044347/f65cd62ed...   \n",
       "3  mlflow-artifacts:/497116012591044347/c221b3a83...   \n",
       "4  mlflow-artifacts:/497116012591044347/ee30dc7bf...   \n",
       "5  mlflow-artifacts:/497116012591044347/1fa37633e...   \n",
       "6  mlflow-artifacts:/497116012591044347/de274d22b...   \n",
       "\n",
       "                        start_time                         end_time  \\\n",
       "0 2023-08-31 22:04:58.032000+00:00 2023-08-31 22:06:07.589000+00:00   \n",
       "1 2023-08-27 17:55:21.686000+00:00 2023-08-27 17:56:14.825000+00:00   \n",
       "2 2023-08-31 21:58:36.889000+00:00 2023-08-31 21:59:52.216000+00:00   \n",
       "3 2023-08-27 17:57:52.725000+00:00 2023-08-27 17:58:44.770000+00:00   \n",
       "4 2023-08-27 09:36:34.229000+00:00 2023-08-27 09:37:33.306000+00:00   \n",
       "5 2023-08-27 09:04:22.510000+00:00 2023-08-27 09:05:42.797000+00:00   \n",
       "6 2023-08-27 12:09:08.269000+00:00 2023-08-27 12:11:40.988000+00:00   \n",
       "\n",
       "   metrics.loss  metrics.test_steps_per_second_test  metrics.learning_rate  \\\n",
       "0        1.7030                               1.215                    0.0   \n",
       "1        2.2225                               1.367                    0.0   \n",
       "2        2.6940                               1.264                    0.0   \n",
       "3        2.2308                               1.370                    0.0   \n",
       "4        2.0603                               1.207                    0.0   \n",
       "5        2.4392                               0.663                    0.0   \n",
       "6        2.9470                               0.540                    0.0   \n",
       "\n",
       "   metrics.train_samples_per_second  ...  params.evaluation_strategy  \\\n",
       "0                             0.508  ...                       epoch   \n",
       "1                             0.597  ...                       epoch   \n",
       "2                             0.420  ...                       epoch   \n",
       "3                             0.580  ...                       epoch   \n",
       "4                             0.512  ...                       epoch   \n",
       "5                             0.315  ...                       epoch   \n",
       "6                             0.225  ...                       epoch   \n",
       "\n",
       "   params.jit_mode_eval  params.num_beam_groups  params.problem_type  \\\n",
       "0                 False                       1                 None   \n",
       "1                 False                       1                 None   \n",
       "2                 False                       1                 None   \n",
       "3                 False                       1                 None   \n",
       "4                 False                       1                 None   \n",
       "5                 False                       1                 None   \n",
       "6                 False                       1                 None   \n",
       "\n",
       "   params.do_eval                            tags.mlflow.source.name  \\\n",
       "0            True  c:\\Users\\ismyn\\miniconda3\\envs\\enginora_env\\li...   \n",
       "1            True  c:\\Users\\ismyn\\miniconda3\\envs\\enginora_env\\li...   \n",
       "2            True  c:\\Users\\ismyn\\miniconda3\\envs\\enginora_env\\li...   \n",
       "3            True  c:\\Users\\ismyn\\miniconda3\\envs\\enginora_env\\li...   \n",
       "4            True  c:\\Users\\ismyn\\miniconda3\\envs\\enginora_env\\li...   \n",
       "5            True  c:\\Users\\ismyn\\miniconda3\\envs\\enginora_env\\li...   \n",
       "6            True  c:\\Users\\ismyn\\miniconda3\\envs\\enginora_env\\li...   \n",
       "\n",
       "   tags.mlflow.user  tags.mlflow.source.type  tags.mlflow.runName  \\\n",
       "0            janina                    LOCAL    redolent-hare-140   \n",
       "1            janina                    LOCAL   judicious-worm-435   \n",
       "2            janina                    LOCAL        able-flea-223   \n",
       "3            janina                    LOCAL        sneaky-ram-43   \n",
       "4            janina                    LOCAL    resilient-slug-19   \n",
       "5            janina                    LOCAL      amazing-bat-841   \n",
       "6            janina                    LOCAL     redolent-hog-322   \n",
       "\n",
       "                       tags.mlflow.log-model.history  \n",
       "0  [{\"run_id\": \"1e8ed1f1095f4c91a207641bde96c86c\"...  \n",
       "1  [{\"run_id\": \"76af2a4bba124ad1832706d339650aac\"...  \n",
       "2  [{\"run_id\": \"f65cd62ed53244b69e243074c7d21aa7\"...  \n",
       "3  [{\"run_id\": \"c221b3a836f2427089a1ef81b9d10d29\"...  \n",
       "4  [{\"run_id\": \"ee30dc7bfed446c995b491e46b8062af\"...  \n",
       "5                                               None  \n",
       "6  [{\"run_id\": \"de274d22b65940249b04d69f50a5d0b6\"...  \n",
       "\n",
       "[7 rows x 201 columns]"
      ]
     },
     "metadata": {},
     "output_type": "display_data"
    }
   ],
   "source": [
    "MlflowManager.display_runs_filtered_on_metric(experiment_names = [\"my_experiment_3\"], metric = 'test_f1_score_test')"
   ]
  },
  {
   "cell_type": "markdown",
   "metadata": {},
   "source": [
    "For this particular one we need the mlflow manager, so make sure to have run the loop function. As a workaround, if you do not want to, you can copy the initialisation of the MlflowManager, to a lower cell:\n",
    "```\n",
    "from enginora.flow import get_configurations\n",
    "mlflow_config, _, _, _, _ = get_configurations(\"./config.yaml\")\n",
    "MlflowManager(mlflow_config)\n",
    "```"
   ]
  },
  {
   "cell_type": "code",
   "execution_count": 9,
   "metadata": {},
   "outputs": [],
   "source": [
    "MlflowManager.download_artifacts_filtered_on_metric(experiment_names = [\"my_experiment_3\"], metric = 'test_f1_score_test')"
   ]
  },
  {
   "cell_type": "markdown",
   "metadata": {},
   "source": [
    "You can also use the run_id to access the artifacts, like this:"
   ]
  },
  {
   "cell_type": "code",
   "execution_count": 11,
   "metadata": {},
   "outputs": [],
   "source": [
    "my_run_id = '1e8ed1f1095f4c91a207641bde96c86c'\n",
    "MlflowManager.download_artifacts_from_run(my_run_id)"
   ]
  }
 ],
 "metadata": {
  "kernelspec": {
   "display_name": "Python 3",
   "language": "python",
   "name": "python3"
  },
  "language_info": {
   "codemirror_mode": {
    "name": "ipython",
    "version": 3
   },
   "file_extension": ".py",
   "mimetype": "text/x-python",
   "name": "python",
   "nbconvert_exporter": "python",
   "pygments_lexer": "ipython3",
   "version": "3.9.17"
  }
 },
 "nbformat": 4,
 "nbformat_minor": 0
}

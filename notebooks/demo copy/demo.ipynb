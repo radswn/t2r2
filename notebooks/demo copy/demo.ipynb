{
 "cells": [
  {
   "cell_type": "code",
   "execution_count": 1,
   "metadata": {},
   "outputs": [],
   "source": [
    "import os\n",
    "import logging"
   ]
  },
  {
   "cell_type": "code",
   "execution_count": 2,
   "metadata": {
    "ExecuteTime": {
     "end_time": "2023-06-06T18:47:29.680742400Z",
     "start_time": "2023-06-06T18:47:26.746571100Z"
    },
    "collapsed": true
   },
   "outputs": [
    {
     "name": "stderr",
     "output_type": "stream",
     "text": [
      "c:\\Users\\ismyn\\miniconda3\\envs\\enginora_env\\lib\\site-packages\\tqdm\\auto.py:21: TqdmWarning: IProgress not found. Please update jupyter and ipywidgets. See https://ipywidgets.readthedocs.io/en/stable/user_install.html\n",
      "  from .autonotebook import tqdm as notebook_tqdm\n"
     ]
    }
   ],
   "source": [
    "import sys\n",
    "sys.path.append(\"C:/Users/ismyn/UNI/enginora/enginora/src/\")\n",
    "import enginora"
   ]
  },
  {
   "cell_type": "code",
   "execution_count": 3,
   "metadata": {
    "ExecuteTime": {
     "end_time": "2023-06-06T18:47:29.692642500Z",
     "start_time": "2023-06-06T18:47:29.683581900Z"
    },
    "collapsed": false,
    "pycharm": {
     "name": "#%%\n"
    }
   },
   "outputs": [],
   "source": [
    "os.environ['WANDB_DISABLED'] = 'true'\n",
    "\n",
    "logging.basicConfig(format=\"[%(filename)s:%(lineno)s - %(funcName)20s() ] %(message)s\", level=logging.INFO)"
   ]
  },
  {
   "cell_type": "code",
   "execution_count": 4,
   "metadata": {
    "ExecuteTime": {
     "end_time": "2023-06-06T19:01:32.772699200Z",
     "start_time": "2023-06-06T18:47:29.696640100Z"
    },
    "collapsed": false,
    "pycharm": {
     "name": "#%%\n"
    }
   },
   "outputs": [
    {
     "name": "stderr",
     "output_type": "stream",
     "text": [
      "[MlflowManager.py:60 -     set_tracking_uri() ] mlflow: Tracking uri set\n",
      "Some weights of the model checkpoint at bert-base-cased were not used when initializing BertForSequenceClassification: ['cls.predictions.decoder.weight', 'cls.seq_relationship.bias', 'cls.seq_relationship.weight', 'cls.predictions.transform.dense.bias', 'cls.predictions.transform.LayerNorm.weight', 'cls.predictions.transform.dense.weight', 'cls.predictions.transform.LayerNorm.bias', 'cls.predictions.bias']\n",
      "- This IS expected if you are initializing BertForSequenceClassification from the checkpoint of a model trained on another task or with another architecture (e.g. initializing a BertForSequenceClassification model from a BertForPreTraining model).\n",
      "- This IS NOT expected if you are initializing BertForSequenceClassification from the checkpoint of a model that you expect to be exactly identical (initializing a BertForSequenceClassification model from a BertForSequenceClassification model).\n",
      "Some weights of BertForSequenceClassification were not initialized from the model checkpoint at bert-base-cased and are newly initialized: ['classifier.weight', 'classifier.bias']\n",
      "You should probably TRAIN this model on a down-stream task to be able to use it for predictions and inference.\n",
      "[MlflowManager.py:30 - mlflow_create_experiment() ] ***SETTING EXPERIMENT***\n",
      "[MlflowManager.py:31 - mlflow_create_experiment() ] Name: my_experiment_3\n",
      "[MlflowManager.py:32 - mlflow_create_experiment() ] Experiment_id: 497116012591044347\n",
      "[MlflowManager.py:33 - mlflow_create_experiment() ] Artifact Location: mlflow-artifacts:/497116012591044347\n",
      "[MlflowManager.py:34 - mlflow_create_experiment() ] Tags: {'version': 'v1'}\n",
      "[MlflowManager.py:35 - mlflow_create_experiment() ] Lifecycle_stage: active\n",
      "[MlflowManager.py:36 - mlflow_create_experiment() ] Creation timestamp: 1693126251333\n",
      "c:\\Users\\ismyn\\miniconda3\\envs\\enginora_env\\lib\\site-packages\\mlflow\\data\\pandas_dataset.py:116: UserWarning: Hint: Inferred schema contains integer column(s). Integer columns in Python cannot represent missing values. If your input data contains missing values at inference time, it will be encoded as floats and will cause a schema enforcement error. The best way to avoid this problem is to infer the model schema based on a realistic data sample (training dataset) that includes missing values. Alternatively, you can declare integer columns as doubles (float64) whenever these columns may have missing values. See `Handling Integers With Missing Values <https://www.mlflow.org/docs/latest/models.html#handling-integers-with-missing-values>`_ for more details.\n",
      "  return _infer_schema(self._df)\n",
      "c:\\Users\\ismyn\\miniconda3\\envs\\enginora_env\\lib\\site-packages\\mlflow\\data\\pandas_dataset.py:116: UserWarning: Hint: Inferred schema contains integer column(s). Integer columns in Python cannot represent missing values. If your input data contains missing values at inference time, it will be encoded as floats and will cause a schema enforcement error. The best way to avoid this problem is to infer the model schema based on a realistic data sample (training dataset) that includes missing values. Alternatively, you can declare integer columns as doubles (float64) whenever these columns may have missing values. See `Handling Integers With Missing Values <https://www.mlflow.org/docs/latest/models.html#handling-integers-with-missing-values>`_ for more details.\n",
      "  return _infer_schema(self._df)\n",
      "c:\\Users\\ismyn\\miniconda3\\envs\\enginora_env\\lib\\site-packages\\mlflow\\data\\pandas_dataset.py:116: UserWarning: Hint: Inferred schema contains integer column(s). Integer columns in Python cannot represent missing values. If your input data contains missing values at inference time, it will be encoded as floats and will cause a schema enforcement error. The best way to avoid this problem is to infer the model schema based on a realistic data sample (training dataset) that includes missing values. Alternatively, you can declare integer columns as doubles (float64) whenever these columns may have missing values. See `Handling Integers With Missing Values <https://www.mlflow.org/docs/latest/models.html#handling-integers-with-missing-values>`_ for more details.\n",
      "  return _infer_schema(self._df)\n",
      "c:\\Users\\ismyn\\miniconda3\\envs\\enginora_env\\lib\\site-packages\\mlflow\\data\\pandas_dataset.py:116: UserWarning: Hint: Inferred schema contains integer column(s). Integer columns in Python cannot represent missing values. If your input data contains missing values at inference time, it will be encoded as floats and will cause a schema enforcement error. The best way to avoid this problem is to infer the model schema based on a realistic data sample (training dataset) that includes missing values. Alternatively, you can declare integer columns as doubles (float64) whenever these columns may have missing values. See `Handling Integers With Missing Values <https://www.mlflow.org/docs/latest/models.html#handling-integers-with-missing-values>`_ for more details.\n",
      "  return _infer_schema(self._df)\n",
      "[MlflowManager.py:46 -             log_data() ] mlflow: Dataset logged\n",
      "[MlflowManager.py:68 - log_dataset_synopsis() ] mlflow: Dataset synopsis logged\n",
      "Using the `WAND_DISABLED` environment variable is deprecated and will be removed in v5. Use the --report_to flag to control the integrations used for logging result (for instance --report_to none).\n",
      "c:\\Users\\ismyn\\miniconda3\\envs\\enginora_env\\lib\\site-packages\\transformers\\optimization.py:306: FutureWarning: This implementation of AdamW is deprecated and will be removed in a future version. Use the PyTorch implementation torch.optim.AdamW instead, or set `no_deprecation_warning=True` to disable this warning\n",
      "  warnings.warn(\n",
      "***** Running training *****\n",
      "  Num examples = 10\n",
      "  Num Epochs = 2\n",
      "  Instantaneous batch size per device = 2\n",
      "  Total train batch size (w. parallel, distributed & accumulation) = 2\n",
      "  Gradient Accumulation steps = 1\n",
      "  Total optimization steps = 10\n",
      " 50%|█████     | 5/10 [00:11<00:11,  2.21s/it]***** Running Evaluation *****\n",
      "  Num examples = 10\n",
      "  Batch size = 2\n"
     ]
    },
    {
     "name": "stdout",
     "output_type": "stream",
     "text": [
      "{'loss': 2.8383, 'learning_rate': 0.0005, 'epoch': 1.0}\n"
     ]
    },
    {
     "name": "stderr",
     "output_type": "stream",
     "text": [
      "                                              \n",
      " 50%|█████     | 5/10 [00:14<00:11,  2.21s/it]Saving model checkpoint to ClassificationBERT\\checkpoint-5\n",
      "Configuration saved in ClassificationBERT\\checkpoint-5\\config.json\n"
     ]
    },
    {
     "name": "stdout",
     "output_type": "stream",
     "text": [
      "{'eval_loss': 2.2682547569274902, 'eval_f1_score': 0.07692307692307691, 'eval_runtime': 3.6557, 'eval_samples_per_second': 2.735, 'eval_steps_per_second': 1.368, 'epoch': 1.0}\n"
     ]
    },
    {
     "name": "stderr",
     "output_type": "stream",
     "text": [
      "Model weights saved in ClassificationBERT\\checkpoint-5\\pytorch_model.bin\n",
      "100%|██████████| 10/10 [00:28<00:00,  2.70s/it]***** Running Evaluation *****\n",
      "  Num examples = 10\n",
      "  Batch size = 2\n"
     ]
    },
    {
     "name": "stdout",
     "output_type": "stream",
     "text": [
      "{'loss': 2.2308, 'learning_rate': 0.0, 'epoch': 2.0}\n"
     ]
    },
    {
     "name": "stderr",
     "output_type": "stream",
     "text": [
      "                                               \n",
      "100%|██████████| 10/10 [00:32<00:00,  2.70s/it]Saving model checkpoint to ClassificationBERT\\checkpoint-10\n",
      "Configuration saved in ClassificationBERT\\checkpoint-10\\config.json\n"
     ]
    },
    {
     "name": "stdout",
     "output_type": "stream",
     "text": [
      "{'eval_loss': 3.1624503135681152, 'eval_f1_score': 0.0, 'eval_runtime': 3.8945, 'eval_samples_per_second': 2.568, 'eval_steps_per_second': 1.284, 'epoch': 2.0}\n"
     ]
    },
    {
     "name": "stderr",
     "output_type": "stream",
     "text": [
      "Model weights saved in ClassificationBERT\\checkpoint-10\\pytorch_model.bin\n",
      "\n",
      "\n",
      "Training completed. Do not forget to share your model on huggingface.co/models =)\n",
      "\n",
      "\n",
      "Loading best model from ClassificationBERT\\checkpoint-5 (score: 0.07692307692307691).\n",
      "100%|██████████| 10/10 [00:34<00:00,  3.44s/it]\n"
     ]
    },
    {
     "name": "stdout",
     "output_type": "stream",
     "text": [
      "{'train_runtime': 34.4843, 'train_samples_per_second': 0.58, 'train_steps_per_second': 0.29, 'train_loss': 2.5345305442810058, 'epoch': 2.0}\n",
      "torch.Size([10, 256])\n",
      "torch.int64\n"
     ]
    },
    {
     "name": "stderr",
     "output_type": "stream",
     "text": [
      "c:\\Users\\ismyn\\miniconda3\\envs\\enginora_env\\lib\\site-packages\\_distutils_hack\\__init__.py:33: UserWarning: Setuptools is replacing distutils.\n",
      "  warnings.warn(\"Setuptools is replacing distutils.\")\n",
      "Registered model 'my_registered_model' already exists. Creating a new version of this model...\n",
      "2023/08/27 19:58:37 INFO mlflow.tracking._model_registry.client: Waiting up to 300 seconds for model version to finish creation. Model name: my_registered_model, version 4\n",
      "Created version '4' of model 'my_registered_model'.\n",
      "[MlflowManager.py:55 -            log_model() ] mlflow: logging model\n",
      "***** Running Prediction *****\n",
      "  Num examples = 10\n",
      "  Batch size = 2\n",
      "100%|██████████| 5/5 [00:03<00:00,  1.48it/s][MlflowManager.py:41 -          log_metrics() ] mlflow: logging metrics :test_loss_test test_f1_score_test test_runtime_test test_samples_per_second_test test_steps_per_second_test\n",
      "***** Running Prediction *****\n",
      "  Num examples = 10\n",
      "  Batch size = 2\n",
      "10it [00:06,  1.32it/s]                      [MlflowManager.py:41 -          log_metrics() ] mlflow: logging metrics :test_loss_cont test_f1_score_cont test_runtime_cont test_samples_per_second_cont test_steps_per_second_cont\n",
      "10it [00:06,  1.43it/s]\n"
     ]
    },
    {
     "data": {
      "text/plain": [
       "{'train_results': TrainOutput(global_step=10, training_loss=2.5345305442810058, metrics={'train_runtime': 34.4843, 'train_samples_per_second': 0.58, 'train_steps_per_second': 0.29, 'train_loss': 2.5345305442810058, 'epoch': 2.0}),\n",
       " 'test_results': {'test_loss': 2.5116360187530518,\n",
       "  'test_f1_score': 0.030303030303030304,\n",
       "  'test_runtime': 3.6497,\n",
       "  'test_samples_per_second': 2.74,\n",
       "  'test_steps_per_second': 1.37},\n",
       " 'control_results': {'test_loss': 2.582895517349243,\n",
       "  'test_f1_score': 0.0923076923076923,\n",
       "  'test_runtime': 3.8649,\n",
       "  'test_samples_per_second': 2.587,\n",
       "  'test_steps_per_second': 1.294}}"
      ]
     },
     "execution_count": 4,
     "metadata": {},
     "output_type": "execute_result"
    }
   ],
   "source": [
    "enginora.loop()"
   ]
  },
  {
   "cell_type": "code",
   "execution_count": 3,
   "metadata": {},
   "outputs": [],
   "source": [
    "from enginora.utils.mlflow.MlflowManager import MlflowManager"
   ]
  },
  {
   "cell_type": "code",
   "execution_count": 5,
   "metadata": {},
   "outputs": [],
   "source": [
    "import mlflow\n",
    "from typing import Union, List\n",
    "\n",
    "def display_metrics(experiment_names: Union[List[str], None],\n",
    "                                          verbose = True, \n",
    "                                          filter_on_completed_only = True):\n",
    "        filterstring = 'status = \\'FINISHED\\'' if filter_on_completed_only else \"\"\n",
    "        columns_for_df = ['run_id', 'experiment_id', 'status']\n",
    "        \n",
    "        df = mlflow.search_runs(filter_string=filterstring,\n",
    "                                experiment_names = experiment_names)\n",
    "        \n",
    "        if verbose:\n",
    "            metrics_list = [col for col in df if col.startswith(\"metrics.\")]\n",
    "            display(df[columns_for_df + metrics_list])\n",
    "            \n",
    "        metrics_human_readable = [col[len('metrics.'):] for col in df if col.startswith(\"metrics.\")]  \n",
    "        \n",
    "        return f\"The metrics logged which you can retrieve from this experiment are as follows: {metrics_human_readable}\"     \n"
   ]
  },
  {
   "cell_type": "code",
   "execution_count": 6,
   "metadata": {},
   "outputs": [
    {
     "name": "stdout",
     "output_type": "stream",
     "text": [
      "['test_f1_score_test', 'eval_f1_score', 'loss', 'test_f1_score_cont', 'train_steps_per_second', 'total_flos', 'test_steps_per_second_cont', 'train_loss', 'test_loss_cont', 'train_samples_per_second', 'eval_steps_per_second', 'test_steps_per_second_test', 'test_runtime_test', 'test_samples_per_second_test', 'test_samples_per_second_cont', 'epoch', 'eval_samples_per_second', 'eval_runtime', 'test_loss_test', 'train_runtime', 'eval_loss', 'test_runtime_cont', 'learning_rate']\n"
     ]
    },
    {
     "ename": "KeyError",
     "evalue": "\"None of [Index(['test_f1_score_test', 'eval_f1_score', 'loss', 'test_f1_score_cont',\\n       'train_steps_per_second', 'total_flos', 'test_steps_per_second_cont',\\n       'train_loss', 'test_loss_cont', 'train_samples_per_second',\\n       'eval_steps_per_second', 'test_steps_per_second_test',\\n       'test_runtime_test', 'test_samples_per_second_test',\\n       'test_samples_per_second_cont', 'epoch', 'eval_samples_per_second',\\n       'eval_runtime', 'test_loss_test', 'train_runtime', 'eval_loss',\\n       'test_runtime_cont', 'learning_rate'],\\n      dtype='object')] are in the [columns]\"",
     "output_type": "error",
     "traceback": [
      "\u001b[1;31m---------------------------------------------------------------------------\u001b[0m",
      "\u001b[1;31mKeyError\u001b[0m                                  Traceback (most recent call last)",
      "Cell \u001b[1;32mIn[6], line 1\u001b[0m\n\u001b[1;32m----> 1\u001b[0m display_metrics(experiment_names \u001b[39m=\u001b[39;49m [\u001b[39m\"\u001b[39;49m\u001b[39mmy_experiment_3\u001b[39;49m\u001b[39m\"\u001b[39;49m])\n",
      "Cell \u001b[1;32mIn[5], line 15\u001b[0m, in \u001b[0;36mdisplay_metrics\u001b[1;34m(experiment_names, verbose, filter_on_completed_only)\u001b[0m\n\u001b[0;32m     13\u001b[0m \u001b[39mprint\u001b[39m(metrics_list)\n\u001b[0;32m     14\u001b[0m \u001b[39mif\u001b[39;00m verbose:\n\u001b[1;32m---> 15\u001b[0m     display(df[metrics_list])\n\u001b[0;32m     17\u001b[0m \u001b[39mreturn\u001b[39;00m \u001b[39mf\u001b[39m\u001b[39m\"\u001b[39m\u001b[39mThe metrics logged which you can retrieve from this experiment are as follows: \u001b[39m\u001b[39m{\u001b[39;00mmetrics_list\u001b[39m}\u001b[39;00m\u001b[39m\"\u001b[39m\n",
      "File \u001b[1;32mc:\\Users\\ismyn\\miniconda3\\envs\\enginora_env\\lib\\site-packages\\pandas\\core\\frame.py:3811\u001b[0m, in \u001b[0;36mDataFrame.__getitem__\u001b[1;34m(self, key)\u001b[0m\n\u001b[0;32m   3809\u001b[0m     \u001b[39mif\u001b[39;00m is_iterator(key):\n\u001b[0;32m   3810\u001b[0m         key \u001b[39m=\u001b[39m \u001b[39mlist\u001b[39m(key)\n\u001b[1;32m-> 3811\u001b[0m     indexer \u001b[39m=\u001b[39m \u001b[39mself\u001b[39;49m\u001b[39m.\u001b[39;49mcolumns\u001b[39m.\u001b[39;49m_get_indexer_strict(key, \u001b[39m\"\u001b[39;49m\u001b[39mcolumns\u001b[39;49m\u001b[39m\"\u001b[39;49m)[\u001b[39m1\u001b[39m]\n\u001b[0;32m   3813\u001b[0m \u001b[39m# take() does not accept boolean indexers\u001b[39;00m\n\u001b[0;32m   3814\u001b[0m \u001b[39mif\u001b[39;00m \u001b[39mgetattr\u001b[39m(indexer, \u001b[39m\"\u001b[39m\u001b[39mdtype\u001b[39m\u001b[39m\"\u001b[39m, \u001b[39mNone\u001b[39;00m) \u001b[39m==\u001b[39m \u001b[39mbool\u001b[39m:\n",
      "File \u001b[1;32mc:\\Users\\ismyn\\miniconda3\\envs\\enginora_env\\lib\\site-packages\\pandas\\core\\indexes\\base.py:6113\u001b[0m, in \u001b[0;36mIndex._get_indexer_strict\u001b[1;34m(self, key, axis_name)\u001b[0m\n\u001b[0;32m   6110\u001b[0m \u001b[39melse\u001b[39;00m:\n\u001b[0;32m   6111\u001b[0m     keyarr, indexer, new_indexer \u001b[39m=\u001b[39m \u001b[39mself\u001b[39m\u001b[39m.\u001b[39m_reindex_non_unique(keyarr)\n\u001b[1;32m-> 6113\u001b[0m \u001b[39mself\u001b[39;49m\u001b[39m.\u001b[39;49m_raise_if_missing(keyarr, indexer, axis_name)\n\u001b[0;32m   6115\u001b[0m keyarr \u001b[39m=\u001b[39m \u001b[39mself\u001b[39m\u001b[39m.\u001b[39mtake(indexer)\n\u001b[0;32m   6116\u001b[0m \u001b[39mif\u001b[39;00m \u001b[39misinstance\u001b[39m(key, Index):\n\u001b[0;32m   6117\u001b[0m     \u001b[39m# GH 42790 - Preserve name from an Index\u001b[39;00m\n",
      "File \u001b[1;32mc:\\Users\\ismyn\\miniconda3\\envs\\enginora_env\\lib\\site-packages\\pandas\\core\\indexes\\base.py:6173\u001b[0m, in \u001b[0;36mIndex._raise_if_missing\u001b[1;34m(self, key, indexer, axis_name)\u001b[0m\n\u001b[0;32m   6171\u001b[0m     \u001b[39mif\u001b[39;00m use_interval_msg:\n\u001b[0;32m   6172\u001b[0m         key \u001b[39m=\u001b[39m \u001b[39mlist\u001b[39m(key)\n\u001b[1;32m-> 6173\u001b[0m     \u001b[39mraise\u001b[39;00m \u001b[39mKeyError\u001b[39;00m(\u001b[39mf\u001b[39m\u001b[39m\"\u001b[39m\u001b[39mNone of [\u001b[39m\u001b[39m{\u001b[39;00mkey\u001b[39m}\u001b[39;00m\u001b[39m] are in the [\u001b[39m\u001b[39m{\u001b[39;00maxis_name\u001b[39m}\u001b[39;00m\u001b[39m]\u001b[39m\u001b[39m\"\u001b[39m)\n\u001b[0;32m   6175\u001b[0m not_found \u001b[39m=\u001b[39m \u001b[39mlist\u001b[39m(ensure_index(key)[missing_mask\u001b[39m.\u001b[39mnonzero()[\u001b[39m0\u001b[39m]]\u001b[39m.\u001b[39munique())\n\u001b[0;32m   6176\u001b[0m \u001b[39mraise\u001b[39;00m \u001b[39mKeyError\u001b[39;00m(\u001b[39mf\u001b[39m\u001b[39m\"\u001b[39m\u001b[39m{\u001b[39;00mnot_found\u001b[39m}\u001b[39;00m\u001b[39m not in index\u001b[39m\u001b[39m\"\u001b[39m)\n",
      "\u001b[1;31mKeyError\u001b[0m: \"None of [Index(['test_f1_score_test', 'eval_f1_score', 'loss', 'test_f1_score_cont',\\n       'train_steps_per_second', 'total_flos', 'test_steps_per_second_cont',\\n       'train_loss', 'test_loss_cont', 'train_samples_per_second',\\n       'eval_steps_per_second', 'test_steps_per_second_test',\\n       'test_runtime_test', 'test_samples_per_second_test',\\n       'test_samples_per_second_cont', 'epoch', 'eval_samples_per_second',\\n       'eval_runtime', 'test_loss_test', 'train_runtime', 'eval_loss',\\n       'test_runtime_cont', 'learning_rate'],\\n      dtype='object')] are in the [columns]\""
     ]
    }
   ],
   "source": [
    "display_metrics(experiment_names = [\"my_experiment_3\"])"
   ]
  },
  {
   "cell_type": "code",
   "execution_count": 5,
   "metadata": {},
   "outputs": [
    {
     "data": {
      "text/html": [
       "<div>\n",
       "<style scoped>\n",
       "    .dataframe tbody tr th:only-of-type {\n",
       "        vertical-align: middle;\n",
       "    }\n",
       "\n",
       "    .dataframe tbody tr th {\n",
       "        vertical-align: top;\n",
       "    }\n",
       "\n",
       "    .dataframe thead th {\n",
       "        text-align: right;\n",
       "    }\n",
       "</style>\n",
       "<table border=\"1\" class=\"dataframe\">\n",
       "  <thead>\n",
       "    <tr style=\"text-align: right;\">\n",
       "      <th></th>\n",
       "      <th>run_id</th>\n",
       "      <th>experiment_id</th>\n",
       "      <th>status</th>\n",
       "      <th>artifact_uri</th>\n",
       "      <th>start_time</th>\n",
       "      <th>end_time</th>\n",
       "      <th>metrics.eval_steps_per_second</th>\n",
       "      <th>metrics.loss</th>\n",
       "      <th>metrics.train_loss</th>\n",
       "      <th>metrics.learning_rate</th>\n",
       "      <th>...</th>\n",
       "      <th>params.save_strategy</th>\n",
       "      <th>params.overwrite_output_dir</th>\n",
       "      <th>params.chunk_size_feed_forward</th>\n",
       "      <th>params.resume_from_checkpoint</th>\n",
       "      <th>params.eval_accumulation_steps</th>\n",
       "      <th>tags.mlflow.source.name</th>\n",
       "      <th>tags.mlflow.runName</th>\n",
       "      <th>tags.mlflow.user</th>\n",
       "      <th>tags.mlflow.log-model.history</th>\n",
       "      <th>tags.mlflow.source.type</th>\n",
       "    </tr>\n",
       "  </thead>\n",
       "  <tbody>\n",
       "    <tr>\n",
       "      <th>0</th>\n",
       "      <td>de274d22b65940249b04d69f50a5d0b6</td>\n",
       "      <td>497116012591044347</td>\n",
       "      <td>FINISHED</td>\n",
       "      <td>mlflow-artifacts:/497116012591044347/de274d22b...</td>\n",
       "      <td>2023-08-27 12:09:08.269000+00:00</td>\n",
       "      <td>2023-08-27 12:11:40.988000+00:00</td>\n",
       "      <td>0.474</td>\n",
       "      <td>2.9470</td>\n",
       "      <td>2.775168</td>\n",
       "      <td>0.0</td>\n",
       "      <td>...</td>\n",
       "      <td>epoch</td>\n",
       "      <td>False</td>\n",
       "      <td>0</td>\n",
       "      <td>None</td>\n",
       "      <td>None</td>\n",
       "      <td>c:\\Users\\ismyn\\miniconda3\\envs\\enginora_env\\li...</td>\n",
       "      <td>redolent-hog-322</td>\n",
       "      <td>janina</td>\n",
       "      <td>[{\"run_id\": \"de274d22b65940249b04d69f50a5d0b6\"...</td>\n",
       "      <td>LOCAL</td>\n",
       "    </tr>\n",
       "    <tr>\n",
       "      <th>1</th>\n",
       "      <td>1fa37633e8f847fb9b83f1cd0e5f5475</td>\n",
       "      <td>497116012591044347</td>\n",
       "      <td>FINISHED</td>\n",
       "      <td>mlflow-artifacts:/497116012591044347/1fa37633e...</td>\n",
       "      <td>2023-08-27 09:04:22.510000+00:00</td>\n",
       "      <td>2023-08-27 09:05:42.797000+00:00</td>\n",
       "      <td>0.676</td>\n",
       "      <td>2.4392</td>\n",
       "      <td>2.648513</td>\n",
       "      <td>0.0</td>\n",
       "      <td>...</td>\n",
       "      <td>epoch</td>\n",
       "      <td>False</td>\n",
       "      <td>0</td>\n",
       "      <td>None</td>\n",
       "      <td>None</td>\n",
       "      <td>c:\\Users\\ismyn\\miniconda3\\envs\\enginora_env\\li...</td>\n",
       "      <td>amazing-bat-841</td>\n",
       "      <td>janina</td>\n",
       "      <td>None</td>\n",
       "      <td>LOCAL</td>\n",
       "    </tr>\n",
       "    <tr>\n",
       "      <th>2</th>\n",
       "      <td>c221b3a836f2427089a1ef81b9d10d29</td>\n",
       "      <td>497116012591044347</td>\n",
       "      <td>FINISHED</td>\n",
       "      <td>mlflow-artifacts:/497116012591044347/c221b3a83...</td>\n",
       "      <td>2023-08-27 17:57:52.725000+00:00</td>\n",
       "      <td>2023-08-27 17:58:44.770000+00:00</td>\n",
       "      <td>1.284</td>\n",
       "      <td>2.2308</td>\n",
       "      <td>2.534531</td>\n",
       "      <td>0.0</td>\n",
       "      <td>...</td>\n",
       "      <td>epoch</td>\n",
       "      <td>False</td>\n",
       "      <td>0</td>\n",
       "      <td>None</td>\n",
       "      <td>None</td>\n",
       "      <td>c:\\Users\\ismyn\\miniconda3\\envs\\enginora_env\\li...</td>\n",
       "      <td>sneaky-ram-43</td>\n",
       "      <td>janina</td>\n",
       "      <td>[{\"run_id\": \"c221b3a836f2427089a1ef81b9d10d29\"...</td>\n",
       "      <td>LOCAL</td>\n",
       "    </tr>\n",
       "    <tr>\n",
       "      <th>3</th>\n",
       "      <td>76af2a4bba124ad1832706d339650aac</td>\n",
       "      <td>497116012591044347</td>\n",
       "      <td>FINISHED</td>\n",
       "      <td>mlflow-artifacts:/497116012591044347/76af2a4bb...</td>\n",
       "      <td>2023-08-27 17:55:21.686000+00:00</td>\n",
       "      <td>2023-08-27 17:56:14.825000+00:00</td>\n",
       "      <td>1.314</td>\n",
       "      <td>2.2225</td>\n",
       "      <td>2.535203</td>\n",
       "      <td>0.0</td>\n",
       "      <td>...</td>\n",
       "      <td>epoch</td>\n",
       "      <td>False</td>\n",
       "      <td>0</td>\n",
       "      <td>None</td>\n",
       "      <td>None</td>\n",
       "      <td>c:\\Users\\ismyn\\miniconda3\\envs\\enginora_env\\li...</td>\n",
       "      <td>judicious-worm-435</td>\n",
       "      <td>janina</td>\n",
       "      <td>[{\"run_id\": \"76af2a4bba124ad1832706d339650aac\"...</td>\n",
       "      <td>LOCAL</td>\n",
       "    </tr>\n",
       "    <tr>\n",
       "      <th>4</th>\n",
       "      <td>ee30dc7bfed446c995b491e46b8062af</td>\n",
       "      <td>497116012591044347</td>\n",
       "      <td>FINISHED</td>\n",
       "      <td>mlflow-artifacts:/497116012591044347/ee30dc7bf...</td>\n",
       "      <td>2023-08-27 09:36:34.229000+00:00</td>\n",
       "      <td>2023-08-27 09:37:33.306000+00:00</td>\n",
       "      <td>1.177</td>\n",
       "      <td>2.0603</td>\n",
       "      <td>2.179695</td>\n",
       "      <td>0.0</td>\n",
       "      <td>...</td>\n",
       "      <td>epoch</td>\n",
       "      <td>False</td>\n",
       "      <td>0</td>\n",
       "      <td>None</td>\n",
       "      <td>None</td>\n",
       "      <td>c:\\Users\\ismyn\\miniconda3\\envs\\enginora_env\\li...</td>\n",
       "      <td>resilient-slug-19</td>\n",
       "      <td>janina</td>\n",
       "      <td>[{\"run_id\": \"ee30dc7bfed446c995b491e46b8062af\"...</td>\n",
       "      <td>LOCAL</td>\n",
       "    </tr>\n",
       "  </tbody>\n",
       "</table>\n",
       "<p>5 rows × 201 columns</p>\n",
       "</div>"
      ],
      "text/plain": [
       "                             run_id       experiment_id    status  \\\n",
       "0  de274d22b65940249b04d69f50a5d0b6  497116012591044347  FINISHED   \n",
       "1  1fa37633e8f847fb9b83f1cd0e5f5475  497116012591044347  FINISHED   \n",
       "2  c221b3a836f2427089a1ef81b9d10d29  497116012591044347  FINISHED   \n",
       "3  76af2a4bba124ad1832706d339650aac  497116012591044347  FINISHED   \n",
       "4  ee30dc7bfed446c995b491e46b8062af  497116012591044347  FINISHED   \n",
       "\n",
       "                                        artifact_uri  \\\n",
       "0  mlflow-artifacts:/497116012591044347/de274d22b...   \n",
       "1  mlflow-artifacts:/497116012591044347/1fa37633e...   \n",
       "2  mlflow-artifacts:/497116012591044347/c221b3a83...   \n",
       "3  mlflow-artifacts:/497116012591044347/76af2a4bb...   \n",
       "4  mlflow-artifacts:/497116012591044347/ee30dc7bf...   \n",
       "\n",
       "                        start_time                         end_time  \\\n",
       "0 2023-08-27 12:09:08.269000+00:00 2023-08-27 12:11:40.988000+00:00   \n",
       "1 2023-08-27 09:04:22.510000+00:00 2023-08-27 09:05:42.797000+00:00   \n",
       "2 2023-08-27 17:57:52.725000+00:00 2023-08-27 17:58:44.770000+00:00   \n",
       "3 2023-08-27 17:55:21.686000+00:00 2023-08-27 17:56:14.825000+00:00   \n",
       "4 2023-08-27 09:36:34.229000+00:00 2023-08-27 09:37:33.306000+00:00   \n",
       "\n",
       "   metrics.eval_steps_per_second  metrics.loss  metrics.train_loss  \\\n",
       "0                          0.474        2.9470            2.775168   \n",
       "1                          0.676        2.4392            2.648513   \n",
       "2                          1.284        2.2308            2.534531   \n",
       "3                          1.314        2.2225            2.535203   \n",
       "4                          1.177        2.0603            2.179695   \n",
       "\n",
       "   metrics.learning_rate  ...  params.save_strategy  \\\n",
       "0                    0.0  ...                 epoch   \n",
       "1                    0.0  ...                 epoch   \n",
       "2                    0.0  ...                 epoch   \n",
       "3                    0.0  ...                 epoch   \n",
       "4                    0.0  ...                 epoch   \n",
       "\n",
       "   params.overwrite_output_dir  params.chunk_size_feed_forward  \\\n",
       "0                        False                               0   \n",
       "1                        False                               0   \n",
       "2                        False                               0   \n",
       "3                        False                               0   \n",
       "4                        False                               0   \n",
       "\n",
       "   params.resume_from_checkpoint  params.eval_accumulation_steps  \\\n",
       "0                           None                            None   \n",
       "1                           None                            None   \n",
       "2                           None                            None   \n",
       "3                           None                            None   \n",
       "4                           None                            None   \n",
       "\n",
       "                             tags.mlflow.source.name  tags.mlflow.runName  \\\n",
       "0  c:\\Users\\ismyn\\miniconda3\\envs\\enginora_env\\li...     redolent-hog-322   \n",
       "1  c:\\Users\\ismyn\\miniconda3\\envs\\enginora_env\\li...      amazing-bat-841   \n",
       "2  c:\\Users\\ismyn\\miniconda3\\envs\\enginora_env\\li...        sneaky-ram-43   \n",
       "3  c:\\Users\\ismyn\\miniconda3\\envs\\enginora_env\\li...   judicious-worm-435   \n",
       "4  c:\\Users\\ismyn\\miniconda3\\envs\\enginora_env\\li...    resilient-slug-19   \n",
       "\n",
       "   tags.mlflow.user                      tags.mlflow.log-model.history  \\\n",
       "0            janina  [{\"run_id\": \"de274d22b65940249b04d69f50a5d0b6\"...   \n",
       "1            janina                                               None   \n",
       "2            janina  [{\"run_id\": \"c221b3a836f2427089a1ef81b9d10d29\"...   \n",
       "3            janina  [{\"run_id\": \"76af2a4bba124ad1832706d339650aac\"...   \n",
       "4            janina  [{\"run_id\": \"ee30dc7bfed446c995b491e46b8062af\"...   \n",
       "\n",
       "   tags.mlflow.source.type  \n",
       "0                    LOCAL  \n",
       "1                    LOCAL  \n",
       "2                    LOCAL  \n",
       "3                    LOCAL  \n",
       "4                    LOCAL  \n",
       "\n",
       "[5 rows x 201 columns]"
      ]
     },
     "metadata": {},
     "output_type": "display_data"
    }
   ],
   "source": [
    "MlflowManager.get_best_model_filtered_on_metric(experiment_names = [\"my_experiment_3\"], metric = 'loss')"
   ]
  }
 ],
 "metadata": {
  "kernelspec": {
   "display_name": "Python 3",
   "language": "python",
   "name": "python3"
  },
  "language_info": {
   "codemirror_mode": {
    "name": "ipython",
    "version": 3
   },
   "file_extension": ".py",
   "mimetype": "text/x-python",
   "name": "python",
   "nbconvert_exporter": "python",
   "pygments_lexer": "ipython3",
   "version": "3.9.17"
  }
 },
 "nbformat": 4,
 "nbformat_minor": 0
}

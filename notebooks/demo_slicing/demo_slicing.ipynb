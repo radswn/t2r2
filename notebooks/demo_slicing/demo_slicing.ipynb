{
 "cells": [
  {
   "cell_type": "code",
   "execution_count": 2,
   "metadata": {
    "ExecuteTime": {
     "end_time": "2023-06-06T18:47:29.680742400Z",
     "start_time": "2023-06-06T18:47:26.746571100Z"
    },
    "collapsed": true
   },
   "outputs": [
    {
     "name": "stderr",
     "output_type": "stream",
     "text": [
      "c:\\ProgramData\\Anaconda3\\envs\\copycatchat_env\\lib\\site-packages\\tqdm\\auto.py:21: TqdmWarning: IProgress not found. Please update jupyter and ipywidgets. See https://ipywidgets.readthedocs.io/en/stable/user_install.html\n",
      "  from .autonotebook import tqdm as notebook_tqdm\n"
     ]
    }
   ],
   "source": [
    "import os\n",
    "import enginora"
   ]
  },
  {
   "cell_type": "code",
   "execution_count": 3,
   "metadata": {
    "ExecuteTime": {
     "end_time": "2023-06-06T18:47:29.692642500Z",
     "start_time": "2023-06-06T18:47:29.683581900Z"
    },
    "collapsed": false,
    "pycharm": {
     "name": "#%%\n"
    }
   },
   "outputs": [],
   "source": [
    "os.environ['WANDB_DISABLED'] = 'true'"
   ]
  },
  {
   "cell_type": "code",
   "execution_count": 4,
   "metadata": {
    "ExecuteTime": {
     "end_time": "2023-06-06T19:01:32.772699200Z",
     "start_time": "2023-06-06T18:47:29.696640100Z"
    },
    "collapsed": false,
    "pycharm": {
     "name": "#%%\n"
    }
   },
   "outputs": [
    {
     "name": "stderr",
     "output_type": "stream",
     "text": [
      "Some weights of the model checkpoint at bert-base-cased were not used when initializing BertForSequenceClassification: ['cls.seq_relationship.bias', 'cls.predictions.bias', 'cls.seq_relationship.weight', 'cls.predictions.decoder.weight', 'cls.predictions.transform.LayerNorm.bias', 'cls.predictions.transform.LayerNorm.weight', 'cls.predictions.transform.dense.bias', 'cls.predictions.transform.dense.weight']\n",
      "- This IS expected if you are initializing BertForSequenceClassification from the checkpoint of a model trained on another task or with another architecture (e.g. initializing a BertForSequenceClassification model from a BertForPreTraining model).\n",
      "- This IS NOT expected if you are initializing BertForSequenceClassification from the checkpoint of a model that you expect to be exactly identical (initializing a BertForSequenceClassification model from a BertForSequenceClassification model).\n",
      "Some weights of BertForSequenceClassification were not initialized from the model checkpoint at bert-base-cased and are newly initialized: ['classifier.bias', 'classifier.weight']\n",
      "You should probably TRAIN this model on a down-stream task to be able to use it for predictions and inference.\n",
      "100%|██████████| 12110/12110 [00:08<00:00, 1441.46it/s]\n",
      "100%|██████████| 2585/2585 [00:00<00:00, 64299.68it/s]\n",
      "c:\\ProgramData\\Anaconda3\\envs\\copycatchat_env\\lib\\site-packages\\mlflow\\data\\pandas_dataset.py:116: UserWarning: Hint: Inferred schema contains integer column(s). Integer columns in Python cannot represent missing values. If your input data contains missing values at inference time, it will be encoded as floats and will cause a schema enforcement error. The best way to avoid this problem is to infer the model schema based on a realistic data sample (training dataset) that includes missing values. Alternatively, you can declare integer columns as doubles (float64) whenever these columns may have missing values. See `Handling Integers With Missing Values <https://www.mlflow.org/docs/latest/models.html#handling-integers-with-missing-values>`_ for more details.\n",
      "  return _infer_schema(self._df)\n",
      "c:\\ProgramData\\Anaconda3\\envs\\copycatchat_env\\lib\\site-packages\\mlflow\\data\\pandas_dataset.py:116: UserWarning: Hint: Inferred schema contains integer column(s). Integer columns in Python cannot represent missing values. If your input data contains missing values at inference time, it will be encoded as floats and will cause a schema enforcement error. The best way to avoid this problem is to infer the model schema based on a realistic data sample (training dataset) that includes missing values. Alternatively, you can declare integer columns as doubles (float64) whenever these columns may have missing values. See `Handling Integers With Missing Values <https://www.mlflow.org/docs/latest/models.html#handling-integers-with-missing-values>`_ for more details.\n",
      "  return _infer_schema(self._df)\n",
      "c:\\ProgramData\\Anaconda3\\envs\\copycatchat_env\\lib\\site-packages\\mlflow\\data\\pandas_dataset.py:116: UserWarning: Hint: Inferred schema contains integer column(s). Integer columns in Python cannot represent missing values. If your input data contains missing values at inference time, it will be encoded as floats and will cause a schema enforcement error. The best way to avoid this problem is to infer the model schema based on a realistic data sample (training dataset) that includes missing values. Alternatively, you can declare integer columns as doubles (float64) whenever these columns may have missing values. See `Handling Integers With Missing Values <https://www.mlflow.org/docs/latest/models.html#handling-integers-with-missing-values>`_ for more details.\n",
      "  return _infer_schema(self._df)\n",
      "c:\\ProgramData\\Anaconda3\\envs\\copycatchat_env\\lib\\site-packages\\mlflow\\data\\pandas_dataset.py:116: UserWarning: Hint: Inferred schema contains integer column(s). Integer columns in Python cannot represent missing values. If your input data contains missing values at inference time, it will be encoded as floats and will cause a schema enforcement error. The best way to avoid this problem is to infer the model schema based on a realistic data sample (training dataset) that includes missing values. Alternatively, you can declare integer columns as doubles (float64) whenever these columns may have missing values. See `Handling Integers With Missing Values <https://www.mlflow.org/docs/latest/models.html#handling-integers-with-missing-values>`_ for more details.\n",
      "  return _infer_schema(self._df)\n",
      "Using the `WAND_DISABLED` environment variable is deprecated and will be removed in v5. Use the --report_to flag to control the integrations used for logging result (for instance --report_to none).\n",
      "c:\\ProgramData\\Anaconda3\\envs\\copycatchat_env\\lib\\site-packages\\transformers\\optimization.py:306: FutureWarning: This implementation of AdamW is deprecated and will be removed in a future version. Use the PyTorch implementation torch.optim.AdamW instead, or set `no_deprecation_warning=True` to disable this warning\n",
      "  warnings.warn(\n",
      "***** Running training *****\n",
      "  Num examples = 10\n",
      "  Num Epochs = 1\n",
      "  Instantaneous batch size per device = 2\n",
      "  Total train batch size (w. parallel, distributed & accumulation) = 2\n",
      "  Gradient Accumulation steps = 1\n",
      "  Total optimization steps = 5\n",
      "100%|██████████| 5/5 [00:13<00:00,  2.77s/it]***** Running Evaluation *****\n",
      "  Num examples = 10\n",
      "  Batch size = 2\n"
     ]
    },
    {
     "name": "stdout",
     "output_type": "stream",
     "text": [
      "{'loss': 2.441, 'learning_rate': 0.0, 'epoch': 1.0}\n"
     ]
    },
    {
     "name": "stderr",
     "output_type": "stream",
     "text": [
      "\n",
      "100%|██████████| 5/5 [00:18<00:00,  2.77s/it]Saving model checkpoint to ClassificationBERT\\checkpoint-5\n",
      "Configuration saved in ClassificationBERT\\checkpoint-5\\config.json\n"
     ]
    },
    {
     "name": "stdout",
     "output_type": "stream",
     "text": [
      "{'eval_loss': 1.96613347530365, 'eval_f1': 0.08333333333333334, 'eval_slicing_accuracy_overall': 0.2, 'eval_slicing_accuracy_short': 0.0, 'eval_slicing_accuracy_textblob_polarity': 0.4, 'eval_runtime': 5.0342, 'eval_samples_per_second': 1.986, 'eval_steps_per_second': 0.993, 'epoch': 1.0}\n"
     ]
    },
    {
     "name": "stderr",
     "output_type": "stream",
     "text": [
      "Model weights saved in ClassificationBERT\\checkpoint-5\\pytorch_model.bin\n",
      "\n",
      "\n",
      "Training completed. Do not forget to share your model on huggingface.co/models =)\n",
      "\n",
      "\n",
      "Loading best model from ClassificationBERT\\checkpoint-5 (score: 0.08333333333333334).\n",
      "100%|██████████| 5/5 [00:21<00:00,  4.27s/it]\n",
      "***** Running Prediction *****\n",
      "  Num examples = 10\n",
      "  Batch size = 2\n"
     ]
    },
    {
     "name": "stdout",
     "output_type": "stream",
     "text": [
      "{'train_runtime': 21.4811, 'train_samples_per_second': 0.466, 'train_steps_per_second': 0.233, 'train_loss': 2.44101619720459, 'epoch': 1.0}\n"
     ]
    },
    {
     "name": "stderr",
     "output_type": "stream",
     "text": [
      "100%|██████████| 5/5 [00:04<00:00,  1.04it/s]***** Running Prediction *****\n",
      "  Num examples = 10\n",
      "  Batch size = 2\n"
     ]
    },
    {
     "name": "stdout",
     "output_type": "stream",
     "text": [
      "{'test_loss': 2.210571765899658, 'test_f1': 0.030303030303030304, 'test_slicing_accuracy_overall': 0.1, 'test_slicing_accuracy_short': 0.0, 'test_slicing_accuracy_textblob_polarity': 0.2, 'test_runtime': 5.2072, 'test_samples_per_second': 1.92, 'test_steps_per_second': 0.96}\n",
      "{'test_loss_test': 2.210571765899658, 'test_f1_test': 0.030303030303030304, 'test_slicing_accuracy_overall_test': 0.1, 'test_slicing_accuracy_short_test': 0.0, 'test_slicing_accuracy_textblob_polarity_test': 0.2, 'test_runtime_test': 5.2072, 'test_samples_per_second_test': 1.92, 'test_steps_per_second_test': 0.96}\n"
     ]
    },
    {
     "name": "stderr",
     "output_type": "stream",
     "text": [
      "10it [00:09,  1.01it/s]                      \n"
     ]
    },
    {
     "name": "stdout",
     "output_type": "stream",
     "text": [
      "{'test_loss': 2.41149640083313, 'test_f1': 0.0923076923076923, 'test_slicing_accuracy_overall': 0.3, 'test_slicing_accuracy_short': 0.0, 'test_slicing_accuracy_textblob_polarity': 0.4, 'test_runtime': 5.3562, 'test_samples_per_second': 1.867, 'test_steps_per_second': 0.934}\n",
      "{'test_loss_cont': 2.41149640083313, 'test_f1_cont': 0.0923076923076923, 'test_slicing_accuracy_overall_cont': 0.3, 'test_slicing_accuracy_short_cont': 0.0, 'test_slicing_accuracy_textblob_polarity_cont': 0.4, 'test_runtime_cont': 5.3562, 'test_samples_per_second_cont': 1.867, 'test_steps_per_second_cont': 0.934}\n"
     ]
    },
    {
     "data": {
      "text/plain": [
       "{'train_results': TrainOutput(global_step=5, training_loss=2.44101619720459, metrics={'train_runtime': 21.4811, 'train_samples_per_second': 0.466, 'train_steps_per_second': 0.233, 'train_loss': 2.44101619720459, 'epoch': 1.0}),\n",
       " 'test_results': {'test_loss': 2.210571765899658,\n",
       "  'test_f1': 0.030303030303030304,\n",
       "  'test_slicing_accuracy_overall': 0.1,\n",
       "  'test_slicing_accuracy_short': 0.0,\n",
       "  'test_slicing_accuracy_textblob_polarity': 0.2,\n",
       "  'test_runtime': 5.2072,\n",
       "  'test_samples_per_second': 1.92,\n",
       "  'test_steps_per_second': 0.96},\n",
       " 'control_results': {'test_loss': 2.41149640083313,\n",
       "  'test_f1': 0.0923076923076923,\n",
       "  'test_slicing_accuracy_overall': 0.3,\n",
       "  'test_slicing_accuracy_short': 0.0,\n",
       "  'test_slicing_accuracy_textblob_polarity': 0.4,\n",
       "  'test_runtime': 5.3562,\n",
       "  'test_samples_per_second': 1.867,\n",
       "  'test_steps_per_second': 0.934}}"
      ]
     },
     "execution_count": 4,
     "metadata": {},
     "output_type": "execute_result"
    }
   ],
   "source": [
    "enginora.loop()"
   ]
  }
 ],
 "metadata": {
  "kernelspec": {
   "display_name": "Python 3",
   "language": "python",
   "name": "python3"
  },
  "language_info": {
   "codemirror_mode": {
    "name": "ipython",
    "version": 3
   },
   "file_extension": ".py",
   "mimetype": "text/x-python",
   "name": "python",
   "nbconvert_exporter": "python",
   "pygments_lexer": "ipython3",
   "version": "3.9.16"
  }
 },
 "nbformat": 4,
 "nbformat_minor": 0
}

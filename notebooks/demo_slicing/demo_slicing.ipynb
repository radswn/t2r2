{
 "cells": [
  {
   "cell_type": "markdown",
   "metadata": {},
   "source": [
    "# Slicing Functions with MlFlow \n",
    "----------------------------------------------------------------\n",
    "\n",
    "In this notebook, we will explore Snorkel's slicing functions and their use in T2R2 together, paired with mlflow"
   ]
  },
  {
   "cell_type": "markdown",
   "metadata": {},
   "source": [
    "### mlflow\n",
    "start out by running the server locally or elsewhere:\n",
    "\n",
    "```\n",
    "  mlflow server\n",
    "```\n",
    "\n",
    "and set the tracking uri together with the experiment name in the config, the default being:\n",
    "\n",
    "```\n",
    "  experiment_name: 'my_experiment_slicing'\n",
    "  tags:\n",
    "      version: 'v1'\n",
    "  tracking_uri: \"http://localhost:5000\"\n",
    "```\n",
    "\n",
    "after running you can view your experiment in the browser, using the tracking uri.\n",
    "\n",
    "### slicing functions\n",
    "Slicing functions allow you to examine the performance of the model on a variety of defined subsets defined by slicing functions.\n",
    "Specify slicing functions in config. Like this:\n",
    "```\n",
    "  selectors: \n",
    "    - name: slicing\n",
    "      args: \n",
    "        result_file: 'slicing/test_slicing.pickle'\n",
    "        list_of_slicing_functions: [short, textblob_polarity, long]\n",
    "```\n",
    "\n",
    "You can pick them from the avalable list in [default_slicing_functions.py](src\\t2r2\\selector\\slicing\\default_slicing_functions.py) below:\n",
    "\n",
    "```\n",
    "@slicing_function()\n",
    "def short(x):\n",
    "    '''Short texts, below 60 characters'''\n",
    "    return len(x.text.split()) < 60\n",
    "\n",
    "@slicing_function()\n",
    "def long(x):\n",
    "    '''Long texts, above 100 characters'''\n",
    "    return len(x.text.split()) > 100\n",
    "\n",
    "@slicing_function(pre=[textblob_sentiment])\n",
    "def textblob_polarity(x):\n",
    "    '''Slightly more positive sentiment(-1 is negative 1 is positive)'''\n",
    "    return x.polarity > 0.1\n",
    "```\n",
    "\n",
    "But feel free to add your own and contribute to t2r2! \n"
   ]
  },
  {
   "cell_type": "code",
   "execution_count": 2,
   "metadata": {
    "ExecuteTime": {
     "end_time": "2023-06-06T18:47:29.680742400Z",
     "start_time": "2023-06-06T18:47:26.746571100Z"
    },
    "collapsed": true
   },
   "outputs": [
    {
     "name": "stderr",
     "output_type": "stream",
     "text": [
      "c:\\Users\\ismyn\\miniconda3\\envs\\enginora_env\\lib\\site-packages\\tqdm\\auto.py:21: TqdmWarning: IProgress not found. Please update jupyter and ipywidgets. See https://ipywidgets.readthedocs.io/en/stable/user_install.html\n",
      "  from .autonotebook import tqdm as notebook_tqdm\n"
     ]
    }
   ],
   "source": [
    "import os\n",
    "import t2r2"
   ]
  },
  {
   "cell_type": "code",
   "execution_count": 3,
   "metadata": {
    "ExecuteTime": {
     "end_time": "2023-06-06T18:47:29.692642500Z",
     "start_time": "2023-06-06T18:47:29.683581900Z"
    },
    "collapsed": false,
    "pycharm": {
     "name": "#%%\n"
    }
   },
   "outputs": [],
   "source": [
    "os.environ['WANDB_DISABLED'] = 'true'"
   ]
  },
  {
   "cell_type": "code",
   "execution_count": 4,
   "metadata": {
    "ExecuteTime": {
     "end_time": "2023-06-06T19:01:32.772699200Z",
     "start_time": "2023-06-06T18:47:29.696640100Z"
    },
    "collapsed": false,
    "pycharm": {
     "name": "#%%\n"
    }
   },
   "outputs": [
    {
     "name": "stderr",
     "output_type": "stream",
     "text": [
      "100%|██████████| 12109/12109 [00:10<00:00, 1144.44it/s]\n",
      "100%|██████████| 2584/2584 [00:02<00:00, 1131.07it/s]\n",
      "c:\\Users\\ismyn\\miniconda3\\envs\\enginora_env\\lib\\site-packages\\mlflow\\data\\pandas_dataset.py:116: UserWarning: Hint: Inferred schema contains integer column(s). Integer columns in Python cannot represent missing values. If your input data contains missing values at inference time, it will be encoded as floats and will cause a schema enforcement error. The best way to avoid this problem is to infer the model schema based on a realistic data sample (training dataset) that includes missing values. Alternatively, you can declare integer columns as doubles (float64) whenever these columns may have missing values. See `Handling Integers With Missing Values <https://www.mlflow.org/docs/latest/models.html#handling-integers-with-missing-values>`_ for more details.\n",
      "  return _infer_schema(self._df)\n",
      "c:\\Users\\ismyn\\miniconda3\\envs\\enginora_env\\lib\\site-packages\\mlflow\\data\\pandas_dataset.py:116: UserWarning: Hint: Inferred schema contains integer column(s). Integer columns in Python cannot represent missing values. If your input data contains missing values at inference time, it will be encoded as floats and will cause a schema enforcement error. The best way to avoid this problem is to infer the model schema based on a realistic data sample (training dataset) that includes missing values. Alternatively, you can declare integer columns as doubles (float64) whenever these columns may have missing values. See `Handling Integers With Missing Values <https://www.mlflow.org/docs/latest/models.html#handling-integers-with-missing-values>`_ for more details.\n",
      "  return _infer_schema(self._df)\n",
      "c:\\Users\\ismyn\\miniconda3\\envs\\enginora_env\\lib\\site-packages\\mlflow\\data\\pandas_dataset.py:116: UserWarning: Hint: Inferred schema contains integer column(s). Integer columns in Python cannot represent missing values. If your input data contains missing values at inference time, it will be encoded as floats and will cause a schema enforcement error. The best way to avoid this problem is to infer the model schema based on a realistic data sample (training dataset) that includes missing values. Alternatively, you can declare integer columns as doubles (float64) whenever these columns may have missing values. See `Handling Integers With Missing Values <https://www.mlflow.org/docs/latest/models.html#handling-integers-with-missing-values>`_ for more details.\n",
      "  return _infer_schema(self._df)\n",
      "c:\\Users\\ismyn\\miniconda3\\envs\\enginora_env\\lib\\site-packages\\mlflow\\data\\pandas_dataset.py:116: UserWarning: Hint: Inferred schema contains integer column(s). Integer columns in Python cannot represent missing values. If your input data contains missing values at inference time, it will be encoded as floats and will cause a schema enforcement error. The best way to avoid this problem is to infer the model schema based on a realistic data sample (training dataset) that includes missing values. Alternatively, you can declare integer columns as doubles (float64) whenever these columns may have missing values. See `Handling Integers With Missing Values <https://www.mlflow.org/docs/latest/models.html#handling-integers-with-missing-values>`_ for more details.\n",
      "  return _infer_schema(self._df)\n",
      "***** Running training *****\n",
      "  Num examples = 1000\n",
      "  Num Epochs = 1\n",
      "  Instantaneous batch size per device = 2\n",
      "  Total train batch size (w. parallel, distributed & accumulation) = 2\n",
      "  Gradient Accumulation steps = 1\n",
      "  Total optimization steps = 500\n",
      "The following columns in the training set don't have a corresponding argument in `DistilBertForSequenceClassification.forward` and have been ignored: token_type_ids. If token_type_ids are not expected by `DistilBertForSequenceClassification.forward`,  you can safely ignore this message.\n",
      "***** Running Evaluation *****\n",
      "  Num examples = 1000\n",
      "  Batch size = 2\n",
      "The following columns in the evaluation set don't have a corresponding argument in `DistilBertForSequenceClassification.forward` and have been ignored: token_type_ids. If token_type_ids are not expected by `DistilBertForSequenceClassification.forward`,  you can safely ignore this message.\n"
     ]
    },
    {
     "name": "stdout",
     "output_type": "stream",
     "text": [
      "{'loss': 2.2379, 'learning_rate': 0.0, 'epoch': 1.0}\n"
     ]
    },
    {
     "name": "stderr",
     "output_type": "stream",
     "text": [
      "Saving model checkpoint to ClassificationBERT\\checkpoint-500\n",
      "Configuration saved in ClassificationBERT\\checkpoint-500\\config.json\n"
     ]
    },
    {
     "name": "stdout",
     "output_type": "stream",
     "text": [
      "{'eval_loss': 2.1426098346710205, 'eval_f1_score': 0.03269024651661307, 'eval_slicing_scores_accuracy_overall': 0.244, 'eval_slicing_scores_accuracy_short': 0.256120527306968, 'eval_slicing_scores_accuracy_textblob_polarity': 0.2747603833865815, 'eval_slicing_scores_accuracy_long': 0.22448979591836735, 'eval_runtime': 153.419, 'eval_samples_per_second': 6.518, 'eval_steps_per_second': 3.259, 'epoch': 1.0}\n"
     ]
    },
    {
     "name": "stderr",
     "output_type": "stream",
     "text": [
      "Model weights saved in ClassificationBERT\\checkpoint-500\\pytorch_model.bin\n",
      "\n",
      "\n",
      "Training completed. Do not forget to share your model on huggingface.co/models =)\n",
      "\n",
      "\n",
      "Loading best model from ClassificationBERT\\checkpoint-500 (score: 0.03269024651661307).\n"
     ]
    },
    {
     "name": "stdout",
     "output_type": "stream",
     "text": [
      "{'train_runtime': 939.6518, 'train_samples_per_second': 1.064, 'train_steps_per_second': 0.532, 'train_loss': 2.237875, 'epoch': 1.0}\n"
     ]
    },
    {
     "name": "stderr",
     "output_type": "stream",
     "text": [
      "***** Running Prediction *****\n",
      "  Num examples = 100\n",
      "  Batch size = 2\n",
      "The following columns in the test set don't have a corresponding argument in `DistilBertForSequenceClassification.forward` and have been ignored: token_type_ids. If token_type_ids are not expected by `DistilBertForSequenceClassification.forward`,  you can safely ignore this message.\n",
      "***** Running Prediction *****\n",
      "  Num examples = 9\n",
      "  Batch size = 2\n",
      "The following columns in the test set don't have a corresponding argument in `DistilBertForSequenceClassification.forward` and have been ignored: token_type_ids. If token_type_ids are not expected by `DistilBertForSequenceClassification.forward`,  you can safely ignore this message.\n"
     ]
    },
    {
     "data": {
      "text/plain": [
       "{'train_results': {'train_runtime': 939.6518,\n",
       "  'train_samples_per_second': 1.064,\n",
       "  'train_steps_per_second': 0.532,\n",
       "  'train_loss': 2.237875,\n",
       "  'epoch': 1.0},\n",
       " 'test_results': {'test_loss': 2.0251612663269043,\n",
       "  'test_f1_score': 0.03977272727272728,\n",
       "  'test_slicing_scores_accuracy_overall': 0.28,\n",
       "  'test_slicing_scores_accuracy_short': 0.2807017543859649,\n",
       "  'test_slicing_scores_accuracy_textblob_polarity': 0.4,\n",
       "  'test_slicing_scores_accuracy_long': 0.23076923076923078,\n",
       "  'test_runtime': 15.1103,\n",
       "  'test_samples_per_second': 6.618,\n",
       "  'test_steps_per_second': 3.309},\n",
       " 'control_results': {'test_loss': 2.2905657291412354,\n",
       "  'test_f1_score': 0.0,\n",
       "  'test_slicing_scores_accuracy_overall': 0.0,\n",
       "  'test_slicing_scores_accuracy_short': 0.0,\n",
       "  'test_slicing_scores_accuracy_textblob_polarity': 0.0,\n",
       "  'test_slicing_scores_accuracy_long': 0.0,\n",
       "  'test_runtime': 1.4715,\n",
       "  'test_samples_per_second': 6.116,\n",
       "  'test_steps_per_second': 3.398}}"
      ]
     },
     "execution_count": 4,
     "metadata": {},
     "output_type": "execute_result"
    }
   ],
   "source": [
    "t2r2.loop()"
   ]
  }
 ],
 "metadata": {
  "kernelspec": {
   "display_name": "Python 3",
   "language": "python",
   "name": "python3"
  },
  "language_info": {
   "codemirror_mode": {
    "name": "ipython",
    "version": 3
   },
   "file_extension": ".py",
   "mimetype": "text/x-python",
   "name": "python",
   "nbconvert_exporter": "python",
   "pygments_lexer": "ipython3",
   "version": "3.9.17"
  }
 },
 "nbformat": 4,
 "nbformat_minor": 0
}

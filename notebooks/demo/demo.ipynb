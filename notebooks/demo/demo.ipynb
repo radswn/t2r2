{
 "cells": [
  {
   "cell_type": "code",
   "execution_count": 1,
   "metadata": {},
   "outputs": [],
   "source": [
    "import sys\n",
    "import os\n",
    "import logging\n"
   ]
  },
  {
   "cell_type": "code",
   "execution_count": 2,
   "metadata": {
    "ExecuteTime": {
     "end_time": "2023-06-06T18:47:29.680742400Z",
     "start_time": "2023-06-06T18:47:26.746571100Z"
    },
    "collapsed": true
   },
   "outputs": [
    {
     "name": "stderr",
     "output_type": "stream",
     "text": [
      "c:\\ProgramData\\Anaconda3\\envs\\copycatchat_env\\lib\\site-packages\\tqdm\\auto.py:21: TqdmWarning: IProgress not found. Please update jupyter and ipywidgets. See https://ipywidgets.readthedocs.io/en/stable/user_install.html\n",
      "  from .autonotebook import tqdm as notebook_tqdm\n"
     ]
    }
   ],
   "source": [
    "import enginora"
   ]
  },
  {
   "cell_type": "code",
   "execution_count": 3,
   "metadata": {
    "ExecuteTime": {
     "end_time": "2023-06-06T18:47:29.692642500Z",
     "start_time": "2023-06-06T18:47:29.683581900Z"
    },
    "collapsed": false,
    "pycharm": {
     "name": "#%%\n"
    }
   },
   "outputs": [],
   "source": [
    "os.environ['WANDB_DISABLED'] = 'true'\n",
    "\n",
    "logging.basicConfig(format=\"[%(filename)s:%(lineno)s - %(funcName)20s() ] %(message)s\", level=logging.INFO)"
   ]
  },
  {
   "cell_type": "code",
   "execution_count": 4,
   "metadata": {
    "ExecuteTime": {
     "end_time": "2023-06-06T19:01:32.772699200Z",
     "start_time": "2023-06-06T18:47:29.696640100Z"
    },
    "collapsed": false,
    "pycharm": {
     "name": "#%%\n"
    }
   },
   "outputs": [
    {
     "name": "stderr",
     "output_type": "stream",
     "text": [
      "[MlflowManager.py:53 -     set_tracking_uri() ] mlflow: Tracking uri set\n"
     ]
    },
    {
     "name": "stderr",
     "output_type": "stream",
     "text": [
      "Some weights of the model checkpoint at bert-base-cased were not used when initializing BertForSequenceClassification: ['cls.seq_relationship.bias', 'cls.seq_relationship.weight', 'cls.predictions.transform.dense.weight', 'cls.predictions.decoder.weight', 'cls.predictions.bias', 'cls.predictions.transform.LayerNorm.bias', 'cls.predictions.transform.dense.bias', 'cls.predictions.transform.LayerNorm.weight']\n",
      "- This IS expected if you are initializing BertForSequenceClassification from the checkpoint of a model trained on another task or with another architecture (e.g. initializing a BertForSequenceClassification model from a BertForPreTraining model).\n",
      "- This IS NOT expected if you are initializing BertForSequenceClassification from the checkpoint of a model that you expect to be exactly identical (initializing a BertForSequenceClassification model from a BertForSequenceClassification model).\n",
      "Some weights of BertForSequenceClassification were not initialized from the model checkpoint at bert-base-cased and are newly initialized: ['classifier.weight', 'classifier.bias']\n",
      "You should probably TRAIN this model on a down-stream task to be able to use it for predictions and inference.\n",
      "[MlflowManager.py:28 - mlflow_create_experiment() ] ***SETTING EXPERIMENT***\n",
      "[MlflowManager.py:29 - mlflow_create_experiment() ] Name: my_experiment_2\n",
      "[MlflowManager.py:30 - mlflow_create_experiment() ] Experiment_id: 461283491790234111\n",
      "[MlflowManager.py:31 - mlflow_create_experiment() ] Artifact Location: mlflow-artifacts:/461283491790234111\n",
      "[MlflowManager.py:32 - mlflow_create_experiment() ] Tags: {'version': 'v1'}\n",
      "[MlflowManager.py:33 - mlflow_create_experiment() ] Lifecycle_stage: active\n",
      "[MlflowManager.py:34 - mlflow_create_experiment() ] Creation timestamp: 1689713159652\n",
      "c:\\ProgramData\\Anaconda3\\envs\\copycatchat_env\\lib\\site-packages\\mlflow\\data\\pandas_dataset.py:116: UserWarning: Hint: Inferred schema contains integer column(s). Integer columns in Python cannot represent missing values. If your input data contains missing values at inference time, it will be encoded as floats and will cause a schema enforcement error. The best way to avoid this problem is to infer the model schema based on a realistic data sample (training dataset) that includes missing values. Alternatively, you can declare integer columns as doubles (float64) whenever these columns may have missing values. See `Handling Integers With Missing Values <https://www.mlflow.org/docs/latest/models.html#handling-integers-with-missing-values>`_ for more details.\n",
      "  return _infer_schema(self._df)\n",
      "c:\\ProgramData\\Anaconda3\\envs\\copycatchat_env\\lib\\site-packages\\mlflow\\data\\pandas_dataset.py:116: UserWarning: Hint: Inferred schema contains integer column(s). Integer columns in Python cannot represent missing values. If your input data contains missing values at inference time, it will be encoded as floats and will cause a schema enforcement error. The best way to avoid this problem is to infer the model schema based on a realistic data sample (training dataset) that includes missing values. Alternatively, you can declare integer columns as doubles (float64) whenever these columns may have missing values. See `Handling Integers With Missing Values <https://www.mlflow.org/docs/latest/models.html#handling-integers-with-missing-values>`_ for more details.\n",
      "  return _infer_schema(self._df)\n",
      "c:\\ProgramData\\Anaconda3\\envs\\copycatchat_env\\lib\\site-packages\\mlflow\\data\\pandas_dataset.py:116: UserWarning: Hint: Inferred schema contains integer column(s). Integer columns in Python cannot represent missing values. If your input data contains missing values at inference time, it will be encoded as floats and will cause a schema enforcement error. The best way to avoid this problem is to infer the model schema based on a realistic data sample (training dataset) that includes missing values. Alternatively, you can declare integer columns as doubles (float64) whenever these columns may have missing values. See `Handling Integers With Missing Values <https://www.mlflow.org/docs/latest/models.html#handling-integers-with-missing-values>`_ for more details.\n",
      "  return _infer_schema(self._df)\n",
      "c:\\ProgramData\\Anaconda3\\envs\\copycatchat_env\\lib\\site-packages\\mlflow\\data\\pandas_dataset.py:116: UserWarning: Hint: Inferred schema contains integer column(s). Integer columns in Python cannot represent missing values. If your input data contains missing values at inference time, it will be encoded as floats and will cause a schema enforcement error. The best way to avoid this problem is to infer the model schema based on a realistic data sample (training dataset) that includes missing values. Alternatively, you can declare integer columns as doubles (float64) whenever these columns may have missing values. See `Handling Integers With Missing Values <https://www.mlflow.org/docs/latest/models.html#handling-integers-with-missing-values>`_ for more details.\n",
      "  return _infer_schema(self._df)\n",
      "[MlflowManager.py:44 -             log_data() ] mlflow: Dataset logged\n",
      "[MlflowManager.py:63 - log_dataset_synopsis() ] mlflow: Dataset synopsis logged\n",
      "Using the `WAND_DISABLED` environment variable is deprecated and will be removed in v5. Use the --report_to flag to control the integrations used for logging result (for instance --report_to none).\n",
      "c:\\ProgramData\\Anaconda3\\envs\\copycatchat_env\\lib\\site-packages\\transformers\\optimization.py:306: FutureWarning: This implementation of AdamW is deprecated and will be removed in a future version. Use the PyTorch implementation torch.optim.AdamW instead, or set `no_deprecation_warning=True` to disable this warning\n",
      "  warnings.warn(\n",
      "***** Running training *****\n",
      "  Num examples = 6\n",
      "  Num Epochs = 2\n",
      "  Instantaneous batch size per device = 2\n",
      "  Total train batch size (w. parallel, distributed & accumulation) = 2\n",
      "  Gradient Accumulation steps = 1\n",
      "  Total optimization steps = 6\n"
     ]
    },
    {
     "name": "stdout",
     "output_type": "stream",
     "text": [
      "p:  c:\\Users\\Windows 10\\NINA\\UNI\\EngineeringThesis\\enginora\\notebooks\\demo\\dataset_train.html\n",
      "p:  c:\\Users\\Windows 10\\NINA\\UNI\\EngineeringThesis\\enginora\\notebooks\\demo\\dataset_validation.html\n",
      "p:  c:\\Users\\Windows 10\\NINA\\UNI\\EngineeringThesis\\enginora\\notebooks\\demo\\dataset_test.html\n",
      "p:  c:\\Users\\Windows 10\\NINA\\UNI\\EngineeringThesis\\enginora\\notebooks\\demo\\dataset_control.html\n"
     ]
    },
    {
     "name": "stderr",
     "output_type": "stream",
     "text": [
      " 50%|█████     | 3/6 [00:11<00:10,  3.63s/it]***** Running Evaluation *****\n",
      "  Num examples = 6\n",
      "  Batch size = 2\n"
     ]
    },
    {
     "name": "stdout",
     "output_type": "stream",
     "text": [
      "{'loss': 2.6078, 'learning_rate': 0.0005, 'epoch': 1.0}\n"
     ]
    },
    {
     "name": "stderr",
     "output_type": "stream",
     "text": [
      "                                             \n",
      " 50%|█████     | 3/6 [00:15<00:10,  3.63s/it]Saving model checkpoint to ClassificationBERT\\checkpoint-3\n",
      "Configuration saved in ClassificationBERT\\checkpoint-3\\config.json\n"
     ]
    },
    {
     "name": "stdout",
     "output_type": "stream",
     "text": [
      "{'eval_loss': 2.4724936485290527, 'eval_f1': 0.07142857142857142, 'eval_runtime': 3.8347, 'eval_samples_per_second': 1.565, 'eval_steps_per_second': 0.782, 'epoch': 1.0}\n"
     ]
    },
    {
     "name": "stderr",
     "output_type": "stream",
     "text": [
      "Model weights saved in ClassificationBERT\\checkpoint-3\\pytorch_model.bin\n",
      "100%|██████████| 6/6 [00:27<00:00,  4.48s/it]***** Running Evaluation *****\n",
      "  Num examples = 6\n",
      "  Batch size = 2\n"
     ]
    },
    {
     "name": "stdout",
     "output_type": "stream",
     "text": [
      "{'loss': 1.6388, 'learning_rate': 0.0, 'epoch': 2.0}\n"
     ]
    },
    {
     "name": "stderr",
     "output_type": "stream",
     "text": [
      "                                             \n",
      "100%|██████████| 6/6 [00:31<00:00,  4.48s/it]Saving model checkpoint to ClassificationBERT\\checkpoint-6\n",
      "Configuration saved in ClassificationBERT\\checkpoint-6\\config.json\n"
     ]
    },
    {
     "name": "stdout",
     "output_type": "stream",
     "text": [
      "{'eval_loss': 2.2690412998199463, 'eval_f1': 0.07142857142857142, 'eval_runtime': 3.4009, 'eval_samples_per_second': 1.764, 'eval_steps_per_second': 0.882, 'epoch': 2.0}\n"
     ]
    },
    {
     "name": "stderr",
     "output_type": "stream",
     "text": [
      "Model weights saved in ClassificationBERT\\checkpoint-6\\pytorch_model.bin\n",
      "\n",
      "\n",
      "Training completed. Do not forget to share your model on huggingface.co/models =)\n",
      "\n",
      "\n",
      "Loading best model from ClassificationBERT\\checkpoint-3 (score: 0.07142857142857142).\n",
      "100%|██████████| 6/6 [00:33<00:00,  5.55s/it]\n",
      "***** Running Prediction *****\n",
      "  Num examples = 6\n",
      "  Batch size = 2\n"
     ]
    },
    {
     "name": "stdout",
     "output_type": "stream",
     "text": [
      "{'train_runtime': 33.5337, 'train_samples_per_second': 0.358, 'train_steps_per_second': 0.179, 'train_loss': 2.123289108276367, 'epoch': 2.0}\n"
     ]
    },
    {
     "name": "stderr",
     "output_type": "stream",
     "text": [
      "100%|██████████| 3/3 [00:02<00:00,  1.13it/s][MlflowManager.py:39 -          log_metrics() ] mlflow: logging metrics :test_loss_test test_f1_test test_runtime_test test_samples_per_second_test test_steps_per_second_test\n",
      "***** Running Prediction *****\n",
      "  Num examples = 6\n",
      "  Batch size = 2\n",
      "6it [00:05,  1.08s/it]                       [MlflowManager.py:39 -          log_metrics() ] mlflow: logging metrics :test_loss_cont test_f1_cont test_runtime_cont test_samples_per_second_cont test_steps_per_second_cont\n",
      "6it [00:06,  1.01s/it]\n"
     ]
    },
    {
     "data": {
      "text/plain": [
       "{'train_results': TrainOutput(global_step=6, training_loss=2.123289108276367, metrics={'train_runtime': 33.5337, 'train_samples_per_second': 0.358, 'train_steps_per_second': 0.179, 'train_loss': 2.123289108276367, 'epoch': 2.0}),\n",
       " 'test_results': {'test_loss': 2.7410268783569336,\n",
       "  'test_f1': 0.0,\n",
       "  'test_runtime': 3.4685,\n",
       "  'test_samples_per_second': 1.73,\n",
       "  'test_steps_per_second': 0.865},\n",
       " 'control_results': {'test_loss': 2.364701509475708,\n",
       "  'test_f1': 0.07142857142857142,\n",
       "  'test_runtime': 3.4645,\n",
       "  'test_samples_per_second': 1.732,\n",
       "  'test_steps_per_second': 0.866}}"
      ]
     },
     "execution_count": 4,
     "metadata": {},
     "output_type": "execute_result"
    }
   ],
   "source": [
    "enginora.loop()"
   ]
  },
  {
   "cell_type": "markdown",
   "metadata": {},
   "source": []
  }
 ],
 "metadata": {
  "kernelspec": {
   "display_name": "Python 3",
   "language": "python",
   "name": "python3"
  },
  "language_info": {
   "codemirror_mode": {
    "name": "ipython",
    "version": 3
   },
   "file_extension": ".py",
   "mimetype": "text/x-python",
   "name": "python",
   "nbconvert_exporter": "python",
   "pygments_lexer": "ipython3",
   "version": "3.9.16"
  }
 },
 "nbformat": 4,
 "nbformat_minor": 0
}

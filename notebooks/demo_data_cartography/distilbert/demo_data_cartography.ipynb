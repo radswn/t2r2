{
 "cells": [
  {
   "cell_type": "markdown",
   "id": "ca50676e09e29ee7",
   "metadata": {
    "collapsed": false
   },
   "source": [
    "# Notebook explaining the nuts and bots of data cartography implementation in T2R2 paired with DVC"
   ]
  },
  {
   "cell_type": "markdown",
   "id": "41f19abf097cbc71",
   "metadata": {
    "collapsed": false
   },
   "source": [
    "Implementation of the concept of data cartography as outlined in the paper: https://aclanthology.org/2020.emnlp-main.746/. As the authors write:\n",
    "\n",
    " *Large datasets have become commonplace in NLP research. However, the increased emphasis on data quantity has made it challenging to assess the quality of data. We introduce Data Maps—a model-based tool to characterize and diagnose datasets. We leverage a largely ignored source of information: thebehavior of the model on individual instances during training (training dynamics) for building data maps. This yields two intuitive measures for each example—the model’s confidence in the true class, and the variability ofthis confidence across epochs—obtained in a single run of training. Experiments across four datasets show that these model-dependent measures reveal three distinct regions in the data map, each with pronounced characteristics. First, our data maps show the presence of ambiguous regions with respect to the model, which contribute the most towards out-of-distribution generalization. Second, the most populous regions in the data are easy to learn for the model, and play an important role in model optimization. Finally, data maps uncover a region with instances that the model finds hard to learn; these often correspond to labeling errors. Our results indicate that a shift in focus from quantity to quality of data could lead to robust models and improved out-of-distribution generalization.*"
   ]
  },
  {
   "cell_type": "markdown",
   "id": "de3735df54c193f1",
   "metadata": {
    "collapsed": false
   },
   "source": [
    "## Step 1: \n",
    "Run Data Cartography, in the training config, set perform_data_cartography to True, and make sure you provide a distinict validatoon set, so that data cartography can be conducted on the whole of the training set. You can set a file destination for the data cartography results.\n"
   ]
  },
  {
   "cell_type": "code",
   "execution_count": 2,
   "id": "initial_id",
   "metadata": {
    "ExecuteTime": {
     "end_time": "2023-11-03T19:15:59.019978100Z",
     "start_time": "2023-11-03T19:15:47.217016400Z"
    },
    "collapsed": false
   },
   "outputs": [
    {
     "name": "stderr",
     "output_type": "stream",
     "text": [
      "c:\\Users\\ismyn\\miniconda3\\envs\\enginora_env\\lib\\site-packages\\tqdm\\auto.py:21: TqdmWarning: IProgress not found. Please update jupyter and ipywidgets. See https://ipywidgets.readthedocs.io/en/stable/user_install.html\n",
      "  from .autonotebook import tqdm as notebook_tqdm\n"
     ]
    }
   ],
   "source": [
    "from t2r2 import T2R2\n",
    "import logging\n",
    "import os"
   ]
  },
  {
   "cell_type": "code",
   "execution_count": 3,
   "id": "ccd927f0436ad80e",
   "metadata": {
    "ExecuteTime": {
     "end_time": "2023-11-03T19:15:59.060333900Z",
     "start_time": "2023-11-03T19:15:59.036337500Z"
    },
    "collapsed": false
   },
   "outputs": [],
   "source": [
    "os.environ['WANDB_DISABLED'] = 'true'\n",
    "\n",
    "logging.basicConfig(format=\"[%(filename)s:%(lineno)s - %(funcName)20s() ] %(message)s\", level=logging.INFO)"
   ]
  },
  {
   "cell_type": "code",
   "execution_count": 4,
   "id": "bbb7fb3b8ae3fd58",
   "metadata": {
    "ExecuteTime": {
     "end_time": "2023-11-03T19:07:12.376219500Z",
     "start_time": "2023-11-03T18:53:02.613898900Z"
    },
    "collapsed": false
   },
   "outputs": [
    {
     "name": "stderr",
     "output_type": "stream",
     "text": [
      "c:\\Users\\ismyn\\miniconda3\\envs\\enginora_env\\lib\\site-packages\\sklearn\\metrics\\_classification.py:2184: UserWarning: y_pred contains classes not in y_true\n",
      "  warnings.warn(\"y_pred contains classes not in y_true\")\n",
      "***** Running training *****\n",
      "  Num examples = 1000\n",
      "  Num Epochs = 6\n",
      "  Instantaneous batch size per device = 2\n",
      "  Total train batch size (w. parallel, distributed & accumulation) = 2\n",
      "  Gradient Accumulation steps = 1\n",
      "  Total optimization steps = 3000\n",
      "The following columns in the training set don't have a corresponding argument in `DistilBertForSequenceClassification.forward` and have been ignored: token_type_ids. If token_type_ids are not expected by `DistilBertForSequenceClassification.forward`,  you can safely ignore this message.\n",
      "***** Running Evaluation *****\n",
      "  Num examples = 1000\n",
      "  Batch size = 2\n",
      "The following columns in the evaluation set don't have a corresponding argument in `DistilBertForSequenceClassification.forward` and have been ignored: token_type_ids. If token_type_ids are not expected by `DistilBertForSequenceClassification.forward`,  you can safely ignore this message.\n",
      "***** Running Evaluation *****\n",
      "  Num examples = 100\n",
      "  Batch size = 2\n",
      "The following columns in the evaluation set don't have a corresponding argument in `DistilBertForSequenceClassification.forward` and have been ignored: token_type_ids. If token_type_ids are not expected by `DistilBertForSequenceClassification.forward`,  you can safely ignore this message.\n"
     ]
    },
    {
     "name": "stdout",
     "output_type": "stream",
     "text": [
      "{'train_loss': 0.24321432411670685, 'train_f1_score': 0.9364928909952607, 'train_balanced_accuracy_score': 0.9325084995830393, 'train_runtime': 207.7488, 'train_samples_per_second': 4.814, 'train_steps_per_second': 2.407, 'epoch': 1.0}\n",
      "{'loss': 0.5159, 'learning_rate': 8.333333333333334e-06, 'epoch': 1.0}\n"
     ]
    },
    {
     "name": "stderr",
     "output_type": "stream",
     "text": [
      "Saving model checkpoint to ./results/checkpoint-500\n",
      "Configuration saved in ./results/checkpoint-500\\config.json\n"
     ]
    },
    {
     "name": "stdout",
     "output_type": "stream",
     "text": [
      "{'eval_loss': 0.5001327991485596, 'eval_f1_score': 0.8600000000000001, 'eval_balanced_accuracy_score': 0.8631071858691288, 'eval_runtime': 20.529, 'eval_samples_per_second': 4.871, 'eval_steps_per_second': 2.436, 'epoch': 1.0}\n"
     ]
    },
    {
     "name": "stderr",
     "output_type": "stream",
     "text": [
      "Model weights saved in ./results/checkpoint-500\\pytorch_model.bin\n",
      "***** Running Evaluation *****\n",
      "  Num examples = 1000\n",
      "  Batch size = 2\n",
      "The following columns in the evaluation set don't have a corresponding argument in `DistilBertForSequenceClassification.forward` and have been ignored: token_type_ids. If token_type_ids are not expected by `DistilBertForSequenceClassification.forward`,  you can safely ignore this message.\n",
      "***** Running Evaluation *****\n",
      "  Num examples = 100\n",
      "  Batch size = 2\n",
      "The following columns in the evaluation set don't have a corresponding argument in `DistilBertForSequenceClassification.forward` and have been ignored: token_type_ids. If token_type_ids are not expected by `DistilBertForSequenceClassification.forward`,  you can safely ignore this message.\n"
     ]
    },
    {
     "name": "stdout",
     "output_type": "stream",
     "text": [
      "{'train_loss': 0.12022937089204788, 'train_f1_score': 0.9723546234509056, 'train_balanced_accuracy_score': 0.9708849188530374, 'train_runtime': 341.8276, 'train_samples_per_second': 2.925, 'train_steps_per_second': 1.463, 'epoch': 2.0}\n",
      "{'loss': 0.3129, 'learning_rate': 6.666666666666667e-06, 'epoch': 2.0}\n"
     ]
    },
    {
     "name": "stderr",
     "output_type": "stream",
     "text": [
      "Saving model checkpoint to ./results/checkpoint-1000\n",
      "Configuration saved in ./results/checkpoint-1000\\config.json\n"
     ]
    },
    {
     "name": "stdout",
     "output_type": "stream",
     "text": [
      "{'eval_loss': 0.5978317856788635, 'eval_f1_score': 0.8686868686868686, 'eval_balanced_accuracy_score': 0.8725411481332799, 'eval_runtime': 34.2703, 'eval_samples_per_second': 2.918, 'eval_steps_per_second': 1.459, 'epoch': 2.0}\n"
     ]
    },
    {
     "name": "stderr",
     "output_type": "stream",
     "text": [
      "Model weights saved in ./results/checkpoint-1000\\pytorch_model.bin\n",
      "***** Running Evaluation *****\n",
      "  Num examples = 1000\n",
      "  Batch size = 2\n",
      "The following columns in the evaluation set don't have a corresponding argument in `DistilBertForSequenceClassification.forward` and have been ignored: token_type_ids. If token_type_ids are not expected by `DistilBertForSequenceClassification.forward`,  you can safely ignore this message.\n",
      "***** Running Evaluation *****\n",
      "  Num examples = 100\n",
      "  Batch size = 2\n",
      "The following columns in the evaluation set don't have a corresponding argument in `DistilBertForSequenceClassification.forward` and have been ignored: token_type_ids. If token_type_ids are not expected by `DistilBertForSequenceClassification.forward`,  you can safely ignore this message.\n"
     ]
    },
    {
     "name": "stdout",
     "output_type": "stream",
     "text": [
      "{'train_loss': 0.06123146787285805, 'train_f1_score': 0.988527724665392, 'train_balanced_accuracy_score': 0.9880685098466868, 'train_runtime': 155.0229, 'train_samples_per_second': 6.451, 'train_steps_per_second': 3.225, 'epoch': 3.0}\n",
      "{'loss': 0.1486, 'learning_rate': 5e-06, 'epoch': 3.0}\n"
     ]
    },
    {
     "name": "stderr",
     "output_type": "stream",
     "text": [
      "Saving model checkpoint to ./results/checkpoint-1500\n",
      "Configuration saved in ./results/checkpoint-1500\\config.json\n"
     ]
    },
    {
     "name": "stdout",
     "output_type": "stream",
     "text": [
      "{'eval_loss': 0.6687284708023071, 'eval_f1_score': 0.8510638297872339, 'eval_balanced_accuracy_score': 0.8594941790445605, 'eval_runtime': 15.6745, 'eval_samples_per_second': 6.38, 'eval_steps_per_second': 3.19, 'epoch': 3.0}\n"
     ]
    },
    {
     "name": "stderr",
     "output_type": "stream",
     "text": [
      "Model weights saved in ./results/checkpoint-1500\\pytorch_model.bin\n",
      "***** Running Evaluation *****\n",
      "  Num examples = 1000\n",
      "  Batch size = 2\n",
      "The following columns in the evaluation set don't have a corresponding argument in `DistilBertForSequenceClassification.forward` and have been ignored: token_type_ids. If token_type_ids are not expected by `DistilBertForSequenceClassification.forward`,  you can safely ignore this message.\n",
      "***** Running Evaluation *****\n",
      "  Num examples = 100\n",
      "  Batch size = 2\n",
      "The following columns in the evaluation set don't have a corresponding argument in `DistilBertForSequenceClassification.forward` and have been ignored: token_type_ids. If token_type_ids are not expected by `DistilBertForSequenceClassification.forward`,  you can safely ignore this message.\n"
     ]
    },
    {
     "name": "stdout",
     "output_type": "stream",
     "text": [
      "{'train_loss': 0.04500864818692207, 'train_f1_score': 0.9923664122137404, 'train_balanced_accuracy_score': 0.9919815254346014, 'train_runtime': 142.8153, 'train_samples_per_second': 7.002, 'train_steps_per_second': 3.501, 'epoch': 4.0}\n",
      "{'loss': 0.0669, 'learning_rate': 3.3333333333333333e-06, 'epoch': 4.0}\n"
     ]
    },
    {
     "name": "stderr",
     "output_type": "stream",
     "text": [
      "Saving model checkpoint to ./results/checkpoint-2000\n",
      "Configuration saved in ./results/checkpoint-2000\\config.json\n"
     ]
    },
    {
     "name": "stdout",
     "output_type": "stream",
     "text": [
      "{'eval_loss': 0.7197412252426147, 'eval_f1_score': 0.875, 'eval_balanced_accuracy_score': 0.8807707747892413, 'eval_runtime': 14.4153, 'eval_samples_per_second': 6.937, 'eval_steps_per_second': 3.469, 'epoch': 4.0}\n"
     ]
    },
    {
     "name": "stderr",
     "output_type": "stream",
     "text": [
      "Model weights saved in ./results/checkpoint-2000\\pytorch_model.bin\n",
      "***** Running Evaluation *****\n",
      "  Num examples = 1000\n",
      "  Batch size = 2\n",
      "The following columns in the evaluation set don't have a corresponding argument in `DistilBertForSequenceClassification.forward` and have been ignored: token_type_ids. If token_type_ids are not expected by `DistilBertForSequenceClassification.forward`,  you can safely ignore this message.\n",
      "***** Running Evaluation *****\n",
      "  Num examples = 100\n",
      "  Batch size = 2\n",
      "The following columns in the evaluation set don't have a corresponding argument in `DistilBertForSequenceClassification.forward` and have been ignored: token_type_ids. If token_type_ids are not expected by `DistilBertForSequenceClassification.forward`,  you can safely ignore this message.\n"
     ]
    },
    {
     "name": "stdout",
     "output_type": "stream",
     "text": [
      "{'train_loss': 0.031178252771496773, 'train_f1_score': 0.9952335557673976, 'train_balanced_accuracy_score': 0.9949403425492335, 'train_runtime': 144.3394, 'train_samples_per_second': 6.928, 'train_steps_per_second': 3.464, 'epoch': 5.0}\n",
      "{'loss': 0.0532, 'learning_rate': 1.6666666666666667e-06, 'epoch': 5.0}\n"
     ]
    },
    {
     "name": "stderr",
     "output_type": "stream",
     "text": [
      "Saving model checkpoint to ./results/checkpoint-2500\n",
      "Configuration saved in ./results/checkpoint-2500\\config.json\n"
     ]
    },
    {
     "name": "stdout",
     "output_type": "stream",
     "text": [
      "{'eval_loss': 0.7100751996040344, 'eval_f1_score': 0.8712871287128713, 'eval_balanced_accuracy_score': 0.8737454837414693, 'eval_runtime': 14.4646, 'eval_samples_per_second': 6.913, 'eval_steps_per_second': 3.457, 'epoch': 5.0}\n"
     ]
    },
    {
     "name": "stderr",
     "output_type": "stream",
     "text": [
      "Model weights saved in ./results/checkpoint-2500\\pytorch_model.bin\n",
      "***** Running Evaluation *****\n",
      "  Num examples = 1000\n",
      "  Batch size = 2\n",
      "The following columns in the evaluation set don't have a corresponding argument in `DistilBertForSequenceClassification.forward` and have been ignored: token_type_ids. If token_type_ids are not expected by `DistilBertForSequenceClassification.forward`,  you can safely ignore this message.\n",
      "***** Running Evaluation *****\n",
      "  Num examples = 100\n",
      "  Batch size = 2\n",
      "The following columns in the evaluation set don't have a corresponding argument in `DistilBertForSequenceClassification.forward` and have been ignored: token_type_ids. If token_type_ids are not expected by `DistilBertForSequenceClassification.forward`,  you can safely ignore this message.\n"
     ]
    },
    {
     "name": "stdout",
     "output_type": "stream",
     "text": [
      "{'train_loss': 0.03009946458041668, 'train_f1_score': 0.9952335557673976, 'train_balanced_accuracy_score': 0.9949403425492335, 'train_runtime': 143.9641, 'train_samples_per_second': 6.946, 'train_steps_per_second': 3.473, 'epoch': 6.0}\n",
      "{'loss': 0.0403, 'learning_rate': 0.0, 'epoch': 6.0}\n"
     ]
    },
    {
     "name": "stderr",
     "output_type": "stream",
     "text": [
      "Saving model checkpoint to ./results/checkpoint-3000\n",
      "Configuration saved in ./results/checkpoint-3000\\config.json\n"
     ]
    },
    {
     "name": "stdout",
     "output_type": "stream",
     "text": [
      "{'eval_loss': 0.7379097938537598, 'eval_f1_score': 0.875, 'eval_balanced_accuracy_score': 0.8807707747892413, 'eval_runtime': 14.5953, 'eval_samples_per_second': 6.852, 'eval_steps_per_second': 3.426, 'epoch': 6.0}\n"
     ]
    },
    {
     "name": "stderr",
     "output_type": "stream",
     "text": [
      "Model weights saved in ./results/checkpoint-3000\\pytorch_model.bin\n",
      "\n",
      "\n",
      "Training completed. Do not forget to share your model on huggingface.co/models =)\n",
      "\n",
      "\n",
      "Loading best model from ./results/checkpoint-2000 (score: 0.875).\n",
      "[data_cartography.py:75 - compute_data_cartography_metrics() ] Computing training dynamics across 6 epochs\n",
      "[data_cartography.py:76 - compute_data_cartography_metrics() ] Metrics computed: confidence, variability, correctness, forgetfulness, threshold_closeness\n"
     ]
    },
    {
     "name": "stdout",
     "output_type": "stream",
     "text": [
      "{'train_runtime': 7341.7562, 'train_samples_per_second': 0.817, 'train_steps_per_second': 0.409, 'train_loss': 0.18963099670410155, 'epoch': 6.0}\n"
     ]
    },
    {
     "name": "stderr",
     "output_type": "stream",
     "text": [
      "100%|██████████| 1000/1000 [00:00<00:00, 1402.05it/s]\n",
      "[category.py:223 -               update() ] Using categorical units to plot a list of strings that are all parsable as floats or dates. If these strings should be plotted as numbers, cast to the appropriate data type before plotting.\n",
      "[category.py:223 -               update() ] Using categorical units to plot a list of strings that are all parsable as floats or dates. If these strings should be plotted as numbers, cast to the appropriate data type before plotting.\n",
      "Saving model checkpoint to results\\best_model\n",
      "Configuration saved in results\\best_model\\config.json\n",
      "Model weights saved in results\\best_model\\pytorch_model.bin\n",
      "***** Running Prediction *****\n",
      "  Num examples = 100\n",
      "  Batch size = 2\n",
      "The following columns in the test set don't have a corresponding argument in `DistilBertForSequenceClassification.forward` and have been ignored: token_type_ids. If token_type_ids are not expected by `DistilBertForSequenceClassification.forward`,  you can safely ignore this message.\n",
      "c:\\Users\\ismyn\\miniconda3\\envs\\enginora_env\\lib\\site-packages\\sklearn\\metrics\\_classification.py:2184: UserWarning: y_pred contains classes not in y_true\n",
      "  warnings.warn(\"y_pred contains classes not in y_true\")\n",
      "***** Running Prediction *****\n",
      "  Num examples = 10\n",
      "  Batch size = 2\n",
      "The following columns in the test set don't have a corresponding argument in `DistilBertForSequenceClassification.forward` and have been ignored: token_type_ids. If token_type_ids are not expected by `DistilBertForSequenceClassification.forward`,  you can safely ignore this message.\n",
      "c:\\Users\\ismyn\\miniconda3\\envs\\enginora_env\\lib\\site-packages\\sklearn\\metrics\\_classification.py:2184: UserWarning: y_pred contains classes not in y_true\n",
      "  warnings.warn(\"y_pred contains classes not in y_true\")\n"
     ]
    },
    {
     "data": {
      "text/plain": [
       "{'control_results': {'control_loss': 0.4243026375770569,\n",
       "  'control_f1_score': 0.0,\n",
       "  'control_balanced_accuracy_score': 0.9,\n",
       "  'control_runtime': 1.5462,\n",
       "  'control_samples_per_second': 6.468,\n",
       "  'control_steps_per_second': 3.234},\n",
       " 'test_results': {'test_loss': 1.107146143913269,\n",
       "  'test_f1_score': 0.0,\n",
       "  'test_balanced_accuracy_score': 0.8,\n",
       "  'test_runtime': 14.4893,\n",
       "  'test_samples_per_second': 6.902,\n",
       "  'test_steps_per_second': 3.451},\n",
       " 'train_results': {'train_runtime': 7341.7562,\n",
       "  'train_samples_per_second': 0.817,\n",
       "  'train_steps_per_second': 0.409,\n",
       "  'train_loss': 0.18963099670410155,\n",
       "  'epoch': 6.0,\n",
       "  'history': [{'train_loss': 0.24321432411670685,\n",
       "    'train_f1_score': 0.9364928909952607,\n",
       "    'train_balanced_accuracy_score': 0.9325084995830393,\n",
       "    'train_runtime': 207.7488,\n",
       "    'train_samples_per_second': 4.814,\n",
       "    'train_steps_per_second': 2.407,\n",
       "    'epoch': 1.0,\n",
       "    'step': 500},\n",
       "   {'loss': 0.5159,\n",
       "    'learning_rate': 8.333333333333334e-06,\n",
       "    'epoch': 1.0,\n",
       "    'step': 500},\n",
       "   {'eval_loss': 0.5001327991485596,\n",
       "    'eval_f1_score': 0.8600000000000001,\n",
       "    'eval_balanced_accuracy_score': 0.8631071858691288,\n",
       "    'eval_runtime': 20.529,\n",
       "    'eval_samples_per_second': 4.871,\n",
       "    'eval_steps_per_second': 2.436,\n",
       "    'epoch': 1.0,\n",
       "    'step': 500},\n",
       "   {'train_loss': 0.12022937089204788,\n",
       "    'train_f1_score': 0.9723546234509056,\n",
       "    'train_balanced_accuracy_score': 0.9708849188530374,\n",
       "    'train_runtime': 341.8276,\n",
       "    'train_samples_per_second': 2.925,\n",
       "    'train_steps_per_second': 1.463,\n",
       "    'epoch': 2.0,\n",
       "    'step': 1000},\n",
       "   {'loss': 0.3129,\n",
       "    'learning_rate': 6.666666666666667e-06,\n",
       "    'epoch': 2.0,\n",
       "    'step': 1000},\n",
       "   {'eval_loss': 0.5978317856788635,\n",
       "    'eval_f1_score': 0.8686868686868686,\n",
       "    'eval_balanced_accuracy_score': 0.8725411481332799,\n",
       "    'eval_runtime': 34.2703,\n",
       "    'eval_samples_per_second': 2.918,\n",
       "    'eval_steps_per_second': 1.459,\n",
       "    'epoch': 2.0,\n",
       "    'step': 1000},\n",
       "   {'train_loss': 0.06123146787285805,\n",
       "    'train_f1_score': 0.988527724665392,\n",
       "    'train_balanced_accuracy_score': 0.9880685098466868,\n",
       "    'train_runtime': 155.0229,\n",
       "    'train_samples_per_second': 6.451,\n",
       "    'train_steps_per_second': 3.225,\n",
       "    'epoch': 3.0,\n",
       "    'step': 1500},\n",
       "   {'loss': 0.1486, 'learning_rate': 5e-06, 'epoch': 3.0, 'step': 1500},\n",
       "   {'eval_loss': 0.6687284708023071,\n",
       "    'eval_f1_score': 0.8510638297872339,\n",
       "    'eval_balanced_accuracy_score': 0.8594941790445605,\n",
       "    'eval_runtime': 15.6745,\n",
       "    'eval_samples_per_second': 6.38,\n",
       "    'eval_steps_per_second': 3.19,\n",
       "    'epoch': 3.0,\n",
       "    'step': 1500},\n",
       "   {'train_loss': 0.04500864818692207,\n",
       "    'train_f1_score': 0.9923664122137404,\n",
       "    'train_balanced_accuracy_score': 0.9919815254346014,\n",
       "    'train_runtime': 142.8153,\n",
       "    'train_samples_per_second': 7.002,\n",
       "    'train_steps_per_second': 3.501,\n",
       "    'epoch': 4.0,\n",
       "    'step': 2000},\n",
       "   {'loss': 0.0669,\n",
       "    'learning_rate': 3.3333333333333333e-06,\n",
       "    'epoch': 4.0,\n",
       "    'step': 2000},\n",
       "   {'eval_loss': 0.7197412252426147,\n",
       "    'eval_f1_score': 0.875,\n",
       "    'eval_balanced_accuracy_score': 0.8807707747892413,\n",
       "    'eval_runtime': 14.4153,\n",
       "    'eval_samples_per_second': 6.937,\n",
       "    'eval_steps_per_second': 3.469,\n",
       "    'epoch': 4.0,\n",
       "    'step': 2000},\n",
       "   {'train_loss': 0.031178252771496773,\n",
       "    'train_f1_score': 0.9952335557673976,\n",
       "    'train_balanced_accuracy_score': 0.9949403425492335,\n",
       "    'train_runtime': 144.3394,\n",
       "    'train_samples_per_second': 6.928,\n",
       "    'train_steps_per_second': 3.464,\n",
       "    'epoch': 5.0,\n",
       "    'step': 2500},\n",
       "   {'loss': 0.0532,\n",
       "    'learning_rate': 1.6666666666666667e-06,\n",
       "    'epoch': 5.0,\n",
       "    'step': 2500},\n",
       "   {'eval_loss': 0.7100751996040344,\n",
       "    'eval_f1_score': 0.8712871287128713,\n",
       "    'eval_balanced_accuracy_score': 0.8737454837414693,\n",
       "    'eval_runtime': 14.4646,\n",
       "    'eval_samples_per_second': 6.913,\n",
       "    'eval_steps_per_second': 3.457,\n",
       "    'epoch': 5.0,\n",
       "    'step': 2500},\n",
       "   {'train_loss': 0.03009946458041668,\n",
       "    'train_f1_score': 0.9952335557673976,\n",
       "    'train_balanced_accuracy_score': 0.9949403425492335,\n",
       "    'train_runtime': 143.9641,\n",
       "    'train_samples_per_second': 6.946,\n",
       "    'train_steps_per_second': 3.473,\n",
       "    'epoch': 6.0,\n",
       "    'step': 3000},\n",
       "   {'loss': 0.0403, 'learning_rate': 0.0, 'epoch': 6.0, 'step': 3000},\n",
       "   {'eval_loss': 0.7379097938537598,\n",
       "    'eval_f1_score': 0.875,\n",
       "    'eval_balanced_accuracy_score': 0.8807707747892413,\n",
       "    'eval_runtime': 14.5953,\n",
       "    'eval_samples_per_second': 6.852,\n",
       "    'eval_steps_per_second': 3.426,\n",
       "    'epoch': 6.0,\n",
       "    'step': 3000}]}}"
      ]
     },
     "execution_count": 4,
     "metadata": {},
     "output_type": "execute_result"
    },
    {
     "data": {
      "image/png": "[encoded data removed]",
      "text/plain": [
       "<Figure size 1600x1000 with 4 Axes>"
      ]
     },
     "metadata": {},
     "output_type": "display_data"
    }
   ],
   "source": [
    "ttrr = T2R2(config_path=\"./config_run_data_cartography.yaml\")\n",
    "ttrr.loop()"
   ]
  },
  {
   "cell_type": "markdown",
   "id": "6fe992894c3bbb4f",
   "metadata": {
    "collapsed": false
   },
   "source": [
    "## Step 2:Perform experiments on subsets. \n",
    "\n",
    "You can now perform experiments: sampling data directly from the most ambiguous examples, the hard-to-learn examples and the easy-to-learn examples, You can also add randomly sapled fraction of data. The data will not allow for sampling with replacement.\n",
    "\n",
    "As outlined in the data cartography paper it is preferable to train a model on a balanced set of easy, hard and most importantly ambiguous examples. We will demonstrate worse model performance using only easy examples, also employing dvc :)\n",
    "\n",
    "Crucial parameters of data cartography selector:\n",
    "```\n",
    "  selectors:\n",
    "    - args:\n",
    "        hard_to_learn: 0.3\n",
    "        easy_to_learn: 0\n",
    "        ambiguous: 0.1\n",
    "        random: 0.1\n",
    "      name: data_cartography\n",
    "```\n",
    "\n",
    "**Dvc works with git by linking code and data***"
   ]
  },
  {
   "cell_type": "code",
   "execution_count": 7,
   "id": "63cef367",
   "metadata": {},
   "outputs": [
    {
     "name": "stdout",
     "output_type": "stream",
     "text": [
      "Initialized empty Git repository in C:/Users/ismyn/UNI/t2r2/notebooks/demo_data_cartography/distilbert/.git/\n"
     ]
    }
   ],
   "source": [
    "!git init"
   ]
  },
  {
   "cell_type": "code",
   "execution_count": 8,
   "id": "bf1d6d5e51c56bc6",
   "metadata": {
    "ExecuteTime": {
     "end_time": "2023-11-03T19:19:42.989871900Z",
     "start_time": "2023-11-03T19:16:01.337978Z"
    },
    "collapsed": false
   },
   "outputs": [],
   "source": [
    "ttrr1 = T2R2(config_path=\"./config_experiments_from_data_cartography_results.yaml\")"
   ]
  },
  {
   "cell_type": "code",
   "execution_count": 9,
   "id": "5fd96225",
   "metadata": {},
   "outputs": [
    {
     "name": "stderr",
     "output_type": "stream",
     "text": [
      "c:\\Users\\ismyn\\miniconda3\\envs\\enginora_env\\lib\\site-packages\\sklearn\\metrics\\_classification.py:2184: UserWarning: y_pred contains classes not in y_true\n",
      "  warnings.warn(\"y_pred contains classes not in y_true\")\n",
      "[repo.py:88 -                 _run() ] Running: dvc init\n"
     ]
    },
    {
     "name": "stderr",
     "output_type": "stream",
     "text": [
      "[repo.py:93 -                 _run() ] \n",
      "Initialized DVC repository.\n",
      "\n",
      "You can now commit the changes to git.\n",
      "\n",
      "+---------------------------------------------------------------------+\n",
      "|                                                                     |\n",
      "|        DVC has enabled anonymous aggregate usage analytics.         |\n",
      "|     Read the analytics documentation (and how to opt-out) here:     |\n",
      "|             <https://dvc.org/doc/user-guide/analytics>              |\n",
      "|                                                                     |\n",
      "+---------------------------------------------------------------------+\n",
      "\n",
      "What's next?\n",
      "------------\n",
      "- Check out the documentation: <https://dvc.org/doc>\n",
      "- Get help and share ideas: <https://dvc.org/chat>\n",
      "- Star us on GitHub: <https://github.com/iterative/dvc>\n",
      "\n",
      "[repo.py:88 -                 _run() ] Running: dvc config core.autostage true\n",
      "[repo.py:93 -                 _run() ] \n",
      "\n"
     ]
    }
   ],
   "source": [
    "ttrr1.init()"
   ]
  },
  {
   "cell_type": "code",
   "execution_count": 10,
   "id": "9a7a3193",
   "metadata": {},
   "outputs": [
    {
     "name": "stdout",
     "output_type": "stream",
     "text": [
      "[master (root-commit) 6687ede] dvc init\n",
      " 4 files changed, 12 insertions(+)\n",
      " create mode 100644 .dvc/.gitignore\n",
      " create mode 100644 .dvc/config\n",
      " create mode 100644 .dvcignore\n",
      " create mode 100644 dvc.yaml\n"
     ]
    }
   ],
   "source": [
    "!git add dvc.yaml .dvc/config\n",
    "!git commit -m \"dvc init\""
   ]
  },
  {
   "cell_type": "code",
   "execution_count": 11,
   "id": "b71db122",
   "metadata": {},
   "outputs": [
    {
     "name": "stderr",
     "output_type": "stream",
     "text": [
      "c:\\Users\\ismyn\\miniconda3\\envs\\enginora_env\\lib\\site-packages\\sklearn\\metrics\\_classification.py:2184: UserWarning: y_pred contains classes not in y_true\n",
      "  warnings.warn(\"y_pred contains classes not in y_true\")\n",
      "***** Running training *****\n",
      "  Num examples = 395\n",
      "  Num Epochs = 1\n",
      "  Instantaneous batch size per device = 16\n",
      "  Total train batch size (w. parallel, distributed & accumulation) = 16\n",
      "  Gradient Accumulation steps = 1\n",
      "  Total optimization steps = 25\n",
      "The following columns in the training set don't have a corresponding argument in `DistilBertForSequenceClassification.forward` and have been ignored: token_type_ids. If token_type_ids are not expected by `DistilBertForSequenceClassification.forward`,  you can safely ignore this message.\n",
      "***** Running Evaluation *****\n",
      "  Num examples = 395\n",
      "  Batch size = 16\n",
      "The following columns in the evaluation set don't have a corresponding argument in `DistilBertForSequenceClassification.forward` and have been ignored: token_type_ids. If token_type_ids are not expected by `DistilBertForSequenceClassification.forward`,  you can safely ignore this message.\n",
      "***** Running Evaluation *****\n",
      "  Num examples = 100\n",
      "  Batch size = 16\n",
      "The following columns in the evaluation set don't have a corresponding argument in `DistilBertForSequenceClassification.forward` and have been ignored: token_type_ids. If token_type_ids are not expected by `DistilBertForSequenceClassification.forward`,  you can safely ignore this message.\n"
     ]
    },
    {
     "name": "stdout",
     "output_type": "stream",
     "text": [
      "{'train_loss': 0.6790673136711121, 'train_f1_score': 0.7450980392156862, 'train_balanced_accuracy_score': 0.6986521181001284, 'train_runtime': 82.1679, 'train_samples_per_second': 4.807, 'train_steps_per_second': 0.304, 'epoch': 1.0}\n",
      "{'loss': 0.688, 'learning_rate': 0.0, 'epoch': 1.0}\n"
     ]
    },
    {
     "name": "stderr",
     "output_type": "stream",
     "text": [
      "Saving model checkpoint to ./results/checkpoint-25\n",
      "Configuration saved in ./results/checkpoint-25\\config.json\n"
     ]
    },
    {
     "name": "stdout",
     "output_type": "stream",
     "text": [
      "{'eval_loss': 0.6823638677597046, 'eval_f1_score': 0.6732673267326733, 'eval_balanced_accuracy_score': 0.6730228823765556, 'eval_runtime': 26.0968, 'eval_samples_per_second': 3.832, 'eval_steps_per_second': 0.268, 'epoch': 1.0}\n"
     ]
    },
    {
     "name": "stderr",
     "output_type": "stream",
     "text": [
      "Model weights saved in ./results/checkpoint-25\\pytorch_model.bin\n",
      "\n",
      "\n",
      "Training completed. Do not forget to share your model on huggingface.co/models =)\n",
      "\n",
      "\n",
      "Loading best model from ./results/checkpoint-25 (score: 0.6730228823765556).\n",
      "Saving model checkpoint to results\\best_model\n",
      "Configuration saved in results\\best_model\\config.json\n"
     ]
    },
    {
     "name": "stdout",
     "output_type": "stream",
     "text": [
      "{'train_runtime': 319.1408, 'train_samples_per_second': 1.238, 'train_steps_per_second': 0.078, 'train_loss': 0.6880387878417968, 'epoch': 1.0}\n"
     ]
    },
    {
     "name": "stderr",
     "output_type": "stream",
     "text": [
      "Model weights saved in results\\best_model\\pytorch_model.bin\n",
      "***** Running Prediction *****\n",
      "  Num examples = 100\n",
      "  Batch size = 16\n",
      "The following columns in the test set don't have a corresponding argument in `DistilBertForSequenceClassification.forward` and have been ignored: token_type_ids. If token_type_ids are not expected by `DistilBertForSequenceClassification.forward`,  you can safely ignore this message.\n",
      "c:\\Users\\ismyn\\miniconda3\\envs\\enginora_env\\lib\\site-packages\\sklearn\\metrics\\_classification.py:2184: UserWarning: y_pred contains classes not in y_true\n",
      "  warnings.warn(\"y_pred contains classes not in y_true\")\n",
      "***** Running Prediction *****\n",
      "  Num examples = 10\n",
      "  Batch size = 16\n",
      "The following columns in the test set don't have a corresponding argument in `DistilBertForSequenceClassification.forward` and have been ignored: token_type_ids. If token_type_ids are not expected by `DistilBertForSequenceClassification.forward`,  you can safely ignore this message.\n",
      "c:\\Users\\ismyn\\miniconda3\\envs\\enginora_env\\lib\\site-packages\\sklearn\\metrics\\_classification.py:2184: UserWarning: y_pred contains classes not in y_true\n",
      "  warnings.warn(\"y_pred contains classes not in y_true\")\n",
      "[repo.py:88 -                 _run() ] Running: dvc add ./config_experiments_from_data_cartography_results.yaml ./results/metrics.yaml ./results/metrics.yaml ./results/metrics.yaml\n",
      "[repo.py:93 -                 _run() ] \n",
      "\n",
      "[repo.py:88 -                 _run() ] Running: dvc add results\\best_model\n",
      "[repo.py:93 -                 _run() ] \n",
      "\n",
      "[repo.py:88 -                 _run() ] Running: dvc add ../../../data/imdb/train.csv\n",
      "[repo.py:93 -                 _run() ] \n",
      "\n",
      "[repo.py:88 -                 _run() ] Running: dvc add train_results.pickle\n",
      "[repo.py:93 -                 _run() ] \n",
      "\n",
      "[repo.py:88 -                 _run() ] Running: dvc add ../../../data/imdb/test.csv\n",
      "[repo.py:93 -                 _run() ] \n",
      "\n",
      "[repo.py:88 -                 _run() ] Running: dvc add file_test_results_experiment.pickle\n",
      "[repo.py:93 -                 _run() ] \n",
      "\n",
      "[repo.py:88 -                 _run() ] Running: dvc add ../../../data/imdb/control.csv\n",
      "[repo.py:93 -                 _run() ] \n",
      "\n",
      "[repo.py:88 -                 _run() ] Running: dvc add file_control_results_experiment.pickle\n",
      "[repo.py:93 -                 _run() ] \n",
      "\n"
     ]
    },
    {
     "data": {
      "text/plain": [
       "{'control_results': {'control_loss': 0.7046786546707153,\n",
       "  'control_f1_score': 0.0,\n",
       "  'control_balanced_accuracy_score': 0.4,\n",
       "  'control_runtime': 2.7873,\n",
       "  'control_samples_per_second': 3.588,\n",
       "  'control_steps_per_second': 0.359},\n",
       " 'test_results': {'test_loss': 0.6945103406906128,\n",
       "  'test_f1_score': 0.0,\n",
       "  'test_balanced_accuracy_score': 0.54,\n",
       "  'test_runtime': 28.048,\n",
       "  'test_samples_per_second': 3.565,\n",
       "  'test_steps_per_second': 0.25},\n",
       " 'train_results': {'train_runtime': 319.1408,\n",
       "  'train_samples_per_second': 1.238,\n",
       "  'train_steps_per_second': 0.078,\n",
       "  'train_loss': 0.6880387878417968,\n",
       "  'epoch': 1.0,\n",
       "  'history': [{'train_loss': 0.6790673136711121,\n",
       "    'train_f1_score': 0.7450980392156862,\n",
       "    'train_balanced_accuracy_score': 0.6986521181001284,\n",
       "    'train_runtime': 82.1679,\n",
       "    'train_samples_per_second': 4.807,\n",
       "    'train_steps_per_second': 0.304,\n",
       "    'epoch': 1.0,\n",
       "    'step': 25},\n",
       "   {'loss': 0.688, 'learning_rate': 0.0, 'epoch': 1.0, 'step': 25},\n",
       "   {'eval_loss': 0.6823638677597046,\n",
       "    'eval_f1_score': 0.6732673267326733,\n",
       "    'eval_balanced_accuracy_score': 0.6730228823765556,\n",
       "    'eval_runtime': 26.0968,\n",
       "    'eval_samples_per_second': 3.832,\n",
       "    'eval_steps_per_second': 0.268,\n",
       "    'epoch': 1.0,\n",
       "    'step': 25}]}}"
      ]
     },
     "execution_count": 11,
     "metadata": {},
     "output_type": "execute_result"
    }
   ],
   "source": [
    "ttrr1.loop()"
   ]
  },
  {
   "cell_type": "code",
   "execution_count": 12,
   "id": "048d8469",
   "metadata": {},
   "outputs": [
    {
     "name": "stderr",
     "output_type": "stream",
     "text": [
      "[repo.py:88 -                 _run() ] Running: dvc params diff\n",
      "[repo.py:93 -                 _run() ] \n",
      "Path                                                   Param                             HEAD    workspace\n",
      "config_experiments_from_data_cartography_results.yaml  control.dataset_path              -       control.csv\n",
      "config_experiments_from_data_cartography_results.yaml  control.results_file              -       file_control_results_experiment.pickle\n",
      "config_experiments_from_data_cartography_results.yaml  data.data_dir                     -       ../../../data/imdb/\n",
      "config_experiments_from_data_cartography_results.yaml  dvc.enabled                       -       True\n",
      "config_experiments_from_data_cartography_results.yaml  metrics                           -       [{'name': 'f1_score'}, {'name': 'balanced_accuracy_score'}]\n",
      "config_experiments_from_data_cartography_results.yaml  model.max_length                  -       256\n",
      "config_experiments_from_data_cartography_results.yaml  model.model_name                  -       distilbert-base-uncased\n",
      "config_experiments_from_data_cartography_results.yaml  model.padding                     -       max_length\n",
      "config_experiments_from_data_cartography_results.yaml  model.return_tensors              -       pt\n",
      "config_experiments_from_data_cartography_results.yaml  model.truncation                  -       True\n",
      "config_experiments_from_data_cartography_results.yaml  random_state                      -       123\n",
      "config_experiments_from_data_cartography_results.yaml  testing.dataset_path              -       test.csv\n",
      "config_experiments_from_data_cartography_results.yaml  testing.results_file              -       file_test_results_experiment.pickle\n",
      "config_experiments_from_data_cartography_results.yaml  testing.selectors                 -       []\n",
      "config_experiments_from_data_cartography_results.yaml  training.batch_size               -       16\n",
      "config_experiments_from_data_cartography_results.yaml  training.dataset_path             -       train.csv\n",
      "config_experiments_from_data_cartography_results.yaml  training.epochs                   -       1\n",
      "config_experiments_from_data_cartography_results.yaml  training.learning_rate            -       1e-05\n",
      "config_experiments_from_data_cartography_results.yaml  training.metric_for_best_model    -       balanced_accuracy_score\n",
      "config_experiments_from_data_cartography_results.yaml  training.selectors                -       [{'args': {'hard_to_learn': 0.3, 'easy_to_learn': 0, 'ambiguous': 0.1, 'random': 0.1}, 'name': 'data_cartography'}]\n",
      "config_experiments_from_data_cartography_results.yaml  training.validation_dataset_path  -       validation.csv\n",
      "config_experiments_from_data_cartography_results.yaml  training.validation_size          -       0.2\n",
      "\n"
     ]
    }
   ],
   "source": [
    "ttrr1.dvc_params()"
   ]
  },
  {
   "cell_type": "code",
   "execution_count": 13,
   "id": "1873336c",
   "metadata": {},
   "outputs": [
    {
     "name": "stderr",
     "output_type": "stream",
     "text": [
      "[repo.py:88 -                 _run() ] Running: dvc metrics diff\n",
      "[repo.py:93 -                 _run() ] \n",
      "Path                  Metric                                   HEAD    workspace    Change\n",
      "results\\metrics.yaml  control.control_balanced_accuracy_score  -       0.4          -\n",
      "results\\metrics.yaml  control.control_f1_score                 -       0.0          -\n",
      "results\\metrics.yaml  control.control_loss                     -       0.70468      -\n",
      "results\\metrics.yaml  control.control_runtime                  -       2.7873       -\n",
      "results\\metrics.yaml  control.control_samples_per_second       -       3.588        -\n",
      "results\\metrics.yaml  control.control_steps_per_second         -       0.359        -\n",
      "results\\metrics.yaml  test.test_balanced_accuracy_score        -       0.54         -\n",
      "results\\metrics.yaml  test.test_f1_score                       -       0.0          -\n",
      "results\\metrics.yaml  test.test_loss                           -       0.69451      -\n",
      "results\\metrics.yaml  test.test_runtime                        -       28.048       -\n",
      "results\\metrics.yaml  test.test_samples_per_second             -       3.565        -\n",
      "results\\metrics.yaml  test.test_steps_per_second               -       0.25         -\n",
      "results\\metrics.yaml  train.epoch                              -       1.0          -\n",
      "results\\metrics.yaml  train.train_loss                         -       0.68804      -\n",
      "results\\metrics.yaml  train.train_runtime                      -       319.1408     -\n",
      "results\\metrics.yaml  train.train_samples_per_second           -       1.238        -\n",
      "results\\metrics.yaml  train.train_steps_per_second             -       0.078        -\n",
      "\n"
     ]
    }
   ],
   "source": [
    "ttrr1.dvc_metrics()"
   ]
  },
  {
   "cell_type": "code",
   "execution_count": 14,
   "id": "7d91593a",
   "metadata": {},
   "outputs": [
    {
     "name": "stdout",
     "output_type": "stream",
     "text": [
      "[master 1508085] 1\n",
      " 5 files changed, 19 insertions(+)\n",
      " create mode 100644 .gitignore\n",
      " create mode 100644 config_experiments_from_data_cartography_results.yaml.dvc\n",
      " create mode 100644 results/.gitignore\n",
      " create mode 100644 results/best_model.dvc\n",
      " create mode 100644 results/metrics.yaml.dvc\n"
     ]
    }
   ],
   "source": [
    "!git commit -m \"1\""
   ]
  },
  {
   "cell_type": "markdown",
   "id": "15461de0",
   "metadata": {},
   "source": [
    "## Second experiment - change of approach - more easy examples\n",
    "\n",
    "Change the mix of data in the data cartograohy selector:)\n",
    "\n",
    "```  selectors:\n",
    "    - args:\n",
    "        hard_to_learn: 0.0\n",
    "        easy_to_learn: 0.395\n",
    "        ambiguous: 0.0\n",
    "        random: 0.0\n",
    "      name: data_cartography\n",
    "```"
   ]
  },
  {
   "cell_type": "code",
   "execution_count": 15,
   "id": "62778b86",
   "metadata": {},
   "outputs": [],
   "source": [
    "ttrr2 = T2R2(config_path=\"./config_experiments_from_data_cartography_results.yaml\")"
   ]
  },
  {
   "cell_type": "code",
   "execution_count": 16,
   "id": "d0d28731",
   "metadata": {},
   "outputs": [
    {
     "name": "stderr",
     "output_type": "stream",
     "text": [
      "c:\\Users\\ismyn\\miniconda3\\envs\\enginora_env\\lib\\site-packages\\sklearn\\metrics\\_classification.py:2184: UserWarning: y_pred contains classes not in y_true\n",
      "  warnings.warn(\"y_pred contains classes not in y_true\")\n",
      "***** Running training *****\n",
      "  Num examples = 395\n",
      "  Num Epochs = 1\n",
      "  Instantaneous batch size per device = 16\n",
      "  Total train batch size (w. parallel, distributed & accumulation) = 16\n",
      "  Gradient Accumulation steps = 1\n",
      "  Total optimization steps = 25\n",
      "The following columns in the training set don't have a corresponding argument in `DistilBertForSequenceClassification.forward` and have been ignored: token_type_ids. If token_type_ids are not expected by `DistilBertForSequenceClassification.forward`,  you can safely ignore this message.\n",
      "***** Running Evaluation *****\n",
      "  Num examples = 395\n",
      "  Batch size = 16\n",
      "The following columns in the evaluation set don't have a corresponding argument in `DistilBertForSequenceClassification.forward` and have been ignored: token_type_ids. If token_type_ids are not expected by `DistilBertForSequenceClassification.forward`,  you can safely ignore this message.\n",
      "***** Running Evaluation *****\n",
      "  Num examples = 100\n",
      "  Batch size = 16\n",
      "The following columns in the evaluation set don't have a corresponding argument in `DistilBertForSequenceClassification.forward` and have been ignored: token_type_ids. If token_type_ids are not expected by `DistilBertForSequenceClassification.forward`,  you can safely ignore this message.\n"
     ]
    },
    {
     "name": "stdout",
     "output_type": "stream",
     "text": [
      "{'train_loss': 0.6674072742462158, 'train_f1_score': 0.7317939609236234, 'train_balanced_accuracy_score': 0.6005291005291005, 'train_runtime': 127.7808, 'train_samples_per_second': 3.091, 'train_steps_per_second': 0.196, 'epoch': 1.0}\n",
      "{'loss': 0.6783, 'learning_rate': 0.0, 'epoch': 1.0}\n"
     ]
    },
    {
     "name": "stderr",
     "output_type": "stream",
     "text": [
      "Saving model checkpoint to ./results/checkpoint-25\n",
      "Configuration saved in ./results/checkpoint-25\\config.json\n"
     ]
    },
    {
     "name": "stdout",
     "output_type": "stream",
     "text": [
      "{'eval_loss': 0.6800591945648193, 'eval_f1_score': 0.6814814814814814, 'eval_balanced_accuracy_score': 0.59313528703332, 'eval_runtime': 31.5256, 'eval_samples_per_second': 3.172, 'eval_steps_per_second': 0.222, 'epoch': 1.0}\n"
     ]
    },
    {
     "name": "stderr",
     "output_type": "stream",
     "text": [
      "Model weights saved in ./results/checkpoint-25\\pytorch_model.bin\n",
      "\n",
      "\n",
      "Training completed. Do not forget to share your model on huggingface.co/models =)\n",
      "\n",
      "\n",
      "Loading best model from ./results/checkpoint-25 (score: 0.59313528703332).\n",
      "Saving model checkpoint to results\\best_model\n",
      "Configuration saved in results\\best_model\\config.json\n"
     ]
    },
    {
     "name": "stdout",
     "output_type": "stream",
     "text": [
      "{'train_runtime': 504.8794, 'train_samples_per_second': 0.782, 'train_steps_per_second': 0.05, 'train_loss': 0.6783242797851563, 'epoch': 1.0}\n"
     ]
    },
    {
     "name": "stderr",
     "output_type": "stream",
     "text": [
      "Model weights saved in results\\best_model\\pytorch_model.bin\n",
      "***** Running Prediction *****\n",
      "  Num examples = 100\n",
      "  Batch size = 16\n",
      "The following columns in the test set don't have a corresponding argument in `DistilBertForSequenceClassification.forward` and have been ignored: token_type_ids. If token_type_ids are not expected by `DistilBertForSequenceClassification.forward`,  you can safely ignore this message.\n",
      "c:\\Users\\ismyn\\miniconda3\\envs\\enginora_env\\lib\\site-packages\\sklearn\\metrics\\_classification.py:2184: UserWarning: y_pred contains classes not in y_true\n",
      "  warnings.warn(\"y_pred contains classes not in y_true\")\n",
      "***** Running Prediction *****\n",
      "  Num examples = 10\n",
      "  Batch size = 16\n",
      "The following columns in the test set don't have a corresponding argument in `DistilBertForSequenceClassification.forward` and have been ignored: token_type_ids. If token_type_ids are not expected by `DistilBertForSequenceClassification.forward`,  you can safely ignore this message.\n",
      "c:\\Users\\ismyn\\miniconda3\\envs\\enginora_env\\lib\\site-packages\\sklearn\\metrics\\_classification.py:2184: UserWarning: y_pred contains classes not in y_true\n",
      "  warnings.warn(\"y_pred contains classes not in y_true\")\n",
      "[repo.py:88 -                 _run() ] Running: dvc add ./config_experiments_from_data_cartography_results.yaml ./results/metrics.yaml ./results/metrics.yaml ./results/metrics.yaml\n",
      "[repo.py:93 -                 _run() ] \n",
      "\n",
      "[repo.py:88 -                 _run() ] Running: dvc add results\\best_model\n",
      "[repo.py:93 -                 _run() ] \n",
      "\n",
      "[repo.py:88 -                 _run() ] Running: dvc add ../../../data/imdb/train.csv\n",
      "[repo.py:93 -                 _run() ] \n",
      "\n",
      "[repo.py:88 -                 _run() ] Running: dvc add train_results.pickle\n",
      "[repo.py:93 -                 _run() ] \n",
      "\n",
      "[repo.py:88 -                 _run() ] Running: dvc add ../../../data/imdb/test.csv\n",
      "[repo.py:93 -                 _run() ] \n",
      "\n",
      "[repo.py:88 -                 _run() ] Running: dvc add file_test_results_experiment.pickle\n",
      "[repo.py:93 -                 _run() ] \n",
      "\n",
      "[repo.py:88 -                 _run() ] Running: dvc add ../../../data/imdb/control.csv\n",
      "[repo.py:93 -                 _run() ] \n",
      "\n",
      "[repo.py:88 -                 _run() ] Running: dvc add file_control_results_experiment.pickle\n",
      "[repo.py:93 -                 _run() ] \n",
      "\n"
     ]
    },
    {
     "data": {
      "text/plain": [
       "{'control_results': {'control_loss': 0.7414447665214539,\n",
       "  'control_f1_score': 0.0,\n",
       "  'control_balanced_accuracy_score': 0.0,\n",
       "  'control_runtime': 3.2048,\n",
       "  'control_samples_per_second': 3.12,\n",
       "  'control_steps_per_second': 0.312},\n",
       " 'test_results': {'test_loss': 0.7270513772964478,\n",
       "  'test_f1_score': 0.0,\n",
       "  'test_balanced_accuracy_score': 0.14,\n",
       "  'test_runtime': 32.9889,\n",
       "  'test_samples_per_second': 3.031,\n",
       "  'test_steps_per_second': 0.212},\n",
       " 'train_results': {'train_runtime': 504.8794,\n",
       "  'train_samples_per_second': 0.782,\n",
       "  'train_steps_per_second': 0.05,\n",
       "  'train_loss': 0.6783242797851563,\n",
       "  'epoch': 1.0,\n",
       "  'history': [{'train_loss': 0.6674072742462158,\n",
       "    'train_f1_score': 0.7317939609236234,\n",
       "    'train_balanced_accuracy_score': 0.6005291005291005,\n",
       "    'train_runtime': 127.7808,\n",
       "    'train_samples_per_second': 3.091,\n",
       "    'train_steps_per_second': 0.196,\n",
       "    'epoch': 1.0,\n",
       "    'step': 25},\n",
       "   {'loss': 0.6783, 'learning_rate': 0.0, 'epoch': 1.0, 'step': 25},\n",
       "   {'eval_loss': 0.6800591945648193,\n",
       "    'eval_f1_score': 0.6814814814814814,\n",
       "    'eval_balanced_accuracy_score': 0.59313528703332,\n",
       "    'eval_runtime': 31.5256,\n",
       "    'eval_samples_per_second': 3.172,\n",
       "    'eval_steps_per_second': 0.222,\n",
       "    'epoch': 1.0,\n",
       "    'step': 25}]}}"
      ]
     },
     "execution_count": 16,
     "metadata": {},
     "output_type": "execute_result"
    }
   ],
   "source": [
    "ttrr2.loop()"
   ]
  },
  {
   "cell_type": "code",
   "execution_count": 19,
   "id": "f45bbe0c",
   "metadata": {},
   "outputs": [
    {
     "name": "stderr",
     "output_type": "stream",
     "text": [
      "[repo.py:88 -                 _run() ] Running: dvc params diff\n",
      "[repo.py:93 -                 _run() ] \n",
      "Path                                                   Param                             HEAD    workspace\n",
      "config_experiments_from_data_cartography_results.yaml  control.dataset_path              -       control.csv\n",
      "config_experiments_from_data_cartography_results.yaml  control.results_file              -       file_control_results_experiment.pickle\n",
      "config_experiments_from_data_cartography_results.yaml  data.data_dir                     -       ../../../data/imdb/\n",
      "config_experiments_from_data_cartography_results.yaml  dvc.enabled                       -       True\n",
      "config_experiments_from_data_cartography_results.yaml  metrics                           -       [{'name': 'f1_score'}, {'name': 'balanced_accuracy_score'}]\n",
      "config_experiments_from_data_cartography_results.yaml  model.max_length                  -       256\n",
      "config_experiments_from_data_cartography_results.yaml  model.model_name                  -       distilbert-base-uncased\n",
      "config_experiments_from_data_cartography_results.yaml  model.padding                     -       max_length\n",
      "config_experiments_from_data_cartography_results.yaml  model.return_tensors              -       pt\n",
      "config_experiments_from_data_cartography_results.yaml  model.truncation                  -       True\n",
      "config_experiments_from_data_cartography_results.yaml  random_state                      -       123\n",
      "config_experiments_from_data_cartography_results.yaml  testing.dataset_path              -       test.csv\n",
      "config_experiments_from_data_cartography_results.yaml  testing.results_file              -       file_test_results_experiment.pickle\n",
      "config_experiments_from_data_cartography_results.yaml  testing.selectors                 -       []\n",
      "config_experiments_from_data_cartography_results.yaml  training.batch_size               -       16\n",
      "config_experiments_from_data_cartography_results.yaml  training.dataset_path             -       train.csv\n",
      "config_experiments_from_data_cartography_results.yaml  training.epochs                   -       1\n",
      "config_experiments_from_data_cartography_results.yaml  training.learning_rate            -       1e-05\n",
      "config_experiments_from_data_cartography_results.yaml  training.metric_for_best_model    -       balanced_accuracy_score\n",
      "config_experiments_from_data_cartography_results.yaml  training.selectors                -       [{'args': {'hard_to_learn': 0, 'easy_to_learn': 0.395, 'ambiguous': 0.0, 'random': 0}, 'name': 'data_cartography'}]\n",
      "config_experiments_from_data_cartography_results.yaml  training.validation_dataset_path  -       validation.csv\n",
      "config_experiments_from_data_cartography_results.yaml  training.validation_size          -       0.2\n",
      "\n"
     ]
    }
   ],
   "source": [
    "ttrr2.dvc_params()"
   ]
  },
  {
   "cell_type": "code",
   "execution_count": 20,
   "id": "672bd934",
   "metadata": {},
   "outputs": [
    {
     "name": "stderr",
     "output_type": "stream",
     "text": [
      "[repo.py:88 -                 _run() ] Running: dvc metrics diff\n",
      "[repo.py:93 -                 _run() ] \n",
      "Path                  Metric                                   HEAD      workspace    Change\n",
      "results\\metrics.yaml  control.control_balanced_accuracy_score  0.4       0.0          -0.4\n",
      "results\\metrics.yaml  control.control_loss                     0.70468   0.74144      0.03677\n",
      "results\\metrics.yaml  control.control_runtime                  2.7873    3.2048       0.4175\n",
      "results\\metrics.yaml  control.control_samples_per_second       3.588     3.12         -0.468\n",
      "results\\metrics.yaml  control.control_steps_per_second         0.359     0.312        -0.047\n",
      "results\\metrics.yaml  test.test_balanced_accuracy_score        0.54      0.14         -0.4\n",
      "results\\metrics.yaml  test.test_loss                           0.69451   0.72705      0.03254\n",
      "results\\metrics.yaml  test.test_runtime                        28.048    32.9889      4.9409\n",
      "results\\metrics.yaml  test.test_samples_per_second             3.565     3.031        -0.534\n",
      "results\\metrics.yaml  test.test_steps_per_second               0.25      0.212        -0.038\n",
      "results\\metrics.yaml  train.train_loss                         0.68804   0.67832      -0.00971\n",
      "results\\metrics.yaml  train.train_runtime                      319.1408  504.8794     185.7386\n",
      "results\\metrics.yaml  train.train_samples_per_second           1.238     0.782        -0.456\n",
      "results\\metrics.yaml  train.train_steps_per_second             0.078     0.05         -0.028\n",
      "\n"
     ]
    }
   ],
   "source": [
    "ttrr2.dvc_metrics()"
   ]
  },
  {
   "cell_type": "code",
   "execution_count": 21,
   "id": "517b9b4b",
   "metadata": {},
   "outputs": [
    {
     "name": "stdout",
     "output_type": "stream",
     "text": [
      "[master 69530ff] 2\n",
      " 3 files changed, 3 insertions(+), 3 deletions(-)\n"
     ]
    }
   ],
   "source": [
    "!git commit -m \"2\""
   ]
  },
  {
   "cell_type": "code",
   "execution_count": 22,
   "id": "2d43a621",
   "metadata": {},
   "outputs": [
    {
     "name": "stderr",
     "output_type": "stream",
     "text": [
      "Note: switching to 'HEAD~1'.\n",
      "\n",
      "You are in 'detached HEAD' state. You can look around, make experimental\n",
      "changes and commit them, and you can discard any commits you make in this\n",
      "state without impacting any branches by switching back to a branch.\n",
      "\n",
      "If you want to create a new branch to retain commits you create, you may\n",
      "do so (now or later) by using -c with the switch command. Example:\n",
      "\n",
      "  git switch -c <new-branch-name>\n",
      "\n",
      "Or undo this operation with:\n",
      "\n",
      "  git switch -\n",
      "\n",
      "Turn off this advice by setting config variable advice.detachedHead to false\n",
      "\n",
      "HEAD is now at 1508085 1\n"
     ]
    }
   ],
   "source": [
    "!git checkout HEAD~1"
   ]
  },
  {
   "cell_type": "code",
   "execution_count": 23,
   "id": "9422d7c7",
   "metadata": {},
   "outputs": [
    {
     "name": "stderr",
     "output_type": "stream",
     "text": [
      "[repo.py:88 -                 _run() ] Running: dvc checkout\n",
      "[repo.py:93 -                 _run() ] \n",
      "M       config_experiments_from_data_cartography_results.yaml\n",
      "M       results\\metrics.yaml\n",
      "M       results\\best_model\\\n",
      "\n"
     ]
    }
   ],
   "source": [
    "ttrr2.dvc_checkout()"
   ]
  },
  {
   "cell_type": "markdown",
   "id": "7178e951",
   "metadata": {},
   "source": [
    "Now, you shold be able to access your past yaml config!"
   ]
  }
 ],
 "metadata": {
  "kernelspec": {
   "display_name": "Python 3",
   "language": "python",
   "name": "python3"
  },
  "language_info": {
   "codemirror_mode": {
    "name": "ipython",
    "version": 3
   },
   "file_extension": ".py",
   "mimetype": "text/x-python",
   "name": "python",
   "nbconvert_exporter": "python",
   "pygments_lexer": "ipython3",
   "version": "3.9.17"
  }
 },
 "nbformat": 4,
 "nbformat_minor": 5
}

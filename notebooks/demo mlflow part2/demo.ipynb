{
 "cells": [
  {
   "cell_type": "markdown",
   "metadata": {},
   "source": [
    "# Notebook showing artifact retrieval using mlflow run and experiment tracking and model registry"
   ]
  },
  {
   "cell_type": "code",
   "execution_count": 2,
   "metadata": {},
   "outputs": [],
   "source": [
    "import os\n",
    "import logging"
   ]
  },
  {
   "cell_type": "code",
   "execution_count": 3,
   "metadata": {
    "ExecuteTime": {
     "end_time": "2023-06-06T18:47:29.680742400Z",
     "start_time": "2023-06-06T18:47:26.746571100Z"
    },
    "collapsed": true
   },
   "outputs": [
    {
     "name": "stderr",
     "output_type": "stream",
     "text": [
      "c:\\Users\\ismyn\\miniconda3\\envs\\enginora_env\\lib\\site-packages\\tqdm\\auto.py:21: TqdmWarning: IProgress not found. Please update jupyter and ipywidgets. See https://ipywidgets.readthedocs.io/en/stable/user_install.html\n",
      "  from .autonotebook import tqdm as notebook_tqdm\n"
     ]
    }
   ],
   "source": [
    "import sys\n",
    "sys.path.append(\"C:/Users/ismyn/UNI/enginora/enginora/src/\")\n",
    "import enginora"
   ]
  },
  {
   "cell_type": "code",
   "execution_count": 3,
   "metadata": {
    "ExecuteTime": {
     "end_time": "2023-06-06T18:47:29.692642500Z",
     "start_time": "2023-06-06T18:47:29.683581900Z"
    },
    "collapsed": false,
    "pycharm": {
     "name": "#%%\n"
    }
   },
   "outputs": [],
   "source": [
    "os.environ['WANDB_DISABLED'] = 'true'\n",
    "\n",
    "logging.basicConfig(format=\"[%(filename)s:%(lineno)s - %(funcName)20s() ] %(message)s\", level=logging.INFO)"
   ]
  },
  {
   "cell_type": "code",
   "execution_count": 4,
   "metadata": {
    "ExecuteTime": {
     "end_time": "2023-06-06T19:01:32.772699200Z",
     "start_time": "2023-06-06T18:47:29.696640100Z"
    },
    "collapsed": false,
    "pycharm": {
     "name": "#%%\n"
    }
   },
   "outputs": [
    {
     "name": "stderr",
     "output_type": "stream",
     "text": [
      "[MlflowManager.py:60 -     set_tracking_uri() ] mlflow: Tracking uri set\n",
      "Some weights of the model checkpoint at bert-base-cased were not used when initializing BertForSequenceClassification: ['cls.predictions.decoder.weight', 'cls.seq_relationship.bias', 'cls.seq_relationship.weight', 'cls.predictions.transform.dense.bias', 'cls.predictions.transform.LayerNorm.weight', 'cls.predictions.transform.dense.weight', 'cls.predictions.transform.LayerNorm.bias', 'cls.predictions.bias']\n",
      "- This IS expected if you are initializing BertForSequenceClassification from the checkpoint of a model trained on another task or with another architecture (e.g. initializing a BertForSequenceClassification model from a BertForPreTraining model).\n",
      "- This IS NOT expected if you are initializing BertForSequenceClassification from the checkpoint of a model that you expect to be exactly identical (initializing a BertForSequenceClassification model from a BertForSequenceClassification model).\n",
      "Some weights of BertForSequenceClassification were not initialized from the model checkpoint at bert-base-cased and are newly initialized: ['classifier.weight', 'classifier.bias']\n",
      "You should probably TRAIN this model on a down-stream task to be able to use it for predictions and inference.\n",
      "[MlflowManager.py:30 - mlflow_create_experiment() ] ***SETTING EXPERIMENT***\n",
      "[MlflowManager.py:31 - mlflow_create_experiment() ] Name: my_experiment_3\n",
      "[MlflowManager.py:32 - mlflow_create_experiment() ] Experiment_id: 497116012591044347\n",
      "[MlflowManager.py:33 - mlflow_create_experiment() ] Artifact Location: mlflow-artifacts:/497116012591044347\n",
      "[MlflowManager.py:34 - mlflow_create_experiment() ] Tags: {'version': 'v1'}\n",
      "[MlflowManager.py:35 - mlflow_create_experiment() ] Lifecycle_stage: active\n",
      "[MlflowManager.py:36 - mlflow_create_experiment() ] Creation timestamp: 1693126251333\n",
      "c:\\Users\\ismyn\\miniconda3\\envs\\enginora_env\\lib\\site-packages\\mlflow\\data\\pandas_dataset.py:116: UserWarning: Hint: Inferred schema contains integer column(s). Integer columns in Python cannot represent missing values. If your input data contains missing values at inference time, it will be encoded as floats and will cause a schema enforcement error. The best way to avoid this problem is to infer the model schema based on a realistic data sample (training dataset) that includes missing values. Alternatively, you can declare integer columns as doubles (float64) whenever these columns may have missing values. See `Handling Integers With Missing Values <https://www.mlflow.org/docs/latest/models.html#handling-integers-with-missing-values>`_ for more details.\n",
      "  return _infer_schema(self._df)\n",
      "c:\\Users\\ismyn\\miniconda3\\envs\\enginora_env\\lib\\site-packages\\mlflow\\data\\pandas_dataset.py:116: UserWarning: Hint: Inferred schema contains integer column(s). Integer columns in Python cannot represent missing values. If your input data contains missing values at inference time, it will be encoded as floats and will cause a schema enforcement error. The best way to avoid this problem is to infer the model schema based on a realistic data sample (training dataset) that includes missing values. Alternatively, you can declare integer columns as doubles (float64) whenever these columns may have missing values. See `Handling Integers With Missing Values <https://www.mlflow.org/docs/latest/models.html#handling-integers-with-missing-values>`_ for more details.\n",
      "  return _infer_schema(self._df)\n",
      "c:\\Users\\ismyn\\miniconda3\\envs\\enginora_env\\lib\\site-packages\\mlflow\\data\\pandas_dataset.py:116: UserWarning: Hint: Inferred schema contains integer column(s). Integer columns in Python cannot represent missing values. If your input data contains missing values at inference time, it will be encoded as floats and will cause a schema enforcement error. The best way to avoid this problem is to infer the model schema based on a realistic data sample (training dataset) that includes missing values. Alternatively, you can declare integer columns as doubles (float64) whenever these columns may have missing values. See `Handling Integers With Missing Values <https://www.mlflow.org/docs/latest/models.html#handling-integers-with-missing-values>`_ for more details.\n",
      "  return _infer_schema(self._df)\n",
      "c:\\Users\\ismyn\\miniconda3\\envs\\enginora_env\\lib\\site-packages\\mlflow\\data\\pandas_dataset.py:116: UserWarning: Hint: Inferred schema contains integer column(s). Integer columns in Python cannot represent missing values. If your input data contains missing values at inference time, it will be encoded as floats and will cause a schema enforcement error. The best way to avoid this problem is to infer the model schema based on a realistic data sample (training dataset) that includes missing values. Alternatively, you can declare integer columns as doubles (float64) whenever these columns may have missing values. See `Handling Integers With Missing Values <https://www.mlflow.org/docs/latest/models.html#handling-integers-with-missing-values>`_ for more details.\n",
      "  return _infer_schema(self._df)\n",
      "[MlflowManager.py:46 -             log_data() ] mlflow: Dataset logged\n",
      "[MlflowManager.py:68 - log_dataset_synopsis() ] mlflow: Dataset synopsis logged\n",
      "Using the `WAND_DISABLED` environment variable is deprecated and will be removed in v5. Use the --report_to flag to control the integrations used for logging result (for instance --report_to none).\n",
      "c:\\Users\\ismyn\\miniconda3\\envs\\enginora_env\\lib\\site-packages\\transformers\\optimization.py:306: FutureWarning: This implementation of AdamW is deprecated and will be removed in a future version. Use the PyTorch implementation torch.optim.AdamW instead, or set `no_deprecation_warning=True` to disable this warning\n",
      "  warnings.warn(\n",
      "***** Running training *****\n",
      "  Num examples = 10\n",
      "  Num Epochs = 2\n",
      "  Instantaneous batch size per device = 2\n",
      "  Total train batch size (w. parallel, distributed & accumulation) = 2\n",
      "  Gradient Accumulation steps = 1\n",
      "  Total optimization steps = 10\n",
      " 50%|█████     | 5/10 [00:11<00:11,  2.21s/it]***** Running Evaluation *****\n",
      "  Num examples = 10\n",
      "  Batch size = 2\n"
     ]
    },
    {
     "name": "stdout",
     "output_type": "stream",
     "text": [
      "{'loss': 2.8383, 'learning_rate': 0.0005, 'epoch': 1.0}\n"
     ]
    },
    {
     "name": "stderr",
     "output_type": "stream",
     "text": [
      "                                              \n",
      " 50%|█████     | 5/10 [00:14<00:11,  2.21s/it]Saving model checkpoint to ClassificationBERT\\checkpoint-5\n",
      "Configuration saved in ClassificationBERT\\checkpoint-5\\config.json\n"
     ]
    },
    {
     "name": "stdout",
     "output_type": "stream",
     "text": [
      "{'eval_loss': 2.2682547569274902, 'eval_f1_score': 0.07692307692307691, 'eval_runtime': 3.6557, 'eval_samples_per_second': 2.735, 'eval_steps_per_second': 1.368, 'epoch': 1.0}\n"
     ]
    },
    {
     "name": "stderr",
     "output_type": "stream",
     "text": [
      "Model weights saved in ClassificationBERT\\checkpoint-5\\pytorch_model.bin\n",
      "100%|██████████| 10/10 [00:28<00:00,  2.70s/it]***** Running Evaluation *****\n",
      "  Num examples = 10\n",
      "  Batch size = 2\n"
     ]
    },
    {
     "name": "stdout",
     "output_type": "stream",
     "text": [
      "{'loss': 2.2308, 'learning_rate': 0.0, 'epoch': 2.0}\n"
     ]
    },
    {
     "name": "stderr",
     "output_type": "stream",
     "text": [
      "                                               \n",
      "100%|██████████| 10/10 [00:32<00:00,  2.70s/it]Saving model checkpoint to ClassificationBERT\\checkpoint-10\n",
      "Configuration saved in ClassificationBERT\\checkpoint-10\\config.json\n"
     ]
    },
    {
     "name": "stdout",
     "output_type": "stream",
     "text": [
      "{'eval_loss': 3.1624503135681152, 'eval_f1_score': 0.0, 'eval_runtime': 3.8945, 'eval_samples_per_second': 2.568, 'eval_steps_per_second': 1.284, 'epoch': 2.0}\n"
     ]
    },
    {
     "name": "stderr",
     "output_type": "stream",
     "text": [
      "Model weights saved in ClassificationBERT\\checkpoint-10\\pytorch_model.bin\n",
      "\n",
      "\n",
      "Training completed. Do not forget to share your model on huggingface.co/models =)\n",
      "\n",
      "\n",
      "Loading best model from ClassificationBERT\\checkpoint-5 (score: 0.07692307692307691).\n",
      "100%|██████████| 10/10 [00:34<00:00,  3.44s/it]\n"
     ]
    },
    {
     "name": "stdout",
     "output_type": "stream",
     "text": [
      "{'train_runtime': 34.4843, 'train_samples_per_second': 0.58, 'train_steps_per_second': 0.29, 'train_loss': 2.5345305442810058, 'epoch': 2.0}\n",
      "torch.Size([10, 256])\n",
      "torch.int64\n"
     ]
    },
    {
     "name": "stderr",
     "output_type": "stream",
     "text": [
      "c:\\Users\\ismyn\\miniconda3\\envs\\enginora_env\\lib\\site-packages\\_distutils_hack\\__init__.py:33: UserWarning: Setuptools is replacing distutils.\n",
      "  warnings.warn(\"Setuptools is replacing distutils.\")\n",
      "Registered model 'my_registered_model' already exists. Creating a new version of this model...\n",
      "2023/08/27 19:58:37 INFO mlflow.tracking._model_registry.client: Waiting up to 300 seconds for model version to finish creation. Model name: my_registered_model, version 4\n",
      "Created version '4' of model 'my_registered_model'.\n",
      "[MlflowManager.py:55 -            log_model() ] mlflow: logging model\n",
      "***** Running Prediction *****\n",
      "  Num examples = 10\n",
      "  Batch size = 2\n",
      "100%|██████████| 5/5 [00:03<00:00,  1.48it/s][MlflowManager.py:41 -          log_metrics() ] mlflow: logging metrics :test_loss_test test_f1_score_test test_runtime_test test_samples_per_second_test test_steps_per_second_test\n",
      "***** Running Prediction *****\n",
      "  Num examples = 10\n",
      "  Batch size = 2\n",
      "10it [00:06,  1.32it/s]                      [MlflowManager.py:41 -          log_metrics() ] mlflow: logging metrics :test_loss_cont test_f1_score_cont test_runtime_cont test_samples_per_second_cont test_steps_per_second_cont\n",
      "10it [00:06,  1.43it/s]\n"
     ]
    },
    {
     "data": {
      "text/plain": [
       "{'train_results': TrainOutput(global_step=10, training_loss=2.5345305442810058, metrics={'train_runtime': 34.4843, 'train_samples_per_second': 0.58, 'train_steps_per_second': 0.29, 'train_loss': 2.5345305442810058, 'epoch': 2.0}),\n",
       " 'test_results': {'test_loss': 2.5116360187530518,\n",
       "  'test_f1_score': 0.030303030303030304,\n",
       "  'test_runtime': 3.6497,\n",
       "  'test_samples_per_second': 2.74,\n",
       "  'test_steps_per_second': 1.37},\n",
       " 'control_results': {'test_loss': 2.582895517349243,\n",
       "  'test_f1_score': 0.0923076923076923,\n",
       "  'test_runtime': 3.8649,\n",
       "  'test_samples_per_second': 2.587,\n",
       "  'test_steps_per_second': 1.294}}"
      ]
     },
     "execution_count": 4,
     "metadata": {},
     "output_type": "execute_result"
    }
   ],
   "source": [
    "enginora.loop()"
   ]
  },
  {
   "cell_type": "markdown",
   "metadata": {},
   "source": [
    "In order to see what metrics were logged during particular runs please use the following:"
   ]
  },
  {
   "cell_type": "code",
   "execution_count": 8,
   "metadata": {},
   "outputs": [
    {
     "name": "stdout",
     "output_type": "stream",
     "text": [
      "The metrics logged which you can retrieve from this experiment are: \n",
      "\n",
      " - test_steps_per_second_cont\n",
      " - learning_rate\n",
      " - total_flos\n",
      " - train_loss\n",
      " - test_samples_per_second_test\n",
      " - train_runtime\n",
      " - eval_runtime\n",
      " - loss\n",
      " - eval_f1_score\n",
      " - test_samples_per_second_cont\n",
      " - test_steps_per_second_test\n",
      " - test_loss_test\n",
      " - test_loss_cont\n",
      " - eval_steps_per_second\n",
      " - eval_loss\n",
      " - test_f1_score_test\n",
      " - train_samples_per_second\n",
      " - epoch\n",
      " - test_runtime_test\n",
      " - eval_samples_per_second\n",
      " - train_steps_per_second\n",
      " - test_f1_score_cont\n",
      " - test_runtime_cont\n"
     ]
    }
   ],
   "source": [
    "MlflowManager.display_metrics(experiment_names = [\"my_experiment_3\"]);"
   ]
  },
  {
   "cell_type": "markdown",
   "metadata": {},
   "source": [
    "To gain additional knowledge and inspect the runs in the notebook environment:"
   ]
  },
  {
   "cell_type": "code",
   "execution_count": 10,
   "metadata": {},
   "outputs": [
    {
     "data": {
      "text/html": [
       "<div>\n",
       "<style scoped>\n",
       "    .dataframe tbody tr th:only-of-type {\n",
       "        vertical-align: middle;\n",
       "    }\n",
       "\n",
       "    .dataframe tbody tr th {\n",
       "        vertical-align: top;\n",
       "    }\n",
       "\n",
       "    .dataframe thead th {\n",
       "        text-align: right;\n",
       "    }\n",
       "</style>\n",
       "<table border=\"1\" class=\"dataframe\">\n",
       "  <thead>\n",
       "    <tr style=\"text-align: right;\">\n",
       "      <th></th>\n",
       "      <th>run_id</th>\n",
       "      <th>experiment_id</th>\n",
       "      <th>status</th>\n",
       "      <th>artifact_uri</th>\n",
       "      <th>start_time</th>\n",
       "      <th>end_time</th>\n",
       "      <th>metrics.test_steps_per_second_cont</th>\n",
       "      <th>metrics.learning_rate</th>\n",
       "      <th>metrics.total_flos</th>\n",
       "      <th>metrics.train_loss</th>\n",
       "      <th>...</th>\n",
       "      <th>params.cross_attention_hidden_size</th>\n",
       "      <th>params.seed</th>\n",
       "      <th>params.encoder_no_repeat_ngram_size</th>\n",
       "      <th>params.bf16_full_eval</th>\n",
       "      <th>params.push_to_hub_token</th>\n",
       "      <th>tags.mlflow.user</th>\n",
       "      <th>tags.mlflow.source.name</th>\n",
       "      <th>tags.mlflow.source.type</th>\n",
       "      <th>tags.mlflow.log-model.history</th>\n",
       "      <th>tags.mlflow.runName</th>\n",
       "    </tr>\n",
       "  </thead>\n",
       "  <tbody>\n",
       "    <tr>\n",
       "      <th>0</th>\n",
       "      <td>76af2a4bba124ad1832706d339650aac</td>\n",
       "      <td>497116012591044347</td>\n",
       "      <td>FINISHED</td>\n",
       "      <td>mlflow-artifacts:/497116012591044347/76af2a4bb...</td>\n",
       "      <td>2023-08-27 17:55:21.686000+00:00</td>\n",
       "      <td>2023-08-27 17:56:14.825000+00:00</td>\n",
       "      <td>1.165</td>\n",
       "      <td>0.0</td>\n",
       "      <td>2.631347e+12</td>\n",
       "      <td>2.535203</td>\n",
       "      <td>...</td>\n",
       "      <td>None</td>\n",
       "      <td>42</td>\n",
       "      <td>0</td>\n",
       "      <td>False</td>\n",
       "      <td>&lt;PUSH_TO_HUB_TOKEN&gt;</td>\n",
       "      <td>janina</td>\n",
       "      <td>c:\\Users\\ismyn\\miniconda3\\envs\\enginora_env\\li...</td>\n",
       "      <td>LOCAL</td>\n",
       "      <td>[{\"run_id\": \"76af2a4bba124ad1832706d339650aac\"...</td>\n",
       "      <td>judicious-worm-435</td>\n",
       "    </tr>\n",
       "    <tr>\n",
       "      <th>1</th>\n",
       "      <td>c221b3a836f2427089a1ef81b9d10d29</td>\n",
       "      <td>497116012591044347</td>\n",
       "      <td>FINISHED</td>\n",
       "      <td>mlflow-artifacts:/497116012591044347/c221b3a83...</td>\n",
       "      <td>2023-08-27 17:57:52.725000+00:00</td>\n",
       "      <td>2023-08-27 17:58:44.770000+00:00</td>\n",
       "      <td>1.294</td>\n",
       "      <td>0.0</td>\n",
       "      <td>2.631347e+12</td>\n",
       "      <td>2.534531</td>\n",
       "      <td>...</td>\n",
       "      <td>None</td>\n",
       "      <td>42</td>\n",
       "      <td>0</td>\n",
       "      <td>False</td>\n",
       "      <td>&lt;PUSH_TO_HUB_TOKEN&gt;</td>\n",
       "      <td>janina</td>\n",
       "      <td>c:\\Users\\ismyn\\miniconda3\\envs\\enginora_env\\li...</td>\n",
       "      <td>LOCAL</td>\n",
       "      <td>[{\"run_id\": \"c221b3a836f2427089a1ef81b9d10d29\"...</td>\n",
       "      <td>sneaky-ram-43</td>\n",
       "    </tr>\n",
       "    <tr>\n",
       "      <th>2</th>\n",
       "      <td>ee30dc7bfed446c995b491e46b8062af</td>\n",
       "      <td>497116012591044347</td>\n",
       "      <td>FINISHED</td>\n",
       "      <td>mlflow-artifacts:/497116012591044347/ee30dc7bf...</td>\n",
       "      <td>2023-08-27 09:36:34.229000+00:00</td>\n",
       "      <td>2023-08-27 09:37:33.306000+00:00</td>\n",
       "      <td>1.163</td>\n",
       "      <td>0.0</td>\n",
       "      <td>2.631347e+12</td>\n",
       "      <td>2.179695</td>\n",
       "      <td>...</td>\n",
       "      <td>None</td>\n",
       "      <td>42</td>\n",
       "      <td>0</td>\n",
       "      <td>False</td>\n",
       "      <td>&lt;PUSH_TO_HUB_TOKEN&gt;</td>\n",
       "      <td>janina</td>\n",
       "      <td>c:\\Users\\ismyn\\miniconda3\\envs\\enginora_env\\li...</td>\n",
       "      <td>LOCAL</td>\n",
       "      <td>[{\"run_id\": \"ee30dc7bfed446c995b491e46b8062af\"...</td>\n",
       "      <td>resilient-slug-19</td>\n",
       "    </tr>\n",
       "    <tr>\n",
       "      <th>3</th>\n",
       "      <td>1fa37633e8f847fb9b83f1cd0e5f5475</td>\n",
       "      <td>497116012591044347</td>\n",
       "      <td>FINISHED</td>\n",
       "      <td>mlflow-artifacts:/497116012591044347/1fa37633e...</td>\n",
       "      <td>2023-08-27 09:04:22.510000+00:00</td>\n",
       "      <td>2023-08-27 09:05:42.797000+00:00</td>\n",
       "      <td>0.653</td>\n",
       "      <td>0.0</td>\n",
       "      <td>2.631347e+12</td>\n",
       "      <td>2.648513</td>\n",
       "      <td>...</td>\n",
       "      <td>None</td>\n",
       "      <td>42</td>\n",
       "      <td>0</td>\n",
       "      <td>False</td>\n",
       "      <td>&lt;PUSH_TO_HUB_TOKEN&gt;</td>\n",
       "      <td>janina</td>\n",
       "      <td>c:\\Users\\ismyn\\miniconda3\\envs\\enginora_env\\li...</td>\n",
       "      <td>LOCAL</td>\n",
       "      <td>None</td>\n",
       "      <td>amazing-bat-841</td>\n",
       "    </tr>\n",
       "    <tr>\n",
       "      <th>4</th>\n",
       "      <td>de274d22b65940249b04d69f50a5d0b6</td>\n",
       "      <td>497116012591044347</td>\n",
       "      <td>FINISHED</td>\n",
       "      <td>mlflow-artifacts:/497116012591044347/de274d22b...</td>\n",
       "      <td>2023-08-27 12:09:08.269000+00:00</td>\n",
       "      <td>2023-08-27 12:11:40.988000+00:00</td>\n",
       "      <td>0.518</td>\n",
       "      <td>0.0</td>\n",
       "      <td>2.631347e+12</td>\n",
       "      <td>2.775168</td>\n",
       "      <td>...</td>\n",
       "      <td>None</td>\n",
       "      <td>42</td>\n",
       "      <td>0</td>\n",
       "      <td>False</td>\n",
       "      <td>&lt;PUSH_TO_HUB_TOKEN&gt;</td>\n",
       "      <td>janina</td>\n",
       "      <td>c:\\Users\\ismyn\\miniconda3\\envs\\enginora_env\\li...</td>\n",
       "      <td>LOCAL</td>\n",
       "      <td>[{\"run_id\": \"de274d22b65940249b04d69f50a5d0b6\"...</td>\n",
       "      <td>redolent-hog-322</td>\n",
       "    </tr>\n",
       "  </tbody>\n",
       "</table>\n",
       "<p>5 rows × 201 columns</p>\n",
       "</div>"
      ],
      "text/plain": [
       "                             run_id       experiment_id    status  \\\n",
       "0  76af2a4bba124ad1832706d339650aac  497116012591044347  FINISHED   \n",
       "1  c221b3a836f2427089a1ef81b9d10d29  497116012591044347  FINISHED   \n",
       "2  ee30dc7bfed446c995b491e46b8062af  497116012591044347  FINISHED   \n",
       "3  1fa37633e8f847fb9b83f1cd0e5f5475  497116012591044347  FINISHED   \n",
       "4  de274d22b65940249b04d69f50a5d0b6  497116012591044347  FINISHED   \n",
       "\n",
       "                                        artifact_uri  \\\n",
       "0  mlflow-artifacts:/497116012591044347/76af2a4bb...   \n",
       "1  mlflow-artifacts:/497116012591044347/c221b3a83...   \n",
       "2  mlflow-artifacts:/497116012591044347/ee30dc7bf...   \n",
       "3  mlflow-artifacts:/497116012591044347/1fa37633e...   \n",
       "4  mlflow-artifacts:/497116012591044347/de274d22b...   \n",
       "\n",
       "                        start_time                         end_time  \\\n",
       "0 2023-08-27 17:55:21.686000+00:00 2023-08-27 17:56:14.825000+00:00   \n",
       "1 2023-08-27 17:57:52.725000+00:00 2023-08-27 17:58:44.770000+00:00   \n",
       "2 2023-08-27 09:36:34.229000+00:00 2023-08-27 09:37:33.306000+00:00   \n",
       "3 2023-08-27 09:04:22.510000+00:00 2023-08-27 09:05:42.797000+00:00   \n",
       "4 2023-08-27 12:09:08.269000+00:00 2023-08-27 12:11:40.988000+00:00   \n",
       "\n",
       "   metrics.test_steps_per_second_cont  metrics.learning_rate  \\\n",
       "0                               1.165                    0.0   \n",
       "1                               1.294                    0.0   \n",
       "2                               1.163                    0.0   \n",
       "3                               0.653                    0.0   \n",
       "4                               0.518                    0.0   \n",
       "\n",
       "   metrics.total_flos  metrics.train_loss  ...  \\\n",
       "0        2.631347e+12            2.535203  ...   \n",
       "1        2.631347e+12            2.534531  ...   \n",
       "2        2.631347e+12            2.179695  ...   \n",
       "3        2.631347e+12            2.648513  ...   \n",
       "4        2.631347e+12            2.775168  ...   \n",
       "\n",
       "   params.cross_attention_hidden_size  params.seed  \\\n",
       "0                                None           42   \n",
       "1                                None           42   \n",
       "2                                None           42   \n",
       "3                                None           42   \n",
       "4                                None           42   \n",
       "\n",
       "   params.encoder_no_repeat_ngram_size  params.bf16_full_eval  \\\n",
       "0                                    0                  False   \n",
       "1                                    0                  False   \n",
       "2                                    0                  False   \n",
       "3                                    0                  False   \n",
       "4                                    0                  False   \n",
       "\n",
       "   params.push_to_hub_token  tags.mlflow.user  \\\n",
       "0       <PUSH_TO_HUB_TOKEN>            janina   \n",
       "1       <PUSH_TO_HUB_TOKEN>            janina   \n",
       "2       <PUSH_TO_HUB_TOKEN>            janina   \n",
       "3       <PUSH_TO_HUB_TOKEN>            janina   \n",
       "4       <PUSH_TO_HUB_TOKEN>            janina   \n",
       "\n",
       "                             tags.mlflow.source.name  tags.mlflow.source.type  \\\n",
       "0  c:\\Users\\ismyn\\miniconda3\\envs\\enginora_env\\li...                    LOCAL   \n",
       "1  c:\\Users\\ismyn\\miniconda3\\envs\\enginora_env\\li...                    LOCAL   \n",
       "2  c:\\Users\\ismyn\\miniconda3\\envs\\enginora_env\\li...                    LOCAL   \n",
       "3  c:\\Users\\ismyn\\miniconda3\\envs\\enginora_env\\li...                    LOCAL   \n",
       "4  c:\\Users\\ismyn\\miniconda3\\envs\\enginora_env\\li...                    LOCAL   \n",
       "\n",
       "                       tags.mlflow.log-model.history  tags.mlflow.runName  \n",
       "0  [{\"run_id\": \"76af2a4bba124ad1832706d339650aac\"...   judicious-worm-435  \n",
       "1  [{\"run_id\": \"c221b3a836f2427089a1ef81b9d10d29\"...        sneaky-ram-43  \n",
       "2  [{\"run_id\": \"ee30dc7bfed446c995b491e46b8062af\"...    resilient-slug-19  \n",
       "3                                               None      amazing-bat-841  \n",
       "4  [{\"run_id\": \"de274d22b65940249b04d69f50a5d0b6\"...     redolent-hog-322  \n",
       "\n",
       "[5 rows x 201 columns]"
      ]
     },
     "metadata": {},
     "output_type": "display_data"
    }
   ],
   "source": [
    "MlflowManager.display_runs_filtered_on_metric(experiment_names = [\"my_experiment_3\"], metric = 'test_f1_score_test')"
   ]
  },
  {
   "cell_type": "markdown",
   "metadata": {},
   "source": [
    "For this particular one we need the mlflow manager, so if you haven't run the loop and created one, run the following cell to be ok"
   ]
  },
  {
   "cell_type": "code",
   "execution_count": 27,
   "metadata": {},
   "outputs": [
    {
     "data": {
      "text/plain": [
       "<enginora.utils.mlflow.MlflowManager.MlflowManager at 0x22cf46364c0>"
      ]
     },
     "execution_count": 27,
     "metadata": {},
     "output_type": "execute_result"
    }
   ],
   "source": [
    "from enginora.flow import get_configurations\n",
    "mlflow_config, _, _, _, _ = get_configurations(\"./config.yaml\")\n",
    "MlflowManager(mlflow_config)"
   ]
  },
  {
   "cell_type": "code",
   "execution_count": 36,
   "metadata": {},
   "outputs": [
    {
     "name": "stdout",
     "output_type": "stream",
     "text": [
      "model <class 'mlflow.entities.file_info.FileInfo'>\n",
      "stat_descriptive_control <class 'mlflow.entities.file_info.FileInfo'>\n",
      "stat_descriptive_test <class 'mlflow.entities.file_info.FileInfo'>\n",
      "stat_descriptive_train <class 'mlflow.entities.file_info.FileInfo'>\n",
      "stat_descriptive_validation <class 'mlflow.entities.file_info.FileInfo'>\n",
      "[<FileInfo: file_size=None, is_dir=True, path='model'>, <FileInfo: file_size=None, is_dir=True, path='stat_descriptive_control'>, <FileInfo: file_size=None, is_dir=True, path='stat_descriptive_test'>, <FileInfo: file_size=None, is_dir=True, path='stat_descriptive_train'>, <FileInfo: file_size=None, is_dir=True, path='stat_descriptive_validation'>]\n"
     ]
    }
   ],
   "source": [
    "MlflowManager.download_artifacts_filtered_on_metric(experiment_names = [\"my_experiment_3\"], metric = 'test_f1_score_test')"
   ]
  }
 ],
 "metadata": {
  "kernelspec": {
   "display_name": "Python 3",
   "language": "python",
   "name": "python3"
  },
  "language_info": {
   "codemirror_mode": {
    "name": "ipython",
    "version": 3
   },
   "file_extension": ".py",
   "mimetype": "text/x-python",
   "name": "python",
   "nbconvert_exporter": "python",
   "pygments_lexer": "ipython3",
   "version": "3.9.17"
  }
 },
 "nbformat": 4,
 "nbformat_minor": 0
}

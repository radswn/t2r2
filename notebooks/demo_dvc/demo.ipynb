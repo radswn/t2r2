{
 "cells": [
  {
   "cell_type": "code",
   "execution_count": 1,
   "metadata": {
    "ExecuteTime": {
     "end_time": "2023-10-02T13:23:00.572238500Z",
     "start_time": "2023-10-02T13:22:54.673880Z"
    },
    "collapsed": false
   },
   "outputs": [],
   "source": [
    "import logging\n",
    "import os\n",
    "\n",
    "import t2r2\n",
    "\n",
    "os.environ['WANDB_DISABLED'] = 'true'\n",
    "logging.basicConfig(format=\"[%(filename)s:%(lineno)s - %(funcName)20s() ] %(message)s\", level=logging.INFO)"
   ]
  },
  {
   "cell_type": "code",
   "execution_count": 2,
   "metadata": {
    "ExecuteTime": {
     "end_time": "2023-10-02T13:23:09.962210300Z",
     "start_time": "2023-10-02T13:23:09.944574700Z"
    },
    "collapsed": false
   },
   "outputs": [],
   "source": [
    "# to clean up\n",
    "# !rm -rf .git/ .gitignore *.dvc results/ mlruns/ dvc.yaml .dvcignore .dvc/"
   ]
  },
  {
   "cell_type": "markdown",
   "metadata": {
    "collapsed": false
   },
   "source": [
    "---\n",
    "## Init"
   ]
  },
  {
   "cell_type": "code",
   "execution_count": 3,
   "metadata": {
    "ExecuteTime": {
     "end_time": "2023-10-02T13:23:11.509488800Z",
     "start_time": "2023-10-02T13:23:11.364774500Z"
    },
    "collapsed": false
   },
   "outputs": [
    {
     "name": "stdout",
     "output_type": "stream",
     "text": [
      "Reinitialized existing Git repository in C:/Users/solarsan/learn/enginora/notebooks/demo_dvc/.git/\n"
     ]
    }
   ],
   "source": [
    "!git init"
   ]
  },
  {
   "cell_type": "code",
   "execution_count": 4,
   "metadata": {
    "ExecuteTime": {
     "end_time": "2023-10-02T13:23:15.013443Z",
     "start_time": "2023-10-02T13:23:11.874078Z"
    },
    "collapsed": false
   },
   "outputs": [
    {
     "name": "stderr",
     "output_type": "stream",
     "text": [
      "[repo.py:83 -                 _run() ] Running: dvc init\n",
      "[repo.py:88 -                 _run() ] \n",
      "\n",
      "[repo.py:83 -                 _run() ] Running: dvc config core.autostage true\n",
      "[repo.py:88 -                 _run() ] \n",
      "\n"
     ]
    }
   ],
   "source": [
    "t2r2.init()"
   ]
  },
  {
   "cell_type": "code",
   "execution_count": 5,
   "metadata": {
    "ExecuteTime": {
     "end_time": "2023-10-02T13:23:15.185927100Z",
     "start_time": "2023-10-02T13:23:15.014443Z"
    },
    "collapsed": false
   },
   "outputs": [],
   "source": [
    "!git add dvc.yaml .dvc/config"
   ]
  },
  {
   "cell_type": "code",
   "execution_count": 6,
   "metadata": {
    "ExecuteTime": {
     "end_time": "2023-10-02T13:23:15.432632Z",
     "start_time": "2023-10-02T13:23:15.190350800Z"
    },
    "collapsed": false
   },
   "outputs": [
    {
     "name": "stdout",
     "output_type": "stream",
     "text": [
      "[master 7f5d08e] init\n",
      " 10 files changed, 45 insertions(+)\n",
      " create mode 100644 .gitignore\n",
      " create mode 100644 config.yaml.dvc\n",
      " create mode 100644 data/control.csv.dvc\n",
      " create mode 100644 data/test.csv.dvc\n",
      " create mode 100644 data/train.csv.dvc\n",
      " create mode 100644 results/.gitignore\n",
      " create mode 100644 results/control_results.pickle.dvc\n",
      " create mode 100644 results/metrics.yaml.dvc\n",
      " create mode 100644 results/test_results.pickle.dvc\n",
      " create mode 100644 results/train_results.pickle.dvc\n"
     ]
    }
   ],
   "source": [
    "!git commit -m \"init\""
   ]
  },
  {
   "cell_type": "markdown",
   "metadata": {
    "collapsed": false
   },
   "source": [
    "---\n",
    "## First loop"
   ]
  },
  {
   "cell_type": "code",
   "execution_count": 7,
   "metadata": {
    "ExecuteTime": {
     "end_time": "2023-10-02T13:23:25.245892100Z",
     "start_time": "2023-10-02T13:23:25.159849500Z"
    },
    "collapsed": false
   },
   "outputs": [
    {
     "name": "stdout",
     "output_type": "stream",
     "text": [
      "10\n"
     ]
    }
   ],
   "source": [
    "# let's see how much training examples do we have?\n",
    "!type data\\train.csv | find /c /v \"\""
   ]
  },
  {
   "cell_type": "code",
   "execution_count": 8,
   "metadata": {
    "ExecuteTime": {
     "end_time": "2023-10-02T13:24:01.076609900Z",
     "start_time": "2023-10-02T13:23:26.232317800Z"
    },
    "collapsed": false
   },
   "outputs": [
    {
     "name": "stderr",
     "output_type": "stream",
     "text": [
      "Some weights of the model checkpoint at bert-base-cased were not used when initializing BertForSequenceClassification: ['cls.seq_relationship.weight', 'cls.predictions.transform.LayerNorm.bias', 'cls.predictions.transform.dense.weight', 'cls.predictions.bias', 'cls.seq_relationship.bias', 'cls.predictions.transform.dense.bias', 'cls.predictions.transform.LayerNorm.weight', 'cls.predictions.decoder.weight']\n",
      "- This IS expected if you are initializing BertForSequenceClassification from the checkpoint of a model trained on another task or with another architecture (e.g. initializing a BertForSequenceClassification model from a BertForPreTraining model).\n",
      "- This IS NOT expected if you are initializing BertForSequenceClassification from the checkpoint of a model that you expect to be exactly identical (initializing a BertForSequenceClassification model from a BertForSequenceClassification model).\n",
      "Some weights of BertForSequenceClassification were not initialized from the model checkpoint at bert-base-cased and are newly initialized: ['classifier.bias', 'classifier.weight']\n",
      "You should probably TRAIN this model on a down-stream task to be able to use it for predictions and inference.\n",
      "Using the `WAND_DISABLED` environment variable is deprecated and will be removed in v5. Use the --report_to flag to control the integrations used for logging result (for instance --report_to none).\n",
      "C:\\Users\\solarsan\\learn\\enginora\\venv\\lib\\site-packages\\transformers\\optimization.py:306: FutureWarning: This implementation of AdamW is deprecated and will be removed in a future version. Use the PyTorch implementation torch.optim.AdamW instead, or set `no_deprecation_warning=True` to disable this warning\n",
      "  warnings.warn(\n",
      "***** Running training *****\n",
      "  Num examples = 8\n",
      "  Num Epochs = 1\n",
      "  Instantaneous batch size per device = 2\n",
      "  Total train batch size (w. parallel, distributed & accumulation) = 2\n",
      "  Gradient Accumulation steps = 1\n",
      "  Total optimization steps = 4\n"
     ]
    },
    {
     "data": {
      "text/html": [
       "\n",
       "    <div>\n",
       "      \n",
       "      <progress value='2' max='4' style='width:300px; height:20px; vertical-align: middle;'></progress>\n",
       "      [2/4 : < :, Epoch 0.25/1]\n",
       "    </div>\n",
       "    <table border=\"1\" class=\"dataframe\">\n",
       "  <thead>\n",
       " <tr style=\"text-align: left;\">\n",
       "      <th>Epoch</th>\n",
       "      <th>Training Loss</th>\n",
       "      <th>Validation Loss</th>\n",
       "    </tr>\n",
       "  </thead>\n",
       "  <tbody>\n",
       "  </tbody>\n",
       "</table><p>"
      ],
      "text/plain": [
       "<IPython.core.display.HTML object>"
      ]
     },
     "metadata": {},
     "output_type": "display_data"
    },
    {
     "name": "stderr",
     "output_type": "stream",
     "text": [
      "***** Running Evaluation *****\n",
      "  Num examples = 2\n",
      "  Batch size = 2\n",
      "Saving model checkpoint to ./results/checkpoint-4\n",
      "Configuration saved in ./results/checkpoint-4\\config.json\n",
      "Model weights saved in ./results/checkpoint-4\\pytorch_model.bin\n",
      "\n",
      "\n",
      "Training completed. Do not forget to share your model on huggingface.co/models =)\n",
      "\n",
      "\n",
      "Loading best model from ./results/checkpoint-4 (score: 0.5).\n",
      "***** Running Prediction *****\n",
      "  Num examples = 1\n",
      "  Batch size = 2\n"
     ]
    },
    {
     "data": {
      "text/html": [
       "\n",
       "    <div>\n",
       "      \n",
       "      <progress value='1' max='1' style='width:300px; height:20px; vertical-align: middle;'></progress>\n",
       "      [1/1 : < :]\n",
       "    </div>\n",
       "    "
      ],
      "text/plain": [
       "<IPython.core.display.HTML object>"
      ]
     },
     "metadata": {},
     "output_type": "display_data"
    },
    {
     "name": "stderr",
     "output_type": "stream",
     "text": [
      "***** Running Prediction *****\n",
      "  Num examples = 1\n",
      "  Batch size = 2\n",
      "[repo.py:83 -                 _run() ] Running: dvc add ./config.yaml ./results/metrics.yaml ./results/metrics.yaml ./results/metrics.yaml\n",
      "[repo.py:88 -                 _run() ] \n",
      "\n",
      "[repo.py:83 -                 _run() ] Running: dvc add ./data/train.csv\n",
      "[repo.py:88 -                 _run() ] \n",
      "\n",
      "[repo.py:83 -                 _run() ] Running: dvc add ./results/train_results.pickle\n",
      "[repo.py:88 -                 _run() ] \n",
      "\n",
      "[repo.py:83 -                 _run() ] Running: dvc add ./data/test.csv\n",
      "[repo.py:88 -                 _run() ] \n",
      "\n",
      "[repo.py:83 -                 _run() ] Running: dvc add ./results/test_results.pickle\n",
      "[repo.py:88 -                 _run() ] \n",
      "\n",
      "[repo.py:83 -                 _run() ] Running: dvc add ./data/control.csv\n",
      "[repo.py:88 -                 _run() ] \n",
      "\n",
      "[repo.py:83 -                 _run() ] Running: dvc add ./results/control_results.pickle\n",
      "[repo.py:88 -                 _run() ] \n",
      "\n"
     ]
    },
    {
     "data": {
      "text/plain": [
       "{'train_results': {'train_runtime': 14.4639,\n",
       "  'train_samples_per_second': 0.553,\n",
       "  'train_steps_per_second': 0.277,\n",
       "  'total_flos': 1052538716160.0,\n",
       "  'train_loss': 2.2930960655212402,\n",
       "  'epoch': 1.0},\n",
       " 'test_results': {'test_loss': 2.28084659576416,\n",
       "  'test_accuracy_score': 0.0,\n",
       "  'test_runtime': 0.3696,\n",
       "  'test_samples_per_second': 2.706,\n",
       "  'test_steps_per_second': 2.706},\n",
       " 'control_results': {'test_loss': 2.2615408897399902,\n",
       "  'test_accuracy_score': 0.0,\n",
       "  'test_runtime': 0.5135,\n",
       "  'test_samples_per_second': 1.947,\n",
       "  'test_steps_per_second': 1.947}}"
      ]
     },
     "execution_count": 8,
     "metadata": {},
     "output_type": "execute_result"
    }
   ],
   "source": [
    "t2r2.loop()"
   ]
  },
  {
   "cell_type": "code",
   "execution_count": 9,
   "metadata": {
    "ExecuteTime": {
     "end_time": "2023-10-02T13:24:48.149876600Z",
     "start_time": "2023-10-02T13:24:46.144721100Z"
    },
    "collapsed": false
   },
   "outputs": [
    {
     "name": "stderr",
     "output_type": "stream",
     "text": [
      "[repo.py:83 -                 _run() ] Running: dvc params diff\n",
      "[repo.py:88 -                 _run() ] \n",
      "Path         Param                           HEAD    workspace\r\n",
      "config.yaml  dvc.enabled                     -       True\r\n",
      "config.yaml  metrics                         -       [{'name': 'accuracy_score'}]\r\n",
      "config.yaml  model.model_name                -       bert-base-cased\r\n",
      "config.yaml  model.num_labels                -       12\r\n",
      "config.yaml  training.batch_size             -       2\r\n",
      "config.yaml  training.epochs                 -       1\r\n",
      "config.yaml  training.learning_rate          -       0.001\r\n",
      "config.yaml  training.metric_for_best_model  -       accuracy_score\r\n",
      "config.yaml  training.validation_size        -       0.2\r\n",
      "\n"
     ]
    }
   ],
   "source": [
    "t2r2.dvc_params()"
   ]
  },
  {
   "cell_type": "code",
   "execution_count": 10,
   "metadata": {
    "ExecuteTime": {
     "end_time": "2023-10-02T13:25:00.339364200Z",
     "start_time": "2023-10-02T13:24:58.319490100Z"
    },
    "collapsed": false
   },
   "outputs": [
    {
     "name": "stderr",
     "output_type": "stream",
     "text": [
      "[repo.py:83 -                 _run() ] Running: dvc metrics diff\n",
      "[repo.py:88 -                 _run() ] \n",
      "Path                  Metric                           HEAD     workspace    Change\r\n",
      "results\\metrics.yaml  control.test_runtime             0.7744   0.5135       -0.2609\r\n",
      "results\\metrics.yaml  control.test_samples_per_second  1.291    1.947        0.656\r\n",
      "results\\metrics.yaml  control.test_steps_per_second    1.291    1.947        0.656\r\n",
      "results\\metrics.yaml  test.test_runtime                0.3863   0.3696       -0.0167\r\n",
      "results\\metrics.yaml  test.test_samples_per_second     2.589    2.706        0.117\r\n",
      "results\\metrics.yaml  test.test_steps_per_second       2.589    2.706        0.117\r\n",
      "results\\metrics.yaml  train.train_runtime              15.8481  14.4639      -1.3842\r\n",
      "results\\metrics.yaml  train.train_samples_per_second   0.505    0.553        0.048\r\n",
      "results\\metrics.yaml  train.train_steps_per_second     0.252    0.277        0.025\r\n",
      "\n"
     ]
    }
   ],
   "source": [
    "t2r2.dvc_metrics()"
   ]
  },
  {
   "cell_type": "code",
   "execution_count": 11,
   "metadata": {
    "ExecuteTime": {
     "end_time": "2023-10-02T13:25:18.406642200Z",
     "start_time": "2023-10-02T13:25:18.210571Z"
    },
    "collapsed": false
   },
   "outputs": [
    {
     "name": "stdout",
     "output_type": "stream",
     "text": [
      "[master 7c16d21] 1\n",
      " 4 files changed, 4 insertions(+), 4 deletions(-)\n"
     ]
    }
   ],
   "source": [
    "!git commit -m \"1\""
   ]
  },
  {
   "cell_type": "markdown",
   "metadata": {
    "collapsed": false
   },
   "source": [
    "---\n",
    "## Second loop"
   ]
  },
  {
   "cell_type": "code",
   "execution_count": 12,
   "metadata": {
    "ExecuteTime": {
     "end_time": "2023-10-02T13:25:29.806524800Z",
     "start_time": "2023-10-02T13:25:29.714418300Z"
    },
    "collapsed": false
   },
   "outputs": [
    {
     "name": "stdout",
     "output_type": "stream",
     "text": [
      "5\n"
     ]
    }
   ],
   "source": [
    "# let's use modified training set for demonstration\n",
    "!type data\\train.csv | find /c /v \"\""
   ]
  },
  {
   "cell_type": "code",
   "execution_count": 13,
   "metadata": {
    "ExecuteTime": {
     "end_time": "2023-10-02T13:25:52.884705600Z",
     "start_time": "2023-10-02T13:25:30.472316900Z"
    },
    "collapsed": false
   },
   "outputs": [
    {
     "name": "stderr",
     "output_type": "stream",
     "text": [
      "loading configuration file https://huggingface.co/bert-base-cased/resolve/main/config.json from cache at C:\\Users\\solarsan/.cache\\huggingface\\transformers\\a803e0468a8fe090683bdc453f4fac622804f49de86d7cecaee92365d4a0f829.a64a22196690e0e82ead56f388a3ef3a50de93335926ccfa20610217db589307\n",
      "Model config BertConfig {\n",
      "  \"_name_or_path\": \"bert-base-cased\",\n",
      "  \"architectures\": [\n",
      "    \"BertForMaskedLM\"\n",
      "  ],\n",
      "  \"attention_probs_dropout_prob\": 0.1,\n",
      "  \"classifier_dropout\": null,\n",
      "  \"gradient_checkpointing\": false,\n",
      "  \"hidden_act\": \"gelu\",\n",
      "  \"hidden_dropout_prob\": 0.1,\n",
      "  \"hidden_size\": 768,\n",
      "  \"initializer_range\": 0.02,\n",
      "  \"intermediate_size\": 3072,\n",
      "  \"layer_norm_eps\": 1e-12,\n",
      "  \"max_position_embeddings\": 512,\n",
      "  \"model_type\": \"bert\",\n",
      "  \"num_attention_heads\": 12,\n",
      "  \"num_hidden_layers\": 12,\n",
      "  \"pad_token_id\": 0,\n",
      "  \"position_embedding_type\": \"absolute\",\n",
      "  \"transformers_version\": \"4.20.1\",\n",
      "  \"type_vocab_size\": 2,\n",
      "  \"use_cache\": true,\n",
      "  \"vocab_size\": 28996\n",
      "}\n",
      "\n",
      "loading file https://huggingface.co/bert-base-cased/resolve/main/vocab.txt from cache at C:\\Users\\solarsan/.cache\\huggingface\\transformers\\6508e60ab3c1200bffa26c95f4b58ac6b6d95fba4db1f195f632fa3cd7bc64cc.437aa611e89f6fc6675a049d2b5545390adbc617e7d655286421c191d2be2791\n",
      "loading file https://huggingface.co/bert-base-cased/resolve/main/tokenizer.json from cache at C:\\Users\\solarsan/.cache\\huggingface\\transformers\\226a307193a9f4344264cdc76a12988448a25345ba172f2c7421f3b6810fddad.3dab63143af66769bbb35e3811f75f7e16b2320e12b7935e216bd6159ce6d9a6\n",
      "loading file https://huggingface.co/bert-base-cased/resolve/main/added_tokens.json from cache at None\n",
      "loading file https://huggingface.co/bert-base-cased/resolve/main/special_tokens_map.json from cache at None\n",
      "loading file https://huggingface.co/bert-base-cased/resolve/main/tokenizer_config.json from cache at C:\\Users\\solarsan/.cache\\huggingface\\transformers\\ec84e86ee39bfe112543192cf981deebf7e6cbe8c91b8f7f8f63c9be44366158.ec5c189f89475aac7d8cbd243960a0655cfadc3d0474da8ff2ed0bf1699c2a5f\n",
      "loading configuration file https://huggingface.co/bert-base-cased/resolve/main/config.json from cache at C:\\Users\\solarsan/.cache\\huggingface\\transformers\\a803e0468a8fe090683bdc453f4fac622804f49de86d7cecaee92365d4a0f829.a64a22196690e0e82ead56f388a3ef3a50de93335926ccfa20610217db589307\n",
      "Model config BertConfig {\n",
      "  \"_name_or_path\": \"bert-base-cased\",\n",
      "  \"architectures\": [\n",
      "    \"BertForMaskedLM\"\n",
      "  ],\n",
      "  \"attention_probs_dropout_prob\": 0.1,\n",
      "  \"classifier_dropout\": null,\n",
      "  \"gradient_checkpointing\": false,\n",
      "  \"hidden_act\": \"gelu\",\n",
      "  \"hidden_dropout_prob\": 0.1,\n",
      "  \"hidden_size\": 768,\n",
      "  \"initializer_range\": 0.02,\n",
      "  \"intermediate_size\": 3072,\n",
      "  \"layer_norm_eps\": 1e-12,\n",
      "  \"max_position_embeddings\": 512,\n",
      "  \"model_type\": \"bert\",\n",
      "  \"num_attention_heads\": 12,\n",
      "  \"num_hidden_layers\": 12,\n",
      "  \"pad_token_id\": 0,\n",
      "  \"position_embedding_type\": \"absolute\",\n",
      "  \"transformers_version\": \"4.20.1\",\n",
      "  \"type_vocab_size\": 2,\n",
      "  \"use_cache\": true,\n",
      "  \"vocab_size\": 28996\n",
      "}\n",
      "\n",
      "loading configuration file https://huggingface.co/bert-base-cased/resolve/main/config.json from cache at C:\\Users\\solarsan/.cache\\huggingface\\transformers\\a803e0468a8fe090683bdc453f4fac622804f49de86d7cecaee92365d4a0f829.a64a22196690e0e82ead56f388a3ef3a50de93335926ccfa20610217db589307\n",
      "Model config BertConfig {\n",
      "  \"_name_or_path\": \"bert-base-cased\",\n",
      "  \"architectures\": [\n",
      "    \"BertForMaskedLM\"\n",
      "  ],\n",
      "  \"attention_probs_dropout_prob\": 0.1,\n",
      "  \"classifier_dropout\": null,\n",
      "  \"gradient_checkpointing\": false,\n",
      "  \"hidden_act\": \"gelu\",\n",
      "  \"hidden_dropout_prob\": 0.1,\n",
      "  \"hidden_size\": 768,\n",
      "  \"id2label\": {\n",
      "    \"0\": \"LABEL_0\",\n",
      "    \"1\": \"LABEL_1\",\n",
      "    \"2\": \"LABEL_2\",\n",
      "    \"3\": \"LABEL_3\",\n",
      "    \"4\": \"LABEL_4\",\n",
      "    \"5\": \"LABEL_5\",\n",
      "    \"6\": \"LABEL_6\",\n",
      "    \"7\": \"LABEL_7\",\n",
      "    \"8\": \"LABEL_8\",\n",
      "    \"9\": \"LABEL_9\",\n",
      "    \"10\": \"LABEL_10\",\n",
      "    \"11\": \"LABEL_11\"\n",
      "  },\n",
      "  \"initializer_range\": 0.02,\n",
      "  \"intermediate_size\": 3072,\n",
      "  \"label2id\": {\n",
      "    \"LABEL_0\": 0,\n",
      "    \"LABEL_1\": 1,\n",
      "    \"LABEL_10\": 10,\n",
      "    \"LABEL_11\": 11,\n",
      "    \"LABEL_2\": 2,\n",
      "    \"LABEL_3\": 3,\n",
      "    \"LABEL_4\": 4,\n",
      "    \"LABEL_5\": 5,\n",
      "    \"LABEL_6\": 6,\n",
      "    \"LABEL_7\": 7,\n",
      "    \"LABEL_8\": 8,\n",
      "    \"LABEL_9\": 9\n",
      "  },\n",
      "  \"layer_norm_eps\": 1e-12,\n",
      "  \"max_position_embeddings\": 512,\n",
      "  \"model_type\": \"bert\",\n",
      "  \"num_attention_heads\": 12,\n",
      "  \"num_hidden_layers\": 12,\n",
      "  \"pad_token_id\": 0,\n",
      "  \"position_embedding_type\": \"absolute\",\n",
      "  \"transformers_version\": \"4.20.1\",\n",
      "  \"type_vocab_size\": 2,\n",
      "  \"use_cache\": true,\n",
      "  \"vocab_size\": 28996\n",
      "}\n",
      "\n",
      "loading weights file https://huggingface.co/bert-base-cased/resolve/main/pytorch_model.bin from cache at C:\\Users\\solarsan/.cache\\huggingface\\transformers\\092cc582560fc3833e556b3f833695c26343cb54b7e88cd02d40821462a74999.1f48cab6c959fc6c360d22bea39d06959e90f5b002e77e836d2da45464875cda\n",
      "Some weights of the model checkpoint at bert-base-cased were not used when initializing BertForSequenceClassification: ['cls.seq_relationship.weight', 'cls.predictions.transform.LayerNorm.bias', 'cls.predictions.transform.dense.weight', 'cls.predictions.bias', 'cls.seq_relationship.bias', 'cls.predictions.transform.dense.bias', 'cls.predictions.transform.LayerNorm.weight', 'cls.predictions.decoder.weight']\n",
      "- This IS expected if you are initializing BertForSequenceClassification from the checkpoint of a model trained on another task or with another architecture (e.g. initializing a BertForSequenceClassification model from a BertForPreTraining model).\n",
      "- This IS NOT expected if you are initializing BertForSequenceClassification from the checkpoint of a model that you expect to be exactly identical (initializing a BertForSequenceClassification model from a BertForSequenceClassification model).\n",
      "Some weights of BertForSequenceClassification were not initialized from the model checkpoint at bert-base-cased and are newly initialized: ['classifier.bias', 'classifier.weight']\n",
      "You should probably TRAIN this model on a down-stream task to be able to use it for predictions and inference.\n",
      "PyTorch: setting up devices\n",
      "The default value for the training argument `--report_to` will change in v5 (from all installed integrations to none). In v5, you will need to use `--report_to all` to get the same behavior as now. You should start updating your code and make this info disappear :-).\n",
      "Using the `WAND_DISABLED` environment variable is deprecated and will be removed in v5. Use the --report_to flag to control the integrations used for logging result (for instance --report_to none).\n",
      "C:\\Users\\solarsan\\learn\\enginora\\venv\\lib\\site-packages\\transformers\\optimization.py:306: FutureWarning: This implementation of AdamW is deprecated and will be removed in a future version. Use the PyTorch implementation torch.optim.AdamW instead, or set `no_deprecation_warning=True` to disable this warning\n",
      "  warnings.warn(\n",
      "***** Running training *****\n",
      "  Num examples = 4\n",
      "  Num Epochs = 1\n",
      "  Instantaneous batch size per device = 2\n",
      "  Total train batch size (w. parallel, distributed & accumulation) = 2\n",
      "  Gradient Accumulation steps = 1\n",
      "  Total optimization steps = 2\n"
     ]
    },
    {
     "data": {
      "text/html": [
       "\n",
       "    <div>\n",
       "      \n",
       "      <progress value='2' max='2' style='width:300px; height:20px; vertical-align: middle;'></progress>\n",
       "      [2/2 : < :, Epoch 0.50/1]\n",
       "    </div>\n",
       "    <table border=\"1\" class=\"dataframe\">\n",
       "  <thead>\n",
       " <tr style=\"text-align: left;\">\n",
       "      <th>Epoch</th>\n",
       "      <th>Training Loss</th>\n",
       "      <th>Validation Loss</th>\n",
       "    </tr>\n",
       "  </thead>\n",
       "  <tbody>\n",
       "  </tbody>\n",
       "</table><p>"
      ],
      "text/plain": [
       "<IPython.core.display.HTML object>"
      ]
     },
     "metadata": {},
     "output_type": "display_data"
    },
    {
     "name": "stderr",
     "output_type": "stream",
     "text": [
      "***** Running Evaluation *****\n",
      "  Num examples = 1\n",
      "  Batch size = 2\n",
      "Saving model checkpoint to ./results/checkpoint-2\n",
      "Configuration saved in ./results/checkpoint-2\\config.json\n",
      "Model weights saved in ./results/checkpoint-2\\pytorch_model.bin\n",
      "\n",
      "\n",
      "Training completed. Do not forget to share your model on huggingface.co/models =)\n",
      "\n",
      "\n",
      "Loading best model from ./results/checkpoint-2 (score: 0.0).\n",
      "***** Running Prediction *****\n",
      "  Num examples = 1\n",
      "  Batch size = 2\n"
     ]
    },
    {
     "data": {
      "text/html": [
       "\n",
       "    <div>\n",
       "      \n",
       "      <progress value='1' max='1' style='width:300px; height:20px; vertical-align: middle;'></progress>\n",
       "      [1/1 : < :]\n",
       "    </div>\n",
       "    "
      ],
      "text/plain": [
       "<IPython.core.display.HTML object>"
      ]
     },
     "metadata": {},
     "output_type": "display_data"
    },
    {
     "name": "stderr",
     "output_type": "stream",
     "text": [
      "***** Running Prediction *****\n",
      "  Num examples = 1\n",
      "  Batch size = 2\n",
      "[repo.py:83 -                 _run() ] Running: dvc add ./config.yaml ./results/metrics.yaml ./results/metrics.yaml ./results/metrics.yaml\n",
      "[repo.py:88 -                 _run() ] \n",
      "\n",
      "[repo.py:83 -                 _run() ] Running: dvc add ./data/train.csv\n",
      "[repo.py:88 -                 _run() ] \n",
      "\n",
      "[repo.py:83 -                 _run() ] Running: dvc add ./results/train_results.pickle\n",
      "[repo.py:88 -                 _run() ] \n",
      "\n",
      "[repo.py:83 -                 _run() ] Running: dvc add ./data/test.csv\n",
      "[repo.py:88 -                 _run() ] \n",
      "\n",
      "[repo.py:83 -                 _run() ] Running: dvc add ./results/test_results.pickle\n",
      "[repo.py:88 -                 _run() ] \n",
      "\n",
      "[repo.py:83 -                 _run() ] Running: dvc add ./data/control.csv\n",
      "[repo.py:88 -                 _run() ] \n",
      "\n",
      "[repo.py:83 -                 _run() ] Running: dvc add ./results/control_results.pickle\n",
      "[repo.py:88 -                 _run() ] \n",
      "\n"
     ]
    },
    {
     "data": {
      "text/plain": [
       "{'train_results': {'train_runtime': 6.0092,\n",
       "  'train_samples_per_second': 0.666,\n",
       "  'train_steps_per_second': 0.333,\n",
       "  'total_flos': 526269358080.0,\n",
       "  'train_loss': 2.6087987422943115,\n",
       "  'epoch': 1.0},\n",
       " 'test_results': {'test_loss': 2.813649892807007,\n",
       "  'test_accuracy_score': 0.0,\n",
       "  'test_runtime': 0.2566,\n",
       "  'test_samples_per_second': 3.897,\n",
       "  'test_steps_per_second': 3.897},\n",
       " 'control_results': {'test_loss': 2.817042350769043,\n",
       "  'test_accuracy_score': 0.0,\n",
       "  'test_runtime': 0.437,\n",
       "  'test_samples_per_second': 2.288,\n",
       "  'test_steps_per_second': 2.288}}"
      ]
     },
     "execution_count": 13,
     "metadata": {},
     "output_type": "execute_result"
    }
   ],
   "source": [
    "t2r2.loop()"
   ]
  },
  {
   "cell_type": "code",
   "execution_count": 14,
   "metadata": {
    "ExecuteTime": {
     "end_time": "2023-10-02T13:25:59.855968200Z",
     "start_time": "2023-10-02T13:25:58.246831300Z"
    },
    "collapsed": false
   },
   "outputs": [
    {
     "name": "stderr",
     "output_type": "stream",
     "text": [
      "[repo.py:83 -                 _run() ] Running: dvc params diff\n",
      "[repo.py:88 -                 _run() ] \n",
      "Path         Param                           HEAD    workspace\r\n",
      "config.yaml  dvc.enabled                     -       True\r\n",
      "config.yaml  metrics                         -       [{'name': 'accuracy_score'}]\r\n",
      "config.yaml  model.model_name                -       bert-base-cased\r\n",
      "config.yaml  model.num_labels                -       12\r\n",
      "config.yaml  training.batch_size             -       2\r\n",
      "config.yaml  training.epochs                 -       1\r\n",
      "config.yaml  training.learning_rate          -       0.001\r\n",
      "config.yaml  training.metric_for_best_model  -       accuracy_score\r\n",
      "config.yaml  training.validation_size        -       0.2\r\n",
      "\n"
     ]
    }
   ],
   "source": [
    "t2r2.dvc_params()"
   ]
  },
  {
   "cell_type": "code",
   "execution_count": 15,
   "metadata": {
    "ExecuteTime": {
     "end_time": "2023-10-02T13:26:02.684743300Z",
     "start_time": "2023-10-02T13:26:01.096872100Z"
    },
    "collapsed": false
   },
   "outputs": [
    {
     "name": "stderr",
     "output_type": "stream",
     "text": [
      "[repo.py:83 -                 _run() ] Running: dvc metrics diff\n",
      "[repo.py:88 -                 _run() ] \n",
      "Path                  Metric                           HEAD             workspace       Change\r\n",
      "results\\metrics.yaml  control.test_loss                2.26154          2.81704         0.5555\r\n",
      "results\\metrics.yaml  control.test_runtime             0.5135           0.437           -0.0765\r\n",
      "results\\metrics.yaml  control.test_samples_per_second  1.947            2.288           0.341\r\n",
      "results\\metrics.yaml  control.test_steps_per_second    1.947            2.288           0.341\r\n",
      "results\\metrics.yaml  test.test_loss                   2.28085          2.81365         0.5328\r\n",
      "results\\metrics.yaml  test.test_runtime                0.3696           0.2566          -0.113\r\n",
      "results\\metrics.yaml  test.test_samples_per_second     2.706            3.897           1.191\r\n",
      "results\\metrics.yaml  test.test_steps_per_second       2.706            3.897           1.191\r\n",
      "results\\metrics.yaml  train.total_flos                 1052538716160.0  526269358080.0  -526269358080.0\r\n",
      "results\\metrics.yaml  train.train_loss                 2.2931           2.6088          0.3157\r\n",
      "results\\metrics.yaml  train.train_runtime              14.4639          6.0092          -8.4547\r\n",
      "results\\metrics.yaml  train.train_samples_per_second   0.553            0.666           0.113\r\n",
      "results\\metrics.yaml  train.train_steps_per_second     0.277            0.333           0.056\r\n",
      "\n"
     ]
    }
   ],
   "source": [
    "t2r2.dvc_metrics()"
   ]
  },
  {
   "cell_type": "code",
   "execution_count": 16,
   "metadata": {
    "ExecuteTime": {
     "end_time": "2023-10-02T13:26:11.693835600Z",
     "start_time": "2023-10-02T13:26:11.491779700Z"
    },
    "collapsed": false
   },
   "outputs": [
    {
     "name": "stdout",
     "output_type": "stream",
     "text": [
      "[master a9178cc] 2\n",
      " 5 files changed, 7 insertions(+), 7 deletions(-)\n"
     ]
    }
   ],
   "source": [
    "!git commit -m \"2\""
   ]
  },
  {
   "cell_type": "markdown",
   "metadata": {
    "collapsed": false
   },
   "source": [
    "---\n",
    "## Checkout examples"
   ]
  },
  {
   "cell_type": "code",
   "execution_count": 17,
   "metadata": {
    "ExecuteTime": {
     "end_time": "2023-10-02T13:26:15.624737400Z",
     "start_time": "2023-10-02T13:26:15.484590900Z"
    },
    "collapsed": false
   },
   "outputs": [
    {
     "name": "stderr",
     "output_type": "stream",
     "text": [
      "Note: switching to 'HEAD~1'.\n",
      "\n",
      "You are in 'detached HEAD' state. You can look around, make experimental\n",
      "changes and commit them, and you can discard any commits you make in this\n",
      "state without impacting any branches by switching back to a branch.\n",
      "\n",
      "If you want to create a new branch to retain commits you create, you may\n",
      "do so (now or later) by using -c with the switch command. Example:\n",
      "\n",
      "  git switch -c <new-branch-name>\n",
      "\n",
      "Or undo this operation with:\n",
      "\n",
      "  git switch -\n",
      "\n",
      "Turn off this advice by setting config variable advice.detachedHead to false\n",
      "\n",
      "HEAD is now at 7c16d21 1\n"
     ]
    }
   ],
   "source": [
    "!git checkout HEAD~1"
   ]
  },
  {
   "cell_type": "code",
   "execution_count": 18,
   "metadata": {
    "ExecuteTime": {
     "end_time": "2023-10-02T13:26:19.485282700Z",
     "start_time": "2023-10-02T13:26:18.009520300Z"
    },
    "collapsed": false
   },
   "outputs": [
    {
     "name": "stderr",
     "output_type": "stream",
     "text": [
      "[repo.py:83 -                 _run() ] Running: dvc checkout\n",
      "[repo.py:88 -                 _run() ] \n",
      "M       data\\train.csv\r\n",
      "M       results\\control_results.pickle\r\n",
      "M       results\\train_results.pickle\r\n",
      "M       results\\test_results.pickle\r\n",
      "M       results\\metrics.yaml\r\n",
      "\n"
     ]
    }
   ],
   "source": [
    "t2r2.dvc_checkout()"
   ]
  },
  {
   "cell_type": "code",
   "execution_count": 19,
   "metadata": {
    "ExecuteTime": {
     "end_time": "2023-10-02T13:26:21.181243300Z",
     "start_time": "2023-10-02T13:26:21.113275900Z"
    },
    "collapsed": false
   },
   "outputs": [
    {
     "name": "stdout",
     "output_type": "stream",
     "text": [
      "10\n"
     ]
    }
   ],
   "source": [
    "# verify that our dataset changed\n",
    "!type data\\train.csv | find /c /v \"\""
   ]
  }
 ],
 "metadata": {
  "kernelspec": {
   "display_name": "Python 3",
   "language": "python",
   "name": "python3"
  },
  "language_info": {
   "codemirror_mode": {
    "name": "ipython",
    "version": 2
   },
   "file_extension": ".py",
   "mimetype": "text/x-python",
   "name": "python",
   "nbconvert_exporter": "python",
   "pygments_lexer": "ipython2",
   "version": "2.7.6"
  }
 },
 "nbformat": 4,
 "nbformat_minor": 0
}
